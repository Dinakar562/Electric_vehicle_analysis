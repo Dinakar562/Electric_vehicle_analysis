{
  "cells": [
    {
      "cell_type": "markdown",
      "source": [
        "#**PROJECT :ELECTRICAL VEHICLE ANALYSIS**"
      ],
      "metadata": {
        "id": "S5NeHA7PKPwt"
      }
    },
    {
      "cell_type": "markdown",
      "source": [
        " **IMPORTING THE NECESSARY LIBRARIES**"
      ],
      "metadata": {
        "id": "mWVFXmYpKp7b"
      }
    },
    {
      "cell_type": "markdown",
      "metadata": {
        "id": "TcUkRqqUuLg7"
      },
      "source": [
        "**READING THE DATASET**"
      ]
    },
    {
      "cell_type": "code",
      "execution_count": null,
      "metadata": {
        "id": "8Yb1tgC_5iuL"
      },
      "outputs": [],
      "source": [
        "import pandas as pd\n",
        "import numpy as np\n",
        "import matplotlib.pyplot as plt\n",
        "%matplotlib inline\n",
        "import seaborn as sns\n",
        "import geopandas as gpd\n",
        "import warnings\n",
        "warnings.simplefilter(action='ignore',category=FutureWarning)\n"
      ]
    },
    {
      "cell_type": "code",
      "execution_count": null,
      "metadata": {
        "id": "oQolXacHQS80"
      },
      "outputs": [],
      "source": [
        "df=pd.read_csv(\"Electrical vehicle Dataset 1997-2024.csv\")"
      ]
    },
    {
      "cell_type": "markdown",
      "metadata": {
        "id": "37Q76jzhTimY"
      },
      "source": [
        "**IMPORTING THE NECESSARY LIBRARIES**"
      ]
    },
    {
      "cell_type": "code",
      "execution_count": null,
      "metadata": {
        "colab": {
          "base_uri": "https://localhost:8080/",
          "height": 1000
        },
        "id": "-qt6ZHT0VnVU",
        "outputId": "0269eff2-23f1-499a-dc9a-79a6bfdfdd1e"
      },
      "outputs": [
        {
          "output_type": "execute_result",
          "data": {
            "text/plain": [
              "         County          City State  Postal Code  Model Year    Make    Model  \\\n",
              "0      Thurston      Tumwater    WA        98512        2019   TESLA  MODEL 3   \n",
              "1        Island       Clinton    WA        98236        2022  NISSAN     LEAF   \n",
              "2     Snohomish     Snohomish    WA        98290        2020   TESLA  MODEL 3   \n",
              "3          King       Seattle    WA        98134        2020   TESLA  MODEL 3   \n",
              "4     Snohomish       Edmonds    WA        98020        2013   TESLA  MODEL S   \n",
              "...         ...           ...   ...          ...         ...     ...      ...   \n",
              "9994       King        Seatac    WA        98148        2022   TESLA  MODEL 3   \n",
              "9995       King   Woodinville    WA        98072        2021    MINI  HARDTOP   \n",
              "9996       King       Redmond    WA        98052        2021   TESLA  MODEL 3   \n",
              "9997  Snohomish  Lake Stevens    WA        98258        2018   TESLA  MODEL 3   \n",
              "9998       King  Maple Valley    WA        98038        2022   TESLA  MODEL 3   \n",
              "\n",
              "            Electric Vehicle Type  \\\n",
              "0     Battery Electric Vehicle      \n",
              "1     Battery Electric Vehicle      \n",
              "2     Battery Electric Vehicle      \n",
              "3     Battery Electric Vehicle      \n",
              "4     Battery Electric Vehicle      \n",
              "...                           ...   \n",
              "9994  Battery Electric Vehicle      \n",
              "9995  Battery Electric Vehicle      \n",
              "9996  Battery Electric Vehicle      \n",
              "9997  Battery Electric Vehicle      \n",
              "9998  Battery Electric Vehicle      \n",
              "\n",
              "                                                   CAFV  Electric Range  \\\n",
              "0               Clean Alternative Fuel Vehicle Eligible             220   \n",
              "1     Eligibility unknown as battery range has not b...               0   \n",
              "2               Clean Alternative Fuel Vehicle Eligible             266   \n",
              "3               Clean Alternative Fuel Vehicle Eligible             322   \n",
              "4               Clean Alternative Fuel Vehicle Eligible             208   \n",
              "...                                                 ...             ...   \n",
              "9994  Eligibility unknown as battery range has not b...               0   \n",
              "9995            Clean Alternative Fuel Vehicle Eligible             110   \n",
              "9996  Eligibility unknown as battery range has not b...               0   \n",
              "9997            Clean Alternative Fuel Vehicle Eligible             215   \n",
              "9998  Eligibility unknown as battery range has not b...               0   \n",
              "\n",
              "      Base MSRP  Legislative District  DOL Vehicle ID  \\\n",
              "0             0                    22       242565116   \n",
              "1             0                    10       183272785   \n",
              "2             0                    44       112552366   \n",
              "3             0                    11         6336319   \n",
              "4         69900                    21       186212960   \n",
              "...         ...                   ...             ...   \n",
              "9994          0                    33       209776591   \n",
              "9995          0                    45       123133083   \n",
              "9996          0                    45       219495965   \n",
              "9997          0                    44       335739708   \n",
              "9998          0                     5       186782270   \n",
              "\n",
              "                                   Electric Utility  2020 Census Tract  \\\n",
              "0                            PUGET SOUND ENERGY INC        53067010910   \n",
              "1                            PUGET SOUND ENERGY INC        53029972000   \n",
              "2                            PUGET SOUND ENERGY INC        53061052502   \n",
              "3      CITY OF SEATTLE - (WA)|CITY OF TACOMA - (WA)        53033009300   \n",
              "4                            PUGET SOUND ENERGY INC        53061050403   \n",
              "...                                             ...                ...   \n",
              "9994  PUGET SOUND ENERGY INC||CITY OF TACOMA - (WA)        53033028500   \n",
              "9995  PUGET SOUND ENERGY INC||CITY OF TACOMA - (WA)        53033021906   \n",
              "9996  PUGET SOUND ENERGY INC||CITY OF TACOMA - (WA)        53033022605   \n",
              "9997                         PUGET SOUND ENERGY INC        53061052505   \n",
              "9998  PUGET SOUND ENERGY INC||CITY OF TACOMA - (WA)        53033031603   \n",
              "\n",
              "       Longitude   latitude  \n",
              "0    -122.913102  47.013593  \n",
              "1    -122.359364  47.979655  \n",
              "2    -122.091505  47.915555  \n",
              "3    -122.329815  47.579810  \n",
              "4    -122.375070  47.808070  \n",
              "...          ...        ...  \n",
              "9994 -122.328060  47.461550  \n",
              "9995 -122.151665  47.758550  \n",
              "9996 -122.123020  47.676680  \n",
              "9997 -122.112065  48.004345  \n",
              "9998 -122.051910  47.357985  \n",
              "\n",
              "[9999 rows x 17 columns]"
            ],
            "text/html": [
              "\n",
              "\n",
              "  <div id=\"df-e0f90d3e-725e-4cef-aed6-73a743e54c6f\">\n",
              "    <div class=\"colab-df-container\">\n",
              "      <div>\n",
              "<style scoped>\n",
              "    .dataframe tbody tr th:only-of-type {\n",
              "        vertical-align: middle;\n",
              "    }\n",
              "\n",
              "    .dataframe tbody tr th {\n",
              "        vertical-align: top;\n",
              "    }\n",
              "\n",
              "    .dataframe thead th {\n",
              "        text-align: right;\n",
              "    }\n",
              "</style>\n",
              "<table border=\"1\" class=\"dataframe\">\n",
              "  <thead>\n",
              "    <tr style=\"text-align: right;\">\n",
              "      <th></th>\n",
              "      <th>County</th>\n",
              "      <th>City</th>\n",
              "      <th>State</th>\n",
              "      <th>Postal Code</th>\n",
              "      <th>Model Year</th>\n",
              "      <th>Make</th>\n",
              "      <th>Model</th>\n",
              "      <th>Electric Vehicle Type</th>\n",
              "      <th>CAFV</th>\n",
              "      <th>Electric Range</th>\n",
              "      <th>Base MSRP</th>\n",
              "      <th>Legislative District</th>\n",
              "      <th>DOL Vehicle ID</th>\n",
              "      <th>Electric Utility</th>\n",
              "      <th>2020 Census Tract</th>\n",
              "      <th>Longitude</th>\n",
              "      <th>latitude</th>\n",
              "    </tr>\n",
              "  </thead>\n",
              "  <tbody>\n",
              "    <tr>\n",
              "      <th>0</th>\n",
              "      <td>Thurston</td>\n",
              "      <td>Tumwater</td>\n",
              "      <td>WA</td>\n",
              "      <td>98512</td>\n",
              "      <td>2019</td>\n",
              "      <td>TESLA</td>\n",
              "      <td>MODEL 3</td>\n",
              "      <td>Battery Electric Vehicle</td>\n",
              "      <td>Clean Alternative Fuel Vehicle Eligible</td>\n",
              "      <td>220</td>\n",
              "      <td>0</td>\n",
              "      <td>22</td>\n",
              "      <td>242565116</td>\n",
              "      <td>PUGET SOUND ENERGY INC</td>\n",
              "      <td>53067010910</td>\n",
              "      <td>-122.913102</td>\n",
              "      <td>47.013593</td>\n",
              "    </tr>\n",
              "    <tr>\n",
              "      <th>1</th>\n",
              "      <td>Island</td>\n",
              "      <td>Clinton</td>\n",
              "      <td>WA</td>\n",
              "      <td>98236</td>\n",
              "      <td>2022</td>\n",
              "      <td>NISSAN</td>\n",
              "      <td>LEAF</td>\n",
              "      <td>Battery Electric Vehicle</td>\n",
              "      <td>Eligibility unknown as battery range has not b...</td>\n",
              "      <td>0</td>\n",
              "      <td>0</td>\n",
              "      <td>10</td>\n",
              "      <td>183272785</td>\n",
              "      <td>PUGET SOUND ENERGY INC</td>\n",
              "      <td>53029972000</td>\n",
              "      <td>-122.359364</td>\n",
              "      <td>47.979655</td>\n",
              "    </tr>\n",
              "    <tr>\n",
              "      <th>2</th>\n",
              "      <td>Snohomish</td>\n",
              "      <td>Snohomish</td>\n",
              "      <td>WA</td>\n",
              "      <td>98290</td>\n",
              "      <td>2020</td>\n",
              "      <td>TESLA</td>\n",
              "      <td>MODEL 3</td>\n",
              "      <td>Battery Electric Vehicle</td>\n",
              "      <td>Clean Alternative Fuel Vehicle Eligible</td>\n",
              "      <td>266</td>\n",
              "      <td>0</td>\n",
              "      <td>44</td>\n",
              "      <td>112552366</td>\n",
              "      <td>PUGET SOUND ENERGY INC</td>\n",
              "      <td>53061052502</td>\n",
              "      <td>-122.091505</td>\n",
              "      <td>47.915555</td>\n",
              "    </tr>\n",
              "    <tr>\n",
              "      <th>3</th>\n",
              "      <td>King</td>\n",
              "      <td>Seattle</td>\n",
              "      <td>WA</td>\n",
              "      <td>98134</td>\n",
              "      <td>2020</td>\n",
              "      <td>TESLA</td>\n",
              "      <td>MODEL 3</td>\n",
              "      <td>Battery Electric Vehicle</td>\n",
              "      <td>Clean Alternative Fuel Vehicle Eligible</td>\n",
              "      <td>322</td>\n",
              "      <td>0</td>\n",
              "      <td>11</td>\n",
              "      <td>6336319</td>\n",
              "      <td>CITY OF SEATTLE - (WA)|CITY OF TACOMA - (WA)</td>\n",
              "      <td>53033009300</td>\n",
              "      <td>-122.329815</td>\n",
              "      <td>47.579810</td>\n",
              "    </tr>\n",
              "    <tr>\n",
              "      <th>4</th>\n",
              "      <td>Snohomish</td>\n",
              "      <td>Edmonds</td>\n",
              "      <td>WA</td>\n",
              "      <td>98020</td>\n",
              "      <td>2013</td>\n",
              "      <td>TESLA</td>\n",
              "      <td>MODEL S</td>\n",
              "      <td>Battery Electric Vehicle</td>\n",
              "      <td>Clean Alternative Fuel Vehicle Eligible</td>\n",
              "      <td>208</td>\n",
              "      <td>69900</td>\n",
              "      <td>21</td>\n",
              "      <td>186212960</td>\n",
              "      <td>PUGET SOUND ENERGY INC</td>\n",
              "      <td>53061050403</td>\n",
              "      <td>-122.375070</td>\n",
              "      <td>47.808070</td>\n",
              "    </tr>\n",
              "    <tr>\n",
              "      <th>...</th>\n",
              "      <td>...</td>\n",
              "      <td>...</td>\n",
              "      <td>...</td>\n",
              "      <td>...</td>\n",
              "      <td>...</td>\n",
              "      <td>...</td>\n",
              "      <td>...</td>\n",
              "      <td>...</td>\n",
              "      <td>...</td>\n",
              "      <td>...</td>\n",
              "      <td>...</td>\n",
              "      <td>...</td>\n",
              "      <td>...</td>\n",
              "      <td>...</td>\n",
              "      <td>...</td>\n",
              "      <td>...</td>\n",
              "      <td>...</td>\n",
              "    </tr>\n",
              "    <tr>\n",
              "      <th>9994</th>\n",
              "      <td>King</td>\n",
              "      <td>Seatac</td>\n",
              "      <td>WA</td>\n",
              "      <td>98148</td>\n",
              "      <td>2022</td>\n",
              "      <td>TESLA</td>\n",
              "      <td>MODEL 3</td>\n",
              "      <td>Battery Electric Vehicle</td>\n",
              "      <td>Eligibility unknown as battery range has not b...</td>\n",
              "      <td>0</td>\n",
              "      <td>0</td>\n",
              "      <td>33</td>\n",
              "      <td>209776591</td>\n",
              "      <td>PUGET SOUND ENERGY INC||CITY OF TACOMA - (WA)</td>\n",
              "      <td>53033028500</td>\n",
              "      <td>-122.328060</td>\n",
              "      <td>47.461550</td>\n",
              "    </tr>\n",
              "    <tr>\n",
              "      <th>9995</th>\n",
              "      <td>King</td>\n",
              "      <td>Woodinville</td>\n",
              "      <td>WA</td>\n",
              "      <td>98072</td>\n",
              "      <td>2021</td>\n",
              "      <td>MINI</td>\n",
              "      <td>HARDTOP</td>\n",
              "      <td>Battery Electric Vehicle</td>\n",
              "      <td>Clean Alternative Fuel Vehicle Eligible</td>\n",
              "      <td>110</td>\n",
              "      <td>0</td>\n",
              "      <td>45</td>\n",
              "      <td>123133083</td>\n",
              "      <td>PUGET SOUND ENERGY INC||CITY OF TACOMA - (WA)</td>\n",
              "      <td>53033021906</td>\n",
              "      <td>-122.151665</td>\n",
              "      <td>47.758550</td>\n",
              "    </tr>\n",
              "    <tr>\n",
              "      <th>9996</th>\n",
              "      <td>King</td>\n",
              "      <td>Redmond</td>\n",
              "      <td>WA</td>\n",
              "      <td>98052</td>\n",
              "      <td>2021</td>\n",
              "      <td>TESLA</td>\n",
              "      <td>MODEL 3</td>\n",
              "      <td>Battery Electric Vehicle</td>\n",
              "      <td>Eligibility unknown as battery range has not b...</td>\n",
              "      <td>0</td>\n",
              "      <td>0</td>\n",
              "      <td>45</td>\n",
              "      <td>219495965</td>\n",
              "      <td>PUGET SOUND ENERGY INC||CITY OF TACOMA - (WA)</td>\n",
              "      <td>53033022605</td>\n",
              "      <td>-122.123020</td>\n",
              "      <td>47.676680</td>\n",
              "    </tr>\n",
              "    <tr>\n",
              "      <th>9997</th>\n",
              "      <td>Snohomish</td>\n",
              "      <td>Lake Stevens</td>\n",
              "      <td>WA</td>\n",
              "      <td>98258</td>\n",
              "      <td>2018</td>\n",
              "      <td>TESLA</td>\n",
              "      <td>MODEL 3</td>\n",
              "      <td>Battery Electric Vehicle</td>\n",
              "      <td>Clean Alternative Fuel Vehicle Eligible</td>\n",
              "      <td>215</td>\n",
              "      <td>0</td>\n",
              "      <td>44</td>\n",
              "      <td>335739708</td>\n",
              "      <td>PUGET SOUND ENERGY INC</td>\n",
              "      <td>53061052505</td>\n",
              "      <td>-122.112065</td>\n",
              "      <td>48.004345</td>\n",
              "    </tr>\n",
              "    <tr>\n",
              "      <th>9998</th>\n",
              "      <td>King</td>\n",
              "      <td>Maple Valley</td>\n",
              "      <td>WA</td>\n",
              "      <td>98038</td>\n",
              "      <td>2022</td>\n",
              "      <td>TESLA</td>\n",
              "      <td>MODEL 3</td>\n",
              "      <td>Battery Electric Vehicle</td>\n",
              "      <td>Eligibility unknown as battery range has not b...</td>\n",
              "      <td>0</td>\n",
              "      <td>0</td>\n",
              "      <td>5</td>\n",
              "      <td>186782270</td>\n",
              "      <td>PUGET SOUND ENERGY INC||CITY OF TACOMA - (WA)</td>\n",
              "      <td>53033031603</td>\n",
              "      <td>-122.051910</td>\n",
              "      <td>47.357985</td>\n",
              "    </tr>\n",
              "  </tbody>\n",
              "</table>\n",
              "<p>9999 rows × 17 columns</p>\n",
              "</div>\n",
              "      <button class=\"colab-df-convert\" onclick=\"convertToInteractive('df-e0f90d3e-725e-4cef-aed6-73a743e54c6f')\"\n",
              "              title=\"Convert this dataframe to an interactive table.\"\n",
              "              style=\"display:none;\">\n",
              "\n",
              "  <svg xmlns=\"http://www.w3.org/2000/svg\" height=\"24px\"viewBox=\"0 0 24 24\"\n",
              "       width=\"24px\">\n",
              "    <path d=\"M0 0h24v24H0V0z\" fill=\"none\"/>\n",
              "    <path d=\"M18.56 5.44l.94 2.06.94-2.06 2.06-.94-2.06-.94-.94-2.06-.94 2.06-2.06.94zm-11 1L8.5 8.5l.94-2.06 2.06-.94-2.06-.94L8.5 2.5l-.94 2.06-2.06.94zm10 10l.94 2.06.94-2.06 2.06-.94-2.06-.94-.94-2.06-.94 2.06-2.06.94z\"/><path d=\"M17.41 7.96l-1.37-1.37c-.4-.4-.92-.59-1.43-.59-.52 0-1.04.2-1.43.59L10.3 9.45l-7.72 7.72c-.78.78-.78 2.05 0 2.83L4 21.41c.39.39.9.59 1.41.59.51 0 1.02-.2 1.41-.59l7.78-7.78 2.81-2.81c.8-.78.8-2.07 0-2.86zM5.41 20L4 18.59l7.72-7.72 1.47 1.35L5.41 20z\"/>\n",
              "  </svg>\n",
              "      </button>\n",
              "\n",
              "\n",
              "\n",
              "    <div id=\"df-9344976b-0681-4a12-b163-a4198d82d9d4\">\n",
              "      <button class=\"colab-df-quickchart\" onclick=\"quickchart('df-9344976b-0681-4a12-b163-a4198d82d9d4')\"\n",
              "              title=\"Suggest charts.\"\n",
              "              style=\"display:none;\">\n",
              "\n",
              "<svg xmlns=\"http://www.w3.org/2000/svg\" height=\"24px\"viewBox=\"0 0 24 24\"\n",
              "     width=\"24px\">\n",
              "    <g>\n",
              "        <path d=\"M19 3H5c-1.1 0-2 .9-2 2v14c0 1.1.9 2 2 2h14c1.1 0 2-.9 2-2V5c0-1.1-.9-2-2-2zM9 17H7v-7h2v7zm4 0h-2V7h2v10zm4 0h-2v-4h2v4z\"/>\n",
              "    </g>\n",
              "</svg>\n",
              "      </button>\n",
              "    </div>\n",
              "\n",
              "<style>\n",
              "  .colab-df-quickchart {\n",
              "    background-color: #E8F0FE;\n",
              "    border: none;\n",
              "    border-radius: 50%;\n",
              "    cursor: pointer;\n",
              "    display: none;\n",
              "    fill: #1967D2;\n",
              "    height: 32px;\n",
              "    padding: 0 0 0 0;\n",
              "    width: 32px;\n",
              "  }\n",
              "\n",
              "  .colab-df-quickchart:hover {\n",
              "    background-color: #E2EBFA;\n",
              "    box-shadow: 0px 1px 2px rgba(60, 64, 67, 0.3), 0px 1px 3px 1px rgba(60, 64, 67, 0.15);\n",
              "    fill: #174EA6;\n",
              "  }\n",
              "\n",
              "  [theme=dark] .colab-df-quickchart {\n",
              "    background-color: #3B4455;\n",
              "    fill: #D2E3FC;\n",
              "  }\n",
              "\n",
              "  [theme=dark] .colab-df-quickchart:hover {\n",
              "    background-color: #434B5C;\n",
              "    box-shadow: 0px 1px 3px 1px rgba(0, 0, 0, 0.15);\n",
              "    filter: drop-shadow(0px 1px 2px rgba(0, 0, 0, 0.3));\n",
              "    fill: #FFFFFF;\n",
              "  }\n",
              "</style>\n",
              "\n",
              "    <script>\n",
              "      async function quickchart(key) {\n",
              "        const containerElement = document.querySelector('#' + key);\n",
              "        const charts = await google.colab.kernel.invokeFunction(\n",
              "            'suggestCharts', [key], {});\n",
              "      }\n",
              "    </script>\n",
              "\n",
              "      <script>\n",
              "\n",
              "function displayQuickchartButton(domScope) {\n",
              "  let quickchartButtonEl =\n",
              "    domScope.querySelector('#df-9344976b-0681-4a12-b163-a4198d82d9d4 button.colab-df-quickchart');\n",
              "  quickchartButtonEl.style.display =\n",
              "    google.colab.kernel.accessAllowed ? 'block' : 'none';\n",
              "}\n",
              "\n",
              "        displayQuickchartButton(document);\n",
              "      </script>\n",
              "      <style>\n",
              "    .colab-df-container {\n",
              "      display:flex;\n",
              "      flex-wrap:wrap;\n",
              "      gap: 12px;\n",
              "    }\n",
              "\n",
              "    .colab-df-convert {\n",
              "      background-color: #E8F0FE;\n",
              "      border: none;\n",
              "      border-radius: 50%;\n",
              "      cursor: pointer;\n",
              "      display: none;\n",
              "      fill: #1967D2;\n",
              "      height: 32px;\n",
              "      padding: 0 0 0 0;\n",
              "      width: 32px;\n",
              "    }\n",
              "\n",
              "    .colab-df-convert:hover {\n",
              "      background-color: #E2EBFA;\n",
              "      box-shadow: 0px 1px 2px rgba(60, 64, 67, 0.3), 0px 1px 3px 1px rgba(60, 64, 67, 0.15);\n",
              "      fill: #174EA6;\n",
              "    }\n",
              "\n",
              "    [theme=dark] .colab-df-convert {\n",
              "      background-color: #3B4455;\n",
              "      fill: #D2E3FC;\n",
              "    }\n",
              "\n",
              "    [theme=dark] .colab-df-convert:hover {\n",
              "      background-color: #434B5C;\n",
              "      box-shadow: 0px 1px 3px 1px rgba(0, 0, 0, 0.15);\n",
              "      filter: drop-shadow(0px 1px 2px rgba(0, 0, 0, 0.3));\n",
              "      fill: #FFFFFF;\n",
              "    }\n",
              "  </style>\n",
              "\n",
              "      <script>\n",
              "        const buttonEl =\n",
              "          document.querySelector('#df-e0f90d3e-725e-4cef-aed6-73a743e54c6f button.colab-df-convert');\n",
              "        buttonEl.style.display =\n",
              "          google.colab.kernel.accessAllowed ? 'block' : 'none';\n",
              "\n",
              "        async function convertToInteractive(key) {\n",
              "          const element = document.querySelector('#df-e0f90d3e-725e-4cef-aed6-73a743e54c6f');\n",
              "          const dataTable =\n",
              "            await google.colab.kernel.invokeFunction('convertToInteractive',\n",
              "                                                     [key], {});\n",
              "          if (!dataTable) return;\n",
              "\n",
              "          const docLinkHtml = 'Like what you see? Visit the ' +\n",
              "            '<a target=\"_blank\" href=https://colab.research.google.com/notebooks/data_table.ipynb>data table notebook</a>'\n",
              "            + ' to learn more about interactive tables.';\n",
              "          element.innerHTML = '';\n",
              "          dataTable['output_type'] = 'display_data';\n",
              "          await google.colab.output.renderOutput(dataTable, element);\n",
              "          const docLink = document.createElement('div');\n",
              "          docLink.innerHTML = docLinkHtml;\n",
              "          element.appendChild(docLink);\n",
              "        }\n",
              "      </script>\n",
              "    </div>\n",
              "  </div>\n"
            ]
          },
          "metadata": {},
          "execution_count": 62
        }
      ],
      "source": [
        "df"
      ]
    },
    {
      "cell_type": "markdown",
      "metadata": {
        "id": "tA6HF0LLuV9D"
      },
      "source": [
        "**ANALYSING THE DATASET**"
      ]
    },
    {
      "cell_type": "code",
      "execution_count": null,
      "metadata": {
        "colab": {
          "base_uri": "https://localhost:8080/"
        },
        "id": "0qrnFJ2AVqPA",
        "outputId": "7d1d48b5-24a6-4f11-994c-854667530438"
      },
      "outputs": [
        {
          "output_type": "execute_result",
          "data": {
            "text/plain": [
              "(9999, 17)"
            ]
          },
          "metadata": {},
          "execution_count": 63
        }
      ],
      "source": [
        "df.shape"
      ]
    },
    {
      "cell_type": "code",
      "execution_count": null,
      "metadata": {
        "colab": {
          "base_uri": "https://localhost:8080/"
        },
        "id": "92r1bX7VVtSR",
        "outputId": "055caed0-773a-4041-d185-d4a34a2effa2"
      },
      "outputs": [
        {
          "output_type": "execute_result",
          "data": {
            "text/plain": [
              "Index(['County', 'City', 'State', 'Postal Code', 'Model Year', 'Make', 'Model',\n",
              "       'Electric Vehicle Type', 'CAFV', 'Electric Range', 'Base MSRP',\n",
              "       'Legislative District', 'DOL Vehicle ID', 'Electric Utility',\n",
              "       '2020 Census Tract', 'Longitude', 'latitude'],\n",
              "      dtype='object')"
            ]
          },
          "metadata": {},
          "execution_count": 64
        }
      ],
      "source": [
        "df.columns"
      ]
    },
    {
      "cell_type": "code",
      "execution_count": null,
      "metadata": {
        "colab": {
          "base_uri": "https://localhost:8080/"
        },
        "id": "zsZ8WmhgVvK4",
        "outputId": "b7857024-f332-4038-d0ca-6841181c6fbc"
      },
      "outputs": [
        {
          "output_type": "stream",
          "name": "stdout",
          "text": [
            "<class 'pandas.core.frame.DataFrame'>\n",
            "RangeIndex: 9999 entries, 0 to 9998\n",
            "Data columns (total 17 columns):\n",
            " #   Column                 Non-Null Count  Dtype  \n",
            "---  ------                 --------------  -----  \n",
            " 0   County                 9999 non-null   object \n",
            " 1   City                   9999 non-null   object \n",
            " 2   State                  9999 non-null   object \n",
            " 3   Postal Code            9999 non-null   int64  \n",
            " 4   Model Year             9999 non-null   int64  \n",
            " 5   Make                   9999 non-null   object \n",
            " 6   Model                  9999 non-null   object \n",
            " 7   Electric Vehicle Type  9999 non-null   object \n",
            " 8   CAFV                   9999 non-null   object \n",
            " 9   Electric Range         9999 non-null   int64  \n",
            " 10  Base MSRP              9999 non-null   int64  \n",
            " 11  Legislative District   9999 non-null   int64  \n",
            " 12  DOL Vehicle ID         9999 non-null   int64  \n",
            " 13  Electric Utility       9999 non-null   object \n",
            " 14  2020 Census Tract      9999 non-null   int64  \n",
            " 15  Longitude              9999 non-null   float64\n",
            " 16  latitude               9999 non-null   float64\n",
            "dtypes: float64(2), int64(7), object(8)\n",
            "memory usage: 1.3+ MB\n"
          ]
        }
      ],
      "source": [
        "df.info()"
      ]
    },
    {
      "cell_type": "code",
      "execution_count": null,
      "metadata": {
        "colab": {
          "base_uri": "https://localhost:8080/"
        },
        "id": "b-0EQ8LXV1HX",
        "outputId": "0985de54-19c8-4272-d153-7034c6052ce1"
      },
      "outputs": [
        {
          "output_type": "execute_result",
          "data": {
            "text/plain": [
              "0"
            ]
          },
          "metadata": {},
          "execution_count": 66
        }
      ],
      "source": [
        "df.isnull().sum().sum()"
      ]
    },
    {
      "cell_type": "code",
      "execution_count": null,
      "metadata": {
        "colab": {
          "base_uri": "https://localhost:8080/",
          "height": 331
        },
        "id": "mBpJoSRcV8nH",
        "outputId": "c3c17480-2f02-411e-b32f-0326961c3ea0"
      },
      "outputs": [
        {
          "output_type": "execute_result",
          "data": {
            "text/plain": [
              "                       count          mean           std           min  \\\n",
              "Postal Code           9999.0  9.821560e+04  2.606435e+02  9.800100e+04   \n",
              "Model Year            9999.0  2.019717e+03  2.992762e+00  2.008000e+03   \n",
              "Electric Range        9999.0  7.496170e+01  9.934703e+01  0.000000e+00   \n",
              "Base MSRP             9999.0  1.524012e+03  9.920049e+03  0.000000e+00   \n",
              "Legislative District  9999.0  3.134483e+01  1.458915e+01  1.000000e+00   \n",
              "DOL Vehicle ID        9999.0  2.047389e+08  8.509909e+07  9.077200e+04   \n",
              "2020 Census Tract     9999.0  5.303629e+10  1.432873e+07  5.300195e+10   \n",
              "Longitude             9999.0 -1.222075e+02  7.078571e-01 -1.242553e+02   \n",
              "latitude              9999.0  4.742524e+01  6.205192e-01  4.558386e+01   \n",
              "\n",
              "                               25%           50%           75%           max  \n",
              "Postal Code           9.803800e+04  9.811500e+04  9.828200e+04  9.940300e+04  \n",
              "Model Year            2.018000e+03  2.021000e+03  2.022000e+03  2.024000e+03  \n",
              "Electric Range        0.000000e+00  2.100000e+01  1.500000e+02  3.370000e+02  \n",
              "Base MSRP             0.000000e+00  0.000000e+00  0.000000e+00  1.844000e+05  \n",
              "Legislative District  2.000000e+01  3.600000e+01  4.500000e+01  4.900000e+01  \n",
              "DOL Vehicle ID        1.590186e+08  2.058916e+08  2.306818e+08  4.789259e+08  \n",
              "2020 Census Tract     5.303301e+10  5.303302e+10  5.303303e+10  5.307794e+10  \n",
              "Longitude            -1.223824e+02 -1.222918e+02 -1.221694e+02 -1.170457e+02  \n",
              "latitude              4.743473e+01  4.761385e+01  4.771124e+01  4.899505e+01  "
            ],
            "text/html": [
              "\n",
              "\n",
              "  <div id=\"df-4cf6330f-d087-4398-aec7-d1d52beb980c\">\n",
              "    <div class=\"colab-df-container\">\n",
              "      <div>\n",
              "<style scoped>\n",
              "    .dataframe tbody tr th:only-of-type {\n",
              "        vertical-align: middle;\n",
              "    }\n",
              "\n",
              "    .dataframe tbody tr th {\n",
              "        vertical-align: top;\n",
              "    }\n",
              "\n",
              "    .dataframe thead th {\n",
              "        text-align: right;\n",
              "    }\n",
              "</style>\n",
              "<table border=\"1\" class=\"dataframe\">\n",
              "  <thead>\n",
              "    <tr style=\"text-align: right;\">\n",
              "      <th></th>\n",
              "      <th>count</th>\n",
              "      <th>mean</th>\n",
              "      <th>std</th>\n",
              "      <th>min</th>\n",
              "      <th>25%</th>\n",
              "      <th>50%</th>\n",
              "      <th>75%</th>\n",
              "      <th>max</th>\n",
              "    </tr>\n",
              "  </thead>\n",
              "  <tbody>\n",
              "    <tr>\n",
              "      <th>Postal Code</th>\n",
              "      <td>9999.0</td>\n",
              "      <td>9.821560e+04</td>\n",
              "      <td>2.606435e+02</td>\n",
              "      <td>9.800100e+04</td>\n",
              "      <td>9.803800e+04</td>\n",
              "      <td>9.811500e+04</td>\n",
              "      <td>9.828200e+04</td>\n",
              "      <td>9.940300e+04</td>\n",
              "    </tr>\n",
              "    <tr>\n",
              "      <th>Model Year</th>\n",
              "      <td>9999.0</td>\n",
              "      <td>2.019717e+03</td>\n",
              "      <td>2.992762e+00</td>\n",
              "      <td>2.008000e+03</td>\n",
              "      <td>2.018000e+03</td>\n",
              "      <td>2.021000e+03</td>\n",
              "      <td>2.022000e+03</td>\n",
              "      <td>2.024000e+03</td>\n",
              "    </tr>\n",
              "    <tr>\n",
              "      <th>Electric Range</th>\n",
              "      <td>9999.0</td>\n",
              "      <td>7.496170e+01</td>\n",
              "      <td>9.934703e+01</td>\n",
              "      <td>0.000000e+00</td>\n",
              "      <td>0.000000e+00</td>\n",
              "      <td>2.100000e+01</td>\n",
              "      <td>1.500000e+02</td>\n",
              "      <td>3.370000e+02</td>\n",
              "    </tr>\n",
              "    <tr>\n",
              "      <th>Base MSRP</th>\n",
              "      <td>9999.0</td>\n",
              "      <td>1.524012e+03</td>\n",
              "      <td>9.920049e+03</td>\n",
              "      <td>0.000000e+00</td>\n",
              "      <td>0.000000e+00</td>\n",
              "      <td>0.000000e+00</td>\n",
              "      <td>0.000000e+00</td>\n",
              "      <td>1.844000e+05</td>\n",
              "    </tr>\n",
              "    <tr>\n",
              "      <th>Legislative District</th>\n",
              "      <td>9999.0</td>\n",
              "      <td>3.134483e+01</td>\n",
              "      <td>1.458915e+01</td>\n",
              "      <td>1.000000e+00</td>\n",
              "      <td>2.000000e+01</td>\n",
              "      <td>3.600000e+01</td>\n",
              "      <td>4.500000e+01</td>\n",
              "      <td>4.900000e+01</td>\n",
              "    </tr>\n",
              "    <tr>\n",
              "      <th>DOL Vehicle ID</th>\n",
              "      <td>9999.0</td>\n",
              "      <td>2.047389e+08</td>\n",
              "      <td>8.509909e+07</td>\n",
              "      <td>9.077200e+04</td>\n",
              "      <td>1.590186e+08</td>\n",
              "      <td>2.058916e+08</td>\n",
              "      <td>2.306818e+08</td>\n",
              "      <td>4.789259e+08</td>\n",
              "    </tr>\n",
              "    <tr>\n",
              "      <th>2020 Census Tract</th>\n",
              "      <td>9999.0</td>\n",
              "      <td>5.303629e+10</td>\n",
              "      <td>1.432873e+07</td>\n",
              "      <td>5.300195e+10</td>\n",
              "      <td>5.303301e+10</td>\n",
              "      <td>5.303302e+10</td>\n",
              "      <td>5.303303e+10</td>\n",
              "      <td>5.307794e+10</td>\n",
              "    </tr>\n",
              "    <tr>\n",
              "      <th>Longitude</th>\n",
              "      <td>9999.0</td>\n",
              "      <td>-1.222075e+02</td>\n",
              "      <td>7.078571e-01</td>\n",
              "      <td>-1.242553e+02</td>\n",
              "      <td>-1.223824e+02</td>\n",
              "      <td>-1.222918e+02</td>\n",
              "      <td>-1.221694e+02</td>\n",
              "      <td>-1.170457e+02</td>\n",
              "    </tr>\n",
              "    <tr>\n",
              "      <th>latitude</th>\n",
              "      <td>9999.0</td>\n",
              "      <td>4.742524e+01</td>\n",
              "      <td>6.205192e-01</td>\n",
              "      <td>4.558386e+01</td>\n",
              "      <td>4.743473e+01</td>\n",
              "      <td>4.761385e+01</td>\n",
              "      <td>4.771124e+01</td>\n",
              "      <td>4.899505e+01</td>\n",
              "    </tr>\n",
              "  </tbody>\n",
              "</table>\n",
              "</div>\n",
              "      <button class=\"colab-df-convert\" onclick=\"convertToInteractive('df-4cf6330f-d087-4398-aec7-d1d52beb980c')\"\n",
              "              title=\"Convert this dataframe to an interactive table.\"\n",
              "              style=\"display:none;\">\n",
              "\n",
              "  <svg xmlns=\"http://www.w3.org/2000/svg\" height=\"24px\"viewBox=\"0 0 24 24\"\n",
              "       width=\"24px\">\n",
              "    <path d=\"M0 0h24v24H0V0z\" fill=\"none\"/>\n",
              "    <path d=\"M18.56 5.44l.94 2.06.94-2.06 2.06-.94-2.06-.94-.94-2.06-.94 2.06-2.06.94zm-11 1L8.5 8.5l.94-2.06 2.06-.94-2.06-.94L8.5 2.5l-.94 2.06-2.06.94zm10 10l.94 2.06.94-2.06 2.06-.94-2.06-.94-.94-2.06-.94 2.06-2.06.94z\"/><path d=\"M17.41 7.96l-1.37-1.37c-.4-.4-.92-.59-1.43-.59-.52 0-1.04.2-1.43.59L10.3 9.45l-7.72 7.72c-.78.78-.78 2.05 0 2.83L4 21.41c.39.39.9.59 1.41.59.51 0 1.02-.2 1.41-.59l7.78-7.78 2.81-2.81c.8-.78.8-2.07 0-2.86zM5.41 20L4 18.59l7.72-7.72 1.47 1.35L5.41 20z\"/>\n",
              "  </svg>\n",
              "      </button>\n",
              "\n",
              "\n",
              "\n",
              "    <div id=\"df-56406aa3-a0f6-4c34-ad1b-b483485adbc1\">\n",
              "      <button class=\"colab-df-quickchart\" onclick=\"quickchart('df-56406aa3-a0f6-4c34-ad1b-b483485adbc1')\"\n",
              "              title=\"Suggest charts.\"\n",
              "              style=\"display:none;\">\n",
              "\n",
              "<svg xmlns=\"http://www.w3.org/2000/svg\" height=\"24px\"viewBox=\"0 0 24 24\"\n",
              "     width=\"24px\">\n",
              "    <g>\n",
              "        <path d=\"M19 3H5c-1.1 0-2 .9-2 2v14c0 1.1.9 2 2 2h14c1.1 0 2-.9 2-2V5c0-1.1-.9-2-2-2zM9 17H7v-7h2v7zm4 0h-2V7h2v10zm4 0h-2v-4h2v4z\"/>\n",
              "    </g>\n",
              "</svg>\n",
              "      </button>\n",
              "    </div>\n",
              "\n",
              "<style>\n",
              "  .colab-df-quickchart {\n",
              "    background-color: #E8F0FE;\n",
              "    border: none;\n",
              "    border-radius: 50%;\n",
              "    cursor: pointer;\n",
              "    display: none;\n",
              "    fill: #1967D2;\n",
              "    height: 32px;\n",
              "    padding: 0 0 0 0;\n",
              "    width: 32px;\n",
              "  }\n",
              "\n",
              "  .colab-df-quickchart:hover {\n",
              "    background-color: #E2EBFA;\n",
              "    box-shadow: 0px 1px 2px rgba(60, 64, 67, 0.3), 0px 1px 3px 1px rgba(60, 64, 67, 0.15);\n",
              "    fill: #174EA6;\n",
              "  }\n",
              "\n",
              "  [theme=dark] .colab-df-quickchart {\n",
              "    background-color: #3B4455;\n",
              "    fill: #D2E3FC;\n",
              "  }\n",
              "\n",
              "  [theme=dark] .colab-df-quickchart:hover {\n",
              "    background-color: #434B5C;\n",
              "    box-shadow: 0px 1px 3px 1px rgba(0, 0, 0, 0.15);\n",
              "    filter: drop-shadow(0px 1px 2px rgba(0, 0, 0, 0.3));\n",
              "    fill: #FFFFFF;\n",
              "  }\n",
              "</style>\n",
              "\n",
              "    <script>\n",
              "      async function quickchart(key) {\n",
              "        const containerElement = document.querySelector('#' + key);\n",
              "        const charts = await google.colab.kernel.invokeFunction(\n",
              "            'suggestCharts', [key], {});\n",
              "      }\n",
              "    </script>\n",
              "\n",
              "      <script>\n",
              "\n",
              "function displayQuickchartButton(domScope) {\n",
              "  let quickchartButtonEl =\n",
              "    domScope.querySelector('#df-56406aa3-a0f6-4c34-ad1b-b483485adbc1 button.colab-df-quickchart');\n",
              "  quickchartButtonEl.style.display =\n",
              "    google.colab.kernel.accessAllowed ? 'block' : 'none';\n",
              "}\n",
              "\n",
              "        displayQuickchartButton(document);\n",
              "      </script>\n",
              "      <style>\n",
              "    .colab-df-container {\n",
              "      display:flex;\n",
              "      flex-wrap:wrap;\n",
              "      gap: 12px;\n",
              "    }\n",
              "\n",
              "    .colab-df-convert {\n",
              "      background-color: #E8F0FE;\n",
              "      border: none;\n",
              "      border-radius: 50%;\n",
              "      cursor: pointer;\n",
              "      display: none;\n",
              "      fill: #1967D2;\n",
              "      height: 32px;\n",
              "      padding: 0 0 0 0;\n",
              "      width: 32px;\n",
              "    }\n",
              "\n",
              "    .colab-df-convert:hover {\n",
              "      background-color: #E2EBFA;\n",
              "      box-shadow: 0px 1px 2px rgba(60, 64, 67, 0.3), 0px 1px 3px 1px rgba(60, 64, 67, 0.15);\n",
              "      fill: #174EA6;\n",
              "    }\n",
              "\n",
              "    [theme=dark] .colab-df-convert {\n",
              "      background-color: #3B4455;\n",
              "      fill: #D2E3FC;\n",
              "    }\n",
              "\n",
              "    [theme=dark] .colab-df-convert:hover {\n",
              "      background-color: #434B5C;\n",
              "      box-shadow: 0px 1px 3px 1px rgba(0, 0, 0, 0.15);\n",
              "      filter: drop-shadow(0px 1px 2px rgba(0, 0, 0, 0.3));\n",
              "      fill: #FFFFFF;\n",
              "    }\n",
              "  </style>\n",
              "\n",
              "      <script>\n",
              "        const buttonEl =\n",
              "          document.querySelector('#df-4cf6330f-d087-4398-aec7-d1d52beb980c button.colab-df-convert');\n",
              "        buttonEl.style.display =\n",
              "          google.colab.kernel.accessAllowed ? 'block' : 'none';\n",
              "\n",
              "        async function convertToInteractive(key) {\n",
              "          const element = document.querySelector('#df-4cf6330f-d087-4398-aec7-d1d52beb980c');\n",
              "          const dataTable =\n",
              "            await google.colab.kernel.invokeFunction('convertToInteractive',\n",
              "                                                     [key], {});\n",
              "          if (!dataTable) return;\n",
              "\n",
              "          const docLinkHtml = 'Like what you see? Visit the ' +\n",
              "            '<a target=\"_blank\" href=https://colab.research.google.com/notebooks/data_table.ipynb>data table notebook</a>'\n",
              "            + ' to learn more about interactive tables.';\n",
              "          element.innerHTML = '';\n",
              "          dataTable['output_type'] = 'display_data';\n",
              "          await google.colab.output.renderOutput(dataTable, element);\n",
              "          const docLink = document.createElement('div');\n",
              "          docLink.innerHTML = docLinkHtml;\n",
              "          element.appendChild(docLink);\n",
              "        }\n",
              "      </script>\n",
              "    </div>\n",
              "  </div>\n"
            ]
          },
          "metadata": {},
          "execution_count": 67
        }
      ],
      "source": [
        "df.describe().T"
      ]
    },
    {
      "cell_type": "markdown",
      "metadata": {
        "id": "EadOP7CbZBd8"
      },
      "source": [
        "**1.Electric Vehicle Adoption Analysis:** Analyze the distribution of electric vehicles across\n",
        "counties, cities, and states to understand the adoption rate and popularity of electric\n",
        "vehicles in different regions."
      ]
    },
    {
      "cell_type": "code",
      "execution_count": null,
      "metadata": {
        "id": "mUC63e55ZMna"
      },
      "outputs": [],
      "source": [
        "#Grouping the data by counties, cities\n",
        "grouped_by_county = df.groupby('County').size()\n",
        "grouped_by_city = df.groupby('City').size()\n",
        "\n",
        "#Calculate the adoption rate and popularity of electric vehicles in different counties,cities\n",
        "total_electric_vehicles = df.shape[0]\n",
        "adoption_rate_county = grouped_by_county / total_electric_vehicles * 100\n",
        "adoption_rate_city = grouped_by_city / total_electric_vehicles * 100"
      ]
    },
    {
      "cell_type": "code",
      "execution_count": null,
      "metadata": {
        "colab": {
          "base_uri": "https://localhost:8080/"
        },
        "id": "VvLgnfQ9vAr1",
        "outputId": "79b1a386-3768-47b8-aeb0-c4e764dc48d6"
      },
      "outputs": [
        {
          "output_type": "stream",
          "name": "stdout",
          "text": [
            "County\n",
            "Adams            0.020002\n",
            "Asotin           0.010001\n",
            "Benton           0.480048\n",
            "Chelan           0.220022\n",
            "Clallam          0.390039\n",
            "Clark            8.170817\n",
            "Columbia         0.010001\n",
            "Cowlitz          0.730073\n",
            "Douglas          0.150015\n",
            "Ferry            0.010001\n",
            "Franklin         0.140014\n",
            "Garfield         0.010001\n",
            "Grant            0.150015\n",
            "Grays Harbor     0.170017\n",
            "Island           0.700070\n",
            "Jefferson        0.780078\n",
            "King            64.226423\n",
            "Kitsap           4.140414\n",
            "Kittitas         0.170017\n",
            "Klickitat        0.090009\n",
            "Lewis            0.350035\n",
            "Mason            0.210021\n",
            "Okanogan         0.060006\n",
            "Pacific          0.030003\n",
            "Pend Oreille     0.030003\n",
            "Pierce           3.170317\n",
            "San Juan         0.210021\n",
            "Skagit           0.560056\n",
            "Skamania         0.090009\n",
            "Snohomish        8.090809\n",
            "Spokane          1.080108\n",
            "Stevens          0.040004\n",
            "Thurston         3.320332\n",
            "Wahkiakum        0.010001\n",
            "Walla Walla      0.150015\n",
            "Whatcom          1.030103\n",
            "Whitman          0.110011\n",
            "Yakima           0.690069\n",
            "dtype: float64\n"
          ]
        }
      ],
      "source": [
        "print(adoption_rate_county)\n"
      ]
    },
    {
      "cell_type": "code",
      "execution_count": null,
      "metadata": {
        "colab": {
          "base_uri": "https://localhost:8080/"
        },
        "id": "cSiEXZ1svQk_",
        "outputId": "ef3469b2-e569-4ef8-9cea-05501a837dbe"
      },
      "outputs": [
        {
          "output_type": "stream",
          "name": "stdout",
          "text": [
            "City\n",
            "Aberdeen          0.010001\n",
            "Airway Heights    0.010001\n",
            "Algona            0.020002\n",
            "Allyn             0.010001\n",
            "Amboy             0.010001\n",
            "                    ...   \n",
            "Yacolt            0.010001\n",
            "Yakima            0.450045\n",
            "Yarrow Point      0.070007\n",
            "Yelm              0.380038\n",
            "Zillah            0.030003\n",
            "Length: 261, dtype: float64\n"
          ]
        }
      ],
      "source": [
        "print(adoption_rate_city)"
      ]
    },
    {
      "cell_type": "code",
      "execution_count": null,
      "metadata": {
        "colab": {
          "base_uri": "https://localhost:8080/",
          "height": 1000
        },
        "id": "yA-HTd_dU3Un",
        "outputId": "b872913a-1975-4541-921b-9f66d960f61d"
      },
      "outputs": [
        {
          "output_type": "display_data",
          "data": {
            "text/plain": [
              "<Figure size 1200x600 with 1 Axes>"
            ],
            "image/png": "[encoded data removed]"
          },
          "metadata": {}
        },
        {
          "output_type": "display_data",
          "data": {
            "text/plain": [
              "<Figure size 2000x1000 with 1 Axes>"
            ],
            "image/png": "[encoded data removed]"
          },
          "metadata": {}
        }
      ],
      "source": [
        "#Visualize the results\n",
        "# Plotting adoption rate by county\n",
        "plt.figure(figsize=(12, 6))\n",
        "adoption_rate_county.plot(kind='bar')\n",
        "plt.title('EVs Adoption Rate by County')\n",
        "plt.xlabel('County')\n",
        "plt.ylabel('Adoption Rate in %')\n",
        "plt.xticks(rotation=90)\n",
        "plt.show()\n",
        "\n",
        "# Plotting adoption rate by city samples of 20\n",
        "plt.figure(figsize=(20, 10))\n",
        "adoption_rate_city.sample(20).plot(kind='bar')\n",
        "plt.title('EVs Adoption Rate by City')\n",
        "plt.xlabel('City')\n",
        "plt.ylabel('Adoption Rate in %')\n",
        "plt.xticks(rotation=90)\n",
        "plt.show()\n"
      ]
    },
    {
      "cell_type": "markdown",
      "source": [
        "\"Analyzing the dataset reveals varying electric vehicle adoption rates across counties, cities, and states, reflecting regional differences in the popularity and acceptance of electric vehicles.\""
      ],
      "metadata": {
        "id": "3G1KcqJCsz2B"
      }
    },
    {
      "cell_type": "markdown",
      "metadata": {
        "id": "arGHnXCJcEFf"
      },
      "source": [
        "**2.Electric Vehicle Types:** Explore the types of electric vehicles (e.g., electric cars, electric\n",
        "trucks) and their prevalence in the dataset."
      ]
    },
    {
      "cell_type": "code",
      "execution_count": null,
      "metadata": {
        "id": "Xq4O-_3ULLQF"
      },
      "outputs": [],
      "source": [
        "df['Electric Vehicle Type'].unique()\n",
        "df1=pd.DataFrame(df['Electric Vehicle Type'].value_counts())"
      ]
    },
    {
      "cell_type": "code",
      "execution_count": null,
      "metadata": {
        "colab": {
          "base_uri": "https://localhost:8080/",
          "height": 112
        },
        "id": "vsm3oZU3hq1f",
        "outputId": "93b8fc81-e3b0-4c37-9d19-1951bd3c1ef2"
      },
      "outputs": [
        {
          "output_type": "execute_result",
          "data": {
            "text/plain": [
              "                                    Electric Vehicle Type\n",
              "Battery Electric Vehicle                             7767\n",
              "Plug-in Hybrid Electric Vehicle                      2232"
            ],
            "text/html": [
              "\n",
              "\n",
              "  <div id=\"df-4406965e-54c5-4e4c-8b23-4044ac8bb088\">\n",
              "    <div class=\"colab-df-container\">\n",
              "      <div>\n",
              "<style scoped>\n",
              "    .dataframe tbody tr th:only-of-type {\n",
              "        vertical-align: middle;\n",
              "    }\n",
              "\n",
              "    .dataframe tbody tr th {\n",
              "        vertical-align: top;\n",
              "    }\n",
              "\n",
              "    .dataframe thead th {\n",
              "        text-align: right;\n",
              "    }\n",
              "</style>\n",
              "<table border=\"1\" class=\"dataframe\">\n",
              "  <thead>\n",
              "    <tr style=\"text-align: right;\">\n",
              "      <th></th>\n",
              "      <th>Electric Vehicle Type</th>\n",
              "    </tr>\n",
              "  </thead>\n",
              "  <tbody>\n",
              "    <tr>\n",
              "      <th>Battery Electric Vehicle</th>\n",
              "      <td>7767</td>\n",
              "    </tr>\n",
              "    <tr>\n",
              "      <th>Plug-in Hybrid Electric Vehicle</th>\n",
              "      <td>2232</td>\n",
              "    </tr>\n",
              "  </tbody>\n",
              "</table>\n",
              "</div>\n",
              "      <button class=\"colab-df-convert\" onclick=\"convertToInteractive('df-4406965e-54c5-4e4c-8b23-4044ac8bb088')\"\n",
              "              title=\"Convert this dataframe to an interactive table.\"\n",
              "              style=\"display:none;\">\n",
              "\n",
              "  <svg xmlns=\"http://www.w3.org/2000/svg\" height=\"24px\"viewBox=\"0 0 24 24\"\n",
              "       width=\"24px\">\n",
              "    <path d=\"M0 0h24v24H0V0z\" fill=\"none\"/>\n",
              "    <path d=\"M18.56 5.44l.94 2.06.94-2.06 2.06-.94-2.06-.94-.94-2.06-.94 2.06-2.06.94zm-11 1L8.5 8.5l.94-2.06 2.06-.94-2.06-.94L8.5 2.5l-.94 2.06-2.06.94zm10 10l.94 2.06.94-2.06 2.06-.94-2.06-.94-.94-2.06-.94 2.06-2.06.94z\"/><path d=\"M17.41 7.96l-1.37-1.37c-.4-.4-.92-.59-1.43-.59-.52 0-1.04.2-1.43.59L10.3 9.45l-7.72 7.72c-.78.78-.78 2.05 0 2.83L4 21.41c.39.39.9.59 1.41.59.51 0 1.02-.2 1.41-.59l7.78-7.78 2.81-2.81c.8-.78.8-2.07 0-2.86zM5.41 20L4 18.59l7.72-7.72 1.47 1.35L5.41 20z\"/>\n",
              "  </svg>\n",
              "      </button>\n",
              "\n",
              "\n",
              "\n",
              "    <div id=\"df-f5c1bab1-544e-4e19-a6c1-39a691de8196\">\n",
              "      <button class=\"colab-df-quickchart\" onclick=\"quickchart('df-f5c1bab1-544e-4e19-a6c1-39a691de8196')\"\n",
              "              title=\"Suggest charts.\"\n",
              "              style=\"display:none;\">\n",
              "\n",
              "<svg xmlns=\"http://www.w3.org/2000/svg\" height=\"24px\"viewBox=\"0 0 24 24\"\n",
              "     width=\"24px\">\n",
              "    <g>\n",
              "        <path d=\"M19 3H5c-1.1 0-2 .9-2 2v14c0 1.1.9 2 2 2h14c1.1 0 2-.9 2-2V5c0-1.1-.9-2-2-2zM9 17H7v-7h2v7zm4 0h-2V7h2v10zm4 0h-2v-4h2v4z\"/>\n",
              "    </g>\n",
              "</svg>\n",
              "      </button>\n",
              "    </div>\n",
              "\n",
              "<style>\n",
              "  .colab-df-quickchart {\n",
              "    background-color: #E8F0FE;\n",
              "    border: none;\n",
              "    border-radius: 50%;\n",
              "    cursor: pointer;\n",
              "    display: none;\n",
              "    fill: #1967D2;\n",
              "    height: 32px;\n",
              "    padding: 0 0 0 0;\n",
              "    width: 32px;\n",
              "  }\n",
              "\n",
              "  .colab-df-quickchart:hover {\n",
              "    background-color: #E2EBFA;\n",
              "    box-shadow: 0px 1px 2px rgba(60, 64, 67, 0.3), 0px 1px 3px 1px rgba(60, 64, 67, 0.15);\n",
              "    fill: #174EA6;\n",
              "  }\n",
              "\n",
              "  [theme=dark] .colab-df-quickchart {\n",
              "    background-color: #3B4455;\n",
              "    fill: #D2E3FC;\n",
              "  }\n",
              "\n",
              "  [theme=dark] .colab-df-quickchart:hover {\n",
              "    background-color: #434B5C;\n",
              "    box-shadow: 0px 1px 3px 1px rgba(0, 0, 0, 0.15);\n",
              "    filter: drop-shadow(0px 1px 2px rgba(0, 0, 0, 0.3));\n",
              "    fill: #FFFFFF;\n",
              "  }\n",
              "</style>\n",
              "\n",
              "    <script>\n",
              "      async function quickchart(key) {\n",
              "        const containerElement = document.querySelector('#' + key);\n",
              "        const charts = await google.colab.kernel.invokeFunction(\n",
              "            'suggestCharts', [key], {});\n",
              "      }\n",
              "    </script>\n",
              "\n",
              "      <script>\n",
              "\n",
              "function displayQuickchartButton(domScope) {\n",
              "  let quickchartButtonEl =\n",
              "    domScope.querySelector('#df-f5c1bab1-544e-4e19-a6c1-39a691de8196 button.colab-df-quickchart');\n",
              "  quickchartButtonEl.style.display =\n",
              "    google.colab.kernel.accessAllowed ? 'block' : 'none';\n",
              "}\n",
              "\n",
              "        displayQuickchartButton(document);\n",
              "      </script>\n",
              "      <style>\n",
              "    .colab-df-container {\n",
              "      display:flex;\n",
              "      flex-wrap:wrap;\n",
              "      gap: 12px;\n",
              "    }\n",
              "\n",
              "    .colab-df-convert {\n",
              "      background-color: #E8F0FE;\n",
              "      border: none;\n",
              "      border-radius: 50%;\n",
              "      cursor: pointer;\n",
              "      display: none;\n",
              "      fill: #1967D2;\n",
              "      height: 32px;\n",
              "      padding: 0 0 0 0;\n",
              "      width: 32px;\n",
              "    }\n",
              "\n",
              "    .colab-df-convert:hover {\n",
              "      background-color: #E2EBFA;\n",
              "      box-shadow: 0px 1px 2px rgba(60, 64, 67, 0.3), 0px 1px 3px 1px rgba(60, 64, 67, 0.15);\n",
              "      fill: #174EA6;\n",
              "    }\n",
              "\n",
              "    [theme=dark] .colab-df-convert {\n",
              "      background-color: #3B4455;\n",
              "      fill: #D2E3FC;\n",
              "    }\n",
              "\n",
              "    [theme=dark] .colab-df-convert:hover {\n",
              "      background-color: #434B5C;\n",
              "      box-shadow: 0px 1px 3px 1px rgba(0, 0, 0, 0.15);\n",
              "      filter: drop-shadow(0px 1px 2px rgba(0, 0, 0, 0.3));\n",
              "      fill: #FFFFFF;\n",
              "    }\n",
              "  </style>\n",
              "\n",
              "      <script>\n",
              "        const buttonEl =\n",
              "          document.querySelector('#df-4406965e-54c5-4e4c-8b23-4044ac8bb088 button.colab-df-convert');\n",
              "        buttonEl.style.display =\n",
              "          google.colab.kernel.accessAllowed ? 'block' : 'none';\n",
              "\n",
              "        async function convertToInteractive(key) {\n",
              "          const element = document.querySelector('#df-4406965e-54c5-4e4c-8b23-4044ac8bb088');\n",
              "          const dataTable =\n",
              "            await google.colab.kernel.invokeFunction('convertToInteractive',\n",
              "                                                     [key], {});\n",
              "          if (!dataTable) return;\n",
              "\n",
              "          const docLinkHtml = 'Like what you see? Visit the ' +\n",
              "            '<a target=\"_blank\" href=https://colab.research.google.com/notebooks/data_table.ipynb>data table notebook</a>'\n",
              "            + ' to learn more about interactive tables.';\n",
              "          element.innerHTML = '';\n",
              "          dataTable['output_type'] = 'display_data';\n",
              "          await google.colab.output.renderOutput(dataTable, element);\n",
              "          const docLink = document.createElement('div');\n",
              "          docLink.innerHTML = docLinkHtml;\n",
              "          element.appendChild(docLink);\n",
              "        }\n",
              "      </script>\n",
              "    </div>\n",
              "  </div>\n"
            ]
          },
          "metadata": {},
          "execution_count": 73
        }
      ],
      "source": [
        "df1"
      ]
    },
    {
      "cell_type": "code",
      "execution_count": null,
      "metadata": {
        "colab": {
          "base_uri": "https://localhost:8080/",
          "height": 542
        },
        "id": "TR1UGutIkce2",
        "outputId": "6a0c29b3-dd1f-4e4d-cdf9-813d035c715f"
      },
      "outputs": [
        {
          "output_type": "display_data",
          "data": {
            "text/html": [
              "<html>\n",
              "<head><meta charset=\"utf-8\" /></head>\n",
              "<body>\n",
              "    <div>            <script src=\"https://cdnjs.cloudflare.com/ajax/libs/mathjax/2.7.5/MathJax.js?config=TeX-AMS-MML_SVG\"></script><script type=\"text/javascript\">if (window.MathJax && window.MathJax.Hub && window.MathJax.Hub.Config) {window.MathJax.Hub.Config({SVG: {font: \"STIX-Web\"}});}</script>                <script type=\"text/javascript\">window.PlotlyConfig = {MathJaxConfig: 'local'};</script>\n",
              "        <script src=\"https://cdn.plot.ly/plotly-2.18.2.min.js\"></script>                <div id=\"33b566bd-1671-4cdb-97af-618ac0586d3b\" class=\"plotly-graph-div\" style=\"height:525px; width:100%;\"></div>            <script type=\"text/javascript\">                                    window.PLOTLYENV=window.PLOTLYENV || {};                                    if (document.getElementById(\"33b566bd-1671-4cdb-97af-618ac0586d3b\")) {                    Plotly.newPlot(                        \"33b566bd-1671-4cdb-97af-618ac0586d3b\",                        [{\"alignmentgroup\":\"True\",\"hovertemplate\":\"Electric Vehicle Type=%{x}<br>index=%{y}<extra></extra>\",\"legendgroup\":\"\",\"marker\":{\"color\":\"#636efa\",\"pattern\":{\"shape\":\"\"}},\"name\":\"\",\"offsetgroup\":\"\",\"orientation\":\"h\",\"showlegend\":false,\"textposition\":\"outside\",\"x\":[7767,2232],\"xaxis\":\"x\",\"y\":[\"Battery Electric Vehicle   \",\"Plug-in Hybrid Electric Vehicle   \"],\"yaxis\":\"y\",\"type\":\"bar\",\"textfont\":{\"size\":12},\"texttemplate\":\"%{y}\"}],                        {\"template\":{\"data\":{\"histogram2dcontour\":[{\"type\":\"histogram2dcontour\",\"colorbar\":{\"outlinewidth\":0,\"ticks\":\"\"},\"colorscale\":[[0.0,\"#0d0887\"],[0.1111111111111111,\"#46039f\"],[0.2222222222222222,\"#7201a8\"],[0.3333333333333333,\"#9c179e\"],[0.4444444444444444,\"#bd3786\"],[0.5555555555555556,\"#d8576b\"],[0.6666666666666666,\"#ed7953\"],[0.7777777777777778,\"#fb9f3a\"],[0.8888888888888888,\"#fdca26\"],[1.0,\"#f0f921\"]]}],\"choropleth\":[{\"type\":\"choropleth\",\"colorbar\":{\"outlinewidth\":0,\"ticks\":\"\"}}],\"histogram2d\":[{\"type\":\"histogram2d\",\"colorbar\":{\"outlinewidth\":0,\"ticks\":\"\"},\"colorscale\":[[0.0,\"#0d0887\"],[0.1111111111111111,\"#46039f\"],[0.2222222222222222,\"#7201a8\"],[0.3333333333333333,\"#9c179e\"],[0.4444444444444444,\"#bd3786\"],[0.5555555555555556,\"#d8576b\"],[0.6666666666666666,\"#ed7953\"],[0.7777777777777778,\"#fb9f3a\"],[0.8888888888888888,\"#fdca26\"],[1.0,\"#f0f921\"]]}],\"heatmap\":[{\"type\":\"heatmap\",\"colorbar\":{\"outlinewidth\":0,\"ticks\":\"\"},\"colorscale\":[[0.0,\"#0d0887\"],[0.1111111111111111,\"#46039f\"],[0.2222222222222222,\"#7201a8\"],[0.3333333333333333,\"#9c179e\"],[0.4444444444444444,\"#bd3786\"],[0.5555555555555556,\"#d8576b\"],[0.6666666666666666,\"#ed7953\"],[0.7777777777777778,\"#fb9f3a\"],[0.8888888888888888,\"#fdca26\"],[1.0,\"#f0f921\"]]}],\"heatmapgl\":[{\"type\":\"heatmapgl\",\"colorbar\":{\"outlinewidth\":0,\"ticks\":\"\"},\"colorscale\":[[0.0,\"#0d0887\"],[0.1111111111111111,\"#46039f\"],[0.2222222222222222,\"#7201a8\"],[0.3333333333333333,\"#9c179e\"],[0.4444444444444444,\"#bd3786\"],[0.5555555555555556,\"#d8576b\"],[0.6666666666666666,\"#ed7953\"],[0.7777777777777778,\"#fb9f3a\"],[0.8888888888888888,\"#fdca26\"],[1.0,\"#f0f921\"]]}],\"contourcarpet\":[{\"type\":\"contourcarpet\",\"colorbar\":{\"outlinewidth\":0,\"ticks\":\"\"}}],\"contour\":[{\"type\":\"contour\",\"colorbar\":{\"outlinewidth\":0,\"ticks\":\"\"},\"colorscale\":[[0.0,\"#0d0887\"],[0.1111111111111111,\"#46039f\"],[0.2222222222222222,\"#7201a8\"],[0.3333333333333333,\"#9c179e\"],[0.4444444444444444,\"#bd3786\"],[0.5555555555555556,\"#d8576b\"],[0.6666666666666666,\"#ed7953\"],[0.7777777777777778,\"#fb9f3a\"],[0.8888888888888888,\"#fdca26\"],[1.0,\"#f0f921\"]]}],\"surface\":[{\"type\":\"surface\",\"colorbar\":{\"outlinewidth\":0,\"ticks\":\"\"},\"colorscale\":[[0.0,\"#0d0887\"],[0.1111111111111111,\"#46039f\"],[0.2222222222222222,\"#7201a8\"],[0.3333333333333333,\"#9c179e\"],[0.4444444444444444,\"#bd3786\"],[0.5555555555555556,\"#d8576b\"],[0.6666666666666666,\"#ed7953\"],[0.7777777777777778,\"#fb9f3a\"],[0.8888888888888888,\"#fdca26\"],[1.0,\"#f0f921\"]]}],\"mesh3d\":[{\"type\":\"mesh3d\",\"colorbar\":{\"outlinewidth\":0,\"ticks\":\"\"}}],\"scatter\":[{\"fillpattern\":{\"fillmode\":\"overlay\",\"size\":10,\"solidity\":0.2},\"type\":\"scatter\"}],\"parcoords\":[{\"type\":\"parcoords\",\"line\":{\"colorbar\":{\"outlinewidth\":0,\"ticks\":\"\"}}}],\"scatterpolargl\":[{\"type\":\"scatterpolargl\",\"marker\":{\"colorbar\":{\"outlinewidth\":0,\"ticks\":\"\"}}}],\"bar\":[{\"error_x\":{\"color\":\"#2a3f5f\"},\"error_y\":{\"color\":\"#2a3f5f\"},\"marker\":{\"line\":{\"color\":\"#E5ECF6\",\"width\":0.5},\"pattern\":{\"fillmode\":\"overlay\",\"size\":10,\"solidity\":0.2}},\"type\":\"bar\"}],\"scattergeo\":[{\"type\":\"scattergeo\",\"marker\":{\"colorbar\":{\"outlinewidth\":0,\"ticks\":\"\"}}}],\"scatterpolar\":[{\"type\":\"scatterpolar\",\"marker\":{\"colorbar\":{\"outlinewidth\":0,\"ticks\":\"\"}}}],\"histogram\":[{\"marker\":{\"pattern\":{\"fillmode\":\"overlay\",\"size\":10,\"solidity\":0.2}},\"type\":\"histogram\"}],\"scattergl\":[{\"type\":\"scattergl\",\"marker\":{\"colorbar\":{\"outlinewidth\":0,\"ticks\":\"\"}}}],\"scatter3d\":[{\"type\":\"scatter3d\",\"line\":{\"colorbar\":{\"outlinewidth\":0,\"ticks\":\"\"}},\"marker\":{\"colorbar\":{\"outlinewidth\":0,\"ticks\":\"\"}}}],\"scattermapbox\":[{\"type\":\"scattermapbox\",\"marker\":{\"colorbar\":{\"outlinewidth\":0,\"ticks\":\"\"}}}],\"scatterternary\":[{\"type\":\"scatterternary\",\"marker\":{\"colorbar\":{\"outlinewidth\":0,\"ticks\":\"\"}}}],\"scattercarpet\":[{\"type\":\"scattercarpet\",\"marker\":{\"colorbar\":{\"outlinewidth\":0,\"ticks\":\"\"}}}],\"carpet\":[{\"aaxis\":{\"endlinecolor\":\"#2a3f5f\",\"gridcolor\":\"white\",\"linecolor\":\"white\",\"minorgridcolor\":\"white\",\"startlinecolor\":\"#2a3f5f\"},\"baxis\":{\"endlinecolor\":\"#2a3f5f\",\"gridcolor\":\"white\",\"linecolor\":\"white\",\"minorgridcolor\":\"white\",\"startlinecolor\":\"#2a3f5f\"},\"type\":\"carpet\"}],\"table\":[{\"cells\":{\"fill\":{\"color\":\"#EBF0F8\"},\"line\":{\"color\":\"white\"}},\"header\":{\"fill\":{\"color\":\"#C8D4E3\"},\"line\":{\"color\":\"white\"}},\"type\":\"table\"}],\"barpolar\":[{\"marker\":{\"line\":{\"color\":\"#E5ECF6\",\"width\":0.5},\"pattern\":{\"fillmode\":\"overlay\",\"size\":10,\"solidity\":0.2}},\"type\":\"barpolar\"}],\"pie\":[{\"automargin\":true,\"type\":\"pie\"}]},\"layout\":{\"autotypenumbers\":\"strict\",\"colorway\":[\"#636efa\",\"#EF553B\",\"#00cc96\",\"#ab63fa\",\"#FFA15A\",\"#19d3f3\",\"#FF6692\",\"#B6E880\",\"#FF97FF\",\"#FECB52\"],\"font\":{\"color\":\"#2a3f5f\"},\"hovermode\":\"closest\",\"hoverlabel\":{\"align\":\"left\"},\"paper_bgcolor\":\"white\",\"plot_bgcolor\":\"#E5ECF6\",\"polar\":{\"bgcolor\":\"#E5ECF6\",\"angularaxis\":{\"gridcolor\":\"white\",\"linecolor\":\"white\",\"ticks\":\"\"},\"radialaxis\":{\"gridcolor\":\"white\",\"linecolor\":\"white\",\"ticks\":\"\"}},\"ternary\":{\"bgcolor\":\"#E5ECF6\",\"aaxis\":{\"gridcolor\":\"white\",\"linecolor\":\"white\",\"ticks\":\"\"},\"baxis\":{\"gridcolor\":\"white\",\"linecolor\":\"white\",\"ticks\":\"\"},\"caxis\":{\"gridcolor\":\"white\",\"linecolor\":\"white\",\"ticks\":\"\"}},\"coloraxis\":{\"colorbar\":{\"outlinewidth\":0,\"ticks\":\"\"}},\"colorscale\":{\"sequential\":[[0.0,\"#0d0887\"],[0.1111111111111111,\"#46039f\"],[0.2222222222222222,\"#7201a8\"],[0.3333333333333333,\"#9c179e\"],[0.4444444444444444,\"#bd3786\"],[0.5555555555555556,\"#d8576b\"],[0.6666666666666666,\"#ed7953\"],[0.7777777777777778,\"#fb9f3a\"],[0.8888888888888888,\"#fdca26\"],[1.0,\"#f0f921\"]],\"sequentialminus\":[[0.0,\"#0d0887\"],[0.1111111111111111,\"#46039f\"],[0.2222222222222222,\"#7201a8\"],[0.3333333333333333,\"#9c179e\"],[0.4444444444444444,\"#bd3786\"],[0.5555555555555556,\"#d8576b\"],[0.6666666666666666,\"#ed7953\"],[0.7777777777777778,\"#fb9f3a\"],[0.8888888888888888,\"#fdca26\"],[1.0,\"#f0f921\"]],\"diverging\":[[0,\"#8e0152\"],[0.1,\"#c51b7d\"],[0.2,\"#de77ae\"],[0.3,\"#f1b6da\"],[0.4,\"#fde0ef\"],[0.5,\"#f7f7f7\"],[0.6,\"#e6f5d0\"],[0.7,\"#b8e186\"],[0.8,\"#7fbc41\"],[0.9,\"#4d9221\"],[1,\"#276419\"]]},\"xaxis\":{\"gridcolor\":\"white\",\"linecolor\":\"white\",\"ticks\":\"\",\"title\":{\"standoff\":15},\"zerolinecolor\":\"white\",\"automargin\":true,\"zerolinewidth\":2},\"yaxis\":{\"gridcolor\":\"white\",\"linecolor\":\"white\",\"ticks\":\"\",\"title\":{\"standoff\":15},\"zerolinecolor\":\"white\",\"automargin\":true,\"zerolinewidth\":2},\"scene\":{\"xaxis\":{\"backgroundcolor\":\"#E5ECF6\",\"gridcolor\":\"white\",\"linecolor\":\"white\",\"showbackground\":true,\"ticks\":\"\",\"zerolinecolor\":\"white\",\"gridwidth\":2},\"yaxis\":{\"backgroundcolor\":\"#E5ECF6\",\"gridcolor\":\"white\",\"linecolor\":\"white\",\"showbackground\":true,\"ticks\":\"\",\"zerolinecolor\":\"white\",\"gridwidth\":2},\"zaxis\":{\"backgroundcolor\":\"#E5ECF6\",\"gridcolor\":\"white\",\"linecolor\":\"white\",\"showbackground\":true,\"ticks\":\"\",\"zerolinecolor\":\"white\",\"gridwidth\":2}},\"shapedefaults\":{\"line\":{\"color\":\"#2a3f5f\"}},\"annotationdefaults\":{\"arrowcolor\":\"#2a3f5f\",\"arrowhead\":0,\"arrowwidth\":1},\"geo\":{\"bgcolor\":\"white\",\"landcolor\":\"#E5ECF6\",\"subunitcolor\":\"white\",\"showland\":true,\"showlakes\":true,\"lakecolor\":\"white\"},\"title\":{\"x\":0.05},\"mapbox\":{\"style\":\"light\"}}},\"xaxis\":{\"anchor\":\"y\",\"domain\":[0.0,1.0],\"title\":{\"text\":\"Electric Vehicle Type\"}},\"yaxis\":{\"anchor\":\"x\",\"domain\":[0.0,1.0],\"title\":{\"text\":\"index\"}},\"legend\":{\"tracegroupgap\":0},\"title\":{\"text\":\"Count Plot of EV Types\"},\"barmode\":\"relative\"},                        {\"responsive\": true}                    ).then(function(){\n",
              "                            \n",
              "var gd = document.getElementById('33b566bd-1671-4cdb-97af-618ac0586d3b');\n",
              "var x = new MutationObserver(function (mutations, observer) {{\n",
              "        var display = window.getComputedStyle(gd).display;\n",
              "        if (!display || display === 'none') {{\n",
              "            console.log([gd, 'removed!']);\n",
              "            Plotly.purge(gd);\n",
              "            observer.disconnect();\n",
              "        }}\n",
              "}});\n",
              "\n",
              "// Listen for the removal of the full notebook cells\n",
              "var notebookContainer = gd.closest('#notebook-container');\n",
              "if (notebookContainer) {{\n",
              "    x.observe(notebookContainer, {childList: true});\n",
              "}}\n",
              "\n",
              "// Listen for the clearing of the current output cell\n",
              "var outputEl = gd.closest('.output');\n",
              "if (outputEl) {{\n",
              "    x.observe(outputEl, {childList: true});\n",
              "}}\n",
              "\n",
              "                        })                };                            </script>        </div>\n",
              "</body>\n",
              "</html>"
            ]
          },
          "metadata": {}
        }
      ],
      "source": [
        "import plotly.express as px\n",
        "fig = px.bar(df1, x='Electric Vehicle Type', title='Count Plot of EV Types')\n",
        "fig.update_traces(textposition='outside', texttemplate='%{y}', textfont_size=12)\n",
        "fig.update_traces(textposition='outside', texttemplate='%{y}', textfont_size=12)\n",
        "fig.show()"
      ]
    },
    {
      "cell_type": "markdown",
      "source": [
        "\"This Plotly Express bar plot visually depicts the count of electric vehicle types, placing the count values outside the bars for clear representation and insight into the distribution of different EV types.\""
      ],
      "metadata": {
        "id": "yE7mGmXXwN_V"
      }
    },
    {
      "cell_type": "markdown",
      "metadata": {
        "id": "0xQl6SOif0wn"
      },
      "source": [
        "**3.Clean Alternative Fuel Vehicles:** Investigate the usage of clean alternative fuel vehicles and\n",
        "their distribution across different areas."
      ]
    },
    {
      "cell_type": "code",
      "execution_count": null,
      "metadata": {
        "colab": {
          "base_uri": "https://localhost:8080/"
        },
        "id": "NsLYlaTj9-M7",
        "outputId": "5bda0b6f-e9ea-467a-e2d8-8cf83ad219e0"
      },
      "outputs": [
        {
          "output_type": "stream",
          "name": "stdout",
          "text": [
            "CAFV Distribution:\n",
            "Clean Alternative Fuel Vehicle Eligible                         45.084508\n",
            "Eligibility unknown as battery range has not been researched    42.534253\n",
            "Not eligible due to low battery range                           12.381238\n",
            "Name: CAFV, dtype: float64\n"
          ]
        }
      ],
      "source": [
        "#Extract relevant columns for the analysis\n",
        "df_cafv = df[['CAFV', 'County', 'City']]\n",
        "\n",
        "# Step 4: Analyze the distribution of clean alternative fuel vehicles\n",
        "cafv_vehicle_counts = df_cafv['CAFV'].value_counts()\n",
        "cafv_vehicle_percentages = cafv_vehicle_counts / len(df_cafv) * 100\n",
        "\n",
        "# Display the distribution of clean alternative fuel vehicles\n",
        "print(\"CAFV Distribution:\")\n",
        "print(cafv_vehicle_percentages)"
      ]
    },
    {
      "cell_type": "code",
      "execution_count": null,
      "metadata": {
        "colab": {
          "base_uri": "https://localhost:8080/",
          "height": 542
        },
        "id": "13rgfdNZ8IR8",
        "outputId": "89aac45d-b987-4554-fccb-e2207f8ea08e"
      },
      "outputs": [
        {
          "output_type": "display_data",
          "data": {
            "text/html": [
              "<html>\n",
              "<head><meta charset=\"utf-8\" /></head>\n",
              "<body>\n",
              "    <div>            <script src=\"https://cdnjs.cloudflare.com/ajax/libs/mathjax/2.7.5/MathJax.js?config=TeX-AMS-MML_SVG\"></script><script type=\"text/javascript\">if (window.MathJax && window.MathJax.Hub && window.MathJax.Hub.Config) {window.MathJax.Hub.Config({SVG: {font: \"STIX-Web\"}});}</script>                <script type=\"text/javascript\">window.PlotlyConfig = {MathJaxConfig: 'local'};</script>\n",
              "        <script src=\"https://cdn.plot.ly/plotly-2.18.2.min.js\"></script>                <div id=\"300ffdcd-2999-45bb-8086-7e399bc3cb55\" class=\"plotly-graph-div\" style=\"height:525px; width:100%;\"></div>            <script type=\"text/javascript\">                                    window.PLOTLYENV=window.PLOTLYENV || {};                                    if (document.getElementById(\"300ffdcd-2999-45bb-8086-7e399bc3cb55\")) {                    Plotly.newPlot(                        \"300ffdcd-2999-45bb-8086-7e399bc3cb55\",                        [{\"alignmentgroup\":\"True\",\"hovertemplate\":\"Vehicle Type=%{x}<br>Percentage=%{y}<extra></extra>\",\"legendgroup\":\"\",\"marker\":{\"color\":\"#636efa\",\"pattern\":{\"shape\":\"\"}},\"name\":\"\",\"offsetgroup\":\"\",\"orientation\":\"v\",\"showlegend\":false,\"textposition\":\"auto\",\"x\":[\"Clean Alternative Fuel Vehicle Eligible\",\"Eligibility unknown as battery range has not been researched\",\"Not eligible due to low battery range\"],\"xaxis\":\"x\",\"y\":[45.084508450845085,42.534253425342534,12.38123812381238],\"yaxis\":\"y\",\"type\":\"bar\"}],                        {\"template\":{\"data\":{\"histogram2dcontour\":[{\"type\":\"histogram2dcontour\",\"colorbar\":{\"outlinewidth\":0,\"ticks\":\"\"},\"colorscale\":[[0.0,\"#0d0887\"],[0.1111111111111111,\"#46039f\"],[0.2222222222222222,\"#7201a8\"],[0.3333333333333333,\"#9c179e\"],[0.4444444444444444,\"#bd3786\"],[0.5555555555555556,\"#d8576b\"],[0.6666666666666666,\"#ed7953\"],[0.7777777777777778,\"#fb9f3a\"],[0.8888888888888888,\"#fdca26\"],[1.0,\"#f0f921\"]]}],\"choropleth\":[{\"type\":\"choropleth\",\"colorbar\":{\"outlinewidth\":0,\"ticks\":\"\"}}],\"histogram2d\":[{\"type\":\"histogram2d\",\"colorbar\":{\"outlinewidth\":0,\"ticks\":\"\"},\"colorscale\":[[0.0,\"#0d0887\"],[0.1111111111111111,\"#46039f\"],[0.2222222222222222,\"#7201a8\"],[0.3333333333333333,\"#9c179e\"],[0.4444444444444444,\"#bd3786\"],[0.5555555555555556,\"#d8576b\"],[0.6666666666666666,\"#ed7953\"],[0.7777777777777778,\"#fb9f3a\"],[0.8888888888888888,\"#fdca26\"],[1.0,\"#f0f921\"]]}],\"heatmap\":[{\"type\":\"heatmap\",\"colorbar\":{\"outlinewidth\":0,\"ticks\":\"\"},\"colorscale\":[[0.0,\"#0d0887\"],[0.1111111111111111,\"#46039f\"],[0.2222222222222222,\"#7201a8\"],[0.3333333333333333,\"#9c179e\"],[0.4444444444444444,\"#bd3786\"],[0.5555555555555556,\"#d8576b\"],[0.6666666666666666,\"#ed7953\"],[0.7777777777777778,\"#fb9f3a\"],[0.8888888888888888,\"#fdca26\"],[1.0,\"#f0f921\"]]}],\"heatmapgl\":[{\"type\":\"heatmapgl\",\"colorbar\":{\"outlinewidth\":0,\"ticks\":\"\"},\"colorscale\":[[0.0,\"#0d0887\"],[0.1111111111111111,\"#46039f\"],[0.2222222222222222,\"#7201a8\"],[0.3333333333333333,\"#9c179e\"],[0.4444444444444444,\"#bd3786\"],[0.5555555555555556,\"#d8576b\"],[0.6666666666666666,\"#ed7953\"],[0.7777777777777778,\"#fb9f3a\"],[0.8888888888888888,\"#fdca26\"],[1.0,\"#f0f921\"]]}],\"contourcarpet\":[{\"type\":\"contourcarpet\",\"colorbar\":{\"outlinewidth\":0,\"ticks\":\"\"}}],\"contour\":[{\"type\":\"contour\",\"colorbar\":{\"outlinewidth\":0,\"ticks\":\"\"},\"colorscale\":[[0.0,\"#0d0887\"],[0.1111111111111111,\"#46039f\"],[0.2222222222222222,\"#7201a8\"],[0.3333333333333333,\"#9c179e\"],[0.4444444444444444,\"#bd3786\"],[0.5555555555555556,\"#d8576b\"],[0.6666666666666666,\"#ed7953\"],[0.7777777777777778,\"#fb9f3a\"],[0.8888888888888888,\"#fdca26\"],[1.0,\"#f0f921\"]]}],\"surface\":[{\"type\":\"surface\",\"colorbar\":{\"outlinewidth\":0,\"ticks\":\"\"},\"colorscale\":[[0.0,\"#0d0887\"],[0.1111111111111111,\"#46039f\"],[0.2222222222222222,\"#7201a8\"],[0.3333333333333333,\"#9c179e\"],[0.4444444444444444,\"#bd3786\"],[0.5555555555555556,\"#d8576b\"],[0.6666666666666666,\"#ed7953\"],[0.7777777777777778,\"#fb9f3a\"],[0.8888888888888888,\"#fdca26\"],[1.0,\"#f0f921\"]]}],\"mesh3d\":[{\"type\":\"mesh3d\",\"colorbar\":{\"outlinewidth\":0,\"ticks\":\"\"}}],\"scatter\":[{\"fillpattern\":{\"fillmode\":\"overlay\",\"size\":10,\"solidity\":0.2},\"type\":\"scatter\"}],\"parcoords\":[{\"type\":\"parcoords\",\"line\":{\"colorbar\":{\"outlinewidth\":0,\"ticks\":\"\"}}}],\"scatterpolargl\":[{\"type\":\"scatterpolargl\",\"marker\":{\"colorbar\":{\"outlinewidth\":0,\"ticks\":\"\"}}}],\"bar\":[{\"error_x\":{\"color\":\"#2a3f5f\"},\"error_y\":{\"color\":\"#2a3f5f\"},\"marker\":{\"line\":{\"color\":\"#E5ECF6\",\"width\":0.5},\"pattern\":{\"fillmode\":\"overlay\",\"size\":10,\"solidity\":0.2}},\"type\":\"bar\"}],\"scattergeo\":[{\"type\":\"scattergeo\",\"marker\":{\"colorbar\":{\"outlinewidth\":0,\"ticks\":\"\"}}}],\"scatterpolar\":[{\"type\":\"scatterpolar\",\"marker\":{\"colorbar\":{\"outlinewidth\":0,\"ticks\":\"\"}}}],\"histogram\":[{\"marker\":{\"pattern\":{\"fillmode\":\"overlay\",\"size\":10,\"solidity\":0.2}},\"type\":\"histogram\"}],\"scattergl\":[{\"type\":\"scattergl\",\"marker\":{\"colorbar\":{\"outlinewidth\":0,\"ticks\":\"\"}}}],\"scatter3d\":[{\"type\":\"scatter3d\",\"line\":{\"colorbar\":{\"outlinewidth\":0,\"ticks\":\"\"}},\"marker\":{\"colorbar\":{\"outlinewidth\":0,\"ticks\":\"\"}}}],\"scattermapbox\":[{\"type\":\"scattermapbox\",\"marker\":{\"colorbar\":{\"outlinewidth\":0,\"ticks\":\"\"}}}],\"scatterternary\":[{\"type\":\"scatterternary\",\"marker\":{\"colorbar\":{\"outlinewidth\":0,\"ticks\":\"\"}}}],\"scattercarpet\":[{\"type\":\"scattercarpet\",\"marker\":{\"colorbar\":{\"outlinewidth\":0,\"ticks\":\"\"}}}],\"carpet\":[{\"aaxis\":{\"endlinecolor\":\"#2a3f5f\",\"gridcolor\":\"white\",\"linecolor\":\"white\",\"minorgridcolor\":\"white\",\"startlinecolor\":\"#2a3f5f\"},\"baxis\":{\"endlinecolor\":\"#2a3f5f\",\"gridcolor\":\"white\",\"linecolor\":\"white\",\"minorgridcolor\":\"white\",\"startlinecolor\":\"#2a3f5f\"},\"type\":\"carpet\"}],\"table\":[{\"cells\":{\"fill\":{\"color\":\"#EBF0F8\"},\"line\":{\"color\":\"white\"}},\"header\":{\"fill\":{\"color\":\"#C8D4E3\"},\"line\":{\"color\":\"white\"}},\"type\":\"table\"}],\"barpolar\":[{\"marker\":{\"line\":{\"color\":\"#E5ECF6\",\"width\":0.5},\"pattern\":{\"fillmode\":\"overlay\",\"size\":10,\"solidity\":0.2}},\"type\":\"barpolar\"}],\"pie\":[{\"automargin\":true,\"type\":\"pie\"}]},\"layout\":{\"autotypenumbers\":\"strict\",\"colorway\":[\"#636efa\",\"#EF553B\",\"#00cc96\",\"#ab63fa\",\"#FFA15A\",\"#19d3f3\",\"#FF6692\",\"#B6E880\",\"#FF97FF\",\"#FECB52\"],\"font\":{\"color\":\"#2a3f5f\"},\"hovermode\":\"closest\",\"hoverlabel\":{\"align\":\"left\"},\"paper_bgcolor\":\"white\",\"plot_bgcolor\":\"#E5ECF6\",\"polar\":{\"bgcolor\":\"#E5ECF6\",\"angularaxis\":{\"gridcolor\":\"white\",\"linecolor\":\"white\",\"ticks\":\"\"},\"radialaxis\":{\"gridcolor\":\"white\",\"linecolor\":\"white\",\"ticks\":\"\"}},\"ternary\":{\"bgcolor\":\"#E5ECF6\",\"aaxis\":{\"gridcolor\":\"white\",\"linecolor\":\"white\",\"ticks\":\"\"},\"baxis\":{\"gridcolor\":\"white\",\"linecolor\":\"white\",\"ticks\":\"\"},\"caxis\":{\"gridcolor\":\"white\",\"linecolor\":\"white\",\"ticks\":\"\"}},\"coloraxis\":{\"colorbar\":{\"outlinewidth\":0,\"ticks\":\"\"}},\"colorscale\":{\"sequential\":[[0.0,\"#0d0887\"],[0.1111111111111111,\"#46039f\"],[0.2222222222222222,\"#7201a8\"],[0.3333333333333333,\"#9c179e\"],[0.4444444444444444,\"#bd3786\"],[0.5555555555555556,\"#d8576b\"],[0.6666666666666666,\"#ed7953\"],[0.7777777777777778,\"#fb9f3a\"],[0.8888888888888888,\"#fdca26\"],[1.0,\"#f0f921\"]],\"sequentialminus\":[[0.0,\"#0d0887\"],[0.1111111111111111,\"#46039f\"],[0.2222222222222222,\"#7201a8\"],[0.3333333333333333,\"#9c179e\"],[0.4444444444444444,\"#bd3786\"],[0.5555555555555556,\"#d8576b\"],[0.6666666666666666,\"#ed7953\"],[0.7777777777777778,\"#fb9f3a\"],[0.8888888888888888,\"#fdca26\"],[1.0,\"#f0f921\"]],\"diverging\":[[0,\"#8e0152\"],[0.1,\"#c51b7d\"],[0.2,\"#de77ae\"],[0.3,\"#f1b6da\"],[0.4,\"#fde0ef\"],[0.5,\"#f7f7f7\"],[0.6,\"#e6f5d0\"],[0.7,\"#b8e186\"],[0.8,\"#7fbc41\"],[0.9,\"#4d9221\"],[1,\"#276419\"]]},\"xaxis\":{\"gridcolor\":\"white\",\"linecolor\":\"white\",\"ticks\":\"\",\"title\":{\"standoff\":15},\"zerolinecolor\":\"white\",\"automargin\":true,\"zerolinewidth\":2},\"yaxis\":{\"gridcolor\":\"white\",\"linecolor\":\"white\",\"ticks\":\"\",\"title\":{\"standoff\":15},\"zerolinecolor\":\"white\",\"automargin\":true,\"zerolinewidth\":2},\"scene\":{\"xaxis\":{\"backgroundcolor\":\"#E5ECF6\",\"gridcolor\":\"white\",\"linecolor\":\"white\",\"showbackground\":true,\"ticks\":\"\",\"zerolinecolor\":\"white\",\"gridwidth\":2},\"yaxis\":{\"backgroundcolor\":\"#E5ECF6\",\"gridcolor\":\"white\",\"linecolor\":\"white\",\"showbackground\":true,\"ticks\":\"\",\"zerolinecolor\":\"white\",\"gridwidth\":2},\"zaxis\":{\"backgroundcolor\":\"#E5ECF6\",\"gridcolor\":\"white\",\"linecolor\":\"white\",\"showbackground\":true,\"ticks\":\"\",\"zerolinecolor\":\"white\",\"gridwidth\":2}},\"shapedefaults\":{\"line\":{\"color\":\"#2a3f5f\"}},\"annotationdefaults\":{\"arrowcolor\":\"#2a3f5f\",\"arrowhead\":0,\"arrowwidth\":1},\"geo\":{\"bgcolor\":\"white\",\"landcolor\":\"#E5ECF6\",\"subunitcolor\":\"white\",\"showland\":true,\"showlakes\":true,\"lakecolor\":\"white\"},\"title\":{\"x\":0.05},\"mapbox\":{\"style\":\"light\"}}},\"xaxis\":{\"anchor\":\"y\",\"domain\":[0.0,1.0],\"title\":{\"text\":\"Vehicle Type\"},\"tickfont\":{\"size\":10},\"tickangle\":-45},\"yaxis\":{\"anchor\":\"x\",\"domain\":[0.0,1.0],\"title\":{\"text\":\"Percentage\"}},\"legend\":{\"tracegroupgap\":0},\"title\":{\"text\":\"Distribution of Clean Alternative Fuel Vehicles\"},\"barmode\":\"relative\"},                        {\"responsive\": true}                    ).then(function(){\n",
              "                            \n",
              "var gd = document.getElementById('300ffdcd-2999-45bb-8086-7e399bc3cb55');\n",
              "var x = new MutationObserver(function (mutations, observer) {{\n",
              "        var display = window.getComputedStyle(gd).display;\n",
              "        if (!display || display === 'none') {{\n",
              "            console.log([gd, 'removed!']);\n",
              "            Plotly.purge(gd);\n",
              "            observer.disconnect();\n",
              "        }}\n",
              "}});\n",
              "\n",
              "// Listen for the removal of the full notebook cells\n",
              "var notebookContainer = gd.closest('#notebook-container');\n",
              "if (notebookContainer) {{\n",
              "    x.observe(notebookContainer, {childList: true});\n",
              "}}\n",
              "\n",
              "// Listen for the clearing of the current output cell\n",
              "var outputEl = gd.closest('.output');\n",
              "if (outputEl) {{\n",
              "    x.observe(outputEl, {childList: true});\n",
              "}}\n",
              "\n",
              "                        })                };                            </script>        </div>\n",
              "</body>\n",
              "</html>"
            ]
          },
          "metadata": {}
        }
      ],
      "source": [
        "import plotly.express as px\n",
        "\n",
        "# Assuming you have already loaded the DataFrame and extracted relevant columns\n",
        "# df_cafv = df[['CAFV', 'County', 'City']]\n",
        "\n",
        "# Step 4: Analyze the distribution of clean alternative fuel vehicles\n",
        "cafv_vehicle_counts = df_cafv['CAFV'].value_counts()\n",
        "cafv_vehicle_percentages = cafv_vehicle_counts / len(df_cafv) * 100\n",
        "\n",
        "# Convert the distribution data to a DataFrame for plotting with Plotly Express\n",
        "cafv_distribution = pd.DataFrame({'Vehicle Type': cafv_vehicle_percentages.index, 'Percentage': cafv_vehicle_percentages.values})\n",
        "\n",
        "# Create a bar plot using Plotly Express\n",
        "fig = px.bar(cafv_distribution, x='Vehicle Type', y='Percentage',\n",
        "             title='Distribution of Clean Alternative Fuel Vehicles',\n",
        "             labels={'Vehicle Type': 'Vehicle Type', 'Percentage': 'Percentage'},\n",
        "             color_continuous_scale='cividis')\n",
        "\n",
        "# Customize the x-axis labels\n",
        "fig.update_xaxes(tickangle=-45, tickfont=dict(size=10))\n",
        "\n",
        "# Show the interactive plot\n",
        "fig.show()\n"
      ]
    },
    {
      "cell_type": "markdown",
      "source": [
        "\"This Plotly Express bar plot visually represents the distribution of clean alternative fuel vehicles by type, showcasing their percentage presence using a color-coded scheme for enhanced understanding.\""
      ],
      "metadata": {
        "id": "ShF8N0N7v7O1"
      }
    },
    {
      "cell_type": "markdown",
      "metadata": {
        "id": "Fi6PwOoIh6Zu"
      },
      "source": [
        "**4. Legislative District Impact:** Analyze how legislative districts influence electric vehicle\n",
        "adoption and clean alternative fuel vehicle usage."
      ]
    },
    {
      "cell_type": "code",
      "execution_count": null,
      "metadata": {
        "id": "0b81G-bDlX_U"
      },
      "outputs": [],
      "source": [
        "#Extract relevant columns for the analysis\n",
        "df_legislative = df[['Legislative District', 'CAFV', 'Electric Vehicle Type']]\n",
        "\n",
        "#Analyzing EV adoption and CAFV usage in each legislative district\n",
        "district_vehicle_counts = df_legislative.groupby('Legislative District').size()\n",
        "district_cafv_counts = df_legislative[df_legislative['CAFV'] == 'Yes'].groupby('Legislative District').size()\n",
        "district_ev_counts = df_legislative[df_legislative['Electric Vehicle Type'] == 'Electric Car'].groupby('Legislative District').size()"
      ]
    },
    {
      "cell_type": "code",
      "execution_count": null,
      "metadata": {
        "colab": {
          "base_uri": "https://localhost:8080/"
        },
        "id": "KiIBkzTVlaEO",
        "outputId": "00e01d8e-ee9d-4648-8b6d-940a1412023e"
      },
      "outputs": [
        {
          "output_type": "stream",
          "name": "stdout",
          "text": [
            "Legislative District\n",
            "1     434\n",
            "2      82\n",
            "3      27\n",
            "4      26\n",
            "5     319\n",
            "6      41\n",
            "7      22\n",
            "8      40\n",
            "9      29\n",
            "10    107\n",
            "11    468\n",
            "12     42\n",
            "13     31\n",
            "14     52\n",
            "15     38\n",
            "16     26\n",
            "17    250\n",
            "18    366\n",
            "19     45\n",
            "20    105\n",
            "21    190\n",
            "22    190\n",
            "23    279\n",
            "24    134\n",
            "25     47\n",
            "26    144\n",
            "27     67\n",
            "28     45\n",
            "29     27\n",
            "30     94\n",
            "31     84\n",
            "32    308\n",
            "33    376\n",
            "34    298\n",
            "35    126\n",
            "36    421\n",
            "37    302\n",
            "38     48\n",
            "39    103\n",
            "40     99\n",
            "41    822\n",
            "42     55\n",
            "43    466\n",
            "44    182\n",
            "45    813\n",
            "46    560\n",
            "47    209\n",
            "48    775\n",
            "49    185\n",
            "dtype: int64\n",
            "Series([], dtype: int64)\n",
            "Series([], dtype: int64)\n"
          ]
        }
      ],
      "source": [
        "print(district_vehicle_counts)\n",
        "print(district_cafv_counts)\n",
        "print(district_ev_counts)"
      ]
    },
    {
      "cell_type": "code",
      "execution_count": null,
      "metadata": {
        "colab": {
          "base_uri": "https://localhost:8080/",
          "height": 542
        },
        "id": "5L1ZN7mTXMmb",
        "outputId": "1d00031b-ad72-4ae3-9de3-0d827eb67c58"
      },
      "outputs": [
        {
          "output_type": "display_data",
          "data": {
            "text/html": [
              "<html>\n",
              "<head><meta charset=\"utf-8\" /></head>\n",
              "<body>\n",
              "    <div>            <script src=\"https://cdnjs.cloudflare.com/ajax/libs/mathjax/2.7.5/MathJax.js?config=TeX-AMS-MML_SVG\"></script><script type=\"text/javascript\">if (window.MathJax && window.MathJax.Hub && window.MathJax.Hub.Config) {window.MathJax.Hub.Config({SVG: {font: \"STIX-Web\"}});}</script>                <script type=\"text/javascript\">window.PlotlyConfig = {MathJaxConfig: 'local'};</script>\n",
              "        <script src=\"https://cdn.plot.ly/plotly-2.18.2.min.js\"></script>                <div id=\"7070edc1-08f6-4fc3-af1c-ebfcd7124a64\" class=\"plotly-graph-div\" style=\"height:525px; width:100%;\"></div>            <script type=\"text/javascript\">                                    window.PLOTLYENV=window.PLOTLYENV || {};                                    if (document.getElementById(\"7070edc1-08f6-4fc3-af1c-ebfcd7124a64\")) {                    Plotly.newPlot(                        \"7070edc1-08f6-4fc3-af1c-ebfcd7124a64\",                        [{\"alignmentgroup\":\"True\",\"hovertemplate\":\"variable=Total Vehicles<br>Legislative District=%{x}<br>Vehicle Count=%{y}<extra></extra>\",\"legendgroup\":\"Total Vehicles\",\"marker\":{\"color\":\"#1f77b4\",\"opacity\":0.7,\"pattern\":{\"shape\":\"\"}},\"name\":\"Total Vehicles\",\"offsetgroup\":\"Total Vehicles\",\"orientation\":\"v\",\"showlegend\":true,\"textposition\":\"auto\",\"x\":[41,45,48,46,11,43,1,36,33,18,5,32,37,34,23,17,47,21,22,49,44,26,24,35,10,20,39,40,30,31,2,27,42,14,38,25,28,19,12,6,8,15,13,9,3,29,16,4,7],\"xaxis\":\"x\",\"y\":[822.0,813.0,775.0,560.0,468.0,466.0,434.0,421.0,376.0,366.0,319.0,308.0,302.0,298.0,279.0,250.0,209.0,190.0,190.0,185.0,182.0,144.0,134.0,126.0,107.0,105.0,103.0,99.0,94.0,84.0,82.0,67.0,55.0,52.0,48.0,47.0,45.0,45.0,42.0,41.0,40.0,38.0,31.0,29.0,27.0,27.0,26.0,26.0,22.0],\"yaxis\":\"y\",\"type\":\"bar\"},{\"alignmentgroup\":\"True\",\"hovertemplate\":\"variable=CAFVs<br>Legislative District=%{x}<br>Vehicle Count=%{y}<extra></extra>\",\"legendgroup\":\"CAFVs\",\"marker\":{\"color\":\"#ff7f0e\",\"opacity\":0.7,\"pattern\":{\"shape\":\"\"}},\"name\":\"CAFVs\",\"offsetgroup\":\"CAFVs\",\"orientation\":\"v\",\"showlegend\":true,\"textposition\":\"auto\",\"x\":[41,45,48,46,11,43,1,36,33,18,5,32,37,34,23,17,47,21,22,49,44,26,24,35,10,20,39,40,30,31,2,27,42,14,38,25,28,19,12,6,8,15,13,9,3,29,16,4,7],\"xaxis\":\"x\",\"y\":[null,null,null,null,null,null,null,null,null,null,null,null,null,null,null,null,null,null,null,null,null,null,null,null,null,null,null,null,null,null,null,null,null,null,null,null,null,null,null,null,null,null,null,null,null,null,null,null,null],\"yaxis\":\"y\",\"type\":\"bar\"},{\"alignmentgroup\":\"True\",\"hovertemplate\":\"variable=Electric Cars<br>Legislative District=%{x}<br>Vehicle Count=%{y}<extra></extra>\",\"legendgroup\":\"Electric Cars\",\"marker\":{\"color\":\"#2ca02c\",\"opacity\":0.7,\"pattern\":{\"shape\":\"\"}},\"name\":\"Electric Cars\",\"offsetgroup\":\"Electric Cars\",\"orientation\":\"v\",\"showlegend\":true,\"textposition\":\"auto\",\"x\":[41,45,48,46,11,43,1,36,33,18,5,32,37,34,23,17,47,21,22,49,44,26,24,35,10,20,39,40,30,31,2,27,42,14,38,25,28,19,12,6,8,15,13,9,3,29,16,4,7],\"xaxis\":\"x\",\"y\":[null,null,null,null,null,null,null,null,null,null,null,null,null,null,null,null,null,null,null,null,null,null,null,null,null,null,null,null,null,null,null,null,null,null,null,null,null,null,null,null,null,null,null,null,null,null,null,null,null],\"yaxis\":\"y\",\"type\":\"bar\"}],                        {\"template\":{\"data\":{\"histogram2dcontour\":[{\"type\":\"histogram2dcontour\",\"colorbar\":{\"outlinewidth\":0,\"ticks\":\"\"},\"colorscale\":[[0.0,\"#0d0887\"],[0.1111111111111111,\"#46039f\"],[0.2222222222222222,\"#7201a8\"],[0.3333333333333333,\"#9c179e\"],[0.4444444444444444,\"#bd3786\"],[0.5555555555555556,\"#d8576b\"],[0.6666666666666666,\"#ed7953\"],[0.7777777777777778,\"#fb9f3a\"],[0.8888888888888888,\"#fdca26\"],[1.0,\"#f0f921\"]]}],\"choropleth\":[{\"type\":\"choropleth\",\"colorbar\":{\"outlinewidth\":0,\"ticks\":\"\"}}],\"histogram2d\":[{\"type\":\"histogram2d\",\"colorbar\":{\"outlinewidth\":0,\"ticks\":\"\"},\"colorscale\":[[0.0,\"#0d0887\"],[0.1111111111111111,\"#46039f\"],[0.2222222222222222,\"#7201a8\"],[0.3333333333333333,\"#9c179e\"],[0.4444444444444444,\"#bd3786\"],[0.5555555555555556,\"#d8576b\"],[0.6666666666666666,\"#ed7953\"],[0.7777777777777778,\"#fb9f3a\"],[0.8888888888888888,\"#fdca26\"],[1.0,\"#f0f921\"]]}],\"heatmap\":[{\"type\":\"heatmap\",\"colorbar\":{\"outlinewidth\":0,\"ticks\":\"\"},\"colorscale\":[[0.0,\"#0d0887\"],[0.1111111111111111,\"#46039f\"],[0.2222222222222222,\"#7201a8\"],[0.3333333333333333,\"#9c179e\"],[0.4444444444444444,\"#bd3786\"],[0.5555555555555556,\"#d8576b\"],[0.6666666666666666,\"#ed7953\"],[0.7777777777777778,\"#fb9f3a\"],[0.8888888888888888,\"#fdca26\"],[1.0,\"#f0f921\"]]}],\"heatmapgl\":[{\"type\":\"heatmapgl\",\"colorbar\":{\"outlinewidth\":0,\"ticks\":\"\"},\"colorscale\":[[0.0,\"#0d0887\"],[0.1111111111111111,\"#46039f\"],[0.2222222222222222,\"#7201a8\"],[0.3333333333333333,\"#9c179e\"],[0.4444444444444444,\"#bd3786\"],[0.5555555555555556,\"#d8576b\"],[0.6666666666666666,\"#ed7953\"],[0.7777777777777778,\"#fb9f3a\"],[0.8888888888888888,\"#fdca26\"],[1.0,\"#f0f921\"]]}],\"contourcarpet\":[{\"type\":\"contourcarpet\",\"colorbar\":{\"outlinewidth\":0,\"ticks\":\"\"}}],\"contour\":[{\"type\":\"contour\",\"colorbar\":{\"outlinewidth\":0,\"ticks\":\"\"},\"colorscale\":[[0.0,\"#0d0887\"],[0.1111111111111111,\"#46039f\"],[0.2222222222222222,\"#7201a8\"],[0.3333333333333333,\"#9c179e\"],[0.4444444444444444,\"#bd3786\"],[0.5555555555555556,\"#d8576b\"],[0.6666666666666666,\"#ed7953\"],[0.7777777777777778,\"#fb9f3a\"],[0.8888888888888888,\"#fdca26\"],[1.0,\"#f0f921\"]]}],\"surface\":[{\"type\":\"surface\",\"colorbar\":{\"outlinewidth\":0,\"ticks\":\"\"},\"colorscale\":[[0.0,\"#0d0887\"],[0.1111111111111111,\"#46039f\"],[0.2222222222222222,\"#7201a8\"],[0.3333333333333333,\"#9c179e\"],[0.4444444444444444,\"#bd3786\"],[0.5555555555555556,\"#d8576b\"],[0.6666666666666666,\"#ed7953\"],[0.7777777777777778,\"#fb9f3a\"],[0.8888888888888888,\"#fdca26\"],[1.0,\"#f0f921\"]]}],\"mesh3d\":[{\"type\":\"mesh3d\",\"colorbar\":{\"outlinewidth\":0,\"ticks\":\"\"}}],\"scatter\":[{\"fillpattern\":{\"fillmode\":\"overlay\",\"size\":10,\"solidity\":0.2},\"type\":\"scatter\"}],\"parcoords\":[{\"type\":\"parcoords\",\"line\":{\"colorbar\":{\"outlinewidth\":0,\"ticks\":\"\"}}}],\"scatterpolargl\":[{\"type\":\"scatterpolargl\",\"marker\":{\"colorbar\":{\"outlinewidth\":0,\"ticks\":\"\"}}}],\"bar\":[{\"error_x\":{\"color\":\"#2a3f5f\"},\"error_y\":{\"color\":\"#2a3f5f\"},\"marker\":{\"line\":{\"color\":\"#E5ECF6\",\"width\":0.5},\"pattern\":{\"fillmode\":\"overlay\",\"size\":10,\"solidity\":0.2}},\"type\":\"bar\"}],\"scattergeo\":[{\"type\":\"scattergeo\",\"marker\":{\"colorbar\":{\"outlinewidth\":0,\"ticks\":\"\"}}}],\"scatterpolar\":[{\"type\":\"scatterpolar\",\"marker\":{\"colorbar\":{\"outlinewidth\":0,\"ticks\":\"\"}}}],\"histogram\":[{\"marker\":{\"pattern\":{\"fillmode\":\"overlay\",\"size\":10,\"solidity\":0.2}},\"type\":\"histogram\"}],\"scattergl\":[{\"type\":\"scattergl\",\"marker\":{\"colorbar\":{\"outlinewidth\":0,\"ticks\":\"\"}}}],\"scatter3d\":[{\"type\":\"scatter3d\",\"line\":{\"colorbar\":{\"outlinewidth\":0,\"ticks\":\"\"}},\"marker\":{\"colorbar\":{\"outlinewidth\":0,\"ticks\":\"\"}}}],\"scattermapbox\":[{\"type\":\"scattermapbox\",\"marker\":{\"colorbar\":{\"outlinewidth\":0,\"ticks\":\"\"}}}],\"scatterternary\":[{\"type\":\"scatterternary\",\"marker\":{\"colorbar\":{\"outlinewidth\":0,\"ticks\":\"\"}}}],\"scattercarpet\":[{\"type\":\"scattercarpet\",\"marker\":{\"colorbar\":{\"outlinewidth\":0,\"ticks\":\"\"}}}],\"carpet\":[{\"aaxis\":{\"endlinecolor\":\"#2a3f5f\",\"gridcolor\":\"white\",\"linecolor\":\"white\",\"minorgridcolor\":\"white\",\"startlinecolor\":\"#2a3f5f\"},\"baxis\":{\"endlinecolor\":\"#2a3f5f\",\"gridcolor\":\"white\",\"linecolor\":\"white\",\"minorgridcolor\":\"white\",\"startlinecolor\":\"#2a3f5f\"},\"type\":\"carpet\"}],\"table\":[{\"cells\":{\"fill\":{\"color\":\"#EBF0F8\"},\"line\":{\"color\":\"white\"}},\"header\":{\"fill\":{\"color\":\"#C8D4E3\"},\"line\":{\"color\":\"white\"}},\"type\":\"table\"}],\"barpolar\":[{\"marker\":{\"line\":{\"color\":\"#E5ECF6\",\"width\":0.5},\"pattern\":{\"fillmode\":\"overlay\",\"size\":10,\"solidity\":0.2}},\"type\":\"barpolar\"}],\"pie\":[{\"automargin\":true,\"type\":\"pie\"}]},\"layout\":{\"autotypenumbers\":\"strict\",\"colorway\":[\"#636efa\",\"#EF553B\",\"#00cc96\",\"#ab63fa\",\"#FFA15A\",\"#19d3f3\",\"#FF6692\",\"#B6E880\",\"#FF97FF\",\"#FECB52\"],\"font\":{\"color\":\"#2a3f5f\"},\"hovermode\":\"closest\",\"hoverlabel\":{\"align\":\"left\"},\"paper_bgcolor\":\"white\",\"plot_bgcolor\":\"#E5ECF6\",\"polar\":{\"bgcolor\":\"#E5ECF6\",\"angularaxis\":{\"gridcolor\":\"white\",\"linecolor\":\"white\",\"ticks\":\"\"},\"radialaxis\":{\"gridcolor\":\"white\",\"linecolor\":\"white\",\"ticks\":\"\"}},\"ternary\":{\"bgcolor\":\"#E5ECF6\",\"aaxis\":{\"gridcolor\":\"white\",\"linecolor\":\"white\",\"ticks\":\"\"},\"baxis\":{\"gridcolor\":\"white\",\"linecolor\":\"white\",\"ticks\":\"\"},\"caxis\":{\"gridcolor\":\"white\",\"linecolor\":\"white\",\"ticks\":\"\"}},\"coloraxis\":{\"colorbar\":{\"outlinewidth\":0,\"ticks\":\"\"}},\"colorscale\":{\"sequential\":[[0.0,\"#0d0887\"],[0.1111111111111111,\"#46039f\"],[0.2222222222222222,\"#7201a8\"],[0.3333333333333333,\"#9c179e\"],[0.4444444444444444,\"#bd3786\"],[0.5555555555555556,\"#d8576b\"],[0.6666666666666666,\"#ed7953\"],[0.7777777777777778,\"#fb9f3a\"],[0.8888888888888888,\"#fdca26\"],[1.0,\"#f0f921\"]],\"sequentialminus\":[[0.0,\"#0d0887\"],[0.1111111111111111,\"#46039f\"],[0.2222222222222222,\"#7201a8\"],[0.3333333333333333,\"#9c179e\"],[0.4444444444444444,\"#bd3786\"],[0.5555555555555556,\"#d8576b\"],[0.6666666666666666,\"#ed7953\"],[0.7777777777777778,\"#fb9f3a\"],[0.8888888888888888,\"#fdca26\"],[1.0,\"#f0f921\"]],\"diverging\":[[0,\"#8e0152\"],[0.1,\"#c51b7d\"],[0.2,\"#de77ae\"],[0.3,\"#f1b6da\"],[0.4,\"#fde0ef\"],[0.5,\"#f7f7f7\"],[0.6,\"#e6f5d0\"],[0.7,\"#b8e186\"],[0.8,\"#7fbc41\"],[0.9,\"#4d9221\"],[1,\"#276419\"]]},\"xaxis\":{\"gridcolor\":\"white\",\"linecolor\":\"white\",\"ticks\":\"\",\"title\":{\"standoff\":15},\"zerolinecolor\":\"white\",\"automargin\":true,\"zerolinewidth\":2},\"yaxis\":{\"gridcolor\":\"white\",\"linecolor\":\"white\",\"ticks\":\"\",\"title\":{\"standoff\":15},\"zerolinecolor\":\"white\",\"automargin\":true,\"zerolinewidth\":2},\"scene\":{\"xaxis\":{\"backgroundcolor\":\"#E5ECF6\",\"gridcolor\":\"white\",\"linecolor\":\"white\",\"showbackground\":true,\"ticks\":\"\",\"zerolinecolor\":\"white\",\"gridwidth\":2},\"yaxis\":{\"backgroundcolor\":\"#E5ECF6\",\"gridcolor\":\"white\",\"linecolor\":\"white\",\"showbackground\":true,\"ticks\":\"\",\"zerolinecolor\":\"white\",\"gridwidth\":2},\"zaxis\":{\"backgroundcolor\":\"#E5ECF6\",\"gridcolor\":\"white\",\"linecolor\":\"white\",\"showbackground\":true,\"ticks\":\"\",\"zerolinecolor\":\"white\",\"gridwidth\":2}},\"shapedefaults\":{\"line\":{\"color\":\"#2a3f5f\"}},\"annotationdefaults\":{\"arrowcolor\":\"#2a3f5f\",\"arrowhead\":0,\"arrowwidth\":1},\"geo\":{\"bgcolor\":\"white\",\"landcolor\":\"#E5ECF6\",\"subunitcolor\":\"white\",\"showland\":true,\"showlakes\":true,\"lakecolor\":\"white\"},\"title\":{\"x\":0.05},\"mapbox\":{\"style\":\"light\"}}},\"xaxis\":{\"anchor\":\"y\",\"domain\":[0.0,1.0],\"title\":{\"text\":\"Legislative District\"},\"categoryorder\":\"array\",\"categoryarray\":[41,45,48,46,11,43,1,36,33,18,5,32,37,34,23,17,47,21,22,49,44,26,24,35,10,20,39,40,30,31,2,27,42,14,38,25,28,19,12,6,8,15,13,9,3,29,16,4,7],\"tickangle\":-45},\"yaxis\":{\"anchor\":\"x\",\"domain\":[0.0,1.0],\"title\":{\"text\":\"Vehicle Count\"}},\"legend\":{\"title\":{\"text\":\"variable\"},\"tracegroupgap\":0},\"title\":{\"text\":\"EV Adoption and CAFV Usage by Legislative District\"},\"barmode\":\"relative\"},                        {\"responsive\": true}                    ).then(function(){\n",
              "                            \n",
              "var gd = document.getElementById('7070edc1-08f6-4fc3-af1c-ebfcd7124a64');\n",
              "var x = new MutationObserver(function (mutations, observer) {{\n",
              "        var display = window.getComputedStyle(gd).display;\n",
              "        if (!display || display === 'none') {{\n",
              "            console.log([gd, 'removed!']);\n",
              "            Plotly.purge(gd);\n",
              "            observer.disconnect();\n",
              "        }}\n",
              "}});\n",
              "\n",
              "// Listen for the removal of the full notebook cells\n",
              "var notebookContainer = gd.closest('#notebook-container');\n",
              "if (notebookContainer) {{\n",
              "    x.observe(notebookContainer, {childList: true});\n",
              "}}\n",
              "\n",
              "// Listen for the clearing of the current output cell\n",
              "var outputEl = gd.closest('.output');\n",
              "if (outputEl) {{\n",
              "    x.observe(outputEl, {childList: true});\n",
              "}}\n",
              "\n",
              "                        })                };                            </script>        </div>\n",
              "</body>\n",
              "</html>"
            ]
          },
          "metadata": {}
        }
      ],
      "source": [
        "\n",
        "# Calculate vehicle counts by legislative district\n",
        "district_vehicle_counts = df['Legislative District'].value_counts()\n",
        "district_cafv_counts = df[df['CAFV'] == 'Yes']['Legislative District'].value_counts()\n",
        "district_ev_counts = df[df['Electric Vehicle Type'] == 'Battery Electric Vehicle (BEV)']['Legislative District'].value_counts()\n",
        "\n",
        "# Create a DataFrame for the stacked bar plot\n",
        "plot_data = pd.DataFrame({\n",
        "    'Legislative District': district_vehicle_counts.index,\n",
        "    'Total Vehicles': district_vehicle_counts,\n",
        "    'CAFVs': district_cafv_counts,\n",
        "    'Electric Cars': district_ev_counts\n",
        "})\n",
        "\n",
        "# Create a stacked bar plot using Plotly Express\n",
        "fig = px.bar(plot_data, x='Legislative District',\n",
        "             y=['Total Vehicles', 'CAFVs', 'Electric Cars'],\n",
        "             title='EV Adoption and CAFV Usage by Legislative District',\n",
        "             labels={'Legislative District': 'Legislative District', 'value': 'Vehicle Count'},\n",
        "             category_orders={'Legislative District': district_vehicle_counts.index},\n",
        "             color_discrete_sequence=['#1f77b4', '#ff7f0e', '#2ca02c'],\n",
        "             opacity=0.7)\n",
        "fig.update_layout(xaxis_tickangle=-45)\n",
        "fig.show()\n"
      ]
    },
    {
      "cell_type": "markdown",
      "source": [
        "\"This code calculates and visualizes the distribution of vehicle types, including Total Vehicles, Clean Alternative Fuel Vehicles (CAFs), and Electric Cars, across different legislative districts. The stacked bar plot offers a clear comparison of adoption trends, indicating the prevalence of each vehicle category within specific districts.\"\n",
        "\n"
      ],
      "metadata": {
        "id": "mHJ5kwrcwcw2"
      }
    },
    {
      "cell_type": "markdown",
      "metadata": {
        "id": "OqB23C4Dbv1y"
      },
      "source": [
        "**5.Electric Utility Analysis:** Study the association between electric vehicles and the electric\n",
        "utility providers in different areas."
      ]
    },
    {
      "cell_type": "code",
      "source": [
        "import pandas as pd\n",
        "import plotly.express as px\n",
        "\n",
        "# Sample data (replace this with your actual dataset)\n",
        "data = {\n",
        "    'County': ['County A', 'County B', 'County A', 'County C', 'County B'],\n",
        "    'City': ['City X', 'City Y', 'City X', 'City Z', 'City Y'],\n",
        "    'State': ['State 1', 'State 2', 'State 1', 'State 3', 'State 2'],\n",
        "    'Electric Utility': ['Utility A', 'Utility B', 'Utility A', 'Utility C', 'Utility B'],\n",
        "    'Electric Vehicle Type': ['BEV', 'PHEV', 'BEV', 'BEV', 'BEV']\n",
        "}\n",
        "\n",
        "df = pd.DataFrame(data)\n",
        "\n",
        "# Calculate vehicle counts by electric utility and vehicle type\n",
        "utility_vehicle_counts = df.groupby(['Electric Utility', 'Electric Vehicle Type']).size().reset_index(name='Vehicle Count')\n",
        "\n",
        "# Create a bar plot using Plotly Express\n",
        "fig = px.bar(utility_vehicle_counts, x='Electric Utility', y='Vehicle Count', color='Electric Vehicle Type',\n",
        "             title='Electric Vehicle Distribution by Electric Utility',\n",
        "             labels={'Electric Utility': 'Electric Utility', 'Vehicle Count': 'Vehicle Count'},\n",
        "             barmode='group')\n",
        "fig.update_layout(xaxis_tickangle=-45)\n",
        "fig.show()\n"
      ],
      "metadata": {
        "colab": {
          "base_uri": "https://localhost:8080/",
          "height": 542
        },
        "id": "BMR7qykyxITt",
        "outputId": "792ddfda-70c3-4b9d-8b5c-f13d79d82892"
      },
      "execution_count": null,
      "outputs": [
        {
          "output_type": "display_data",
          "data": {
            "text/html": [
              "<html>\n",
              "<head><meta charset=\"utf-8\" /></head>\n",
              "<body>\n",
              "    <div>            <script src=\"https://cdnjs.cloudflare.com/ajax/libs/mathjax/2.7.5/MathJax.js?config=TeX-AMS-MML_SVG\"></script><script type=\"text/javascript\">if (window.MathJax && window.MathJax.Hub && window.MathJax.Hub.Config) {window.MathJax.Hub.Config({SVG: {font: \"STIX-Web\"}});}</script>                <script type=\"text/javascript\">window.PlotlyConfig = {MathJaxConfig: 'local'};</script>\n",
              "        <script src=\"https://cdn.plot.ly/plotly-2.18.2.min.js\"></script>                <div id=\"47fe64dc-e879-44cb-b415-b2ab9757be9e\" class=\"plotly-graph-div\" style=\"height:525px; width:100%;\"></div>            <script type=\"text/javascript\">                                    window.PLOTLYENV=window.PLOTLYENV || {};                                    if (document.getElementById(\"47fe64dc-e879-44cb-b415-b2ab9757be9e\")) {                    Plotly.newPlot(                        \"47fe64dc-e879-44cb-b415-b2ab9757be9e\",                        [{\"alignmentgroup\":\"True\",\"hovertemplate\":\"Electric Vehicle Type=BEV<br>Electric Utility=%{x}<br>Vehicle Count=%{y}<extra></extra>\",\"legendgroup\":\"BEV\",\"marker\":{\"color\":\"#636efa\",\"pattern\":{\"shape\":\"\"}},\"name\":\"BEV\",\"offsetgroup\":\"BEV\",\"orientation\":\"v\",\"showlegend\":true,\"textposition\":\"auto\",\"x\":[\"Utility A\",\"Utility B\",\"Utility C\"],\"xaxis\":\"x\",\"y\":[2,1,1],\"yaxis\":\"y\",\"type\":\"bar\"},{\"alignmentgroup\":\"True\",\"hovertemplate\":\"Electric Vehicle Type=PHEV<br>Electric Utility=%{x}<br>Vehicle Count=%{y}<extra></extra>\",\"legendgroup\":\"PHEV\",\"marker\":{\"color\":\"#EF553B\",\"pattern\":{\"shape\":\"\"}},\"name\":\"PHEV\",\"offsetgroup\":\"PHEV\",\"orientation\":\"v\",\"showlegend\":true,\"textposition\":\"auto\",\"x\":[\"Utility B\"],\"xaxis\":\"x\",\"y\":[1],\"yaxis\":\"y\",\"type\":\"bar\"}],                        {\"template\":{\"data\":{\"histogram2dcontour\":[{\"type\":\"histogram2dcontour\",\"colorbar\":{\"outlinewidth\":0,\"ticks\":\"\"},\"colorscale\":[[0.0,\"#0d0887\"],[0.1111111111111111,\"#46039f\"],[0.2222222222222222,\"#7201a8\"],[0.3333333333333333,\"#9c179e\"],[0.4444444444444444,\"#bd3786\"],[0.5555555555555556,\"#d8576b\"],[0.6666666666666666,\"#ed7953\"],[0.7777777777777778,\"#fb9f3a\"],[0.8888888888888888,\"#fdca26\"],[1.0,\"#f0f921\"]]}],\"choropleth\":[{\"type\":\"choropleth\",\"colorbar\":{\"outlinewidth\":0,\"ticks\":\"\"}}],\"histogram2d\":[{\"type\":\"histogram2d\",\"colorbar\":{\"outlinewidth\":0,\"ticks\":\"\"},\"colorscale\":[[0.0,\"#0d0887\"],[0.1111111111111111,\"#46039f\"],[0.2222222222222222,\"#7201a8\"],[0.3333333333333333,\"#9c179e\"],[0.4444444444444444,\"#bd3786\"],[0.5555555555555556,\"#d8576b\"],[0.6666666666666666,\"#ed7953\"],[0.7777777777777778,\"#fb9f3a\"],[0.8888888888888888,\"#fdca26\"],[1.0,\"#f0f921\"]]}],\"heatmap\":[{\"type\":\"heatmap\",\"colorbar\":{\"outlinewidth\":0,\"ticks\":\"\"},\"colorscale\":[[0.0,\"#0d0887\"],[0.1111111111111111,\"#46039f\"],[0.2222222222222222,\"#7201a8\"],[0.3333333333333333,\"#9c179e\"],[0.4444444444444444,\"#bd3786\"],[0.5555555555555556,\"#d8576b\"],[0.6666666666666666,\"#ed7953\"],[0.7777777777777778,\"#fb9f3a\"],[0.8888888888888888,\"#fdca26\"],[1.0,\"#f0f921\"]]}],\"heatmapgl\":[{\"type\":\"heatmapgl\",\"colorbar\":{\"outlinewidth\":0,\"ticks\":\"\"},\"colorscale\":[[0.0,\"#0d0887\"],[0.1111111111111111,\"#46039f\"],[0.2222222222222222,\"#7201a8\"],[0.3333333333333333,\"#9c179e\"],[0.4444444444444444,\"#bd3786\"],[0.5555555555555556,\"#d8576b\"],[0.6666666666666666,\"#ed7953\"],[0.7777777777777778,\"#fb9f3a\"],[0.8888888888888888,\"#fdca26\"],[1.0,\"#f0f921\"]]}],\"contourcarpet\":[{\"type\":\"contourcarpet\",\"colorbar\":{\"outlinewidth\":0,\"ticks\":\"\"}}],\"contour\":[{\"type\":\"contour\",\"colorbar\":{\"outlinewidth\":0,\"ticks\":\"\"},\"colorscale\":[[0.0,\"#0d0887\"],[0.1111111111111111,\"#46039f\"],[0.2222222222222222,\"#7201a8\"],[0.3333333333333333,\"#9c179e\"],[0.4444444444444444,\"#bd3786\"],[0.5555555555555556,\"#d8576b\"],[0.6666666666666666,\"#ed7953\"],[0.7777777777777778,\"#fb9f3a\"],[0.8888888888888888,\"#fdca26\"],[1.0,\"#f0f921\"]]}],\"surface\":[{\"type\":\"surface\",\"colorbar\":{\"outlinewidth\":0,\"ticks\":\"\"},\"colorscale\":[[0.0,\"#0d0887\"],[0.1111111111111111,\"#46039f\"],[0.2222222222222222,\"#7201a8\"],[0.3333333333333333,\"#9c179e\"],[0.4444444444444444,\"#bd3786\"],[0.5555555555555556,\"#d8576b\"],[0.6666666666666666,\"#ed7953\"],[0.7777777777777778,\"#fb9f3a\"],[0.8888888888888888,\"#fdca26\"],[1.0,\"#f0f921\"]]}],\"mesh3d\":[{\"type\":\"mesh3d\",\"colorbar\":{\"outlinewidth\":0,\"ticks\":\"\"}}],\"scatter\":[{\"fillpattern\":{\"fillmode\":\"overlay\",\"size\":10,\"solidity\":0.2},\"type\":\"scatter\"}],\"parcoords\":[{\"type\":\"parcoords\",\"line\":{\"colorbar\":{\"outlinewidth\":0,\"ticks\":\"\"}}}],\"scatterpolargl\":[{\"type\":\"scatterpolargl\",\"marker\":{\"colorbar\":{\"outlinewidth\":0,\"ticks\":\"\"}}}],\"bar\":[{\"error_x\":{\"color\":\"#2a3f5f\"},\"error_y\":{\"color\":\"#2a3f5f\"},\"marker\":{\"line\":{\"color\":\"#E5ECF6\",\"width\":0.5},\"pattern\":{\"fillmode\":\"overlay\",\"size\":10,\"solidity\":0.2}},\"type\":\"bar\"}],\"scattergeo\":[{\"type\":\"scattergeo\",\"marker\":{\"colorbar\":{\"outlinewidth\":0,\"ticks\":\"\"}}}],\"scatterpolar\":[{\"type\":\"scatterpolar\",\"marker\":{\"colorbar\":{\"outlinewidth\":0,\"ticks\":\"\"}}}],\"histogram\":[{\"marker\":{\"pattern\":{\"fillmode\":\"overlay\",\"size\":10,\"solidity\":0.2}},\"type\":\"histogram\"}],\"scattergl\":[{\"type\":\"scattergl\",\"marker\":{\"colorbar\":{\"outlinewidth\":0,\"ticks\":\"\"}}}],\"scatter3d\":[{\"type\":\"scatter3d\",\"line\":{\"colorbar\":{\"outlinewidth\":0,\"ticks\":\"\"}},\"marker\":{\"colorbar\":{\"outlinewidth\":0,\"ticks\":\"\"}}}],\"scattermapbox\":[{\"type\":\"scattermapbox\",\"marker\":{\"colorbar\":{\"outlinewidth\":0,\"ticks\":\"\"}}}],\"scatterternary\":[{\"type\":\"scatterternary\",\"marker\":{\"colorbar\":{\"outlinewidth\":0,\"ticks\":\"\"}}}],\"scattercarpet\":[{\"type\":\"scattercarpet\",\"marker\":{\"colorbar\":{\"outlinewidth\":0,\"ticks\":\"\"}}}],\"carpet\":[{\"aaxis\":{\"endlinecolor\":\"#2a3f5f\",\"gridcolor\":\"white\",\"linecolor\":\"white\",\"minorgridcolor\":\"white\",\"startlinecolor\":\"#2a3f5f\"},\"baxis\":{\"endlinecolor\":\"#2a3f5f\",\"gridcolor\":\"white\",\"linecolor\":\"white\",\"minorgridcolor\":\"white\",\"startlinecolor\":\"#2a3f5f\"},\"type\":\"carpet\"}],\"table\":[{\"cells\":{\"fill\":{\"color\":\"#EBF0F8\"},\"line\":{\"color\":\"white\"}},\"header\":{\"fill\":{\"color\":\"#C8D4E3\"},\"line\":{\"color\":\"white\"}},\"type\":\"table\"}],\"barpolar\":[{\"marker\":{\"line\":{\"color\":\"#E5ECF6\",\"width\":0.5},\"pattern\":{\"fillmode\":\"overlay\",\"size\":10,\"solidity\":0.2}},\"type\":\"barpolar\"}],\"pie\":[{\"automargin\":true,\"type\":\"pie\"}]},\"layout\":{\"autotypenumbers\":\"strict\",\"colorway\":[\"#636efa\",\"#EF553B\",\"#00cc96\",\"#ab63fa\",\"#FFA15A\",\"#19d3f3\",\"#FF6692\",\"#B6E880\",\"#FF97FF\",\"#FECB52\"],\"font\":{\"color\":\"#2a3f5f\"},\"hovermode\":\"closest\",\"hoverlabel\":{\"align\":\"left\"},\"paper_bgcolor\":\"white\",\"plot_bgcolor\":\"#E5ECF6\",\"polar\":{\"bgcolor\":\"#E5ECF6\",\"angularaxis\":{\"gridcolor\":\"white\",\"linecolor\":\"white\",\"ticks\":\"\"},\"radialaxis\":{\"gridcolor\":\"white\",\"linecolor\":\"white\",\"ticks\":\"\"}},\"ternary\":{\"bgcolor\":\"#E5ECF6\",\"aaxis\":{\"gridcolor\":\"white\",\"linecolor\":\"white\",\"ticks\":\"\"},\"baxis\":{\"gridcolor\":\"white\",\"linecolor\":\"white\",\"ticks\":\"\"},\"caxis\":{\"gridcolor\":\"white\",\"linecolor\":\"white\",\"ticks\":\"\"}},\"coloraxis\":{\"colorbar\":{\"outlinewidth\":0,\"ticks\":\"\"}},\"colorscale\":{\"sequential\":[[0.0,\"#0d0887\"],[0.1111111111111111,\"#46039f\"],[0.2222222222222222,\"#7201a8\"],[0.3333333333333333,\"#9c179e\"],[0.4444444444444444,\"#bd3786\"],[0.5555555555555556,\"#d8576b\"],[0.6666666666666666,\"#ed7953\"],[0.7777777777777778,\"#fb9f3a\"],[0.8888888888888888,\"#fdca26\"],[1.0,\"#f0f921\"]],\"sequentialminus\":[[0.0,\"#0d0887\"],[0.1111111111111111,\"#46039f\"],[0.2222222222222222,\"#7201a8\"],[0.3333333333333333,\"#9c179e\"],[0.4444444444444444,\"#bd3786\"],[0.5555555555555556,\"#d8576b\"],[0.6666666666666666,\"#ed7953\"],[0.7777777777777778,\"#fb9f3a\"],[0.8888888888888888,\"#fdca26\"],[1.0,\"#f0f921\"]],\"diverging\":[[0,\"#8e0152\"],[0.1,\"#c51b7d\"],[0.2,\"#de77ae\"],[0.3,\"#f1b6da\"],[0.4,\"#fde0ef\"],[0.5,\"#f7f7f7\"],[0.6,\"#e6f5d0\"],[0.7,\"#b8e186\"],[0.8,\"#7fbc41\"],[0.9,\"#4d9221\"],[1,\"#276419\"]]},\"xaxis\":{\"gridcolor\":\"white\",\"linecolor\":\"white\",\"ticks\":\"\",\"title\":{\"standoff\":15},\"zerolinecolor\":\"white\",\"automargin\":true,\"zerolinewidth\":2},\"yaxis\":{\"gridcolor\":\"white\",\"linecolor\":\"white\",\"ticks\":\"\",\"title\":{\"standoff\":15},\"zerolinecolor\":\"white\",\"automargin\":true,\"zerolinewidth\":2},\"scene\":{\"xaxis\":{\"backgroundcolor\":\"#E5ECF6\",\"gridcolor\":\"white\",\"linecolor\":\"white\",\"showbackground\":true,\"ticks\":\"\",\"zerolinecolor\":\"white\",\"gridwidth\":2},\"yaxis\":{\"backgroundcolor\":\"#E5ECF6\",\"gridcolor\":\"white\",\"linecolor\":\"white\",\"showbackground\":true,\"ticks\":\"\",\"zerolinecolor\":\"white\",\"gridwidth\":2},\"zaxis\":{\"backgroundcolor\":\"#E5ECF6\",\"gridcolor\":\"white\",\"linecolor\":\"white\",\"showbackground\":true,\"ticks\":\"\",\"zerolinecolor\":\"white\",\"gridwidth\":2}},\"shapedefaults\":{\"line\":{\"color\":\"#2a3f5f\"}},\"annotationdefaults\":{\"arrowcolor\":\"#2a3f5f\",\"arrowhead\":0,\"arrowwidth\":1},\"geo\":{\"bgcolor\":\"white\",\"landcolor\":\"#E5ECF6\",\"subunitcolor\":\"white\",\"showland\":true,\"showlakes\":true,\"lakecolor\":\"white\"},\"title\":{\"x\":0.05},\"mapbox\":{\"style\":\"light\"}}},\"xaxis\":{\"anchor\":\"y\",\"domain\":[0.0,1.0],\"title\":{\"text\":\"Electric Utility\"},\"tickangle\":-45},\"yaxis\":{\"anchor\":\"x\",\"domain\":[0.0,1.0],\"title\":{\"text\":\"Vehicle Count\"}},\"legend\":{\"title\":{\"text\":\"Electric Vehicle Type\"},\"tracegroupgap\":0},\"title\":{\"text\":\"Electric Vehicle Distribution by Electric Utility\"},\"barmode\":\"group\"},                        {\"responsive\": true}                    ).then(function(){\n",
              "                            \n",
              "var gd = document.getElementById('47fe64dc-e879-44cb-b415-b2ab9757be9e');\n",
              "var x = new MutationObserver(function (mutations, observer) {{\n",
              "        var display = window.getComputedStyle(gd).display;\n",
              "        if (!display || display === 'none') {{\n",
              "            console.log([gd, 'removed!']);\n",
              "            Plotly.purge(gd);\n",
              "            observer.disconnect();\n",
              "        }}\n",
              "}});\n",
              "\n",
              "// Listen for the removal of the full notebook cells\n",
              "var notebookContainer = gd.closest('#notebook-container');\n",
              "if (notebookContainer) {{\n",
              "    x.observe(notebookContainer, {childList: true});\n",
              "}}\n",
              "\n",
              "// Listen for the clearing of the current output cell\n",
              "var outputEl = gd.closest('.output');\n",
              "if (outputEl) {{\n",
              "    x.observe(outputEl, {childList: true});\n",
              "}}\n",
              "\n",
              "                        })                };                            </script>        </div>\n",
              "</body>\n",
              "</html>"
            ]
          },
          "metadata": {}
        }
      ]
    },
    {
      "cell_type": "markdown",
      "metadata": {
        "id": "IwTlSoKhcJut"
      },
      "source": [
        " **6.Electric Vehicle Trends:**Explore trends in electric vehicle adoption over model years"
      ]
    },
    {
      "cell_type": "code",
      "execution_count": null,
      "metadata": {
        "id": "O46q-bX_ygdw"
      },
      "outputs": [],
      "source": [
        "del_cols= ['Longitude', 'latitude', 'Postal Code']\n",
        "df.drop(columns=del_cols, axis=1, inplace=True)"
      ]
    },
    {
      "cell_type": "code",
      "execution_count": null,
      "metadata": {
        "colab": {
          "base_uri": "https://localhost:8080/"
        },
        "id": "DrKUOyJpym-T",
        "outputId": "01ec0999-921b-4863-ee66-278db2003a7f"
      },
      "outputs": [
        {
          "output_type": "stream",
          "name": "stdout",
          "text": [
            "                      Model Year  Electric Range  Base MSRP  \\\n",
            "Model Year              1.000000       -0.397394  -0.252112   \n",
            "Electric Range         -0.397394        1.000000   0.111203   \n",
            "Base MSRP              -0.252112        0.111203   1.000000   \n",
            "Legislative District   -0.025547        0.046747   0.011837   \n",
            "DOL Vehicle ID          0.009504       -0.043192   0.008928   \n",
            "2020 Census Tract      -0.046558        0.012963   0.005350   \n",
            "\n",
            "                      Legislative District  DOL Vehicle ID  2020 Census Tract  \n",
            "Model Year                       -0.025547        0.009504          -0.046558  \n",
            "Electric Range                    0.046747       -0.043192           0.012963  \n",
            "Base MSRP                         0.011837        0.008928           0.005350  \n",
            "Legislative District              1.000000       -0.016993          -0.120060  \n",
            "DOL Vehicle ID                   -0.016993        1.000000           0.007908  \n",
            "2020 Census Tract                -0.120060        0.007908           1.000000  \n"
          ]
        }
      ],
      "source": [
        "#Finding the correation\n",
        "print(df.corr())"
      ]
    },
    {
      "cell_type": "code",
      "execution_count": null,
      "metadata": {
        "colab": {
          "base_uri": "https://localhost:8080/"
        },
        "id": "lxNCa_nXcBae",
        "outputId": "368a6c7f-265d-47fd-a78b-7ef2e7127ee0"
      },
      "outputs": [
        {
          "output_type": "stream",
          "name": "stdout",
          "text": [
            "Electric Vehicle Adoption Trend by Model Year:\n",
            "Model Year\n",
            "2008       1\n",
            "2010       4\n",
            "2011      56\n",
            "2012     118\n",
            "2013     343\n",
            "2014     280\n",
            "2015     365\n",
            "2016     395\n",
            "2017     603\n",
            "2018     995\n",
            "2019     769\n",
            "2020     882\n",
            "2021    1363\n",
            "2022    2121\n",
            "2023    1700\n",
            "2024       4\n",
            "Name: DOL Vehicle ID, dtype: int64\n"
          ]
        }
      ],
      "source": [
        "# Group the data by model years\n",
        "grouped_data = df.groupby('Model Year')\n",
        "\n",
        "#Calculate the count of electric vehicles for each model year\n",
        "ev_count_for_year = grouped_data['DOL Vehicle ID'].count()\n",
        "\n",
        "# Displaying the results\n",
        "print(\"Electric Vehicle Adoption Trend by Model Year:\")\n",
        "print(ev_count_for_year)"
      ]
    },
    {
      "cell_type": "code",
      "execution_count": null,
      "metadata": {
        "colab": {
          "base_uri": "https://localhost:8080/",
          "height": 542
        },
        "id": "4wir_Pr5ymgQ",
        "outputId": "21810ed9-ccd9-4dac-efe2-4975fe9262c6"
      },
      "outputs": [
        {
          "output_type": "display_data",
          "data": {
            "text/html": [
              "<html>\n",
              "<head><meta charset=\"utf-8\" /></head>\n",
              "<body>\n",
              "    <div>            <script src=\"https://cdnjs.cloudflare.com/ajax/libs/mathjax/2.7.5/MathJax.js?config=TeX-AMS-MML_SVG\"></script><script type=\"text/javascript\">if (window.MathJax && window.MathJax.Hub && window.MathJax.Hub.Config) {window.MathJax.Hub.Config({SVG: {font: \"STIX-Web\"}});}</script>                <script type=\"text/javascript\">window.PlotlyConfig = {MathJaxConfig: 'local'};</script>\n",
              "        <script src=\"https://cdn.plot.ly/plotly-2.18.2.min.js\"></script>                <div id=\"3a251f51-4ea7-4915-b13a-fee88210966c\" class=\"plotly-graph-div\" style=\"height:525px; width:100%;\"></div>            <script type=\"text/javascript\">                                    window.PLOTLYENV=window.PLOTLYENV || {};                                    if (document.getElementById(\"3a251f51-4ea7-4915-b13a-fee88210966c\")) {                    Plotly.newPlot(                        \"3a251f51-4ea7-4915-b13a-fee88210966c\",                        [{\"hovertemplate\":\"Model Year=%{x}<br>Number of Electric Vehicles=%{y}<extra></extra>\",\"legendgroup\":\"\",\"line\":{\"color\":\"#636efa\",\"dash\":\"solid\"},\"marker\":{\"symbol\":\"circle\"},\"mode\":\"lines\",\"name\":\"\",\"orientation\":\"v\",\"showlegend\":false,\"x\":[2008,2010,2011,2012,2013,2014,2015,2016,2017,2018,2019,2020,2021,2022,2023,2024],\"xaxis\":\"x\",\"y\":[1,4,56,118,343,280,365,395,603,995,769,882,1363,2121,1700,4],\"yaxis\":\"y\",\"type\":\"scatter\"}],                        {\"template\":{\"data\":{\"histogram2dcontour\":[{\"type\":\"histogram2dcontour\",\"colorbar\":{\"outlinewidth\":0,\"ticks\":\"\"},\"colorscale\":[[0.0,\"#0d0887\"],[0.1111111111111111,\"#46039f\"],[0.2222222222222222,\"#7201a8\"],[0.3333333333333333,\"#9c179e\"],[0.4444444444444444,\"#bd3786\"],[0.5555555555555556,\"#d8576b\"],[0.6666666666666666,\"#ed7953\"],[0.7777777777777778,\"#fb9f3a\"],[0.8888888888888888,\"#fdca26\"],[1.0,\"#f0f921\"]]}],\"choropleth\":[{\"type\":\"choropleth\",\"colorbar\":{\"outlinewidth\":0,\"ticks\":\"\"}}],\"histogram2d\":[{\"type\":\"histogram2d\",\"colorbar\":{\"outlinewidth\":0,\"ticks\":\"\"},\"colorscale\":[[0.0,\"#0d0887\"],[0.1111111111111111,\"#46039f\"],[0.2222222222222222,\"#7201a8\"],[0.3333333333333333,\"#9c179e\"],[0.4444444444444444,\"#bd3786\"],[0.5555555555555556,\"#d8576b\"],[0.6666666666666666,\"#ed7953\"],[0.7777777777777778,\"#fb9f3a\"],[0.8888888888888888,\"#fdca26\"],[1.0,\"#f0f921\"]]}],\"heatmap\":[{\"type\":\"heatmap\",\"colorbar\":{\"outlinewidth\":0,\"ticks\":\"\"},\"colorscale\":[[0.0,\"#0d0887\"],[0.1111111111111111,\"#46039f\"],[0.2222222222222222,\"#7201a8\"],[0.3333333333333333,\"#9c179e\"],[0.4444444444444444,\"#bd3786\"],[0.5555555555555556,\"#d8576b\"],[0.6666666666666666,\"#ed7953\"],[0.7777777777777778,\"#fb9f3a\"],[0.8888888888888888,\"#fdca26\"],[1.0,\"#f0f921\"]]}],\"heatmapgl\":[{\"type\":\"heatmapgl\",\"colorbar\":{\"outlinewidth\":0,\"ticks\":\"\"},\"colorscale\":[[0.0,\"#0d0887\"],[0.1111111111111111,\"#46039f\"],[0.2222222222222222,\"#7201a8\"],[0.3333333333333333,\"#9c179e\"],[0.4444444444444444,\"#bd3786\"],[0.5555555555555556,\"#d8576b\"],[0.6666666666666666,\"#ed7953\"],[0.7777777777777778,\"#fb9f3a\"],[0.8888888888888888,\"#fdca26\"],[1.0,\"#f0f921\"]]}],\"contourcarpet\":[{\"type\":\"contourcarpet\",\"colorbar\":{\"outlinewidth\":0,\"ticks\":\"\"}}],\"contour\":[{\"type\":\"contour\",\"colorbar\":{\"outlinewidth\":0,\"ticks\":\"\"},\"colorscale\":[[0.0,\"#0d0887\"],[0.1111111111111111,\"#46039f\"],[0.2222222222222222,\"#7201a8\"],[0.3333333333333333,\"#9c179e\"],[0.4444444444444444,\"#bd3786\"],[0.5555555555555556,\"#d8576b\"],[0.6666666666666666,\"#ed7953\"],[0.7777777777777778,\"#fb9f3a\"],[0.8888888888888888,\"#fdca26\"],[1.0,\"#f0f921\"]]}],\"surface\":[{\"type\":\"surface\",\"colorbar\":{\"outlinewidth\":0,\"ticks\":\"\"},\"colorscale\":[[0.0,\"#0d0887\"],[0.1111111111111111,\"#46039f\"],[0.2222222222222222,\"#7201a8\"],[0.3333333333333333,\"#9c179e\"],[0.4444444444444444,\"#bd3786\"],[0.5555555555555556,\"#d8576b\"],[0.6666666666666666,\"#ed7953\"],[0.7777777777777778,\"#fb9f3a\"],[0.8888888888888888,\"#fdca26\"],[1.0,\"#f0f921\"]]}],\"mesh3d\":[{\"type\":\"mesh3d\",\"colorbar\":{\"outlinewidth\":0,\"ticks\":\"\"}}],\"scatter\":[{\"fillpattern\":{\"fillmode\":\"overlay\",\"size\":10,\"solidity\":0.2},\"type\":\"scatter\"}],\"parcoords\":[{\"type\":\"parcoords\",\"line\":{\"colorbar\":{\"outlinewidth\":0,\"ticks\":\"\"}}}],\"scatterpolargl\":[{\"type\":\"scatterpolargl\",\"marker\":{\"colorbar\":{\"outlinewidth\":0,\"ticks\":\"\"}}}],\"bar\":[{\"error_x\":{\"color\":\"#2a3f5f\"},\"error_y\":{\"color\":\"#2a3f5f\"},\"marker\":{\"line\":{\"color\":\"#E5ECF6\",\"width\":0.5},\"pattern\":{\"fillmode\":\"overlay\",\"size\":10,\"solidity\":0.2}},\"type\":\"bar\"}],\"scattergeo\":[{\"type\":\"scattergeo\",\"marker\":{\"colorbar\":{\"outlinewidth\":0,\"ticks\":\"\"}}}],\"scatterpolar\":[{\"type\":\"scatterpolar\",\"marker\":{\"colorbar\":{\"outlinewidth\":0,\"ticks\":\"\"}}}],\"histogram\":[{\"marker\":{\"pattern\":{\"fillmode\":\"overlay\",\"size\":10,\"solidity\":0.2}},\"type\":\"histogram\"}],\"scattergl\":[{\"type\":\"scattergl\",\"marker\":{\"colorbar\":{\"outlinewidth\":0,\"ticks\":\"\"}}}],\"scatter3d\":[{\"type\":\"scatter3d\",\"line\":{\"colorbar\":{\"outlinewidth\":0,\"ticks\":\"\"}},\"marker\":{\"colorbar\":{\"outlinewidth\":0,\"ticks\":\"\"}}}],\"scattermapbox\":[{\"type\":\"scattermapbox\",\"marker\":{\"colorbar\":{\"outlinewidth\":0,\"ticks\":\"\"}}}],\"scatterternary\":[{\"type\":\"scatterternary\",\"marker\":{\"colorbar\":{\"outlinewidth\":0,\"ticks\":\"\"}}}],\"scattercarpet\":[{\"type\":\"scattercarpet\",\"marker\":{\"colorbar\":{\"outlinewidth\":0,\"ticks\":\"\"}}}],\"carpet\":[{\"aaxis\":{\"endlinecolor\":\"#2a3f5f\",\"gridcolor\":\"white\",\"linecolor\":\"white\",\"minorgridcolor\":\"white\",\"startlinecolor\":\"#2a3f5f\"},\"baxis\":{\"endlinecolor\":\"#2a3f5f\",\"gridcolor\":\"white\",\"linecolor\":\"white\",\"minorgridcolor\":\"white\",\"startlinecolor\":\"#2a3f5f\"},\"type\":\"carpet\"}],\"table\":[{\"cells\":{\"fill\":{\"color\":\"#EBF0F8\"},\"line\":{\"color\":\"white\"}},\"header\":{\"fill\":{\"color\":\"#C8D4E3\"},\"line\":{\"color\":\"white\"}},\"type\":\"table\"}],\"barpolar\":[{\"marker\":{\"line\":{\"color\":\"#E5ECF6\",\"width\":0.5},\"pattern\":{\"fillmode\":\"overlay\",\"size\":10,\"solidity\":0.2}},\"type\":\"barpolar\"}],\"pie\":[{\"automargin\":true,\"type\":\"pie\"}]},\"layout\":{\"autotypenumbers\":\"strict\",\"colorway\":[\"#636efa\",\"#EF553B\",\"#00cc96\",\"#ab63fa\",\"#FFA15A\",\"#19d3f3\",\"#FF6692\",\"#B6E880\",\"#FF97FF\",\"#FECB52\"],\"font\":{\"color\":\"#2a3f5f\"},\"hovermode\":\"closest\",\"hoverlabel\":{\"align\":\"left\"},\"paper_bgcolor\":\"white\",\"plot_bgcolor\":\"#E5ECF6\",\"polar\":{\"bgcolor\":\"#E5ECF6\",\"angularaxis\":{\"gridcolor\":\"white\",\"linecolor\":\"white\",\"ticks\":\"\"},\"radialaxis\":{\"gridcolor\":\"white\",\"linecolor\":\"white\",\"ticks\":\"\"}},\"ternary\":{\"bgcolor\":\"#E5ECF6\",\"aaxis\":{\"gridcolor\":\"white\",\"linecolor\":\"white\",\"ticks\":\"\"},\"baxis\":{\"gridcolor\":\"white\",\"linecolor\":\"white\",\"ticks\":\"\"},\"caxis\":{\"gridcolor\":\"white\",\"linecolor\":\"white\",\"ticks\":\"\"}},\"coloraxis\":{\"colorbar\":{\"outlinewidth\":0,\"ticks\":\"\"}},\"colorscale\":{\"sequential\":[[0.0,\"#0d0887\"],[0.1111111111111111,\"#46039f\"],[0.2222222222222222,\"#7201a8\"],[0.3333333333333333,\"#9c179e\"],[0.4444444444444444,\"#bd3786\"],[0.5555555555555556,\"#d8576b\"],[0.6666666666666666,\"#ed7953\"],[0.7777777777777778,\"#fb9f3a\"],[0.8888888888888888,\"#fdca26\"],[1.0,\"#f0f921\"]],\"sequentialminus\":[[0.0,\"#0d0887\"],[0.1111111111111111,\"#46039f\"],[0.2222222222222222,\"#7201a8\"],[0.3333333333333333,\"#9c179e\"],[0.4444444444444444,\"#bd3786\"],[0.5555555555555556,\"#d8576b\"],[0.6666666666666666,\"#ed7953\"],[0.7777777777777778,\"#fb9f3a\"],[0.8888888888888888,\"#fdca26\"],[1.0,\"#f0f921\"]],\"diverging\":[[0,\"#8e0152\"],[0.1,\"#c51b7d\"],[0.2,\"#de77ae\"],[0.3,\"#f1b6da\"],[0.4,\"#fde0ef\"],[0.5,\"#f7f7f7\"],[0.6,\"#e6f5d0\"],[0.7,\"#b8e186\"],[0.8,\"#7fbc41\"],[0.9,\"#4d9221\"],[1,\"#276419\"]]},\"xaxis\":{\"gridcolor\":\"white\",\"linecolor\":\"white\",\"ticks\":\"\",\"title\":{\"standoff\":15},\"zerolinecolor\":\"white\",\"automargin\":true,\"zerolinewidth\":2},\"yaxis\":{\"gridcolor\":\"white\",\"linecolor\":\"white\",\"ticks\":\"\",\"title\":{\"standoff\":15},\"zerolinecolor\":\"white\",\"automargin\":true,\"zerolinewidth\":2},\"scene\":{\"xaxis\":{\"backgroundcolor\":\"#E5ECF6\",\"gridcolor\":\"white\",\"linecolor\":\"white\",\"showbackground\":true,\"ticks\":\"\",\"zerolinecolor\":\"white\",\"gridwidth\":2},\"yaxis\":{\"backgroundcolor\":\"#E5ECF6\",\"gridcolor\":\"white\",\"linecolor\":\"white\",\"showbackground\":true,\"ticks\":\"\",\"zerolinecolor\":\"white\",\"gridwidth\":2},\"zaxis\":{\"backgroundcolor\":\"#E5ECF6\",\"gridcolor\":\"white\",\"linecolor\":\"white\",\"showbackground\":true,\"ticks\":\"\",\"zerolinecolor\":\"white\",\"gridwidth\":2}},\"shapedefaults\":{\"line\":{\"color\":\"#2a3f5f\"}},\"annotationdefaults\":{\"arrowcolor\":\"#2a3f5f\",\"arrowhead\":0,\"arrowwidth\":1},\"geo\":{\"bgcolor\":\"white\",\"landcolor\":\"#E5ECF6\",\"subunitcolor\":\"white\",\"showland\":true,\"showlakes\":true,\"lakecolor\":\"white\"},\"title\":{\"x\":0.05},\"mapbox\":{\"style\":\"light\"}}},\"xaxis\":{\"anchor\":\"y\",\"domain\":[0.0,1.0],\"title\":{\"text\":\"Model Year\"},\"tickangle\":45},\"yaxis\":{\"anchor\":\"x\",\"domain\":[0.0,1.0],\"title\":{\"text\":\"Number of Electric Vehicles\"}},\"legend\":{\"tracegroupgap\":0},\"title\":{\"text\":\"Electric Vehicle Adoption Trends over Model Years\"}},                        {\"responsive\": true}                    ).then(function(){\n",
              "                            \n",
              "var gd = document.getElementById('3a251f51-4ea7-4915-b13a-fee88210966c');\n",
              "var x = new MutationObserver(function (mutations, observer) {{\n",
              "        var display = window.getComputedStyle(gd).display;\n",
              "        if (!display || display === 'none') {{\n",
              "            console.log([gd, 'removed!']);\n",
              "            Plotly.purge(gd);\n",
              "            observer.disconnect();\n",
              "        }}\n",
              "}});\n",
              "\n",
              "// Listen for the removal of the full notebook cells\n",
              "var notebookContainer = gd.closest('#notebook-container');\n",
              "if (notebookContainer) {{\n",
              "    x.observe(notebookContainer, {childList: true});\n",
              "}}\n",
              "\n",
              "// Listen for the clearing of the current output cell\n",
              "var outputEl = gd.closest('.output');\n",
              "if (outputEl) {{\n",
              "    x.observe(outputEl, {childList: true});\n",
              "}}\n",
              "\n",
              "                        })                };                            </script>        </div>\n",
              "</body>\n",
              "</html>"
            ]
          },
          "metadata": {}
        }
      ],
      "source": [
        "import plotly.express as px\n",
        "# Grouping the data by model years and calculate the count of electric vehicles for each year\n",
        "ev_counts_by_year = df.groupby('Model Year').size().reset_index(name='Count')\n",
        "\n",
        "# Creating a line plot using Plotly Express to visualize the trends in electric vehicle adoption over model years\n",
        "fig = px.line(ev_counts_by_year, x='Model Year', y='Count',\n",
        "              title='Electric Vehicle Adoption Trends over Model Years',\n",
        "              labels={'Model Year': 'Model Year', 'Count': 'Number of Electric Vehicles'})\n",
        "fig.update_xaxes(tickangle=45)\n",
        "\n",
        "# Show the interactive plot\n",
        "fig.show()\n"
      ]
    },
    {
      "cell_type": "markdown",
      "source": [
        " groups the data by model years, calculates the count of electric vehicles for each year, and displays the adoption trend, offering insights into the temporal evolution of electric vehicle popularity.\""
      ],
      "metadata": {
        "id": "I0sU7YeazCF0"
      }
    },
    {
      "cell_type": "markdown",
      "metadata": {
        "id": "pO61c4Uncc_R"
      },
      "source": [
        "**8.Electric Vehicle Market Analysis:**Understand the market share of different electric vehicle\n",
        "makes and models."
      ]
    },
    {
      "cell_type": "code",
      "execution_count": null,
      "metadata": {
        "colab": {
          "base_uri": "https://localhost:8080/",
          "height": 417
        },
        "id": "qZ2wPHvE0sOu",
        "outputId": "ffed2ca8-d761-475d-cf3a-a181b41c20c3"
      },
      "outputs": [
        {
          "output_type": "display_data",
          "data": {
            "text/html": [
              "<html>\n",
              "<head><meta charset=\"utf-8\" /></head>\n",
              "<body>\n",
              "    <div>            <script src=\"https://cdnjs.cloudflare.com/ajax/libs/mathjax/2.7.5/MathJax.js?config=TeX-AMS-MML_SVG\"></script><script type=\"text/javascript\">if (window.MathJax && window.MathJax.Hub && window.MathJax.Hub.Config) {window.MathJax.Hub.Config({SVG: {font: \"STIX-Web\"}});}</script>                <script type=\"text/javascript\">window.PlotlyConfig = {MathJaxConfig: 'local'};</script>\n",
              "        <script src=\"https://cdn.plot.ly/plotly-2.18.2.min.js\"></script>                <div id=\"e2129300-c288-4cb2-b7ff-ced773cbacfd\" class=\"plotly-graph-div\" style=\"height:400px; width:800px;\"></div>            <script type=\"text/javascript\">                                    window.PLOTLYENV=window.PLOTLYENV || {};                                    if (document.getElementById(\"e2129300-c288-4cb2-b7ff-ced773cbacfd\")) {                    Plotly.newPlot(                        \"e2129300-c288-4cb2-b7ff-ced773cbacfd\",                        [{\"alignmentgroup\":\"True\",\"hovertemplate\":\"Electric Vehicle Make=%{x}<br>Market Share (%)=%{y}<extra></extra>\",\"legendgroup\":\"\",\"marker\":{\"color\":\"#636efa\",\"pattern\":{\"shape\":\"\"}},\"name\":\"\",\"offsetgroup\":\"\",\"orientation\":\"v\",\"showlegend\":false,\"textposition\":\"auto\",\"x\":[\"TESLA\",\"NISSAN\",\"CHEVROLET\",\"FORD\",\"BMW\",\"KIA\",\"TOYOTA\",\"VOLVO\",\"VOLKSWAGEN\",\"JEEP\",\"AUDI\",\"CHRYSLER\",\"HYUNDAI\",\"RIVIAN\",\"FIAT\",\"PORSCHE\",\"MINI\",\"HONDA\",\"POLESTAR\",\"MERCEDES-BENZ\",\"MITSUBISHI\",\"SUBARU\",\"SMART\",\"JAGUAR\",\"LINCOLN\",\"LUCID\",\"LEXUS\",\"GENESIS\",\"CADILLAC\",\"MAZDA\",\"BENTLEY\",\"FISKER\",\"WHEEGO ELECTRIC CARS\"],\"xaxis\":\"x\",\"y\":[47.31473147314731,9.860986098609862,8.150815081508151,4.51045104510451,4.33043304330433,3.87038703870387,3.4203420342034203,2.4402440244024404,2.36023602360236,2.24022402240224,2.0202020202020203,1.9201920192019204,1.69016901690169,1.2301230123012301,0.6100610061006101,0.58005800580058,0.53005300530053,0.5200520052005201,0.51005100510051,0.49004900490049,0.44004400440044,0.21002100210021002,0.15001500150015,0.14001400140014,0.1000100010001,0.09000900090009001,0.09000900090009001,0.07000700070007,0.06000600060006001,0.020002000200020003,0.010001000100010001,0.010001000100010001,0.010001000100010001],\"yaxis\":\"y\",\"type\":\"bar\"}],                        {\"template\":{\"data\":{\"histogram2dcontour\":[{\"type\":\"histogram2dcontour\",\"colorbar\":{\"outlinewidth\":0,\"ticks\":\"\"},\"colorscale\":[[0.0,\"#0d0887\"],[0.1111111111111111,\"#46039f\"],[0.2222222222222222,\"#7201a8\"],[0.3333333333333333,\"#9c179e\"],[0.4444444444444444,\"#bd3786\"],[0.5555555555555556,\"#d8576b\"],[0.6666666666666666,\"#ed7953\"],[0.7777777777777778,\"#fb9f3a\"],[0.8888888888888888,\"#fdca26\"],[1.0,\"#f0f921\"]]}],\"choropleth\":[{\"type\":\"choropleth\",\"colorbar\":{\"outlinewidth\":0,\"ticks\":\"\"}}],\"histogram2d\":[{\"type\":\"histogram2d\",\"colorbar\":{\"outlinewidth\":0,\"ticks\":\"\"},\"colorscale\":[[0.0,\"#0d0887\"],[0.1111111111111111,\"#46039f\"],[0.2222222222222222,\"#7201a8\"],[0.3333333333333333,\"#9c179e\"],[0.4444444444444444,\"#bd3786\"],[0.5555555555555556,\"#d8576b\"],[0.6666666666666666,\"#ed7953\"],[0.7777777777777778,\"#fb9f3a\"],[0.8888888888888888,\"#fdca26\"],[1.0,\"#f0f921\"]]}],\"heatmap\":[{\"type\":\"heatmap\",\"colorbar\":{\"outlinewidth\":0,\"ticks\":\"\"},\"colorscale\":[[0.0,\"#0d0887\"],[0.1111111111111111,\"#46039f\"],[0.2222222222222222,\"#7201a8\"],[0.3333333333333333,\"#9c179e\"],[0.4444444444444444,\"#bd3786\"],[0.5555555555555556,\"#d8576b\"],[0.6666666666666666,\"#ed7953\"],[0.7777777777777778,\"#fb9f3a\"],[0.8888888888888888,\"#fdca26\"],[1.0,\"#f0f921\"]]}],\"heatmapgl\":[{\"type\":\"heatmapgl\",\"colorbar\":{\"outlinewidth\":0,\"ticks\":\"\"},\"colorscale\":[[0.0,\"#0d0887\"],[0.1111111111111111,\"#46039f\"],[0.2222222222222222,\"#7201a8\"],[0.3333333333333333,\"#9c179e\"],[0.4444444444444444,\"#bd3786\"],[0.5555555555555556,\"#d8576b\"],[0.6666666666666666,\"#ed7953\"],[0.7777777777777778,\"#fb9f3a\"],[0.8888888888888888,\"#fdca26\"],[1.0,\"#f0f921\"]]}],\"contourcarpet\":[{\"type\":\"contourcarpet\",\"colorbar\":{\"outlinewidth\":0,\"ticks\":\"\"}}],\"contour\":[{\"type\":\"contour\",\"colorbar\":{\"outlinewidth\":0,\"ticks\":\"\"},\"colorscale\":[[0.0,\"#0d0887\"],[0.1111111111111111,\"#46039f\"],[0.2222222222222222,\"#7201a8\"],[0.3333333333333333,\"#9c179e\"],[0.4444444444444444,\"#bd3786\"],[0.5555555555555556,\"#d8576b\"],[0.6666666666666666,\"#ed7953\"],[0.7777777777777778,\"#fb9f3a\"],[0.8888888888888888,\"#fdca26\"],[1.0,\"#f0f921\"]]}],\"surface\":[{\"type\":\"surface\",\"colorbar\":{\"outlinewidth\":0,\"ticks\":\"\"},\"colorscale\":[[0.0,\"#0d0887\"],[0.1111111111111111,\"#46039f\"],[0.2222222222222222,\"#7201a8\"],[0.3333333333333333,\"#9c179e\"],[0.4444444444444444,\"#bd3786\"],[0.5555555555555556,\"#d8576b\"],[0.6666666666666666,\"#ed7953\"],[0.7777777777777778,\"#fb9f3a\"],[0.8888888888888888,\"#fdca26\"],[1.0,\"#f0f921\"]]}],\"mesh3d\":[{\"type\":\"mesh3d\",\"colorbar\":{\"outlinewidth\":0,\"ticks\":\"\"}}],\"scatter\":[{\"fillpattern\":{\"fillmode\":\"overlay\",\"size\":10,\"solidity\":0.2},\"type\":\"scatter\"}],\"parcoords\":[{\"type\":\"parcoords\",\"line\":{\"colorbar\":{\"outlinewidth\":0,\"ticks\":\"\"}}}],\"scatterpolargl\":[{\"type\":\"scatterpolargl\",\"marker\":{\"colorbar\":{\"outlinewidth\":0,\"ticks\":\"\"}}}],\"bar\":[{\"error_x\":{\"color\":\"#2a3f5f\"},\"error_y\":{\"color\":\"#2a3f5f\"},\"marker\":{\"line\":{\"color\":\"#E5ECF6\",\"width\":0.5},\"pattern\":{\"fillmode\":\"overlay\",\"size\":10,\"solidity\":0.2}},\"type\":\"bar\"}],\"scattergeo\":[{\"type\":\"scattergeo\",\"marker\":{\"colorbar\":{\"outlinewidth\":0,\"ticks\":\"\"}}}],\"scatterpolar\":[{\"type\":\"scatterpolar\",\"marker\":{\"colorbar\":{\"outlinewidth\":0,\"ticks\":\"\"}}}],\"histogram\":[{\"marker\":{\"pattern\":{\"fillmode\":\"overlay\",\"size\":10,\"solidity\":0.2}},\"type\":\"histogram\"}],\"scattergl\":[{\"type\":\"scattergl\",\"marker\":{\"colorbar\":{\"outlinewidth\":0,\"ticks\":\"\"}}}],\"scatter3d\":[{\"type\":\"scatter3d\",\"line\":{\"colorbar\":{\"outlinewidth\":0,\"ticks\":\"\"}},\"marker\":{\"colorbar\":{\"outlinewidth\":0,\"ticks\":\"\"}}}],\"scattermapbox\":[{\"type\":\"scattermapbox\",\"marker\":{\"colorbar\":{\"outlinewidth\":0,\"ticks\":\"\"}}}],\"scatterternary\":[{\"type\":\"scatterternary\",\"marker\":{\"colorbar\":{\"outlinewidth\":0,\"ticks\":\"\"}}}],\"scattercarpet\":[{\"type\":\"scattercarpet\",\"marker\":{\"colorbar\":{\"outlinewidth\":0,\"ticks\":\"\"}}}],\"carpet\":[{\"aaxis\":{\"endlinecolor\":\"#2a3f5f\",\"gridcolor\":\"white\",\"linecolor\":\"white\",\"minorgridcolor\":\"white\",\"startlinecolor\":\"#2a3f5f\"},\"baxis\":{\"endlinecolor\":\"#2a3f5f\",\"gridcolor\":\"white\",\"linecolor\":\"white\",\"minorgridcolor\":\"white\",\"startlinecolor\":\"#2a3f5f\"},\"type\":\"carpet\"}],\"table\":[{\"cells\":{\"fill\":{\"color\":\"#EBF0F8\"},\"line\":{\"color\":\"white\"}},\"header\":{\"fill\":{\"color\":\"#C8D4E3\"},\"line\":{\"color\":\"white\"}},\"type\":\"table\"}],\"barpolar\":[{\"marker\":{\"line\":{\"color\":\"#E5ECF6\",\"width\":0.5},\"pattern\":{\"fillmode\":\"overlay\",\"size\":10,\"solidity\":0.2}},\"type\":\"barpolar\"}],\"pie\":[{\"automargin\":true,\"type\":\"pie\"}]},\"layout\":{\"autotypenumbers\":\"strict\",\"colorway\":[\"#636efa\",\"#EF553B\",\"#00cc96\",\"#ab63fa\",\"#FFA15A\",\"#19d3f3\",\"#FF6692\",\"#B6E880\",\"#FF97FF\",\"#FECB52\"],\"font\":{\"color\":\"#2a3f5f\"},\"hovermode\":\"closest\",\"hoverlabel\":{\"align\":\"left\"},\"paper_bgcolor\":\"white\",\"plot_bgcolor\":\"#E5ECF6\",\"polar\":{\"bgcolor\":\"#E5ECF6\",\"angularaxis\":{\"gridcolor\":\"white\",\"linecolor\":\"white\",\"ticks\":\"\"},\"radialaxis\":{\"gridcolor\":\"white\",\"linecolor\":\"white\",\"ticks\":\"\"}},\"ternary\":{\"bgcolor\":\"#E5ECF6\",\"aaxis\":{\"gridcolor\":\"white\",\"linecolor\":\"white\",\"ticks\":\"\"},\"baxis\":{\"gridcolor\":\"white\",\"linecolor\":\"white\",\"ticks\":\"\"},\"caxis\":{\"gridcolor\":\"white\",\"linecolor\":\"white\",\"ticks\":\"\"}},\"coloraxis\":{\"colorbar\":{\"outlinewidth\":0,\"ticks\":\"\"}},\"colorscale\":{\"sequential\":[[0.0,\"#0d0887\"],[0.1111111111111111,\"#46039f\"],[0.2222222222222222,\"#7201a8\"],[0.3333333333333333,\"#9c179e\"],[0.4444444444444444,\"#bd3786\"],[0.5555555555555556,\"#d8576b\"],[0.6666666666666666,\"#ed7953\"],[0.7777777777777778,\"#fb9f3a\"],[0.8888888888888888,\"#fdca26\"],[1.0,\"#f0f921\"]],\"sequentialminus\":[[0.0,\"#0d0887\"],[0.1111111111111111,\"#46039f\"],[0.2222222222222222,\"#7201a8\"],[0.3333333333333333,\"#9c179e\"],[0.4444444444444444,\"#bd3786\"],[0.5555555555555556,\"#d8576b\"],[0.6666666666666666,\"#ed7953\"],[0.7777777777777778,\"#fb9f3a\"],[0.8888888888888888,\"#fdca26\"],[1.0,\"#f0f921\"]],\"diverging\":[[0,\"#8e0152\"],[0.1,\"#c51b7d\"],[0.2,\"#de77ae\"],[0.3,\"#f1b6da\"],[0.4,\"#fde0ef\"],[0.5,\"#f7f7f7\"],[0.6,\"#e6f5d0\"],[0.7,\"#b8e186\"],[0.8,\"#7fbc41\"],[0.9,\"#4d9221\"],[1,\"#276419\"]]},\"xaxis\":{\"gridcolor\":\"white\",\"linecolor\":\"white\",\"ticks\":\"\",\"title\":{\"standoff\":15},\"zerolinecolor\":\"white\",\"automargin\":true,\"zerolinewidth\":2},\"yaxis\":{\"gridcolor\":\"white\",\"linecolor\":\"white\",\"ticks\":\"\",\"title\":{\"standoff\":15},\"zerolinecolor\":\"white\",\"automargin\":true,\"zerolinewidth\":2},\"scene\":{\"xaxis\":{\"backgroundcolor\":\"#E5ECF6\",\"gridcolor\":\"white\",\"linecolor\":\"white\",\"showbackground\":true,\"ticks\":\"\",\"zerolinecolor\":\"white\",\"gridwidth\":2},\"yaxis\":{\"backgroundcolor\":\"#E5ECF6\",\"gridcolor\":\"white\",\"linecolor\":\"white\",\"showbackground\":true,\"ticks\":\"\",\"zerolinecolor\":\"white\",\"gridwidth\":2},\"zaxis\":{\"backgroundcolor\":\"#E5ECF6\",\"gridcolor\":\"white\",\"linecolor\":\"white\",\"showbackground\":true,\"ticks\":\"\",\"zerolinecolor\":\"white\",\"gridwidth\":2}},\"shapedefaults\":{\"line\":{\"color\":\"#2a3f5f\"}},\"annotationdefaults\":{\"arrowcolor\":\"#2a3f5f\",\"arrowhead\":0,\"arrowwidth\":1},\"geo\":{\"bgcolor\":\"white\",\"landcolor\":\"#E5ECF6\",\"subunitcolor\":\"white\",\"showland\":true,\"showlakes\":true,\"lakecolor\":\"white\"},\"title\":{\"x\":0.05},\"mapbox\":{\"style\":\"light\"}}},\"xaxis\":{\"anchor\":\"y\",\"domain\":[0.0,1.0],\"title\":{\"text\":\"Electric Vehicle Make\"},\"tickangle\":45},\"yaxis\":{\"anchor\":\"x\",\"domain\":[0.0,1.0],\"title\":{\"text\":\"Market Share (%)\"}},\"legend\":{\"tracegroupgap\":0},\"title\":{\"text\":\"Market Share of Electric Vehicle Makes\"},\"barmode\":\"relative\",\"height\":400,\"width\":800},                        {\"responsive\": true}                    ).then(function(){\n",
              "                            \n",
              "var gd = document.getElementById('e2129300-c288-4cb2-b7ff-ced773cbacfd');\n",
              "var x = new MutationObserver(function (mutations, observer) {{\n",
              "        var display = window.getComputedStyle(gd).display;\n",
              "        if (!display || display === 'none') {{\n",
              "            console.log([gd, 'removed!']);\n",
              "            Plotly.purge(gd);\n",
              "            observer.disconnect();\n",
              "        }}\n",
              "}});\n",
              "\n",
              "// Listen for the removal of the full notebook cells\n",
              "var notebookContainer = gd.closest('#notebook-container');\n",
              "if (notebookContainer) {{\n",
              "    x.observe(notebookContainer, {childList: true});\n",
              "}}\n",
              "\n",
              "// Listen for the clearing of the current output cell\n",
              "var outputEl = gd.closest('.output');\n",
              "if (outputEl) {{\n",
              "    x.observe(outputEl, {childList: true});\n",
              "}}\n",
              "\n",
              "                        })                };                            </script>        </div>\n",
              "</body>\n",
              "</html>"
            ]
          },
          "metadata": {}
        }
      ],
      "source": [
        "# Grouping the data by electric vehicle makes and calculate the count for each make\n",
        "make_counts = df.groupby('Make').size().reset_index(name='Count')\n",
        "\n",
        "# Calculate the total count of electric vehicles\n",
        "total_count = len(df)\n",
        "\n",
        "# Calculate the market share for each make\n",
        "make_counts['Market_Share'] = (make_counts['Count'] / total_count) * 100\n",
        "\n",
        "# Sort the data by market share in descending order\n",
        "make_counts.sort_values(by='Market_Share', ascending=False, inplace=True)\n",
        "\n",
        "# Create a bar plot using Plotly Express to visualize the market share of different electric vehicle makes\n",
        "fig = px.bar(make_counts, x='Make', y='Market_Share',\n",
        "             title='Market Share of Electric Vehicle Makes',\n",
        "             labels={'Make': 'Electric Vehicle Make', 'Market_Share': 'Market Share (%)'},\n",
        "             width=800, height=400)\n",
        "fig.update_xaxes(tickangle=45)\n",
        "\n",
        "# Show the interactive plot\n",
        "fig.show()\n"
      ]
    },
    {
      "cell_type": "markdown",
      "source": [
        "The above plot visualizes the market share of different electric vehicle makes, demonstrating their relative popularity and prominence in the electric vehicle market through a sorted bar plot.\""
      ],
      "metadata": {
        "id": "WGgPXdTfz5RC"
      }
    },
    {
      "cell_type": "code",
      "execution_count": null,
      "metadata": {
        "colab": {
          "base_uri": "https://localhost:8080/"
        },
        "id": "qyyXIQyuzRFV",
        "outputId": "2806cd14-31fa-46df-f2e5-ef9ca5235423"
      },
      "outputs": [
        {
          "output_type": "stream",
          "name": "stdout",
          "text": [
            "                    Make  Count  Market_Share\n",
            "28                 TESLA   4731     47.314731\n",
            "22                NISSAN    986      9.860986\n",
            "4              CHEVROLET    815      8.150815\n",
            "8                   FORD    451      4.510451\n",
            "2                    BMW    433      4.330433\n",
            "14                   KIA    387      3.870387\n",
            "29                TOYOTA    342      3.420342\n",
            "31                 VOLVO    244      2.440244\n",
            "30            VOLKSWAGEN    236      2.360236\n",
            "13                  JEEP    224      2.240224\n",
            "0                   AUDI    202      2.020202\n",
            "5               CHRYSLER    192      1.920192\n",
            "11               HYUNDAI    169      1.690169\n",
            "25                RIVIAN    123      1.230123\n",
            "6                   FIAT     61      0.610061\n",
            "24               PORSCHE     58      0.580058\n",
            "20                  MINI     53      0.530053\n",
            "10                 HONDA     52      0.520052\n",
            "23              POLESTAR     51      0.510051\n",
            "19         MERCEDES-BENZ     49      0.490049\n",
            "21            MITSUBISHI     44      0.440044\n",
            "27                SUBARU     21      0.210021\n",
            "26                 SMART     15      0.150015\n",
            "12                JAGUAR     14      0.140014\n",
            "16               LINCOLN     10      0.100010\n",
            "17                 LUCID      9      0.090009\n",
            "15                 LEXUS      9      0.090009\n",
            "9                GENESIS      7      0.070007\n",
            "3               CADILLAC      6      0.060006\n",
            "18                 MAZDA      2      0.020002\n",
            "1                BENTLEY      1      0.010001\n",
            "7                 FISKER      1      0.010001\n",
            "32  WHEEGO ELECTRIC CARS      1      0.010001\n"
          ]
        }
      ],
      "source": [
        "print(make_counts)"
      ]
    },
    {
      "cell_type": "code",
      "execution_count": null,
      "metadata": {
        "colab": {
          "base_uri": "https://localhost:8080/",
          "height": 417
        },
        "id": "ApcfaHo21A5g",
        "outputId": "52585685-b7a4-4502-9982-6fe0e6d17645"
      },
      "outputs": [
        {
          "output_type": "display_data",
          "data": {
            "text/html": [
              "<html>\n",
              "<head><meta charset=\"utf-8\" /></head>\n",
              "<body>\n",
              "    <div>            <script src=\"https://cdnjs.cloudflare.com/ajax/libs/mathjax/2.7.5/MathJax.js?config=TeX-AMS-MML_SVG\"></script><script type=\"text/javascript\">if (window.MathJax && window.MathJax.Hub && window.MathJax.Hub.Config) {window.MathJax.Hub.Config({SVG: {font: \"STIX-Web\"}});}</script>                <script type=\"text/javascript\">window.PlotlyConfig = {MathJaxConfig: 'local'};</script>\n",
              "        <script src=\"https://cdn.plot.ly/plotly-2.18.2.min.js\"></script>                <div id=\"b7b9648f-7e6c-4a35-a8a3-351c570d5d1e\" class=\"plotly-graph-div\" style=\"height:400px; width:800px;\"></div>            <script type=\"text/javascript\">                                    window.PLOTLYENV=window.PLOTLYENV || {};                                    if (document.getElementById(\"b7b9648f-7e6c-4a35-a8a3-351c570d5d1e\")) {                    Plotly.newPlot(                        \"b7b9648f-7e6c-4a35-a8a3-351c570d5d1e\",                        [{\"hovertemplate\":\"Make=%{x}<br>Electric Range=%{y}<extra></extra>\",\"legendgroup\":\"TESLA\",\"marker\":{\"color\":\"#636efa\",\"symbol\":\"circle\"},\"mode\":\"markers\",\"name\":\"TESLA\",\"showlegend\":true,\"x\":[\"TESLA\",\"TESLA\",\"TESLA\",\"TESLA\",\"TESLA\",\"TESLA\",\"TESLA\",\"TESLA\",\"TESLA\",\"TESLA\",\"TESLA\",\"TESLA\",\"TESLA\",\"TESLA\",\"TESLA\",\"TESLA\",\"TESLA\",\"TESLA\",\"TESLA\",\"TESLA\",\"TESLA\",\"TESLA\",\"TESLA\",\"TESLA\",\"TESLA\",\"TESLA\",\"TESLA\",\"TESLA\",\"TESLA\",\"TESLA\",\"TESLA\",\"TESLA\",\"TESLA\",\"TESLA\",\"TESLA\",\"TESLA\",\"TESLA\",\"TESLA\",\"TESLA\",\"TESLA\",\"TESLA\",\"TESLA\",\"TESLA\",\"TESLA\",\"TESLA\",\"TESLA\",\"TESLA\",\"TESLA\",\"TESLA\",\"TESLA\",\"TESLA\",\"TESLA\",\"TESLA\",\"TESLA\",\"TESLA\",\"TESLA\",\"TESLA\",\"TESLA\",\"TESLA\",\"TESLA\",\"TESLA\",\"TESLA\",\"TESLA\",\"TESLA\",\"TESLA\",\"TESLA\",\"TESLA\",\"TESLA\",\"TESLA\",\"TESLA\",\"TESLA\",\"TESLA\",\"TESLA\",\"TESLA\",\"TESLA\",\"TESLA\",\"TESLA\",\"TESLA\",\"TESLA\",\"TESLA\",\"TESLA\",\"TESLA\",\"TESLA\",\"TESLA\",\"TESLA\",\"TESLA\",\"TESLA\",\"TESLA\",\"TESLA\",\"TESLA\",\"TESLA\",\"TESLA\",\"TESLA\",\"TESLA\",\"TESLA\",\"TESLA\",\"TESLA\",\"TESLA\",\"TESLA\",\"TESLA\",\"TESLA\",\"TESLA\",\"TESLA\",\"TESLA\",\"TESLA\",\"TESLA\",\"TESLA\",\"TESLA\",\"TESLA\",\"TESLA\",\"TESLA\",\"TESLA\",\"TESLA\",\"TESLA\",\"TESLA\",\"TESLA\",\"TESLA\",\"TESLA\",\"TESLA\",\"TESLA\",\"TESLA\",\"TESLA\",\"TESLA\",\"TESLA\",\"TESLA\",\"TESLA\",\"TESLA\",\"TESLA\",\"TESLA\",\"TESLA\",\"TESLA\",\"TESLA\",\"TESLA\",\"TESLA\",\"TESLA\",\"TESLA\",\"TESLA\",\"TESLA\",\"TESLA\",\"TESLA\",\"TESLA\",\"TESLA\",\"TESLA\",\"TESLA\",\"TESLA\",\"TESLA\",\"TESLA\",\"TESLA\",\"TESLA\",\"TESLA\",\"TESLA\",\"TESLA\",\"TESLA\",\"TESLA\",\"TESLA\",\"TESLA\",\"TESLA\",\"TESLA\",\"TESLA\",\"TESLA\",\"TESLA\",\"TESLA\",\"TESLA\",\"TESLA\",\"TESLA\",\"TESLA\",\"TESLA\",\"TESLA\",\"TESLA\",\"TESLA\",\"TESLA\",\"TESLA\",\"TESLA\",\"TESLA\",\"TESLA\",\"TESLA\",\"TESLA\",\"TESLA\",\"TESLA\",\"TESLA\",\"TESLA\",\"TESLA\",\"TESLA\",\"TESLA\",\"TESLA\",\"TESLA\",\"TESLA\",\"TESLA\",\"TESLA\",\"TESLA\",\"TESLA\",\"TESLA\",\"TESLA\",\"TESLA\",\"TESLA\",\"TESLA\",\"TESLA\",\"TESLA\",\"TESLA\",\"TESLA\",\"TESLA\",\"TESLA\",\"TESLA\",\"TESLA\",\"TESLA\",\"TESLA\",\"TESLA\",\"TESLA\",\"TESLA\",\"TESLA\",\"TESLA\",\"TESLA\",\"TESLA\",\"TESLA\",\"TESLA\",\"TESLA\",\"TESLA\",\"TESLA\",\"TESLA\",\"TESLA\",\"TESLA\",\"TESLA\",\"TESLA\",\"TESLA\",\"TESLA\",\"TESLA\",\"TESLA\",\"TESLA\",\"TESLA\",\"TESLA\",\"TESLA\",\"TESLA\",\"TESLA\",\"TESLA\",\"TESLA\",\"TESLA\",\"TESLA\",\"TESLA\",\"TESLA\",\"TESLA\",\"TESLA\",\"TESLA\",\"TESLA\",\"TESLA\",\"TESLA\",\"TESLA\",\"TESLA\",\"TESLA\",\"TESLA\",\"TESLA\",\"TESLA\",\"TESLA\",\"TESLA\",\"TESLA\",\"TESLA\",\"TESLA\",\"TESLA\",\"TESLA\",\"TESLA\",\"TESLA\",\"TESLA\",\"TESLA\",\"TESLA\",\"TESLA\",\"TESLA\",\"TESLA\",\"TESLA\",\"TESLA\",\"TESLA\",\"TESLA\",\"TESLA\",\"TESLA\",\"TESLA\",\"TESLA\",\"TESLA\",\"TESLA\",\"TESLA\",\"TESLA\",\"TESLA\",\"TESLA\",\"TESLA\",\"TESLA\",\"TESLA\",\"TESLA\",\"TESLA\",\"TESLA\",\"TESLA\",\"TESLA\",\"TESLA\",\"TESLA\",\"TESLA\",\"TESLA\",\"TESLA\",\"TESLA\",\"TESLA\",\"TESLA\",\"TESLA\",\"TESLA\",\"TESLA\",\"TESLA\",\"TESLA\",\"TESLA\",\"TESLA\",\"TESLA\",\"TESLA\",\"TESLA\",\"TESLA\",\"TESLA\",\"TESLA\",\"TESLA\",\"TESLA\",\"TESLA\",\"TESLA\",\"TESLA\",\"TESLA\",\"TESLA\",\"TESLA\",\"TESLA\",\"TESLA\",\"TESLA\",\"TESLA\",\"TESLA\",\"TESLA\",\"TESLA\",\"TESLA\",\"TESLA\",\"TESLA\",\"TESLA\",\"TESLA\",\"TESLA\",\"TESLA\",\"TESLA\",\"TESLA\",\"TESLA\",\"TESLA\",\"TESLA\",\"TESLA\",\"TESLA\",\"TESLA\",\"TESLA\",\"TESLA\",\"TESLA\",\"TESLA\",\"TESLA\",\"TESLA\",\"TESLA\",\"TESLA\",\"TESLA\",\"TESLA\",\"TESLA\",\"TESLA\",\"TESLA\",\"TESLA\",\"TESLA\",\"TESLA\",\"TESLA\",\"TESLA\",\"TESLA\",\"TESLA\",\"TESLA\",\"TESLA\",\"TESLA\",\"TESLA\",\"TESLA\",\"TESLA\",\"TESLA\",\"TESLA\",\"TESLA\",\"TESLA\",\"TESLA\",\"TESLA\",\"TESLA\",\"TESLA\",\"TESLA\",\"TESLA\",\"TESLA\",\"TESLA\",\"TESLA\",\"TESLA\",\"TESLA\",\"TESLA\",\"TESLA\",\"TESLA\",\"TESLA\",\"TESLA\",\"TESLA\",\"TESLA\",\"TESLA\",\"TESLA\",\"TESLA\",\"TESLA\",\"TESLA\",\"TESLA\",\"TESLA\",\"TESLA\",\"TESLA\",\"TESLA\",\"TESLA\",\"TESLA\",\"TESLA\",\"TESLA\",\"TESLA\",\"TESLA\",\"TESLA\",\"TESLA\",\"TESLA\",\"TESLA\",\"TESLA\",\"TESLA\",\"TESLA\",\"TESLA\",\"TESLA\",\"TESLA\",\"TESLA\",\"TESLA\",\"TESLA\",\"TESLA\",\"TESLA\",\"TESLA\",\"TESLA\",\"TESLA\",\"TESLA\",\"TESLA\",\"TESLA\",\"TESLA\",\"TESLA\",\"TESLA\",\"TESLA\",\"TESLA\",\"TESLA\",\"TESLA\",\"TESLA\",\"TESLA\",\"TESLA\",\"TESLA\",\"TESLA\",\"TESLA\",\"TESLA\",\"TESLA\",\"TESLA\",\"TESLA\",\"TESLA\",\"TESLA\",\"TESLA\",\"TESLA\",\"TESLA\",\"TESLA\",\"TESLA\",\"TESLA\",\"TESLA\",\"TESLA\",\"TESLA\",\"TESLA\",\"TESLA\",\"TESLA\",\"TESLA\",\"TESLA\",\"TESLA\",\"TESLA\",\"TESLA\",\"TESLA\",\"TESLA\",\"TESLA\",\"TESLA\",\"TESLA\",\"TESLA\",\"TESLA\",\"TESLA\",\"TESLA\",\"TESLA\",\"TESLA\",\"TESLA\",\"TESLA\",\"TESLA\",\"TESLA\",\"TESLA\",\"TESLA\",\"TESLA\",\"TESLA\",\"TESLA\",\"TESLA\",\"TESLA\",\"TESLA\",\"TESLA\",\"TESLA\",\"TESLA\",\"TESLA\",\"TESLA\",\"TESLA\",\"TESLA\",\"TESLA\",\"TESLA\",\"TESLA\",\"TESLA\",\"TESLA\",\"TESLA\",\"TESLA\",\"TESLA\",\"TESLA\",\"TESLA\",\"TESLA\",\"TESLA\",\"TESLA\",\"TESLA\",\"TESLA\",\"TESLA\",\"TESLA\",\"TESLA\",\"TESLA\",\"TESLA\",\"TESLA\",\"TESLA\",\"TESLA\",\"TESLA\",\"TESLA\",\"TESLA\",\"TESLA\",\"TESLA\",\"TESLA\",\"TESLA\",\"TESLA\",\"TESLA\",\"TESLA\",\"TESLA\",\"TESLA\",\"TESLA\",\"TESLA\",\"TESLA\",\"TESLA\",\"TESLA\",\"TESLA\",\"TESLA\",\"TESLA\",\"TESLA\",\"TESLA\",\"TESLA\",\"TESLA\",\"TESLA\",\"TESLA\",\"TESLA\",\"TESLA\",\"TESLA\",\"TESLA\",\"TESLA\",\"TESLA\",\"TESLA\",\"TESLA\",\"TESLA\",\"TESLA\",\"TESLA\",\"TESLA\",\"TESLA\",\"TESLA\",\"TESLA\",\"TESLA\",\"TESLA\",\"TESLA\",\"TESLA\",\"TESLA\",\"TESLA\",\"TESLA\",\"TESLA\",\"TESLA\",\"TESLA\",\"TESLA\",\"TESLA\",\"TESLA\",\"TESLA\",\"TESLA\",\"TESLA\",\"TESLA\",\"TESLA\",\"TESLA\",\"TESLA\",\"TESLA\",\"TESLA\",\"TESLA\",\"TESLA\",\"TESLA\",\"TESLA\",\"TESLA\",\"TESLA\",\"TESLA\",\"TESLA\",\"TESLA\",\"TESLA\",\"TESLA\",\"TESLA\",\"TESLA\",\"TESLA\",\"TESLA\",\"TESLA\",\"TESLA\",\"TESLA\",\"TESLA\",\"TESLA\",\"TESLA\",\"TESLA\",\"TESLA\",\"TESLA\",\"TESLA\",\"TESLA\",\"TESLA\",\"TESLA\",\"TESLA\",\"TESLA\",\"TESLA\",\"TESLA\",\"TESLA\",\"TESLA\",\"TESLA\",\"TESLA\",\"TESLA\",\"TESLA\",\"TESLA\",\"TESLA\",\"TESLA\",\"TESLA\",\"TESLA\",\"TESLA\",\"TESLA\",\"TESLA\",\"TESLA\",\"TESLA\",\"TESLA\",\"TESLA\",\"TESLA\",\"TESLA\",\"TESLA\",\"TESLA\",\"TESLA\",\"TESLA\",\"TESLA\",\"TESLA\",\"TESLA\",\"TESLA\",\"TESLA\",\"TESLA\",\"TESLA\",\"TESLA\",\"TESLA\",\"TESLA\",\"TESLA\",\"TESLA\",\"TESLA\",\"TESLA\",\"TESLA\",\"TESLA\",\"TESLA\",\"TESLA\",\"TESLA\",\"TESLA\",\"TESLA\",\"TESLA\",\"TESLA\",\"TESLA\",\"TESLA\",\"TESLA\",\"TESLA\",\"TESLA\",\"TESLA\",\"TESLA\",\"TESLA\",\"TESLA\",\"TESLA\",\"TESLA\",\"TESLA\",\"TESLA\",\"TESLA\",\"TESLA\",\"TESLA\",\"TESLA\",\"TESLA\",\"TESLA\",\"TESLA\",\"TESLA\",\"TESLA\",\"TESLA\",\"TESLA\",\"TESLA\",\"TESLA\",\"TESLA\",\"TESLA\",\"TESLA\",\"TESLA\",\"TESLA\",\"TESLA\",\"TESLA\",\"TESLA\",\"TESLA\",\"TESLA\",\"TESLA\",\"TESLA\",\"TESLA\",\"TESLA\",\"TESLA\",\"TESLA\",\"TESLA\",\"TESLA\",\"TESLA\",\"TESLA\",\"TESLA\",\"TESLA\",\"TESLA\",\"TESLA\",\"TESLA\",\"TESLA\",\"TESLA\",\"TESLA\",\"TESLA\",\"TESLA\",\"TESLA\",\"TESLA\",\"TESLA\",\"TESLA\",\"TESLA\",\"TESLA\",\"TESLA\",\"TESLA\",\"TESLA\",\"TESLA\",\"TESLA\",\"TESLA\",\"TESLA\",\"TESLA\",\"TESLA\",\"TESLA\",\"TESLA\",\"TESLA\",\"TESLA\",\"TESLA\",\"TESLA\",\"TESLA\",\"TESLA\",\"TESLA\",\"TESLA\",\"TESLA\",\"TESLA\",\"TESLA\",\"TESLA\",\"TESLA\",\"TESLA\",\"TESLA\",\"TESLA\",\"TESLA\",\"TESLA\",\"TESLA\",\"TESLA\",\"TESLA\",\"TESLA\",\"TESLA\",\"TESLA\",\"TESLA\",\"TESLA\",\"TESLA\",\"TESLA\",\"TESLA\",\"TESLA\",\"TESLA\",\"TESLA\",\"TESLA\",\"TESLA\",\"TESLA\",\"TESLA\",\"TESLA\",\"TESLA\",\"TESLA\",\"TESLA\",\"TESLA\",\"TESLA\",\"TESLA\",\"TESLA\",\"TESLA\",\"TESLA\",\"TESLA\",\"TESLA\",\"TESLA\",\"TESLA\",\"TESLA\",\"TESLA\",\"TESLA\",\"TESLA\",\"TESLA\",\"TESLA\",\"TESLA\",\"TESLA\",\"TESLA\",\"TESLA\",\"TESLA\",\"TESLA\",\"TESLA\",\"TESLA\",\"TESLA\",\"TESLA\",\"TESLA\",\"TESLA\",\"TESLA\",\"TESLA\",\"TESLA\",\"TESLA\",\"TESLA\",\"TESLA\",\"TESLA\",\"TESLA\",\"TESLA\",\"TESLA\",\"TESLA\",\"TESLA\",\"TESLA\",\"TESLA\",\"TESLA\",\"TESLA\",\"TESLA\",\"TESLA\",\"TESLA\",\"TESLA\",\"TESLA\",\"TESLA\",\"TESLA\",\"TESLA\",\"TESLA\",\"TESLA\",\"TESLA\",\"TESLA\",\"TESLA\",\"TESLA\",\"TESLA\",\"TESLA\",\"TESLA\",\"TESLA\",\"TESLA\",\"TESLA\",\"TESLA\",\"TESLA\",\"TESLA\",\"TESLA\",\"TESLA\",\"TESLA\",\"TESLA\",\"TESLA\",\"TESLA\",\"TESLA\",\"TESLA\",\"TESLA\",\"TESLA\",\"TESLA\",\"TESLA\",\"TESLA\",\"TESLA\",\"TESLA\",\"TESLA\",\"TESLA\",\"TESLA\",\"TESLA\",\"TESLA\",\"TESLA\",\"TESLA\",\"TESLA\",\"TESLA\",\"TESLA\",\"TESLA\",\"TESLA\",\"TESLA\",\"TESLA\",\"TESLA\",\"TESLA\",\"TESLA\",\"TESLA\",\"TESLA\",\"TESLA\",\"TESLA\",\"TESLA\",\"TESLA\",\"TESLA\",\"TESLA\",\"TESLA\",\"TESLA\",\"TESLA\",\"TESLA\",\"TESLA\",\"TESLA\",\"TESLA\",\"TESLA\",\"TESLA\",\"TESLA\",\"TESLA\",\"TESLA\",\"TESLA\",\"TESLA\",\"TESLA\",\"TESLA\",\"TESLA\",\"TESLA\",\"TESLA\",\"TESLA\",\"TESLA\",\"TESLA\",\"TESLA\",\"TESLA\",\"TESLA\",\"TESLA\",\"TESLA\",\"TESLA\",\"TESLA\",\"TESLA\",\"TESLA\",\"TESLA\",\"TESLA\",\"TESLA\",\"TESLA\",\"TESLA\",\"TESLA\",\"TESLA\",\"TESLA\",\"TESLA\",\"TESLA\",\"TESLA\",\"TESLA\",\"TESLA\",\"TESLA\",\"TESLA\",\"TESLA\",\"TESLA\",\"TESLA\",\"TESLA\",\"TESLA\",\"TESLA\",\"TESLA\",\"TESLA\",\"TESLA\",\"TESLA\",\"TESLA\",\"TESLA\",\"TESLA\",\"TESLA\",\"TESLA\",\"TESLA\",\"TESLA\",\"TESLA\",\"TESLA\",\"TESLA\",\"TESLA\",\"TESLA\",\"TESLA\",\"TESLA\",\"TESLA\",\"TESLA\",\"TESLA\",\"TESLA\",\"TESLA\",\"TESLA\",\"TESLA\",\"TESLA\",\"TESLA\",\"TESLA\",\"TESLA\",\"TESLA\",\"TESLA\",\"TESLA\",\"TESLA\",\"TESLA\",\"TESLA\",\"TESLA\",\"TESLA\",\"TESLA\",\"TESLA\",\"TESLA\",\"TESLA\",\"TESLA\",\"TESLA\",\"TESLA\",\"TESLA\",\"TESLA\",\"TESLA\",\"TESLA\",\"TESLA\",\"TESLA\",\"TESLA\",\"TESLA\",\"TESLA\",\"TESLA\",\"TESLA\",\"TESLA\",\"TESLA\",\"TESLA\",\"TESLA\",\"TESLA\",\"TESLA\",\"TESLA\",\"TESLA\",\"TESLA\",\"TESLA\",\"TESLA\",\"TESLA\",\"TESLA\",\"TESLA\",\"TESLA\",\"TESLA\",\"TESLA\",\"TESLA\",\"TESLA\",\"TESLA\",\"TESLA\",\"TESLA\",\"TESLA\",\"TESLA\",\"TESLA\",\"TESLA\",\"TESLA\",\"TESLA\",\"TESLA\",\"TESLA\",\"TESLA\",\"TESLA\",\"TESLA\",\"TESLA\",\"TESLA\",\"TESLA\",\"TESLA\",\"TESLA\",\"TESLA\",\"TESLA\",\"TESLA\",\"TESLA\",\"TESLA\",\"TESLA\",\"TESLA\",\"TESLA\",\"TESLA\",\"TESLA\",\"TESLA\",\"TESLA\",\"TESLA\",\"TESLA\",\"TESLA\",\"TESLA\",\"TESLA\",\"TESLA\",\"TESLA\",\"TESLA\",\"TESLA\",\"TESLA\",\"TESLA\",\"TESLA\",\"TESLA\",\"TESLA\",\"TESLA\",\"TESLA\",\"TESLA\",\"TESLA\",\"TESLA\",\"TESLA\",\"TESLA\",\"TESLA\",\"TESLA\",\"TESLA\",\"TESLA\",\"TESLA\",\"TESLA\",\"TESLA\",\"TESLA\",\"TESLA\",\"TESLA\",\"TESLA\",\"TESLA\",\"TESLA\",\"TESLA\",\"TESLA\",\"TESLA\",\"TESLA\",\"TESLA\",\"TESLA\",\"TESLA\",\"TESLA\",\"TESLA\",\"TESLA\",\"TESLA\",\"TESLA\",\"TESLA\",\"TESLA\",\"TESLA\",\"TESLA\",\"TESLA\",\"TESLA\",\"TESLA\",\"TESLA\",\"TESLA\",\"TESLA\",\"TESLA\",\"TESLA\",\"TESLA\",\"TESLA\",\"TESLA\",\"TESLA\",\"TESLA\",\"TESLA\",\"TESLA\",\"TESLA\",\"TESLA\",\"TESLA\",\"TESLA\",\"TESLA\",\"TESLA\",\"TESLA\",\"TESLA\",\"TESLA\",\"TESLA\",\"TESLA\",\"TESLA\",\"TESLA\",\"TESLA\",\"TESLA\",\"TESLA\",\"TESLA\",\"TESLA\",\"TESLA\",\"TESLA\",\"TESLA\",\"TESLA\",\"TESLA\",\"TESLA\",\"TESLA\",\"TESLA\",\"TESLA\",\"TESLA\",\"TESLA\",\"TESLA\",\"TESLA\",\"TESLA\",\"TESLA\",\"TESLA\",\"TESLA\",\"TESLA\",\"TESLA\",\"TESLA\",\"TESLA\",\"TESLA\",\"TESLA\",\"TESLA\",\"TESLA\",\"TESLA\",\"TESLA\",\"TESLA\",\"TESLA\",\"TESLA\",\"TESLA\",\"TESLA\",\"TESLA\",\"TESLA\",\"TESLA\",\"TESLA\",\"TESLA\",\"TESLA\",\"TESLA\",\"TESLA\",\"TESLA\",\"TESLA\",\"TESLA\",\"TESLA\",\"TESLA\",\"TESLA\",\"TESLA\",\"TESLA\",\"TESLA\",\"TESLA\",\"TESLA\",\"TESLA\",\"TESLA\",\"TESLA\",\"TESLA\",\"TESLA\",\"TESLA\",\"TESLA\",\"TESLA\",\"TESLA\",\"TESLA\",\"TESLA\",\"TESLA\",\"TESLA\",\"TESLA\",\"TESLA\",\"TESLA\",\"TESLA\",\"TESLA\",\"TESLA\",\"TESLA\",\"TESLA\",\"TESLA\",\"TESLA\",\"TESLA\",\"TESLA\",\"TESLA\",\"TESLA\",\"TESLA\",\"TESLA\",\"TESLA\",\"TESLA\",\"TESLA\",\"TESLA\",\"TESLA\",\"TESLA\",\"TESLA\",\"TESLA\",\"TESLA\",\"TESLA\",\"TESLA\",\"TESLA\",\"TESLA\",\"TESLA\",\"TESLA\",\"TESLA\",\"TESLA\",\"TESLA\",\"TESLA\",\"TESLA\",\"TESLA\",\"TESLA\",\"TESLA\",\"TESLA\",\"TESLA\",\"TESLA\",\"TESLA\",\"TESLA\",\"TESLA\",\"TESLA\",\"TESLA\",\"TESLA\",\"TESLA\",\"TESLA\",\"TESLA\",\"TESLA\",\"TESLA\",\"TESLA\",\"TESLA\",\"TESLA\",\"TESLA\",\"TESLA\",\"TESLA\",\"TESLA\",\"TESLA\",\"TESLA\",\"TESLA\",\"TESLA\",\"TESLA\",\"TESLA\",\"TESLA\",\"TESLA\",\"TESLA\",\"TESLA\",\"TESLA\",\"TESLA\",\"TESLA\",\"TESLA\",\"TESLA\",\"TESLA\",\"TESLA\",\"TESLA\",\"TESLA\",\"TESLA\",\"TESLA\",\"TESLA\",\"TESLA\",\"TESLA\",\"TESLA\",\"TESLA\",\"TESLA\",\"TESLA\",\"TESLA\",\"TESLA\",\"TESLA\",\"TESLA\",\"TESLA\",\"TESLA\",\"TESLA\",\"TESLA\",\"TESLA\",\"TESLA\",\"TESLA\",\"TESLA\",\"TESLA\",\"TESLA\",\"TESLA\",\"TESLA\",\"TESLA\",\"TESLA\",\"TESLA\",\"TESLA\",\"TESLA\",\"TESLA\",\"TESLA\",\"TESLA\",\"TESLA\",\"TESLA\",\"TESLA\",\"TESLA\",\"TESLA\",\"TESLA\",\"TESLA\",\"TESLA\",\"TESLA\",\"TESLA\",\"TESLA\",\"TESLA\",\"TESLA\",\"TESLA\",\"TESLA\",\"TESLA\",\"TESLA\",\"TESLA\",\"TESLA\",\"TESLA\",\"TESLA\",\"TESLA\",\"TESLA\",\"TESLA\",\"TESLA\",\"TESLA\",\"TESLA\",\"TESLA\",\"TESLA\",\"TESLA\",\"TESLA\",\"TESLA\",\"TESLA\",\"TESLA\",\"TESLA\",\"TESLA\",\"TESLA\",\"TESLA\",\"TESLA\",\"TESLA\",\"TESLA\",\"TESLA\",\"TESLA\",\"TESLA\",\"TESLA\",\"TESLA\",\"TESLA\",\"TESLA\",\"TESLA\",\"TESLA\",\"TESLA\",\"TESLA\",\"TESLA\",\"TESLA\",\"TESLA\",\"TESLA\",\"TESLA\",\"TESLA\",\"TESLA\",\"TESLA\",\"TESLA\",\"TESLA\",\"TESLA\",\"TESLA\",\"TESLA\",\"TESLA\",\"TESLA\",\"TESLA\",\"TESLA\",\"TESLA\",\"TESLA\",\"TESLA\",\"TESLA\",\"TESLA\",\"TESLA\",\"TESLA\",\"TESLA\",\"TESLA\",\"TESLA\",\"TESLA\",\"TESLA\",\"TESLA\",\"TESLA\",\"TESLA\",\"TESLA\",\"TESLA\",\"TESLA\",\"TESLA\",\"TESLA\",\"TESLA\",\"TESLA\",\"TESLA\",\"TESLA\",\"TESLA\",\"TESLA\",\"TESLA\",\"TESLA\",\"TESLA\",\"TESLA\",\"TESLA\",\"TESLA\",\"TESLA\",\"TESLA\",\"TESLA\",\"TESLA\",\"TESLA\",\"TESLA\",\"TESLA\",\"TESLA\",\"TESLA\",\"TESLA\",\"TESLA\",\"TESLA\",\"TESLA\",\"TESLA\",\"TESLA\",\"TESLA\",\"TESLA\",\"TESLA\",\"TESLA\",\"TESLA\",\"TESLA\",\"TESLA\",\"TESLA\",\"TESLA\",\"TESLA\",\"TESLA\",\"TESLA\",\"TESLA\",\"TESLA\",\"TESLA\",\"TESLA\",\"TESLA\",\"TESLA\",\"TESLA\",\"TESLA\",\"TESLA\",\"TESLA\",\"TESLA\",\"TESLA\",\"TESLA\",\"TESLA\",\"TESLA\",\"TESLA\",\"TESLA\",\"TESLA\",\"TESLA\",\"TESLA\",\"TESLA\",\"TESLA\",\"TESLA\",\"TESLA\",\"TESLA\",\"TESLA\",\"TESLA\",\"TESLA\",\"TESLA\",\"TESLA\",\"TESLA\",\"TESLA\",\"TESLA\",\"TESLA\",\"TESLA\",\"TESLA\",\"TESLA\",\"TESLA\",\"TESLA\",\"TESLA\",\"TESLA\",\"TESLA\",\"TESLA\",\"TESLA\",\"TESLA\",\"TESLA\",\"TESLA\",\"TESLA\",\"TESLA\",\"TESLA\",\"TESLA\",\"TESLA\",\"TESLA\",\"TESLA\",\"TESLA\",\"TESLA\",\"TESLA\",\"TESLA\",\"TESLA\",\"TESLA\",\"TESLA\",\"TESLA\",\"TESLA\",\"TESLA\",\"TESLA\",\"TESLA\",\"TESLA\",\"TESLA\",\"TESLA\",\"TESLA\",\"TESLA\",\"TESLA\",\"TESLA\",\"TESLA\",\"TESLA\",\"TESLA\",\"TESLA\",\"TESLA\",\"TESLA\",\"TESLA\",\"TESLA\",\"TESLA\",\"TESLA\",\"TESLA\",\"TESLA\",\"TESLA\",\"TESLA\",\"TESLA\",\"TESLA\",\"TESLA\",\"TESLA\",\"TESLA\",\"TESLA\",\"TESLA\",\"TESLA\",\"TESLA\",\"TESLA\",\"TESLA\",\"TESLA\",\"TESLA\",\"TESLA\",\"TESLA\",\"TESLA\",\"TESLA\",\"TESLA\",\"TESLA\",\"TESLA\",\"TESLA\",\"TESLA\",\"TESLA\",\"TESLA\",\"TESLA\",\"TESLA\",\"TESLA\",\"TESLA\",\"TESLA\",\"TESLA\",\"TESLA\",\"TESLA\",\"TESLA\",\"TESLA\",\"TESLA\",\"TESLA\",\"TESLA\",\"TESLA\",\"TESLA\",\"TESLA\",\"TESLA\",\"TESLA\",\"TESLA\",\"TESLA\",\"TESLA\",\"TESLA\",\"TESLA\",\"TESLA\",\"TESLA\",\"TESLA\",\"TESLA\",\"TESLA\",\"TESLA\",\"TESLA\",\"TESLA\",\"TESLA\",\"TESLA\",\"TESLA\",\"TESLA\",\"TESLA\",\"TESLA\",\"TESLA\",\"TESLA\",\"TESLA\",\"TESLA\",\"TESLA\",\"TESLA\",\"TESLA\",\"TESLA\",\"TESLA\",\"TESLA\",\"TESLA\",\"TESLA\",\"TESLA\",\"TESLA\",\"TESLA\",\"TESLA\",\"TESLA\",\"TESLA\",\"TESLA\",\"TESLA\",\"TESLA\",\"TESLA\",\"TESLA\",\"TESLA\",\"TESLA\",\"TESLA\",\"TESLA\",\"TESLA\",\"TESLA\",\"TESLA\",\"TESLA\",\"TESLA\",\"TESLA\",\"TESLA\",\"TESLA\",\"TESLA\",\"TESLA\",\"TESLA\",\"TESLA\",\"TESLA\",\"TESLA\",\"TESLA\",\"TESLA\",\"TESLA\",\"TESLA\",\"TESLA\",\"TESLA\",\"TESLA\",\"TESLA\",\"TESLA\",\"TESLA\",\"TESLA\",\"TESLA\",\"TESLA\",\"TESLA\",\"TESLA\",\"TESLA\",\"TESLA\",\"TESLA\",\"TESLA\",\"TESLA\",\"TESLA\",\"TESLA\",\"TESLA\",\"TESLA\",\"TESLA\",\"TESLA\",\"TESLA\",\"TESLA\",\"TESLA\",\"TESLA\",\"TESLA\",\"TESLA\",\"TESLA\",\"TESLA\",\"TESLA\",\"TESLA\",\"TESLA\",\"TESLA\",\"TESLA\",\"TESLA\",\"TESLA\",\"TESLA\",\"TESLA\",\"TESLA\",\"TESLA\",\"TESLA\",\"TESLA\",\"TESLA\",\"TESLA\",\"TESLA\",\"TESLA\",\"TESLA\",\"TESLA\",\"TESLA\",\"TESLA\",\"TESLA\",\"TESLA\",\"TESLA\",\"TESLA\",\"TESLA\",\"TESLA\",\"TESLA\",\"TESLA\",\"TESLA\",\"TESLA\",\"TESLA\",\"TESLA\",\"TESLA\",\"TESLA\",\"TESLA\",\"TESLA\",\"TESLA\",\"TESLA\",\"TESLA\",\"TESLA\",\"TESLA\",\"TESLA\",\"TESLA\",\"TESLA\",\"TESLA\",\"TESLA\",\"TESLA\",\"TESLA\",\"TESLA\",\"TESLA\",\"TESLA\",\"TESLA\",\"TESLA\",\"TESLA\",\"TESLA\",\"TESLA\",\"TESLA\",\"TESLA\",\"TESLA\",\"TESLA\",\"TESLA\",\"TESLA\",\"TESLA\",\"TESLA\",\"TESLA\",\"TESLA\",\"TESLA\",\"TESLA\",\"TESLA\",\"TESLA\",\"TESLA\",\"TESLA\",\"TESLA\",\"TESLA\",\"TESLA\",\"TESLA\",\"TESLA\",\"TESLA\",\"TESLA\",\"TESLA\",\"TESLA\",\"TESLA\",\"TESLA\",\"TESLA\",\"TESLA\",\"TESLA\",\"TESLA\",\"TESLA\",\"TESLA\",\"TESLA\",\"TESLA\",\"TESLA\",\"TESLA\",\"TESLA\",\"TESLA\",\"TESLA\",\"TESLA\",\"TESLA\",\"TESLA\",\"TESLA\",\"TESLA\",\"TESLA\",\"TESLA\",\"TESLA\",\"TESLA\",\"TESLA\",\"TESLA\",\"TESLA\",\"TESLA\",\"TESLA\",\"TESLA\",\"TESLA\",\"TESLA\",\"TESLA\",\"TESLA\",\"TESLA\",\"TESLA\",\"TESLA\",\"TESLA\",\"TESLA\",\"TESLA\",\"TESLA\",\"TESLA\",\"TESLA\",\"TESLA\",\"TESLA\",\"TESLA\",\"TESLA\",\"TESLA\",\"TESLA\",\"TESLA\",\"TESLA\",\"TESLA\",\"TESLA\",\"TESLA\",\"TESLA\",\"TESLA\",\"TESLA\",\"TESLA\",\"TESLA\",\"TESLA\",\"TESLA\",\"TESLA\",\"TESLA\",\"TESLA\",\"TESLA\",\"TESLA\",\"TESLA\",\"TESLA\",\"TESLA\",\"TESLA\",\"TESLA\",\"TESLA\",\"TESLA\",\"TESLA\",\"TESLA\",\"TESLA\",\"TESLA\",\"TESLA\",\"TESLA\",\"TESLA\",\"TESLA\",\"TESLA\",\"TESLA\",\"TESLA\",\"TESLA\",\"TESLA\",\"TESLA\",\"TESLA\",\"TESLA\",\"TESLA\",\"TESLA\",\"TESLA\",\"TESLA\",\"TESLA\",\"TESLA\",\"TESLA\",\"TESLA\",\"TESLA\",\"TESLA\",\"TESLA\",\"TESLA\",\"TESLA\",\"TESLA\",\"TESLA\",\"TESLA\",\"TESLA\",\"TESLA\",\"TESLA\",\"TESLA\",\"TESLA\",\"TESLA\",\"TESLA\",\"TESLA\",\"TESLA\",\"TESLA\",\"TESLA\",\"TESLA\",\"TESLA\",\"TESLA\",\"TESLA\",\"TESLA\",\"TESLA\",\"TESLA\",\"TESLA\",\"TESLA\",\"TESLA\",\"TESLA\",\"TESLA\",\"TESLA\",\"TESLA\",\"TESLA\",\"TESLA\",\"TESLA\",\"TESLA\",\"TESLA\",\"TESLA\",\"TESLA\",\"TESLA\",\"TESLA\",\"TESLA\",\"TESLA\",\"TESLA\",\"TESLA\",\"TESLA\",\"TESLA\",\"TESLA\",\"TESLA\",\"TESLA\",\"TESLA\",\"TESLA\",\"TESLA\",\"TESLA\",\"TESLA\",\"TESLA\",\"TESLA\",\"TESLA\",\"TESLA\",\"TESLA\",\"TESLA\",\"TESLA\",\"TESLA\",\"TESLA\",\"TESLA\",\"TESLA\",\"TESLA\",\"TESLA\",\"TESLA\",\"TESLA\",\"TESLA\",\"TESLA\",\"TESLA\",\"TESLA\",\"TESLA\",\"TESLA\",\"TESLA\",\"TESLA\",\"TESLA\",\"TESLA\",\"TESLA\",\"TESLA\",\"TESLA\",\"TESLA\",\"TESLA\",\"TESLA\",\"TESLA\",\"TESLA\",\"TESLA\",\"TESLA\",\"TESLA\",\"TESLA\",\"TESLA\",\"TESLA\",\"TESLA\",\"TESLA\",\"TESLA\",\"TESLA\",\"TESLA\",\"TESLA\",\"TESLA\",\"TESLA\",\"TESLA\",\"TESLA\",\"TESLA\",\"TESLA\",\"TESLA\",\"TESLA\",\"TESLA\",\"TESLA\",\"TESLA\",\"TESLA\",\"TESLA\",\"TESLA\",\"TESLA\",\"TESLA\",\"TESLA\",\"TESLA\",\"TESLA\",\"TESLA\",\"TESLA\",\"TESLA\",\"TESLA\",\"TESLA\",\"TESLA\",\"TESLA\",\"TESLA\",\"TESLA\",\"TESLA\",\"TESLA\",\"TESLA\",\"TESLA\",\"TESLA\",\"TESLA\",\"TESLA\",\"TESLA\",\"TESLA\",\"TESLA\",\"TESLA\",\"TESLA\",\"TESLA\",\"TESLA\",\"TESLA\",\"TESLA\",\"TESLA\",\"TESLA\",\"TESLA\",\"TESLA\",\"TESLA\",\"TESLA\",\"TESLA\",\"TESLA\",\"TESLA\",\"TESLA\",\"TESLA\",\"TESLA\",\"TESLA\",\"TESLA\",\"TESLA\",\"TESLA\",\"TESLA\",\"TESLA\",\"TESLA\",\"TESLA\",\"TESLA\",\"TESLA\",\"TESLA\",\"TESLA\",\"TESLA\",\"TESLA\",\"TESLA\",\"TESLA\",\"TESLA\",\"TESLA\",\"TESLA\",\"TESLA\",\"TESLA\",\"TESLA\",\"TESLA\",\"TESLA\",\"TESLA\",\"TESLA\",\"TESLA\",\"TESLA\",\"TESLA\",\"TESLA\",\"TESLA\",\"TESLA\",\"TESLA\",\"TESLA\",\"TESLA\",\"TESLA\",\"TESLA\",\"TESLA\",\"TESLA\",\"TESLA\",\"TESLA\",\"TESLA\",\"TESLA\",\"TESLA\",\"TESLA\",\"TESLA\",\"TESLA\",\"TESLA\",\"TESLA\",\"TESLA\",\"TESLA\",\"TESLA\",\"TESLA\",\"TESLA\",\"TESLA\",\"TESLA\",\"TESLA\",\"TESLA\",\"TESLA\",\"TESLA\",\"TESLA\",\"TESLA\",\"TESLA\",\"TESLA\",\"TESLA\",\"TESLA\",\"TESLA\",\"TESLA\",\"TESLA\",\"TESLA\",\"TESLA\",\"TESLA\",\"TESLA\",\"TESLA\",\"TESLA\",\"TESLA\",\"TESLA\",\"TESLA\",\"TESLA\",\"TESLA\",\"TESLA\",\"TESLA\",\"TESLA\",\"TESLA\",\"TESLA\",\"TESLA\",\"TESLA\",\"TESLA\",\"TESLA\",\"TESLA\",\"TESLA\",\"TESLA\",\"TESLA\",\"TESLA\",\"TESLA\",\"TESLA\",\"TESLA\",\"TESLA\",\"TESLA\",\"TESLA\",\"TESLA\",\"TESLA\",\"TESLA\",\"TESLA\",\"TESLA\",\"TESLA\",\"TESLA\",\"TESLA\",\"TESLA\",\"TESLA\",\"TESLA\",\"TESLA\",\"TESLA\",\"TESLA\",\"TESLA\",\"TESLA\",\"TESLA\",\"TESLA\",\"TESLA\",\"TESLA\",\"TESLA\",\"TESLA\",\"TESLA\",\"TESLA\",\"TESLA\",\"TESLA\",\"TESLA\",\"TESLA\",\"TESLA\",\"TESLA\",\"TESLA\",\"TESLA\",\"TESLA\",\"TESLA\",\"TESLA\",\"TESLA\",\"TESLA\",\"TESLA\",\"TESLA\",\"TESLA\",\"TESLA\",\"TESLA\",\"TESLA\",\"TESLA\",\"TESLA\",\"TESLA\",\"TESLA\",\"TESLA\",\"TESLA\",\"TESLA\",\"TESLA\",\"TESLA\",\"TESLA\",\"TESLA\",\"TESLA\",\"TESLA\",\"TESLA\",\"TESLA\",\"TESLA\",\"TESLA\",\"TESLA\",\"TESLA\",\"TESLA\",\"TESLA\",\"TESLA\",\"TESLA\",\"TESLA\",\"TESLA\",\"TESLA\",\"TESLA\",\"TESLA\",\"TESLA\",\"TESLA\",\"TESLA\",\"TESLA\",\"TESLA\",\"TESLA\",\"TESLA\",\"TESLA\",\"TESLA\",\"TESLA\",\"TESLA\",\"TESLA\",\"TESLA\",\"TESLA\",\"TESLA\",\"TESLA\",\"TESLA\",\"TESLA\",\"TESLA\",\"TESLA\",\"TESLA\",\"TESLA\",\"TESLA\",\"TESLA\",\"TESLA\",\"TESLA\",\"TESLA\",\"TESLA\",\"TESLA\",\"TESLA\",\"TESLA\",\"TESLA\",\"TESLA\",\"TESLA\",\"TESLA\",\"TESLA\",\"TESLA\",\"TESLA\",\"TESLA\",\"TESLA\",\"TESLA\",\"TESLA\",\"TESLA\",\"TESLA\",\"TESLA\",\"TESLA\",\"TESLA\",\"TESLA\",\"TESLA\",\"TESLA\",\"TESLA\",\"TESLA\",\"TESLA\",\"TESLA\",\"TESLA\",\"TESLA\",\"TESLA\",\"TESLA\",\"TESLA\",\"TESLA\",\"TESLA\",\"TESLA\",\"TESLA\",\"TESLA\",\"TESLA\",\"TESLA\",\"TESLA\",\"TESLA\",\"TESLA\",\"TESLA\",\"TESLA\",\"TESLA\",\"TESLA\",\"TESLA\",\"TESLA\",\"TESLA\",\"TESLA\",\"TESLA\",\"TESLA\",\"TESLA\",\"TESLA\",\"TESLA\",\"TESLA\",\"TESLA\",\"TESLA\",\"TESLA\",\"TESLA\",\"TESLA\",\"TESLA\",\"TESLA\",\"TESLA\",\"TESLA\",\"TESLA\",\"TESLA\",\"TESLA\",\"TESLA\",\"TESLA\",\"TESLA\",\"TESLA\",\"TESLA\",\"TESLA\",\"TESLA\",\"TESLA\",\"TESLA\",\"TESLA\",\"TESLA\",\"TESLA\",\"TESLA\",\"TESLA\",\"TESLA\",\"TESLA\",\"TESLA\",\"TESLA\",\"TESLA\",\"TESLA\",\"TESLA\",\"TESLA\",\"TESLA\",\"TESLA\",\"TESLA\",\"TESLA\",\"TESLA\",\"TESLA\",\"TESLA\",\"TESLA\",\"TESLA\",\"TESLA\",\"TESLA\",\"TESLA\",\"TESLA\",\"TESLA\",\"TESLA\",\"TESLA\",\"TESLA\",\"TESLA\",\"TESLA\",\"TESLA\",\"TESLA\",\"TESLA\",\"TESLA\",\"TESLA\",\"TESLA\",\"TESLA\",\"TESLA\",\"TESLA\",\"TESLA\",\"TESLA\",\"TESLA\",\"TESLA\",\"TESLA\",\"TESLA\",\"TESLA\",\"TESLA\",\"TESLA\",\"TESLA\",\"TESLA\",\"TESLA\",\"TESLA\",\"TESLA\",\"TESLA\",\"TESLA\",\"TESLA\",\"TESLA\",\"TESLA\",\"TESLA\",\"TESLA\",\"TESLA\",\"TESLA\",\"TESLA\",\"TESLA\",\"TESLA\",\"TESLA\",\"TESLA\",\"TESLA\",\"TESLA\",\"TESLA\",\"TESLA\",\"TESLA\",\"TESLA\",\"TESLA\",\"TESLA\",\"TESLA\",\"TESLA\",\"TESLA\",\"TESLA\",\"TESLA\",\"TESLA\",\"TESLA\",\"TESLA\",\"TESLA\",\"TESLA\",\"TESLA\",\"TESLA\",\"TESLA\",\"TESLA\",\"TESLA\",\"TESLA\",\"TESLA\",\"TESLA\",\"TESLA\",\"TESLA\",\"TESLA\",\"TESLA\",\"TESLA\",\"TESLA\",\"TESLA\",\"TESLA\",\"TESLA\",\"TESLA\",\"TESLA\",\"TESLA\",\"TESLA\",\"TESLA\",\"TESLA\",\"TESLA\",\"TESLA\",\"TESLA\",\"TESLA\",\"TESLA\",\"TESLA\",\"TESLA\",\"TESLA\",\"TESLA\",\"TESLA\",\"TESLA\",\"TESLA\",\"TESLA\",\"TESLA\",\"TESLA\",\"TESLA\",\"TESLA\",\"TESLA\",\"TESLA\",\"TESLA\",\"TESLA\",\"TESLA\",\"TESLA\",\"TESLA\",\"TESLA\",\"TESLA\",\"TESLA\",\"TESLA\",\"TESLA\",\"TESLA\",\"TESLA\",\"TESLA\",\"TESLA\",\"TESLA\",\"TESLA\",\"TESLA\",\"TESLA\",\"TESLA\",\"TESLA\",\"TESLA\",\"TESLA\",\"TESLA\",\"TESLA\",\"TESLA\",\"TESLA\",\"TESLA\",\"TESLA\",\"TESLA\",\"TESLA\",\"TESLA\",\"TESLA\",\"TESLA\",\"TESLA\",\"TESLA\",\"TESLA\",\"TESLA\",\"TESLA\",\"TESLA\",\"TESLA\",\"TESLA\",\"TESLA\",\"TESLA\",\"TESLA\",\"TESLA\",\"TESLA\",\"TESLA\",\"TESLA\",\"TESLA\",\"TESLA\",\"TESLA\",\"TESLA\",\"TESLA\",\"TESLA\",\"TESLA\",\"TESLA\",\"TESLA\",\"TESLA\",\"TESLA\",\"TESLA\",\"TESLA\",\"TESLA\",\"TESLA\",\"TESLA\",\"TESLA\",\"TESLA\",\"TESLA\",\"TESLA\",\"TESLA\",\"TESLA\",\"TESLA\",\"TESLA\",\"TESLA\",\"TESLA\",\"TESLA\",\"TESLA\",\"TESLA\",\"TESLA\",\"TESLA\",\"TESLA\",\"TESLA\",\"TESLA\",\"TESLA\",\"TESLA\",\"TESLA\",\"TESLA\",\"TESLA\",\"TESLA\",\"TESLA\",\"TESLA\",\"TESLA\",\"TESLA\",\"TESLA\",\"TESLA\",\"TESLA\",\"TESLA\",\"TESLA\",\"TESLA\",\"TESLA\",\"TESLA\",\"TESLA\",\"TESLA\",\"TESLA\",\"TESLA\",\"TESLA\",\"TESLA\",\"TESLA\",\"TESLA\",\"TESLA\",\"TESLA\",\"TESLA\",\"TESLA\",\"TESLA\",\"TESLA\",\"TESLA\",\"TESLA\",\"TESLA\",\"TESLA\",\"TESLA\",\"TESLA\",\"TESLA\",\"TESLA\",\"TESLA\",\"TESLA\",\"TESLA\",\"TESLA\",\"TESLA\",\"TESLA\",\"TESLA\",\"TESLA\",\"TESLA\",\"TESLA\",\"TESLA\",\"TESLA\",\"TESLA\",\"TESLA\",\"TESLA\",\"TESLA\",\"TESLA\",\"TESLA\",\"TESLA\",\"TESLA\",\"TESLA\",\"TESLA\",\"TESLA\",\"TESLA\",\"TESLA\",\"TESLA\",\"TESLA\",\"TESLA\",\"TESLA\",\"TESLA\",\"TESLA\",\"TESLA\",\"TESLA\",\"TESLA\",\"TESLA\",\"TESLA\",\"TESLA\",\"TESLA\",\"TESLA\",\"TESLA\",\"TESLA\",\"TESLA\",\"TESLA\",\"TESLA\",\"TESLA\",\"TESLA\",\"TESLA\",\"TESLA\",\"TESLA\",\"TESLA\",\"TESLA\",\"TESLA\",\"TESLA\",\"TESLA\",\"TESLA\",\"TESLA\",\"TESLA\",\"TESLA\",\"TESLA\",\"TESLA\",\"TESLA\",\"TESLA\",\"TESLA\",\"TESLA\",\"TESLA\",\"TESLA\",\"TESLA\",\"TESLA\",\"TESLA\",\"TESLA\",\"TESLA\",\"TESLA\",\"TESLA\",\"TESLA\",\"TESLA\",\"TESLA\",\"TESLA\",\"TESLA\",\"TESLA\",\"TESLA\",\"TESLA\",\"TESLA\",\"TESLA\",\"TESLA\",\"TESLA\",\"TESLA\",\"TESLA\",\"TESLA\",\"TESLA\",\"TESLA\",\"TESLA\",\"TESLA\",\"TESLA\",\"TESLA\",\"TESLA\",\"TESLA\",\"TESLA\",\"TESLA\",\"TESLA\",\"TESLA\",\"TESLA\",\"TESLA\",\"TESLA\",\"TESLA\",\"TESLA\",\"TESLA\",\"TESLA\",\"TESLA\",\"TESLA\",\"TESLA\",\"TESLA\",\"TESLA\",\"TESLA\",\"TESLA\",\"TESLA\",\"TESLA\",\"TESLA\",\"TESLA\",\"TESLA\",\"TESLA\",\"TESLA\",\"TESLA\",\"TESLA\",\"TESLA\",\"TESLA\",\"TESLA\",\"TESLA\",\"TESLA\",\"TESLA\",\"TESLA\",\"TESLA\",\"TESLA\",\"TESLA\",\"TESLA\",\"TESLA\",\"TESLA\",\"TESLA\",\"TESLA\",\"TESLA\",\"TESLA\",\"TESLA\",\"TESLA\",\"TESLA\",\"TESLA\",\"TESLA\",\"TESLA\",\"TESLA\",\"TESLA\",\"TESLA\",\"TESLA\",\"TESLA\",\"TESLA\",\"TESLA\",\"TESLA\",\"TESLA\",\"TESLA\",\"TESLA\",\"TESLA\",\"TESLA\",\"TESLA\",\"TESLA\",\"TESLA\",\"TESLA\",\"TESLA\",\"TESLA\",\"TESLA\",\"TESLA\",\"TESLA\",\"TESLA\",\"TESLA\",\"TESLA\",\"TESLA\",\"TESLA\",\"TESLA\",\"TESLA\",\"TESLA\",\"TESLA\",\"TESLA\",\"TESLA\",\"TESLA\",\"TESLA\",\"TESLA\",\"TESLA\",\"TESLA\",\"TESLA\",\"TESLA\",\"TESLA\",\"TESLA\",\"TESLA\",\"TESLA\",\"TESLA\",\"TESLA\",\"TESLA\",\"TESLA\",\"TESLA\",\"TESLA\",\"TESLA\",\"TESLA\",\"TESLA\",\"TESLA\",\"TESLA\",\"TESLA\",\"TESLA\",\"TESLA\",\"TESLA\",\"TESLA\",\"TESLA\",\"TESLA\",\"TESLA\",\"TESLA\",\"TESLA\",\"TESLA\",\"TESLA\",\"TESLA\",\"TESLA\",\"TESLA\",\"TESLA\",\"TESLA\",\"TESLA\",\"TESLA\",\"TESLA\",\"TESLA\",\"TESLA\",\"TESLA\",\"TESLA\",\"TESLA\",\"TESLA\",\"TESLA\",\"TESLA\",\"TESLA\",\"TESLA\",\"TESLA\",\"TESLA\",\"TESLA\",\"TESLA\",\"TESLA\",\"TESLA\",\"TESLA\",\"TESLA\",\"TESLA\",\"TESLA\",\"TESLA\",\"TESLA\",\"TESLA\",\"TESLA\",\"TESLA\",\"TESLA\",\"TESLA\",\"TESLA\",\"TESLA\",\"TESLA\",\"TESLA\",\"TESLA\",\"TESLA\",\"TESLA\",\"TESLA\",\"TESLA\",\"TESLA\",\"TESLA\",\"TESLA\",\"TESLA\",\"TESLA\",\"TESLA\",\"TESLA\",\"TESLA\",\"TESLA\",\"TESLA\",\"TESLA\",\"TESLA\",\"TESLA\",\"TESLA\",\"TESLA\",\"TESLA\",\"TESLA\",\"TESLA\",\"TESLA\",\"TESLA\",\"TESLA\",\"TESLA\",\"TESLA\",\"TESLA\",\"TESLA\",\"TESLA\",\"TESLA\",\"TESLA\",\"TESLA\",\"TESLA\",\"TESLA\",\"TESLA\",\"TESLA\",\"TESLA\",\"TESLA\",\"TESLA\",\"TESLA\",\"TESLA\",\"TESLA\",\"TESLA\",\"TESLA\",\"TESLA\",\"TESLA\",\"TESLA\",\"TESLA\",\"TESLA\",\"TESLA\",\"TESLA\",\"TESLA\",\"TESLA\",\"TESLA\",\"TESLA\",\"TESLA\",\"TESLA\",\"TESLA\",\"TESLA\",\"TESLA\",\"TESLA\",\"TESLA\",\"TESLA\",\"TESLA\",\"TESLA\",\"TESLA\",\"TESLA\",\"TESLA\",\"TESLA\",\"TESLA\",\"TESLA\",\"TESLA\",\"TESLA\",\"TESLA\",\"TESLA\",\"TESLA\",\"TESLA\",\"TESLA\",\"TESLA\",\"TESLA\",\"TESLA\",\"TESLA\",\"TESLA\",\"TESLA\",\"TESLA\",\"TESLA\",\"TESLA\",\"TESLA\",\"TESLA\",\"TESLA\",\"TESLA\",\"TESLA\",\"TESLA\",\"TESLA\",\"TESLA\",\"TESLA\",\"TESLA\",\"TESLA\",\"TESLA\",\"TESLA\",\"TESLA\",\"TESLA\",\"TESLA\",\"TESLA\",\"TESLA\",\"TESLA\",\"TESLA\",\"TESLA\",\"TESLA\",\"TESLA\",\"TESLA\",\"TESLA\",\"TESLA\",\"TESLA\",\"TESLA\",\"TESLA\",\"TESLA\",\"TESLA\",\"TESLA\",\"TESLA\",\"TESLA\",\"TESLA\",\"TESLA\",\"TESLA\",\"TESLA\",\"TESLA\",\"TESLA\",\"TESLA\",\"TESLA\",\"TESLA\",\"TESLA\",\"TESLA\",\"TESLA\",\"TESLA\",\"TESLA\",\"TESLA\",\"TESLA\",\"TESLA\",\"TESLA\",\"TESLA\",\"TESLA\",\"TESLA\",\"TESLA\",\"TESLA\",\"TESLA\",\"TESLA\",\"TESLA\",\"TESLA\",\"TESLA\",\"TESLA\",\"TESLA\",\"TESLA\",\"TESLA\",\"TESLA\",\"TESLA\",\"TESLA\",\"TESLA\",\"TESLA\",\"TESLA\",\"TESLA\",\"TESLA\",\"TESLA\",\"TESLA\",\"TESLA\",\"TESLA\",\"TESLA\",\"TESLA\",\"TESLA\",\"TESLA\",\"TESLA\",\"TESLA\",\"TESLA\",\"TESLA\",\"TESLA\",\"TESLA\",\"TESLA\",\"TESLA\",\"TESLA\",\"TESLA\",\"TESLA\",\"TESLA\",\"TESLA\",\"TESLA\",\"TESLA\",\"TESLA\",\"TESLA\",\"TESLA\",\"TESLA\",\"TESLA\",\"TESLA\",\"TESLA\",\"TESLA\",\"TESLA\",\"TESLA\",\"TESLA\",\"TESLA\",\"TESLA\",\"TESLA\",\"TESLA\",\"TESLA\",\"TESLA\",\"TESLA\",\"TESLA\",\"TESLA\",\"TESLA\",\"TESLA\",\"TESLA\",\"TESLA\",\"TESLA\",\"TESLA\",\"TESLA\",\"TESLA\",\"TESLA\",\"TESLA\",\"TESLA\",\"TESLA\",\"TESLA\",\"TESLA\",\"TESLA\",\"TESLA\",\"TESLA\",\"TESLA\",\"TESLA\",\"TESLA\",\"TESLA\",\"TESLA\",\"TESLA\",\"TESLA\",\"TESLA\",\"TESLA\",\"TESLA\",\"TESLA\",\"TESLA\",\"TESLA\",\"TESLA\",\"TESLA\",\"TESLA\",\"TESLA\",\"TESLA\",\"TESLA\",\"TESLA\",\"TESLA\",\"TESLA\",\"TESLA\",\"TESLA\",\"TESLA\",\"TESLA\",\"TESLA\",\"TESLA\",\"TESLA\",\"TESLA\",\"TESLA\",\"TESLA\",\"TESLA\",\"TESLA\",\"TESLA\",\"TESLA\",\"TESLA\",\"TESLA\",\"TESLA\",\"TESLA\",\"TESLA\",\"TESLA\",\"TESLA\",\"TESLA\",\"TESLA\",\"TESLA\",\"TESLA\",\"TESLA\",\"TESLA\",\"TESLA\",\"TESLA\",\"TESLA\",\"TESLA\",\"TESLA\",\"TESLA\",\"TESLA\",\"TESLA\",\"TESLA\",\"TESLA\",\"TESLA\",\"TESLA\",\"TESLA\",\"TESLA\",\"TESLA\",\"TESLA\",\"TESLA\",\"TESLA\",\"TESLA\",\"TESLA\",\"TESLA\",\"TESLA\",\"TESLA\",\"TESLA\",\"TESLA\",\"TESLA\",\"TESLA\",\"TESLA\",\"TESLA\",\"TESLA\",\"TESLA\",\"TESLA\",\"TESLA\",\"TESLA\",\"TESLA\",\"TESLA\",\"TESLA\",\"TESLA\",\"TESLA\",\"TESLA\",\"TESLA\",\"TESLA\",\"TESLA\",\"TESLA\",\"TESLA\",\"TESLA\",\"TESLA\",\"TESLA\",\"TESLA\",\"TESLA\",\"TESLA\",\"TESLA\",\"TESLA\",\"TESLA\",\"TESLA\",\"TESLA\",\"TESLA\",\"TESLA\",\"TESLA\",\"TESLA\",\"TESLA\",\"TESLA\",\"TESLA\",\"TESLA\",\"TESLA\",\"TESLA\",\"TESLA\",\"TESLA\",\"TESLA\",\"TESLA\",\"TESLA\",\"TESLA\",\"TESLA\",\"TESLA\",\"TESLA\",\"TESLA\",\"TESLA\",\"TESLA\",\"TESLA\",\"TESLA\",\"TESLA\",\"TESLA\",\"TESLA\",\"TESLA\",\"TESLA\",\"TESLA\",\"TESLA\",\"TESLA\",\"TESLA\",\"TESLA\",\"TESLA\",\"TESLA\",\"TESLA\",\"TESLA\",\"TESLA\",\"TESLA\",\"TESLA\",\"TESLA\",\"TESLA\",\"TESLA\",\"TESLA\",\"TESLA\",\"TESLA\",\"TESLA\",\"TESLA\",\"TESLA\",\"TESLA\",\"TESLA\",\"TESLA\",\"TESLA\",\"TESLA\",\"TESLA\",\"TESLA\",\"TESLA\",\"TESLA\",\"TESLA\",\"TESLA\",\"TESLA\",\"TESLA\",\"TESLA\",\"TESLA\",\"TESLA\",\"TESLA\",\"TESLA\",\"TESLA\",\"TESLA\",\"TESLA\",\"TESLA\",\"TESLA\",\"TESLA\",\"TESLA\",\"TESLA\",\"TESLA\",\"TESLA\",\"TESLA\",\"TESLA\",\"TESLA\",\"TESLA\",\"TESLA\",\"TESLA\",\"TESLA\",\"TESLA\",\"TESLA\",\"TESLA\",\"TESLA\",\"TESLA\",\"TESLA\",\"TESLA\",\"TESLA\",\"TESLA\",\"TESLA\",\"TESLA\",\"TESLA\",\"TESLA\",\"TESLA\",\"TESLA\",\"TESLA\",\"TESLA\",\"TESLA\",\"TESLA\",\"TESLA\",\"TESLA\",\"TESLA\",\"TESLA\",\"TESLA\",\"TESLA\",\"TESLA\",\"TESLA\",\"TESLA\",\"TESLA\",\"TESLA\",\"TESLA\",\"TESLA\",\"TESLA\",\"TESLA\",\"TESLA\",\"TESLA\",\"TESLA\",\"TESLA\",\"TESLA\",\"TESLA\",\"TESLA\",\"TESLA\",\"TESLA\",\"TESLA\",\"TESLA\",\"TESLA\",\"TESLA\",\"TESLA\",\"TESLA\",\"TESLA\",\"TESLA\",\"TESLA\",\"TESLA\",\"TESLA\",\"TESLA\",\"TESLA\",\"TESLA\",\"TESLA\",\"TESLA\",\"TESLA\",\"TESLA\",\"TESLA\",\"TESLA\",\"TESLA\",\"TESLA\",\"TESLA\",\"TESLA\",\"TESLA\",\"TESLA\",\"TESLA\",\"TESLA\",\"TESLA\",\"TESLA\",\"TESLA\",\"TESLA\",\"TESLA\",\"TESLA\",\"TESLA\",\"TESLA\",\"TESLA\",\"TESLA\",\"TESLA\",\"TESLA\",\"TESLA\",\"TESLA\",\"TESLA\",\"TESLA\",\"TESLA\",\"TESLA\",\"TESLA\",\"TESLA\",\"TESLA\",\"TESLA\",\"TESLA\",\"TESLA\",\"TESLA\",\"TESLA\",\"TESLA\",\"TESLA\",\"TESLA\",\"TESLA\",\"TESLA\",\"TESLA\",\"TESLA\",\"TESLA\",\"TESLA\",\"TESLA\",\"TESLA\",\"TESLA\",\"TESLA\",\"TESLA\",\"TESLA\",\"TESLA\",\"TESLA\",\"TESLA\",\"TESLA\",\"TESLA\",\"TESLA\",\"TESLA\",\"TESLA\",\"TESLA\",\"TESLA\",\"TESLA\",\"TESLA\",\"TESLA\",\"TESLA\",\"TESLA\",\"TESLA\",\"TESLA\",\"TESLA\",\"TESLA\",\"TESLA\",\"TESLA\",\"TESLA\",\"TESLA\",\"TESLA\",\"TESLA\",\"TESLA\",\"TESLA\",\"TESLA\",\"TESLA\",\"TESLA\",\"TESLA\",\"TESLA\",\"TESLA\",\"TESLA\",\"TESLA\",\"TESLA\",\"TESLA\",\"TESLA\",\"TESLA\",\"TESLA\",\"TESLA\",\"TESLA\",\"TESLA\",\"TESLA\",\"TESLA\",\"TESLA\",\"TESLA\",\"TESLA\",\"TESLA\",\"TESLA\",\"TESLA\",\"TESLA\",\"TESLA\",\"TESLA\",\"TESLA\",\"TESLA\",\"TESLA\",\"TESLA\",\"TESLA\",\"TESLA\",\"TESLA\",\"TESLA\",\"TESLA\",\"TESLA\",\"TESLA\",\"TESLA\",\"TESLA\",\"TESLA\",\"TESLA\",\"TESLA\",\"TESLA\",\"TESLA\",\"TESLA\",\"TESLA\",\"TESLA\",\"TESLA\",\"TESLA\",\"TESLA\",\"TESLA\",\"TESLA\",\"TESLA\",\"TESLA\",\"TESLA\",\"TESLA\",\"TESLA\",\"TESLA\",\"TESLA\",\"TESLA\",\"TESLA\",\"TESLA\",\"TESLA\",\"TESLA\",\"TESLA\",\"TESLA\",\"TESLA\",\"TESLA\",\"TESLA\",\"TESLA\",\"TESLA\",\"TESLA\",\"TESLA\",\"TESLA\",\"TESLA\",\"TESLA\",\"TESLA\",\"TESLA\",\"TESLA\",\"TESLA\",\"TESLA\",\"TESLA\",\"TESLA\",\"TESLA\",\"TESLA\",\"TESLA\",\"TESLA\",\"TESLA\",\"TESLA\",\"TESLA\",\"TESLA\",\"TESLA\",\"TESLA\",\"TESLA\",\"TESLA\",\"TESLA\",\"TESLA\",\"TESLA\",\"TESLA\",\"TESLA\",\"TESLA\",\"TESLA\",\"TESLA\",\"TESLA\",\"TESLA\",\"TESLA\",\"TESLA\",\"TESLA\",\"TESLA\",\"TESLA\",\"TESLA\",\"TESLA\",\"TESLA\",\"TESLA\",\"TESLA\",\"TESLA\",\"TESLA\",\"TESLA\",\"TESLA\",\"TESLA\",\"TESLA\",\"TESLA\",\"TESLA\",\"TESLA\",\"TESLA\",\"TESLA\",\"TESLA\",\"TESLA\",\"TESLA\",\"TESLA\",\"TESLA\",\"TESLA\",\"TESLA\",\"TESLA\",\"TESLA\",\"TESLA\",\"TESLA\",\"TESLA\",\"TESLA\",\"TESLA\",\"TESLA\",\"TESLA\",\"TESLA\",\"TESLA\",\"TESLA\",\"TESLA\",\"TESLA\",\"TESLA\",\"TESLA\",\"TESLA\",\"TESLA\",\"TESLA\",\"TESLA\",\"TESLA\",\"TESLA\",\"TESLA\",\"TESLA\",\"TESLA\",\"TESLA\",\"TESLA\",\"TESLA\",\"TESLA\",\"TESLA\",\"TESLA\",\"TESLA\",\"TESLA\",\"TESLA\",\"TESLA\",\"TESLA\",\"TESLA\",\"TESLA\",\"TESLA\",\"TESLA\",\"TESLA\",\"TESLA\",\"TESLA\",\"TESLA\",\"TESLA\",\"TESLA\",\"TESLA\",\"TESLA\",\"TESLA\",\"TESLA\",\"TESLA\",\"TESLA\",\"TESLA\",\"TESLA\",\"TESLA\",\"TESLA\",\"TESLA\",\"TESLA\",\"TESLA\",\"TESLA\",\"TESLA\",\"TESLA\",\"TESLA\",\"TESLA\",\"TESLA\",\"TESLA\",\"TESLA\",\"TESLA\",\"TESLA\",\"TESLA\",\"TESLA\",\"TESLA\",\"TESLA\",\"TESLA\",\"TESLA\",\"TESLA\",\"TESLA\",\"TESLA\",\"TESLA\",\"TESLA\",\"TESLA\",\"TESLA\",\"TESLA\",\"TESLA\",\"TESLA\",\"TESLA\",\"TESLA\",\"TESLA\",\"TESLA\",\"TESLA\",\"TESLA\",\"TESLA\",\"TESLA\",\"TESLA\",\"TESLA\",\"TESLA\",\"TESLA\",\"TESLA\",\"TESLA\",\"TESLA\",\"TESLA\",\"TESLA\",\"TESLA\",\"TESLA\",\"TESLA\",\"TESLA\",\"TESLA\",\"TESLA\",\"TESLA\",\"TESLA\",\"TESLA\",\"TESLA\",\"TESLA\",\"TESLA\",\"TESLA\",\"TESLA\",\"TESLA\",\"TESLA\",\"TESLA\",\"TESLA\",\"TESLA\",\"TESLA\",\"TESLA\",\"TESLA\",\"TESLA\",\"TESLA\",\"TESLA\",\"TESLA\",\"TESLA\",\"TESLA\",\"TESLA\",\"TESLA\",\"TESLA\",\"TESLA\",\"TESLA\",\"TESLA\",\"TESLA\",\"TESLA\",\"TESLA\",\"TESLA\",\"TESLA\",\"TESLA\",\"TESLA\",\"TESLA\",\"TESLA\",\"TESLA\",\"TESLA\",\"TESLA\",\"TESLA\",\"TESLA\",\"TESLA\",\"TESLA\",\"TESLA\",\"TESLA\",\"TESLA\",\"TESLA\",\"TESLA\",\"TESLA\",\"TESLA\",\"TESLA\",\"TESLA\",\"TESLA\",\"TESLA\",\"TESLA\",\"TESLA\",\"TESLA\",\"TESLA\",\"TESLA\",\"TESLA\",\"TESLA\",\"TESLA\",\"TESLA\",\"TESLA\",\"TESLA\",\"TESLA\",\"TESLA\",\"TESLA\",\"TESLA\",\"TESLA\",\"TESLA\",\"TESLA\",\"TESLA\",\"TESLA\",\"TESLA\",\"TESLA\",\"TESLA\",\"TESLA\",\"TESLA\",\"TESLA\",\"TESLA\",\"TESLA\",\"TESLA\",\"TESLA\",\"TESLA\",\"TESLA\",\"TESLA\",\"TESLA\",\"TESLA\",\"TESLA\",\"TESLA\",\"TESLA\",\"TESLA\",\"TESLA\",\"TESLA\",\"TESLA\",\"TESLA\",\"TESLA\",\"TESLA\",\"TESLA\",\"TESLA\",\"TESLA\",\"TESLA\",\"TESLA\",\"TESLA\",\"TESLA\",\"TESLA\",\"TESLA\",\"TESLA\",\"TESLA\",\"TESLA\",\"TESLA\",\"TESLA\",\"TESLA\",\"TESLA\",\"TESLA\",\"TESLA\",\"TESLA\",\"TESLA\",\"TESLA\",\"TESLA\",\"TESLA\",\"TESLA\",\"TESLA\",\"TESLA\",\"TESLA\",\"TESLA\",\"TESLA\",\"TESLA\",\"TESLA\",\"TESLA\",\"TESLA\",\"TESLA\",\"TESLA\",\"TESLA\",\"TESLA\",\"TESLA\",\"TESLA\",\"TESLA\",\"TESLA\",\"TESLA\",\"TESLA\",\"TESLA\",\"TESLA\",\"TESLA\",\"TESLA\",\"TESLA\",\"TESLA\",\"TESLA\",\"TESLA\",\"TESLA\",\"TESLA\",\"TESLA\",\"TESLA\",\"TESLA\",\"TESLA\",\"TESLA\",\"TESLA\",\"TESLA\",\"TESLA\",\"TESLA\",\"TESLA\",\"TESLA\",\"TESLA\",\"TESLA\",\"TESLA\",\"TESLA\",\"TESLA\",\"TESLA\",\"TESLA\",\"TESLA\",\"TESLA\",\"TESLA\",\"TESLA\",\"TESLA\",\"TESLA\",\"TESLA\",\"TESLA\",\"TESLA\",\"TESLA\",\"TESLA\",\"TESLA\",\"TESLA\",\"TESLA\",\"TESLA\",\"TESLA\",\"TESLA\",\"TESLA\",\"TESLA\",\"TESLA\",\"TESLA\",\"TESLA\",\"TESLA\",\"TESLA\",\"TESLA\",\"TESLA\",\"TESLA\",\"TESLA\",\"TESLA\",\"TESLA\",\"TESLA\",\"TESLA\",\"TESLA\",\"TESLA\",\"TESLA\",\"TESLA\",\"TESLA\",\"TESLA\",\"TESLA\",\"TESLA\",\"TESLA\",\"TESLA\",\"TESLA\",\"TESLA\",\"TESLA\",\"TESLA\",\"TESLA\",\"TESLA\",\"TESLA\",\"TESLA\",\"TESLA\",\"TESLA\",\"TESLA\",\"TESLA\",\"TESLA\",\"TESLA\",\"TESLA\",\"TESLA\",\"TESLA\",\"TESLA\",\"TESLA\",\"TESLA\",\"TESLA\",\"TESLA\",\"TESLA\",\"TESLA\",\"TESLA\",\"TESLA\",\"TESLA\",\"TESLA\",\"TESLA\",\"TESLA\",\"TESLA\",\"TESLA\",\"TESLA\",\"TESLA\",\"TESLA\",\"TESLA\",\"TESLA\",\"TESLA\",\"TESLA\",\"TESLA\",\"TESLA\",\"TESLA\",\"TESLA\",\"TESLA\",\"TESLA\",\"TESLA\",\"TESLA\",\"TESLA\",\"TESLA\",\"TESLA\",\"TESLA\",\"TESLA\",\"TESLA\",\"TESLA\",\"TESLA\",\"TESLA\",\"TESLA\",\"TESLA\",\"TESLA\",\"TESLA\",\"TESLA\",\"TESLA\",\"TESLA\",\"TESLA\",\"TESLA\",\"TESLA\",\"TESLA\",\"TESLA\",\"TESLA\",\"TESLA\",\"TESLA\",\"TESLA\",\"TESLA\",\"TESLA\",\"TESLA\",\"TESLA\",\"TESLA\",\"TESLA\",\"TESLA\",\"TESLA\",\"TESLA\",\"TESLA\",\"TESLA\",\"TESLA\",\"TESLA\",\"TESLA\",\"TESLA\",\"TESLA\",\"TESLA\",\"TESLA\",\"TESLA\",\"TESLA\",\"TESLA\",\"TESLA\",\"TESLA\",\"TESLA\",\"TESLA\",\"TESLA\",\"TESLA\",\"TESLA\",\"TESLA\",\"TESLA\",\"TESLA\",\"TESLA\",\"TESLA\",\"TESLA\",\"TESLA\",\"TESLA\",\"TESLA\",\"TESLA\",\"TESLA\",\"TESLA\",\"TESLA\",\"TESLA\",\"TESLA\",\"TESLA\",\"TESLA\",\"TESLA\",\"TESLA\",\"TESLA\",\"TESLA\",\"TESLA\",\"TESLA\",\"TESLA\",\"TESLA\",\"TESLA\",\"TESLA\",\"TESLA\",\"TESLA\",\"TESLA\",\"TESLA\",\"TESLA\",\"TESLA\",\"TESLA\",\"TESLA\",\"TESLA\",\"TESLA\",\"TESLA\",\"TESLA\",\"TESLA\",\"TESLA\",\"TESLA\",\"TESLA\",\"TESLA\",\"TESLA\",\"TESLA\",\"TESLA\",\"TESLA\",\"TESLA\",\"TESLA\",\"TESLA\",\"TESLA\",\"TESLA\",\"TESLA\",\"TESLA\",\"TESLA\",\"TESLA\",\"TESLA\",\"TESLA\",\"TESLA\",\"TESLA\",\"TESLA\",\"TESLA\",\"TESLA\",\"TESLA\",\"TESLA\",\"TESLA\",\"TESLA\",\"TESLA\",\"TESLA\",\"TESLA\",\"TESLA\",\"TESLA\",\"TESLA\",\"TESLA\",\"TESLA\",\"TESLA\",\"TESLA\",\"TESLA\",\"TESLA\",\"TESLA\",\"TESLA\",\"TESLA\",\"TESLA\",\"TESLA\",\"TESLA\",\"TESLA\",\"TESLA\",\"TESLA\",\"TESLA\",\"TESLA\",\"TESLA\",\"TESLA\",\"TESLA\",\"TESLA\",\"TESLA\",\"TESLA\",\"TESLA\",\"TESLA\",\"TESLA\",\"TESLA\",\"TESLA\",\"TESLA\",\"TESLA\",\"TESLA\",\"TESLA\",\"TESLA\",\"TESLA\",\"TESLA\",\"TESLA\",\"TESLA\",\"TESLA\",\"TESLA\",\"TESLA\",\"TESLA\",\"TESLA\",\"TESLA\",\"TESLA\",\"TESLA\",\"TESLA\",\"TESLA\",\"TESLA\",\"TESLA\",\"TESLA\",\"TESLA\",\"TESLA\",\"TESLA\",\"TESLA\",\"TESLA\",\"TESLA\",\"TESLA\",\"TESLA\",\"TESLA\",\"TESLA\",\"TESLA\",\"TESLA\",\"TESLA\",\"TESLA\",\"TESLA\",\"TESLA\",\"TESLA\",\"TESLA\",\"TESLA\",\"TESLA\",\"TESLA\",\"TESLA\",\"TESLA\",\"TESLA\",\"TESLA\",\"TESLA\",\"TESLA\",\"TESLA\",\"TESLA\",\"TESLA\",\"TESLA\",\"TESLA\",\"TESLA\",\"TESLA\",\"TESLA\",\"TESLA\",\"TESLA\",\"TESLA\",\"TESLA\",\"TESLA\",\"TESLA\",\"TESLA\",\"TESLA\",\"TESLA\",\"TESLA\",\"TESLA\",\"TESLA\",\"TESLA\",\"TESLA\",\"TESLA\",\"TESLA\",\"TESLA\",\"TESLA\",\"TESLA\",\"TESLA\",\"TESLA\",\"TESLA\",\"TESLA\",\"TESLA\",\"TESLA\",\"TESLA\",\"TESLA\",\"TESLA\",\"TESLA\",\"TESLA\",\"TESLA\",\"TESLA\",\"TESLA\",\"TESLA\",\"TESLA\",\"TESLA\",\"TESLA\",\"TESLA\",\"TESLA\",\"TESLA\",\"TESLA\",\"TESLA\",\"TESLA\",\"TESLA\",\"TESLA\",\"TESLA\",\"TESLA\",\"TESLA\",\"TESLA\",\"TESLA\",\"TESLA\",\"TESLA\",\"TESLA\",\"TESLA\",\"TESLA\",\"TESLA\",\"TESLA\",\"TESLA\",\"TESLA\",\"TESLA\",\"TESLA\",\"TESLA\",\"TESLA\",\"TESLA\",\"TESLA\",\"TESLA\",\"TESLA\",\"TESLA\",\"TESLA\",\"TESLA\",\"TESLA\",\"TESLA\",\"TESLA\",\"TESLA\",\"TESLA\",\"TESLA\",\"TESLA\",\"TESLA\",\"TESLA\",\"TESLA\",\"TESLA\",\"TESLA\",\"TESLA\",\"TESLA\",\"TESLA\",\"TESLA\",\"TESLA\",\"TESLA\",\"TESLA\",\"TESLA\",\"TESLA\",\"TESLA\",\"TESLA\",\"TESLA\",\"TESLA\",\"TESLA\",\"TESLA\",\"TESLA\",\"TESLA\",\"TESLA\",\"TESLA\",\"TESLA\",\"TESLA\",\"TESLA\",\"TESLA\",\"TESLA\",\"TESLA\",\"TESLA\",\"TESLA\",\"TESLA\",\"TESLA\",\"TESLA\",\"TESLA\",\"TESLA\",\"TESLA\",\"TESLA\",\"TESLA\",\"TESLA\",\"TESLA\",\"TESLA\",\"TESLA\",\"TESLA\",\"TESLA\",\"TESLA\",\"TESLA\",\"TESLA\",\"TESLA\",\"TESLA\",\"TESLA\",\"TESLA\",\"TESLA\",\"TESLA\",\"TESLA\",\"TESLA\",\"TESLA\",\"TESLA\",\"TESLA\",\"TESLA\",\"TESLA\",\"TESLA\",\"TESLA\",\"TESLA\",\"TESLA\",\"TESLA\",\"TESLA\",\"TESLA\",\"TESLA\",\"TESLA\",\"TESLA\",\"TESLA\",\"TESLA\",\"TESLA\",\"TESLA\",\"TESLA\",\"TESLA\",\"TESLA\",\"TESLA\",\"TESLA\",\"TESLA\",\"TESLA\",\"TESLA\",\"TESLA\",\"TESLA\",\"TESLA\",\"TESLA\",\"TESLA\",\"TESLA\",\"TESLA\",\"TESLA\",\"TESLA\",\"TESLA\",\"TESLA\",\"TESLA\",\"TESLA\",\"TESLA\",\"TESLA\",\"TESLA\",\"TESLA\",\"TESLA\",\"TESLA\",\"TESLA\",\"TESLA\",\"TESLA\",\"TESLA\",\"TESLA\",\"TESLA\",\"TESLA\",\"TESLA\",\"TESLA\",\"TESLA\",\"TESLA\",\"TESLA\",\"TESLA\",\"TESLA\",\"TESLA\",\"TESLA\",\"TESLA\",\"TESLA\",\"TESLA\",\"TESLA\",\"TESLA\",\"TESLA\",\"TESLA\",\"TESLA\",\"TESLA\",\"TESLA\",\"TESLA\",\"TESLA\",\"TESLA\",\"TESLA\",\"TESLA\",\"TESLA\",\"TESLA\",\"TESLA\",\"TESLA\",\"TESLA\",\"TESLA\",\"TESLA\",\"TESLA\",\"TESLA\",\"TESLA\",\"TESLA\",\"TESLA\",\"TESLA\",\"TESLA\",\"TESLA\",\"TESLA\",\"TESLA\",\"TESLA\",\"TESLA\",\"TESLA\",\"TESLA\",\"TESLA\",\"TESLA\",\"TESLA\",\"TESLA\",\"TESLA\",\"TESLA\",\"TESLA\",\"TESLA\",\"TESLA\",\"TESLA\",\"TESLA\",\"TESLA\",\"TESLA\",\"TESLA\",\"TESLA\",\"TESLA\",\"TESLA\",\"TESLA\",\"TESLA\",\"TESLA\",\"TESLA\",\"TESLA\",\"TESLA\",\"TESLA\",\"TESLA\",\"TESLA\",\"TESLA\",\"TESLA\",\"TESLA\",\"TESLA\",\"TESLA\",\"TESLA\",\"TESLA\",\"TESLA\",\"TESLA\",\"TESLA\",\"TESLA\",\"TESLA\",\"TESLA\",\"TESLA\",\"TESLA\",\"TESLA\",\"TESLA\",\"TESLA\",\"TESLA\",\"TESLA\",\"TESLA\",\"TESLA\",\"TESLA\",\"TESLA\",\"TESLA\",\"TESLA\",\"TESLA\",\"TESLA\",\"TESLA\",\"TESLA\",\"TESLA\",\"TESLA\",\"TESLA\",\"TESLA\",\"TESLA\",\"TESLA\",\"TESLA\",\"TESLA\",\"TESLA\",\"TESLA\",\"TESLA\",\"TESLA\",\"TESLA\",\"TESLA\",\"TESLA\",\"TESLA\",\"TESLA\",\"TESLA\",\"TESLA\",\"TESLA\",\"TESLA\",\"TESLA\",\"TESLA\",\"TESLA\",\"TESLA\",\"TESLA\",\"TESLA\",\"TESLA\",\"TESLA\",\"TESLA\",\"TESLA\",\"TESLA\",\"TESLA\",\"TESLA\",\"TESLA\",\"TESLA\",\"TESLA\",\"TESLA\",\"TESLA\",\"TESLA\",\"TESLA\",\"TESLA\",\"TESLA\",\"TESLA\",\"TESLA\",\"TESLA\",\"TESLA\",\"TESLA\",\"TESLA\",\"TESLA\",\"TESLA\",\"TESLA\",\"TESLA\",\"TESLA\",\"TESLA\",\"TESLA\",\"TESLA\",\"TESLA\",\"TESLA\",\"TESLA\",\"TESLA\",\"TESLA\",\"TESLA\",\"TESLA\",\"TESLA\",\"TESLA\",\"TESLA\",\"TESLA\",\"TESLA\",\"TESLA\",\"TESLA\",\"TESLA\",\"TESLA\",\"TESLA\",\"TESLA\",\"TESLA\",\"TESLA\",\"TESLA\",\"TESLA\",\"TESLA\",\"TESLA\",\"TESLA\",\"TESLA\",\"TESLA\",\"TESLA\",\"TESLA\",\"TESLA\",\"TESLA\",\"TESLA\",\"TESLA\",\"TESLA\",\"TESLA\",\"TESLA\",\"TESLA\",\"TESLA\",\"TESLA\",\"TESLA\",\"TESLA\",\"TESLA\",\"TESLA\",\"TESLA\",\"TESLA\",\"TESLA\",\"TESLA\",\"TESLA\",\"TESLA\",\"TESLA\",\"TESLA\",\"TESLA\",\"TESLA\",\"TESLA\",\"TESLA\",\"TESLA\",\"TESLA\",\"TESLA\",\"TESLA\",\"TESLA\",\"TESLA\",\"TESLA\",\"TESLA\",\"TESLA\",\"TESLA\",\"TESLA\",\"TESLA\",\"TESLA\",\"TESLA\",\"TESLA\",\"TESLA\",\"TESLA\",\"TESLA\",\"TESLA\",\"TESLA\",\"TESLA\",\"TESLA\",\"TESLA\",\"TESLA\",\"TESLA\",\"TESLA\",\"TESLA\",\"TESLA\",\"TESLA\",\"TESLA\",\"TESLA\",\"TESLA\",\"TESLA\",\"TESLA\",\"TESLA\",\"TESLA\",\"TESLA\",\"TESLA\",\"TESLA\",\"TESLA\",\"TESLA\",\"TESLA\",\"TESLA\",\"TESLA\",\"TESLA\",\"TESLA\",\"TESLA\",\"TESLA\",\"TESLA\",\"TESLA\",\"TESLA\",\"TESLA\",\"TESLA\",\"TESLA\",\"TESLA\",\"TESLA\",\"TESLA\",\"TESLA\",\"TESLA\",\"TESLA\",\"TESLA\",\"TESLA\",\"TESLA\",\"TESLA\",\"TESLA\",\"TESLA\",\"TESLA\",\"TESLA\",\"TESLA\",\"TESLA\",\"TESLA\",\"TESLA\",\"TESLA\",\"TESLA\",\"TESLA\",\"TESLA\",\"TESLA\",\"TESLA\",\"TESLA\",\"TESLA\",\"TESLA\",\"TESLA\",\"TESLA\",\"TESLA\",\"TESLA\",\"TESLA\",\"TESLA\",\"TESLA\",\"TESLA\",\"TESLA\",\"TESLA\",\"TESLA\",\"TESLA\",\"TESLA\",\"TESLA\",\"TESLA\",\"TESLA\",\"TESLA\",\"TESLA\",\"TESLA\",\"TESLA\",\"TESLA\",\"TESLA\",\"TESLA\",\"TESLA\",\"TESLA\",\"TESLA\",\"TESLA\",\"TESLA\",\"TESLA\",\"TESLA\",\"TESLA\",\"TESLA\",\"TESLA\",\"TESLA\",\"TESLA\",\"TESLA\",\"TESLA\",\"TESLA\",\"TESLA\",\"TESLA\",\"TESLA\",\"TESLA\",\"TESLA\",\"TESLA\",\"TESLA\",\"TESLA\",\"TESLA\",\"TESLA\",\"TESLA\",\"TESLA\",\"TESLA\",\"TESLA\",\"TESLA\",\"TESLA\",\"TESLA\",\"TESLA\",\"TESLA\",\"TESLA\",\"TESLA\",\"TESLA\",\"TESLA\",\"TESLA\",\"TESLA\",\"TESLA\",\"TESLA\",\"TESLA\",\"TESLA\",\"TESLA\",\"TESLA\",\"TESLA\",\"TESLA\",\"TESLA\",\"TESLA\",\"TESLA\",\"TESLA\",\"TESLA\",\"TESLA\",\"TESLA\",\"TESLA\",\"TESLA\",\"TESLA\",\"TESLA\",\"TESLA\",\"TESLA\",\"TESLA\",\"TESLA\",\"TESLA\",\"TESLA\",\"TESLA\",\"TESLA\",\"TESLA\",\"TESLA\",\"TESLA\",\"TESLA\",\"TESLA\",\"TESLA\",\"TESLA\",\"TESLA\",\"TESLA\",\"TESLA\",\"TESLA\",\"TESLA\",\"TESLA\",\"TESLA\",\"TESLA\",\"TESLA\",\"TESLA\",\"TESLA\",\"TESLA\",\"TESLA\",\"TESLA\",\"TESLA\",\"TESLA\",\"TESLA\",\"TESLA\",\"TESLA\",\"TESLA\",\"TESLA\",\"TESLA\",\"TESLA\",\"TESLA\",\"TESLA\",\"TESLA\",\"TESLA\",\"TESLA\",\"TESLA\",\"TESLA\",\"TESLA\",\"TESLA\",\"TESLA\",\"TESLA\",\"TESLA\",\"TESLA\",\"TESLA\",\"TESLA\",\"TESLA\",\"TESLA\",\"TESLA\",\"TESLA\",\"TESLA\",\"TESLA\",\"TESLA\",\"TESLA\",\"TESLA\",\"TESLA\",\"TESLA\",\"TESLA\",\"TESLA\",\"TESLA\",\"TESLA\",\"TESLA\",\"TESLA\",\"TESLA\",\"TESLA\",\"TESLA\",\"TESLA\",\"TESLA\",\"TESLA\",\"TESLA\",\"TESLA\",\"TESLA\",\"TESLA\",\"TESLA\",\"TESLA\",\"TESLA\",\"TESLA\",\"TESLA\",\"TESLA\",\"TESLA\",\"TESLA\",\"TESLA\",\"TESLA\",\"TESLA\",\"TESLA\",\"TESLA\",\"TESLA\",\"TESLA\",\"TESLA\",\"TESLA\",\"TESLA\",\"TESLA\",\"TESLA\",\"TESLA\",\"TESLA\",\"TESLA\",\"TESLA\",\"TESLA\",\"TESLA\",\"TESLA\",\"TESLA\",\"TESLA\",\"TESLA\",\"TESLA\",\"TESLA\",\"TESLA\",\"TESLA\",\"TESLA\",\"TESLA\",\"TESLA\",\"TESLA\",\"TESLA\",\"TESLA\",\"TESLA\",\"TESLA\",\"TESLA\",\"TESLA\",\"TESLA\",\"TESLA\",\"TESLA\",\"TESLA\",\"TESLA\",\"TESLA\",\"TESLA\",\"TESLA\",\"TESLA\",\"TESLA\",\"TESLA\",\"TESLA\",\"TESLA\",\"TESLA\",\"TESLA\",\"TESLA\",\"TESLA\",\"TESLA\",\"TESLA\",\"TESLA\",\"TESLA\",\"TESLA\"],\"xaxis\":\"x\",\"y\":[220,266,322,208,308,291,215,291,215,200,266,330,220,220,322,238,249,308,210,215,215,291,215,322,249,220,210,293,291,215,238,266,220,266,220,0,215,322,200,208,322,215,215,208,208,215,289,322,208,0,0,0,322,0,215,0,215,0,215,220,291,0,0,215,208,220,0,220,215,0,0,215,0,0,210,322,0,0,0,291,0,330,0,0,0,0,0,0,0,289,0,0,220,0,0,0,0,210,0,238,0,0,215,0,0,0,249,0,215,0,215,0,0,0,0,0,0,208,291,0,208,0,0,322,0,0,291,200,0,0,291,0,0,0,215,0,0,0,208,0,291,0,0,0,0,322,220,0,0,208,0,0,0,0,266,0,0,215,0,0,0,0,0,0,220,0,208,0,210,291,0,0,0,0,0,0,0,220,0,0,0,208,0,291,215,220,208,0,291,0,0,0,215,210,0,215,215,249,0,215,0,0,0,0,220,0,0,0,0,0,0,0,0,266,0,0,220,322,215,215,0,0,0,210,0,322,0,220,0,0,0,210,0,0,0,0,0,0,0,0,208,215,0,200,208,0,0,0,215,0,0,0,215,0,0,0,0,220,0,0,220,249,0,220,0,0,208,0,0,0,0,210,0,337,0,291,215,0,0,0,220,215,291,0,0,0,208,0,0,0,215,0,215,0,0,0,0,0,0,0,0,330,322,208,0,0,0,0,0,220,0,0,0,0,220,0,291,0,0,0,0,0,0,0,215,0,0,208,0,220,0,210,220,0,0,220,0,0,0,200,210,0,0,215,220,0,0,0,0,0,215,0,238,220,220,266,220,0,220,322,0,220,0,0,0,0,200,238,220,0,0,0,291,0,322,0,210,0,322,220,220,0,208,308,0,0,0,0,0,0,0,0,215,0,0,0,0,322,210,0,266,0,220,291,266,0,220,0,215,220,0,0,0,215,0,0,0,0,0,208,0,0,0,200,322,200,291,0,0,208,0,0,0,215,215,0,0,0,0,0,0,0,208,0,0,210,208,0,0,0,215,220,0,0,0,238,0,322,208,0,215,215,0,208,215,208,0,0,0,215,322,200,0,322,291,0,0,0,215,0,220,0,0,266,0,0,0,0,0,0,220,0,0,291,0,0,0,0,215,0,0,0,0,0,0,0,0,265,208,0,0,322,0,215,0,0,208,0,0,215,0,0,0,0,208,0,215,208,0,0,0,200,0,0,249,0,289,215,0,0,0,0,0,0,0,266,215,0,0,291,215,0,220,0,0,0,0,0,0,0,266,0,0,0,215,0,291,322,220,266,208,0,0,0,215,0,0,238,200,0,0,249,208,0,0,0,249,208,266,0,215,220,0,0,215,215,208,0,208,291,0,291,215,220,0,266,208,0,0,200,0,291,0,266,308,0,238,0,215,0,0,220,293,0,0,266,215,208,220,0,0,0,0,0,0,0,0,215,0,0,0,0,208,0,0,220,0,249,0,0,215,210,0,0,0,0,0,0,308,266,293,0,0,0,220,220,220,291,0,215,0,249,0,0,0,220,0,0,0,0,220,0,0,0,322,0,0,0,0,0,215,0,0,0,0,0,0,291,215,215,0,0,0,249,0,0,266,270,0,0,266,0,0,0,0,0,0,0,0,0,0,0,208,291,208,0,215,0,210,0,0,0,215,208,0,0,289,0,0,0,0,0,0,215,215,215,0,220,291,0,220,0,0,245,0,220,0,0,0,289,0,0,0,215,0,220,238,0,0,0,0,291,220,0,220,0,291,220,215,291,291,0,0,266,220,0,289,215,0,215,0,0,0,0,322,0,293,0,0,0,0,208,0,0,0,0,0,322,0,0,215,0,0,220,0,208,266,0,0,208,0,0,0,220,270,215,291,0,0,0,0,220,215,210,0,215,0,0,0,220,0,215,0,0,0,266,220,291,0,0,0,0,249,215,0,215,322,215,0,330,322,0,0,0,322,0,0,266,0,0,0,291,0,266,215,0,0,220,0,0,215,0,220,291,0,322,0,0,249,0,0,208,0,215,291,0,291,238,0,0,220,0,0,220,208,220,0,266,208,291,0,0,0,0,220,0,0,0,0,215,0,0,215,200,322,0,0,208,0,0,0,266,0,0,0,0,322,266,200,0,215,215,0,200,215,0,0,238,0,0,0,249,0,220,0,0,0,0,322,210,0,0,0,238,220,322,0,322,0,0,215,0,0,0,210,0,238,208,0,0,208,0,0,0,0,215,215,308,215,0,0,293,291,0,266,0,0,0,208,266,0,0,215,0,215,208,215,0,0,210,0,0,215,0,210,0,210,0,0,0,293,200,0,208,0,0,215,291,215,0,200,0,0,215,0,0,0,215,0,0,0,308,291,293,220,208,220,238,0,215,0,0,0,0,200,291,322,0,0,0,208,0,322,0,215,0,210,0,0,0,0,220,220,0,0,0,0,208,0,215,220,0,291,266,0,220,220,0,200,0,0,0,293,0,220,0,0,0,0,0,266,0,0,0,220,291,200,0,266,0,0,0,0,0,200,215,293,0,215,0,291,0,0,210,0,0,0,0,0,215,0,220,220,291,220,0,249,0,0,266,0,266,0,0,291,0,0,0,0,0,266,0,0,0,0,330,0,238,0,0,0,0,0,0,0,0,0,0,0,0,220,0,0,0,0,215,200,0,238,308,0,0,208,0,238,266,0,291,215,0,210,0,0,0,0,220,215,0,220,0,0,0,210,208,0,0,0,215,293,0,0,0,0,0,0,0,0,291,249,0,200,0,0,0,215,210,0,0,0,0,238,0,200,220,0,210,0,322,208,210,266,0,220,0,0,215,210,0,0,249,0,0,0,208,0,0,0,215,0,238,208,0,0,0,0,215,0,0,291,293,0,220,293,0,0,200,0,0,238,0,0,330,0,208,0,0,0,0,0,0,289,0,215,200,200,0,0,0,208,220,0,0,0,0,0,322,0,0,291,0,0,208,220,220,0,266,215,220,322,0,0,0,0,0,322,0,0,0,0,215,291,0,215,0,291,0,220,0,291,0,0,0,291,215,0,0,200,0,0,215,215,0,0,330,0,0,0,0,0,322,0,215,220,220,0,322,270,0,210,0,220,0,0,0,289,0,215,0,215,0,0,0,0,0,291,0,0,215,291,215,215,0,291,0,0,0,0,0,0,200,0,0,0,0,0,0,0,291,0,0,0,249,266,0,322,0,215,0,0,215,208,0,220,308,0,208,0,291,0,0,0,0,0,266,0,210,0,0,215,215,322,215,0,0,289,0,308,322,0,0,215,0,200,0,210,215,0,0,215,266,215,0,266,0,215,0,0,291,289,0,308,238,0,220,0,215,238,0,0,289,0,0,0,200,0,0,0,215,0,208,0,208,210,215,0,0,215,0,210,220,0,215,215,0,0,0,0,0,0,0,0,0,0,0,0,322,0,0,266,0,0,0,208,322,238,0,0,0,0,0,0,0,0,0,291,0,266,0,0,220,322,0,0,0,266,0,220,0,0,208,0,0,208,238,215,0,200,0,0,0,0,0,215,220,208,238,210,322,215,0,0,330,220,291,0,0,0,215,249,293,0,0,220,0,0,0,0,0,289,0,0,210,266,330,0,210,0,0,208,0,215,0,0,215,0,0,210,0,0,322,220,0,215,0,215,220,0,220,220,220,0,0,0,0,0,220,291,266,266,0,0,0,249,0,291,0,0,0,0,0,238,215,0,0,0,291,266,0,0,0,0,208,0,0,337,0,0,0,0,0,0,210,291,215,266,0,215,0,215,0,0,0,215,330,0,322,291,0,0,0,215,0,220,0,0,266,0,210,0,0,210,322,266,215,0,0,220,220,0,291,291,0,0,0,0,220,0,0,322,0,0,215,0,0,0,291,293,0,0,0,200,220,0,238,208,0,238,0,0,0,0,0,0,0,0,0,0,220,0,0,220,0,220,0,0,0,0,291,289,0,322,0,0,0,215,0,215,220,0,0,215,308,0,0,215,0,289,291,322,0,208,0,308,0,0,0,200,0,0,0,0,0,0,0,0,0,0,208,0,0,0,215,0,0,220,208,0,220,0,215,291,0,220,330,220,215,200,0,215,0,215,0,0,0,0,215,0,200,220,266,220,0,220,0,0,208,0,220,265,0,220,0,266,293,0,215,210,0,0,0,0,0,0,210,0,0,291,215,215,0,0,0,208,291,0,208,0,0,0,0,208,0,0,220,0,0,0,220,0,215,291,0,0,215,0,330,0,200,0,0,215,0,293,0,0,0,0,0,0,215,0,220,249,0,208,0,215,0,0,0,0,266,291,215,238,0,208,0,0,0,0,291,0,0,220,0,215,0,0,0,322,220,0,215,0,0,210,0,0,210,0,0,0,0,0,208,0,0,0,0,215,0,322,208,0,0,0,0,322,0,322,0,0,322,220,266,249,220,330,0,0,0,238,291,266,330,322,0,215,0,0,0,220,220,0,0,293,289,0,330,220,0,291,266,200,0,308,0,0,330,215,0,215,291,0,0,220,0,215,220,308,0,0,0,0,0,0,0,0,0,266,220,215,322,215,270,0,0,215,0,0,0,0,0,0,0,0,0,0,215,0,210,0,0,220,0,0,220,0,0,215,0,0,0,291,215,0,0,215,0,200,0,215,0,0,0,208,0,322,0,0,0,0,0,0,291,0,0,0,0,0,0,215,0,0,266,0,220,215,0,0,215,215,200,0,0,322,0,0,0,215,322,0,208,208,0,0,220,0,322,289,322,0,0,0,0,0,0,0,220,0,238,291,0,0,0,322,266,0,220,0,0,0,220,0,208,210,0,0,220,220,215,0,210,215,0,0,291,0,220,0,215,215,0,208,215,220,0,0,215,0,0,210,0,0,208,200,220,0,200,220,0,0,215,0,0,0,0,0,238,0,0,220,0,0,215,0,0,293,0,200,322,0,0,308,0,0,220,208,210,0,0,0,210,0,291,0,0,0,0,0,215,220,0,220,0,0,0,0,291,0,0,322,0,0,0,0,0,0,0,0,291,215,322,0,0,0,266,208,291,208,0,0,0,208,0,215,0,215,0,0,0,0,0,208,291,215,215,220,0,270,0,215,0,0,0,0,210,291,220,0,0,0,0,0,293,220,215,215,215,0,0,0,0,0,0,220,0,289,0,266,0,0,0,0,0,0,0,210,0,0,0,0,0,289,0,0,238,0,0,0,0,215,322,0,0,266,293,0,0,215,0,210,0,200,215,266,215,215,208,238,215,215,0,200,0,0,0,220,215,0,0,215,249,0,215,322,0,0,220,215,220,0,215,0,0,220,0,0,208,0,208,0,215,0,0,0,0,0,220,208,0,0,0,0,0,322,0,208,291,0,220,220,0,0,200,291,0,0,215,208,0,270,0,0,0,0,0,210,0,0,215,0,0,0,238,220,0,322,208,0,0,220,0,0,220,210,0,215,210,0,0,220,291,289,0,200,208,208,220,220,0,0,0,215,220,0,215,220,0,208,0,0,0,0,220,0,291,0,200,215,0,215,208,220,0,322,210,291,0,0,0,0,215,0,220,0,0,322,208,0,210,210,0,0,0,0,0,0,215,322,0,0,208,208,0,0,0,0,238,0,220,0,220,215,0,291,0,220,0,0,0,0,266,0,215,215,220,0,0,0,0,210,0,0,220,0,220,0,0,266,215,0,0,238,0,0,0,0,0,200,0,0,0,215,215,0,0,0,0,0,0,215,330,0,215,266,0,0,220,0,0,210,0,215,210,291,208,0,210,0,0,249,0,0,0,249,289,0,0,238,289,215,0,0,200,0,266,0,0,0,266,0,0,0,0,0,0,215,0,210,308,0,215,0,0,322,215,0,208,210,0,0,266,0,0,0,238,0,0,210,0,238,266,0,0,0,0,0,0,0,0,0,210,0,0,200,200,0,0,200,0,0,0,215,0,210,215,0,0,0,0,0,215,0,0,220,0,0,208,0,208,238,210,337,0,0,0,322,215,0,0,215,0,0,0,215,0,0,0,0,0,0,200,238,266,220,220,215,0,0,0,322,0,200,0,220,0,0,266,0,0,200,0,208,0,220,200,0,0,0,0,220,220,210,266,0,249,0,0,0,0,0,0,215,0,208,215,215,215,322,291,293,0,0,0,0,0,0,0,0,0,220,215,0,220,289,210,0,0,215,0,0,322,0,0,0,0,210,0,0,0,0,249,220,0,0,0,322,0,308,0,220,220,308,0,215,200,0,220,0,0,0,210,215,0,0,0,208,0,0,0,0,0,215,0,293,200,210,215,0,0,0,0,0,0,0,215,210,0,0,265,0,249,0,0,0,0,0,0,215,0,0,0,0,0,0,0,215,0,308,0,220,208,0,0,210,0,0,0,0,291,0,291,238,0,0,289,215,0,0,0,322,322,291,0,0,249,0,0,0,0,0,200,0,322,238,0,308,215,0,0,0,289,249,0,210,330,0,0,291,210,0,291,0,210,0,200,0,0,0,249,0,215,0,0,210,215,0,208,0,0,215,0,308,0,215,0,330,220,0,208,215,215,215,0,200,0,0,0,0,0,0,215,0,0,0,215,215,0,0,0,0,0,0,215,0,0,0,322,215,220,266,0,0,215,0,0,200,291,220,0,0,291,249,0,0,0,0,0,322,0,0,0,265,215,0,0,220,0,0,0,0,0,210,291,0,210,293,0,220,0,0,208,0,0,0,215,0,0,266,0,0,322,0,0,289,238,0,220,208,0,322,0,0,0,215,220,0,0,0,0,0,291,322,0,0,266,215,322,289,0,220,0,291,0,0,0,0,0,289,0,0,0,0,220,0,0,0,322,0,0,0,0,220,0,0,293,0,0,0,0,0,0,208,215,215,0,0,0,291,215,208,200,0,0,0,0,215,0,220,238,0,0,0,0,0,215,220,0,208,270,0,0,0,215,308,0,0,0,0,289,0,266,0,0,200,208,208,0,210,0,0,215,0,291,0,0,0,0,0,291,0,215,0,0,0,0,0,0,215,210,0,220,0,0,208,215,0,0,322,0,0,0,210,215,220,0,215,0,0,215,0,266,265,208,220,0,322,208,0,200,266,0,208,220,0,0,215,0,0,0,0,0,0,210,249,0,220,0,0,0,0,215,208,0,0,0,0,0,0,0,322,0,0,0,0,0,0,0,0,322,0,0,0,220,322,208,0,0,0,0,0,249,215,322,200,322,0,220,0,210,0,200,0,210,0,0,0,0,0,210,0,0,0,0,322,249,0,0,0,322,0,220,0,220,220,289,215,0,0,0,0,215,0,291,0,220,330,208,291,0,0,0,0,215,0,0,220,0,0,208,220,0,0,210,0,0,0,291,0,0,215,208,0,0,220,0,0,0,322,215,200,0,0,0,0,208,0,0,0,208,0,210,215,0,238,200,220,289,0,0,0,322,291,322,0,0,0,0,0,215,0,208,0,308,0,0,200,0,0,0,0,0,208,293,210,208,0,0,0,0,238,0,0,0,0,0,0,0,0,220,0,208,0,0,322,0,215,220,0,0,215,0,0,0,0,0,210,215,0,322,215,291,0,220,0,291,220,0,210,291,215,208,0,220,210,208,0,0,0,0,238,291,0,0,220,0,0,0,215,0,291,0,200,215,0,220,245,0,0,0,200,0,0,0,0,215,220,215,0,0,322,0,238,322,215,0,322,0,0,0,0,249,215,0,0,0,200,0,210,0,0,0,208,0,0,0,215,0,0,215,0,208,249,270,208,0,291,0,291,0,208,291,291,0,0,0,215,215,0,330,0,0,0,0,215,0,0,0,0,0,0,0,322,0,0,210,0,289,291,0,0,208,215,266,238,0,215,0,220,291,0,210,215,0,208,0,0,0,0,0,0,0,0,0,0,291,0,0,0,0,0,0,0,308,215,0,220,249,208,0,0,0,0,0,0,220,215,0,291,0,0,0,0,0,208,208,0,215,208,210,322,238,0,208,330,0,215,0,0,0,0,0,215,220,210,0,0,0,0,200,208,0,0,0,0,0,0,0,0,215,0,0,0,0,249,0,0,220,0,266,0,200,291,0,0,215,220,266,210,0,220,0,0,0,0,0,0,210,215,215,0,249,220,0,249,291,0,0,0,0,210,215,0,0,0,0,0,0,210,220,0,0,0,0,291,215,0,0,0,0,0,220,238,0,0,308,0,220,215,0,215,215,0,330,0,208,0,249,0,0,208,215,0,0,0,0,0,0,200,0,238,0,0,0,0,0,220,0,0,0,0,208,0,0,0,0,0,266,0,0,0,0,0,215,215,0,293,0,220,0,220,220,0,0,0,208,0,0,0,215,0,265,0,266,249,0,0,0,0,0,220,0,0,0,0,0,238,308,0,220,0,0,0,0,266,291,220,0,215,0,0,215,238,0,0,0,322,265,0,0,0,215,0,0,0,220,200,215,0,0,215,215,0,0,0,266,215,210,208,0,0,0,322,210,322,0,0,220,215,0,0,215,210,0,0,330,0,266,293,0,0,293,291,0,0,0,0,0,0,0,0,220,220,0,0,249,0,322,220,0,0,0,208,249,0,0,215,0,0,220,0,215,0,0,0,291,208,0,0,0,0,291,0,0,0,266,0,0,0,0,266,220,0,0,330,0,0,208,322,0,0,0,0,0,220,0,0,0,0,0,0,215,0,210,220,0,0,0,0,215,266,291,0,0,208,210,0,208,0,249,0,0,0,215,330,0,0,266,0,0,291,208,208,220,0,0,0,291,215,215,0,0,215,291,0,0,0,0,220,0,291,0,0,0,0,0,0,215,0,238,291,0,0,220,0,0,215,0,220,0,293,270,0,0,0,0,0,322,208,293,0,0,0,0,291,215,220,270,0,0,0,208,208,0,238,220,208,0,0,0,0,0,0,208,220,0,208,0,220,208,0,0,220,291,215,0,220,0,0,0,215,208,220,0,0,215,0,322,208,0,220,0,0,293,0,0,0,0,0,200,215,0,0,0,0,0,215,0,210,0,249,220,210,0,0,0,0,0,322,0,210,0,210,0,0,215,337,0,208,0,0,291,200,215,322,220,0,210,208,291,220,0,0,0,0,0,215,0,0,220,0,215,0,291,0,289,0,0,0,0,322,0,0,0,0,215,215,266,0,0,215,0,0,0,0,0,0,249,220,0,0,0,0,0,0,215,0,220,0,0,266,0,0,291,0,0,0,0,238,0,0,0,0,0,0,210,308,220,0,0,215,0,291,0,330,0,210,266,0,220,208,0,0,266,289,215,291,0,291,220,291,0,215,322,0,0,215,0,0,0,0,266,0,0,220,0,0,0,308,210,0,330,0,0,0,266,0,220,0,0,210,0,291,291,0,0,0,220,0,0,0,208,330,200,0,291,0,210,210,0,208,238,0,291,0,0,0,0,0,0,0,0,0,0,266,215,0,208,0,291,215,0,0,0,0,0,0,210,0,210,215,322,215,215,0,0,0,220,0,0,0,0,0,322,0,322,0,0,220,0,0,0,0,0,0,0,322,0,266,291,0,0,0,0,0,0,208,291,215,208,0,210,0,0,220,0,0,220,0,0,215,220,0,0,210,0,208,0,330,0,200,208,245,215,0,293,0,0,210,0,0,0,0,0,208,0,0,322,266,220,0,0,0,0,0,208,215,0,0,220,0,238,0,210,200,0,210,0,210,0,0,0,249,0,0,0,215,0,0,0,289,0,322,0,0,0,0,0,220,0,0,238,220,0,0,0,220,0,322,220,220,0,0,291,0,0,0,0,0,0,322,208,210,0,0,0,266,238,0,0,238,308,0,322,0,215,0,215,0,238,0,0,0,0,0,215,308,0,215,322,0,210,200,0,0,220,0,322,208,0,291,0,0,0,0,200,266,0,0,0,0,0,0,0,220,0,215,0,0,220,0,0,0,0,0,0,0,0,0,0,0,249,0,291,215,0,0,0,0,0,291,0,0,0,289,0,0,330,0,308,215,0,208,215,291,0,208,0,0,215,208,0,0,215,215,220,0,0,0,220,0,220,289,0,0,0,0,0,0,266,0,291,210,0,0,220,0,208,322,0,0,210,0,0,0,249,0,0,238,0,0,0,0,0,0,0,238,0,0,0,0,0,270,0,291,0,249,0,0,0,0,0,0,0,0,0,0,0,322,220,0,220,0,291,291,220,220,0,0,220,0,322,215,0,210,215,0,215,291,0,215,0,291,0,238,0,0,215,210,266,0,220,208,0,0,0,265,0,220,0,0,0,0,0,215,0,0,0,220,210,0,0,0,220,215,266,215,245,0,0,0,220,291,0,0,322,0,0,0,0,0,220,0,220,200,0,322,0,0,0,220,0,0,210,0,0,266,0,0,0,0,289,0,266,0,0,0,215,291,291,0,330,0,0,0,0,208,293,0,0,289,0,270,0,291,215,0,210,0,0,0,0,0,0,0,215,220,293,215,238,215,210,215,0,200,215,289,215,0,0,308,0,291,289,220,215,220,0,0,322,0,0,0,0,0,0,215,0,0,0,220,0,291,293,210,0,0,0,0,208,210,0,0,289,0,0,0,0,208,0,0,293,208,0,291,0,291,0,220,0,270,291,0,215,308,322,0,238,220,215,0,210,0,0,0,291,238,0,0,215,0,200,208,0,220,0,215,289,0,0,215,0,215,215,0,0,215,0,0,0,0,0,208,249,0,0,0,215,0],\"yaxis\":\"y\",\"type\":\"scattergl\"},{\"hovertemplate\":\"Make=%{x}<br>Electric Range=%{y}<extra></extra>\",\"legendgroup\":\"NISSAN\",\"marker\":{\"color\":\"#EF553B\",\"symbol\":\"circle\"},\"mode\":\"markers\",\"name\":\"NISSAN\",\"showlegend\":true,\"x\":[\"NISSAN\",\"NISSAN\",\"NISSAN\",\"NISSAN\",\"NISSAN\",\"NISSAN\",\"NISSAN\",\"NISSAN\",\"NISSAN\",\"NISSAN\",\"NISSAN\",\"NISSAN\",\"NISSAN\",\"NISSAN\",\"NISSAN\",\"NISSAN\",\"NISSAN\",\"NISSAN\",\"NISSAN\",\"NISSAN\",\"NISSAN\",\"NISSAN\",\"NISSAN\",\"NISSAN\",\"NISSAN\",\"NISSAN\",\"NISSAN\",\"NISSAN\",\"NISSAN\",\"NISSAN\",\"NISSAN\",\"NISSAN\",\"NISSAN\",\"NISSAN\",\"NISSAN\",\"NISSAN\",\"NISSAN\",\"NISSAN\",\"NISSAN\",\"NISSAN\",\"NISSAN\",\"NISSAN\",\"NISSAN\",\"NISSAN\",\"NISSAN\",\"NISSAN\",\"NISSAN\",\"NISSAN\",\"NISSAN\",\"NISSAN\",\"NISSAN\",\"NISSAN\",\"NISSAN\",\"NISSAN\",\"NISSAN\",\"NISSAN\",\"NISSAN\",\"NISSAN\",\"NISSAN\",\"NISSAN\",\"NISSAN\",\"NISSAN\",\"NISSAN\",\"NISSAN\",\"NISSAN\",\"NISSAN\",\"NISSAN\",\"NISSAN\",\"NISSAN\",\"NISSAN\",\"NISSAN\",\"NISSAN\",\"NISSAN\",\"NISSAN\",\"NISSAN\",\"NISSAN\",\"NISSAN\",\"NISSAN\",\"NISSAN\",\"NISSAN\",\"NISSAN\",\"NISSAN\",\"NISSAN\",\"NISSAN\",\"NISSAN\",\"NISSAN\",\"NISSAN\",\"NISSAN\",\"NISSAN\",\"NISSAN\",\"NISSAN\",\"NISSAN\",\"NISSAN\",\"NISSAN\",\"NISSAN\",\"NISSAN\",\"NISSAN\",\"NISSAN\",\"NISSAN\",\"NISSAN\",\"NISSAN\",\"NISSAN\",\"NISSAN\",\"NISSAN\",\"NISSAN\",\"NISSAN\",\"NISSAN\",\"NISSAN\",\"NISSAN\",\"NISSAN\",\"NISSAN\",\"NISSAN\",\"NISSAN\",\"NISSAN\",\"NISSAN\",\"NISSAN\",\"NISSAN\",\"NISSAN\",\"NISSAN\",\"NISSAN\",\"NISSAN\",\"NISSAN\",\"NISSAN\",\"NISSAN\",\"NISSAN\",\"NISSAN\",\"NISSAN\",\"NISSAN\",\"NISSAN\",\"NISSAN\",\"NISSAN\",\"NISSAN\",\"NISSAN\",\"NISSAN\",\"NISSAN\",\"NISSAN\",\"NISSAN\",\"NISSAN\",\"NISSAN\",\"NISSAN\",\"NISSAN\",\"NISSAN\",\"NISSAN\",\"NISSAN\",\"NISSAN\",\"NISSAN\",\"NISSAN\",\"NISSAN\",\"NISSAN\",\"NISSAN\",\"NISSAN\",\"NISSAN\",\"NISSAN\",\"NISSAN\",\"NISSAN\",\"NISSAN\",\"NISSAN\",\"NISSAN\",\"NISSAN\",\"NISSAN\",\"NISSAN\",\"NISSAN\",\"NISSAN\",\"NISSAN\",\"NISSAN\",\"NISSAN\",\"NISSAN\",\"NISSAN\",\"NISSAN\",\"NISSAN\",\"NISSAN\",\"NISSAN\",\"NISSAN\",\"NISSAN\",\"NISSAN\",\"NISSAN\",\"NISSAN\",\"NISSAN\",\"NISSAN\",\"NISSAN\",\"NISSAN\",\"NISSAN\",\"NISSAN\",\"NISSAN\",\"NISSAN\",\"NISSAN\",\"NISSAN\",\"NISSAN\",\"NISSAN\",\"NISSAN\",\"NISSAN\",\"NISSAN\",\"NISSAN\",\"NISSAN\",\"NISSAN\",\"NISSAN\",\"NISSAN\",\"NISSAN\",\"NISSAN\",\"NISSAN\",\"NISSAN\",\"NISSAN\",\"NISSAN\",\"NISSAN\",\"NISSAN\",\"NISSAN\",\"NISSAN\",\"NISSAN\",\"NISSAN\",\"NISSAN\",\"NISSAN\",\"NISSAN\",\"NISSAN\",\"NISSAN\",\"NISSAN\",\"NISSAN\",\"NISSAN\",\"NISSAN\",\"NISSAN\",\"NISSAN\",\"NISSAN\",\"NISSAN\",\"NISSAN\",\"NISSAN\",\"NISSAN\",\"NISSAN\",\"NISSAN\",\"NISSAN\",\"NISSAN\",\"NISSAN\",\"NISSAN\",\"NISSAN\",\"NISSAN\",\"NISSAN\",\"NISSAN\",\"NISSAN\",\"NISSAN\",\"NISSAN\",\"NISSAN\",\"NISSAN\",\"NISSAN\",\"NISSAN\",\"NISSAN\",\"NISSAN\",\"NISSAN\",\"NISSAN\",\"NISSAN\",\"NISSAN\",\"NISSAN\",\"NISSAN\",\"NISSAN\",\"NISSAN\",\"NISSAN\",\"NISSAN\",\"NISSAN\",\"NISSAN\",\"NISSAN\",\"NISSAN\",\"NISSAN\",\"NISSAN\",\"NISSAN\",\"NISSAN\",\"NISSAN\",\"NISSAN\",\"NISSAN\",\"NISSAN\",\"NISSAN\",\"NISSAN\",\"NISSAN\",\"NISSAN\",\"NISSAN\",\"NISSAN\",\"NISSAN\",\"NISSAN\",\"NISSAN\",\"NISSAN\",\"NISSAN\",\"NISSAN\",\"NISSAN\",\"NISSAN\",\"NISSAN\",\"NISSAN\",\"NISSAN\",\"NISSAN\",\"NISSAN\",\"NISSAN\",\"NISSAN\",\"NISSAN\",\"NISSAN\",\"NISSAN\",\"NISSAN\",\"NISSAN\",\"NISSAN\",\"NISSAN\",\"NISSAN\",\"NISSAN\",\"NISSAN\",\"NISSAN\",\"NISSAN\",\"NISSAN\",\"NISSAN\",\"NISSAN\",\"NISSAN\",\"NISSAN\",\"NISSAN\",\"NISSAN\",\"NISSAN\",\"NISSAN\",\"NISSAN\",\"NISSAN\",\"NISSAN\",\"NISSAN\",\"NISSAN\",\"NISSAN\",\"NISSAN\",\"NISSAN\",\"NISSAN\",\"NISSAN\",\"NISSAN\",\"NISSAN\",\"NISSAN\",\"NISSAN\",\"NISSAN\",\"NISSAN\",\"NISSAN\",\"NISSAN\",\"NISSAN\",\"NISSAN\",\"NISSAN\",\"NISSAN\",\"NISSAN\",\"NISSAN\",\"NISSAN\",\"NISSAN\",\"NISSAN\",\"NISSAN\",\"NISSAN\",\"NISSAN\",\"NISSAN\",\"NISSAN\",\"NISSAN\",\"NISSAN\",\"NISSAN\",\"NISSAN\",\"NISSAN\",\"NISSAN\",\"NISSAN\",\"NISSAN\",\"NISSAN\",\"NISSAN\",\"NISSAN\",\"NISSAN\",\"NISSAN\",\"NISSAN\",\"NISSAN\",\"NISSAN\",\"NISSAN\",\"NISSAN\",\"NISSAN\",\"NISSAN\",\"NISSAN\",\"NISSAN\",\"NISSAN\",\"NISSAN\",\"NISSAN\",\"NISSAN\",\"NISSAN\",\"NISSAN\",\"NISSAN\",\"NISSAN\",\"NISSAN\",\"NISSAN\",\"NISSAN\",\"NISSAN\",\"NISSAN\",\"NISSAN\",\"NISSAN\",\"NISSAN\",\"NISSAN\",\"NISSAN\",\"NISSAN\",\"NISSAN\",\"NISSAN\",\"NISSAN\",\"NISSAN\",\"NISSAN\",\"NISSAN\",\"NISSAN\",\"NISSAN\",\"NISSAN\",\"NISSAN\",\"NISSAN\",\"NISSAN\",\"NISSAN\",\"NISSAN\",\"NISSAN\",\"NISSAN\",\"NISSAN\",\"NISSAN\",\"NISSAN\",\"NISSAN\",\"NISSAN\",\"NISSAN\",\"NISSAN\",\"NISSAN\",\"NISSAN\",\"NISSAN\",\"NISSAN\",\"NISSAN\",\"NISSAN\",\"NISSAN\",\"NISSAN\",\"NISSAN\",\"NISSAN\",\"NISSAN\",\"NISSAN\",\"NISSAN\",\"NISSAN\",\"NISSAN\",\"NISSAN\",\"NISSAN\",\"NISSAN\",\"NISSAN\",\"NISSAN\",\"NISSAN\",\"NISSAN\",\"NISSAN\",\"NISSAN\",\"NISSAN\",\"NISSAN\",\"NISSAN\",\"NISSAN\",\"NISSAN\",\"NISSAN\",\"NISSAN\",\"NISSAN\",\"NISSAN\",\"NISSAN\",\"NISSAN\",\"NISSAN\",\"NISSAN\",\"NISSAN\",\"NISSAN\",\"NISSAN\",\"NISSAN\",\"NISSAN\",\"NISSAN\",\"NISSAN\",\"NISSAN\",\"NISSAN\",\"NISSAN\",\"NISSAN\",\"NISSAN\",\"NISSAN\",\"NISSAN\",\"NISSAN\",\"NISSAN\",\"NISSAN\",\"NISSAN\",\"NISSAN\",\"NISSAN\",\"NISSAN\",\"NISSAN\",\"NISSAN\",\"NISSAN\",\"NISSAN\",\"NISSAN\",\"NISSAN\",\"NISSAN\",\"NISSAN\",\"NISSAN\",\"NISSAN\",\"NISSAN\",\"NISSAN\",\"NISSAN\",\"NISSAN\",\"NISSAN\",\"NISSAN\",\"NISSAN\",\"NISSAN\",\"NISSAN\",\"NISSAN\",\"NISSAN\",\"NISSAN\",\"NISSAN\",\"NISSAN\",\"NISSAN\",\"NISSAN\",\"NISSAN\",\"NISSAN\",\"NISSAN\",\"NISSAN\",\"NISSAN\",\"NISSAN\",\"NISSAN\",\"NISSAN\",\"NISSAN\",\"NISSAN\",\"NISSAN\",\"NISSAN\",\"NISSAN\",\"NISSAN\",\"NISSAN\",\"NISSAN\",\"NISSAN\",\"NISSAN\",\"NISSAN\",\"NISSAN\",\"NISSAN\",\"NISSAN\",\"NISSAN\",\"NISSAN\",\"NISSAN\",\"NISSAN\",\"NISSAN\",\"NISSAN\",\"NISSAN\",\"NISSAN\",\"NISSAN\",\"NISSAN\",\"NISSAN\",\"NISSAN\",\"NISSAN\",\"NISSAN\",\"NISSAN\",\"NISSAN\",\"NISSAN\",\"NISSAN\",\"NISSAN\",\"NISSAN\",\"NISSAN\",\"NISSAN\",\"NISSAN\",\"NISSAN\",\"NISSAN\",\"NISSAN\",\"NISSAN\",\"NISSAN\",\"NISSAN\",\"NISSAN\",\"NISSAN\",\"NISSAN\",\"NISSAN\",\"NISSAN\",\"NISSAN\",\"NISSAN\",\"NISSAN\",\"NISSAN\",\"NISSAN\",\"NISSAN\",\"NISSAN\",\"NISSAN\",\"NISSAN\",\"NISSAN\",\"NISSAN\",\"NISSAN\",\"NISSAN\",\"NISSAN\",\"NISSAN\",\"NISSAN\",\"NISSAN\",\"NISSAN\",\"NISSAN\",\"NISSAN\",\"NISSAN\",\"NISSAN\",\"NISSAN\",\"NISSAN\",\"NISSAN\",\"NISSAN\",\"NISSAN\",\"NISSAN\",\"NISSAN\",\"NISSAN\",\"NISSAN\",\"NISSAN\",\"NISSAN\",\"NISSAN\",\"NISSAN\",\"NISSAN\",\"NISSAN\",\"NISSAN\",\"NISSAN\",\"NISSAN\",\"NISSAN\",\"NISSAN\",\"NISSAN\",\"NISSAN\",\"NISSAN\",\"NISSAN\",\"NISSAN\",\"NISSAN\",\"NISSAN\",\"NISSAN\",\"NISSAN\",\"NISSAN\",\"NISSAN\",\"NISSAN\",\"NISSAN\",\"NISSAN\",\"NISSAN\",\"NISSAN\",\"NISSAN\",\"NISSAN\",\"NISSAN\",\"NISSAN\",\"NISSAN\",\"NISSAN\",\"NISSAN\",\"NISSAN\",\"NISSAN\",\"NISSAN\",\"NISSAN\",\"NISSAN\",\"NISSAN\",\"NISSAN\",\"NISSAN\",\"NISSAN\",\"NISSAN\",\"NISSAN\",\"NISSAN\",\"NISSAN\",\"NISSAN\",\"NISSAN\",\"NISSAN\",\"NISSAN\",\"NISSAN\",\"NISSAN\",\"NISSAN\",\"NISSAN\",\"NISSAN\",\"NISSAN\",\"NISSAN\",\"NISSAN\",\"NISSAN\",\"NISSAN\",\"NISSAN\",\"NISSAN\",\"NISSAN\",\"NISSAN\",\"NISSAN\",\"NISSAN\",\"NISSAN\",\"NISSAN\",\"NISSAN\",\"NISSAN\",\"NISSAN\",\"NISSAN\",\"NISSAN\",\"NISSAN\",\"NISSAN\",\"NISSAN\",\"NISSAN\",\"NISSAN\",\"NISSAN\",\"NISSAN\",\"NISSAN\",\"NISSAN\",\"NISSAN\",\"NISSAN\",\"NISSAN\",\"NISSAN\",\"NISSAN\",\"NISSAN\",\"NISSAN\",\"NISSAN\",\"NISSAN\",\"NISSAN\",\"NISSAN\",\"NISSAN\",\"NISSAN\",\"NISSAN\",\"NISSAN\",\"NISSAN\",\"NISSAN\",\"NISSAN\",\"NISSAN\",\"NISSAN\",\"NISSAN\",\"NISSAN\",\"NISSAN\",\"NISSAN\",\"NISSAN\",\"NISSAN\",\"NISSAN\",\"NISSAN\",\"NISSAN\",\"NISSAN\",\"NISSAN\",\"NISSAN\",\"NISSAN\",\"NISSAN\",\"NISSAN\",\"NISSAN\",\"NISSAN\",\"NISSAN\",\"NISSAN\",\"NISSAN\",\"NISSAN\",\"NISSAN\",\"NISSAN\",\"NISSAN\",\"NISSAN\",\"NISSAN\",\"NISSAN\",\"NISSAN\",\"NISSAN\",\"NISSAN\",\"NISSAN\",\"NISSAN\",\"NISSAN\",\"NISSAN\",\"NISSAN\",\"NISSAN\",\"NISSAN\",\"NISSAN\",\"NISSAN\",\"NISSAN\",\"NISSAN\",\"NISSAN\",\"NISSAN\",\"NISSAN\",\"NISSAN\",\"NISSAN\",\"NISSAN\",\"NISSAN\",\"NISSAN\",\"NISSAN\",\"NISSAN\",\"NISSAN\",\"NISSAN\",\"NISSAN\",\"NISSAN\",\"NISSAN\",\"NISSAN\",\"NISSAN\",\"NISSAN\",\"NISSAN\",\"NISSAN\",\"NISSAN\",\"NISSAN\",\"NISSAN\",\"NISSAN\",\"NISSAN\",\"NISSAN\",\"NISSAN\",\"NISSAN\",\"NISSAN\",\"NISSAN\",\"NISSAN\",\"NISSAN\",\"NISSAN\",\"NISSAN\",\"NISSAN\",\"NISSAN\",\"NISSAN\",\"NISSAN\",\"NISSAN\",\"NISSAN\",\"NISSAN\",\"NISSAN\",\"NISSAN\",\"NISSAN\",\"NISSAN\",\"NISSAN\",\"NISSAN\",\"NISSAN\",\"NISSAN\",\"NISSAN\",\"NISSAN\",\"NISSAN\",\"NISSAN\",\"NISSAN\",\"NISSAN\",\"NISSAN\",\"NISSAN\",\"NISSAN\",\"NISSAN\",\"NISSAN\",\"NISSAN\",\"NISSAN\",\"NISSAN\",\"NISSAN\",\"NISSAN\",\"NISSAN\",\"NISSAN\",\"NISSAN\",\"NISSAN\",\"NISSAN\",\"NISSAN\",\"NISSAN\",\"NISSAN\",\"NISSAN\",\"NISSAN\",\"NISSAN\",\"NISSAN\",\"NISSAN\",\"NISSAN\",\"NISSAN\",\"NISSAN\",\"NISSAN\",\"NISSAN\",\"NISSAN\",\"NISSAN\",\"NISSAN\",\"NISSAN\",\"NISSAN\",\"NISSAN\",\"NISSAN\",\"NISSAN\",\"NISSAN\",\"NISSAN\",\"NISSAN\",\"NISSAN\",\"NISSAN\",\"NISSAN\",\"NISSAN\",\"NISSAN\",\"NISSAN\",\"NISSAN\",\"NISSAN\",\"NISSAN\",\"NISSAN\",\"NISSAN\",\"NISSAN\",\"NISSAN\",\"NISSAN\",\"NISSAN\",\"NISSAN\",\"NISSAN\",\"NISSAN\",\"NISSAN\",\"NISSAN\",\"NISSAN\",\"NISSAN\",\"NISSAN\",\"NISSAN\",\"NISSAN\",\"NISSAN\",\"NISSAN\",\"NISSAN\",\"NISSAN\",\"NISSAN\",\"NISSAN\",\"NISSAN\",\"NISSAN\",\"NISSAN\",\"NISSAN\",\"NISSAN\",\"NISSAN\",\"NISSAN\",\"NISSAN\",\"NISSAN\",\"NISSAN\",\"NISSAN\",\"NISSAN\",\"NISSAN\",\"NISSAN\",\"NISSAN\",\"NISSAN\",\"NISSAN\",\"NISSAN\",\"NISSAN\",\"NISSAN\",\"NISSAN\",\"NISSAN\",\"NISSAN\",\"NISSAN\",\"NISSAN\",\"NISSAN\",\"NISSAN\",\"NISSAN\",\"NISSAN\",\"NISSAN\",\"NISSAN\",\"NISSAN\",\"NISSAN\",\"NISSAN\",\"NISSAN\",\"NISSAN\",\"NISSAN\",\"NISSAN\",\"NISSAN\",\"NISSAN\",\"NISSAN\",\"NISSAN\",\"NISSAN\",\"NISSAN\",\"NISSAN\",\"NISSAN\",\"NISSAN\",\"NISSAN\",\"NISSAN\",\"NISSAN\",\"NISSAN\",\"NISSAN\",\"NISSAN\",\"NISSAN\",\"NISSAN\",\"NISSAN\",\"NISSAN\",\"NISSAN\",\"NISSAN\",\"NISSAN\",\"NISSAN\",\"NISSAN\",\"NISSAN\",\"NISSAN\",\"NISSAN\",\"NISSAN\",\"NISSAN\",\"NISSAN\",\"NISSAN\",\"NISSAN\",\"NISSAN\",\"NISSAN\",\"NISSAN\",\"NISSAN\",\"NISSAN\",\"NISSAN\",\"NISSAN\",\"NISSAN\",\"NISSAN\",\"NISSAN\",\"NISSAN\",\"NISSAN\",\"NISSAN\",\"NISSAN\",\"NISSAN\",\"NISSAN\",\"NISSAN\",\"NISSAN\",\"NISSAN\",\"NISSAN\",\"NISSAN\",\"NISSAN\",\"NISSAN\",\"NISSAN\",\"NISSAN\",\"NISSAN\",\"NISSAN\",\"NISSAN\",\"NISSAN\",\"NISSAN\",\"NISSAN\",\"NISSAN\",\"NISSAN\",\"NISSAN\",\"NISSAN\",\"NISSAN\",\"NISSAN\",\"NISSAN\",\"NISSAN\",\"NISSAN\",\"NISSAN\",\"NISSAN\",\"NISSAN\",\"NISSAN\",\"NISSAN\",\"NISSAN\",\"NISSAN\",\"NISSAN\",\"NISSAN\",\"NISSAN\",\"NISSAN\",\"NISSAN\",\"NISSAN\",\"NISSAN\",\"NISSAN\",\"NISSAN\",\"NISSAN\",\"NISSAN\",\"NISSAN\",\"NISSAN\",\"NISSAN\",\"NISSAN\",\"NISSAN\",\"NISSAN\",\"NISSAN\",\"NISSAN\",\"NISSAN\",\"NISSAN\",\"NISSAN\",\"NISSAN\",\"NISSAN\",\"NISSAN\"],\"xaxis\":\"x\",\"y\":[0,151,151,75,73,150,73,150,75,107,84,73,84,107,84,75,84,150,107,73,84,73,107,84,75,84,73,84,84,150,75,75,73,73,107,150,73,150,84,84,84,0,84,75,151,84,149,84,73,0,0,215,107,107,150,150,0,75,84,0,84,149,75,84,107,150,107,0,84,73,73,215,150,84,84,84,84,0,84,107,0,0,151,151,84,150,73,73,73,150,84,0,107,107,84,84,151,107,84,75,73,73,150,84,150,75,84,73,75,84,84,0,151,150,151,151,151,73,0,84,84,84,107,73,0,84,84,151,84,149,107,0,75,0,73,84,150,151,151,150,75,75,151,84,151,0,84,107,149,75,75,84,84,75,84,75,75,75,151,75,84,73,84,0,75,75,84,75,75,75,75,151,84,75,84,84,73,0,0,150,150,151,107,84,84,73,0,75,75,0,0,84,150,84,84,84,0,149,84,73,75,151,73,84,150,73,150,84,84,150,75,75,215,151,0,73,84,73,150,75,151,151,84,150,73,0,150,75,84,84,0,84,75,107,84,150,150,73,151,84,75,0,84,107,0,84,84,151,151,151,75,73,107,0,84,73,151,107,84,150,107,84,84,84,150,0,84,0,73,75,75,84,0,149,84,150,73,0,84,215,150,107,75,84,84,215,73,0,151,84,107,84,215,150,149,73,0,84,75,73,84,75,150,0,84,73,75,150,0,150,75,150,73,0,84,84,107,75,84,84,107,0,149,84,75,84,84,84,150,150,84,150,73,75,84,150,0,84,75,0,73,75,150,75,73,0,151,84,84,149,107,84,75,215,0,84,84,150,0,107,75,75,75,0,84,215,84,73,73,73,75,0,150,73,75,0,0,75,84,73,73,84,84,151,150,150,75,151,150,73,0,150,84,84,75,75,0,73,84,151,150,75,73,73,150,0,84,215,107,75,75,0,151,151,151,84,75,84,84,0,75,75,149,84,73,75,84,75,107,73,107,84,84,75,75,151,84,107,0,107,151,150,107,75,150,150,150,84,150,84,149,84,149,151,150,107,107,215,149,75,84,84,151,0,84,150,150,151,75,73,73,149,0,84,107,84,149,150,84,107,149,84,107,151,149,107,151,84,150,150,0,73,84,0,84,73,84,75,151,151,0,84,151,75,151,84,84,0,84,75,84,84,107,73,0,0,150,0,84,0,84,151,151,107,84,151,84,84,0,84,73,0,73,151,73,84,84,84,75,84,107,150,149,0,75,84,73,0,84,149,0,84,0,75,150,107,84,84,0,151,84,75,75,73,84,107,0,150,150,75,75,150,151,84,150,75,150,84,149,73,84,0,107,107,84,84,0,75,107,107,84,84,107,0,0,75,84,150,75,84,84,75,84,150,73,75,0,84,84,150,0,84,0,73,150,0,84,151,151,84,73,150,0,84,0,84,75,75,73,84,84,149,150,75,151,150,0,75,150,75,0,215,75,150,151,75,84,84,150,151,73,0,150,73,150,150,73,73,84,149,73,73,84,84,75,151,73,73,0,151,84,0,75,215,215,84,151,75,151,0,84,107,75,84,75,75,0,84,75,107,84,0,84,151,84,84,73,75,84,0,75,151,75,84,73,0,73,73,75,150,84,73,84,84,73,73,0,84,0,84,107,75,0,75,73,84,73,150,75,73,150,151,150,0,84,150,75,107,150,84,84,84,73,150,151,84,84,0,84,151,73,84,75,215,84,75,150,75,75,151,107,84,84,84,0,84,73,75,84,150,84,75,84,75,0,84,75,75,73,84,73,84,0,149,75,84,75,0,84,84,0,151,84,107,84,84,84,0,107,150,0,0,150,75,84,75,215,84,150,150,0,84,84,0,73,84,75,75,73,84,150,84,75,0,150,75,0,75,84,84,75,0,107,215,150,151,151,73,0,84,73,73,75,107,75,75,84,0,0,151,75,75,149,84,107,107,84,0,84,75,151,84,75,149,84,84,84,73,75,84,0,150,107,84,84,107,75,215,84,151,0,84,150,75,75,150,107,73,151,150,149,0,150,84,84,107,84,84,0,84,84,215,84,84,84,0,151,151,84,0,84,73,107,0,150,84,0,150,84,149,73,73,149,215,0,84,107,149,75,150,84,75,84,0,151,151,107,75,151,75,215,75,75,0,151,75,0,0,75,75,0,84,84,151,0,75,84,84,84,0,84,107,150,75,151,84,0,73,73,151,107,0,107,84,0,149,84,0,0,73,150,84,75,84,0,107],\"yaxis\":\"y\",\"type\":\"scattergl\"},{\"hovertemplate\":\"Make=%{x}<br>Electric Range=%{y}<extra></extra>\",\"legendgroup\":\"BMW\",\"marker\":{\"color\":\"#00cc96\",\"symbol\":\"circle\"},\"mode\":\"markers\",\"name\":\"BMW\",\"showlegend\":true,\"x\":[\"BMW\",\"BMW\",\"BMW\",\"BMW\",\"BMW\",\"BMW\",\"BMW\",\"BMW\",\"BMW\",\"BMW\",\"BMW\",\"BMW\",\"BMW\",\"BMW\",\"BMW\",\"BMW\",\"BMW\",\"BMW\",\"BMW\",\"BMW\",\"BMW\",\"BMW\",\"BMW\",\"BMW\",\"BMW\",\"BMW\",\"BMW\",\"BMW\",\"BMW\",\"BMW\",\"BMW\",\"BMW\",\"BMW\",\"BMW\",\"BMW\",\"BMW\",\"BMW\",\"BMW\",\"BMW\",\"BMW\",\"BMW\",\"BMW\",\"BMW\",\"BMW\",\"BMW\",\"BMW\",\"BMW\",\"BMW\",\"BMW\",\"BMW\",\"BMW\",\"BMW\",\"BMW\",\"BMW\",\"BMW\",\"BMW\",\"BMW\",\"BMW\",\"BMW\",\"BMW\",\"BMW\",\"BMW\",\"BMW\",\"BMW\",\"BMW\",\"BMW\",\"BMW\",\"BMW\",\"BMW\",\"BMW\",\"BMW\",\"BMW\",\"BMW\",\"BMW\",\"BMW\",\"BMW\",\"BMW\",\"BMW\",\"BMW\",\"BMW\",\"BMW\",\"BMW\",\"BMW\",\"BMW\",\"BMW\",\"BMW\",\"BMW\",\"BMW\",\"BMW\",\"BMW\",\"BMW\",\"BMW\",\"BMW\",\"BMW\",\"BMW\",\"BMW\",\"BMW\",\"BMW\",\"BMW\",\"BMW\",\"BMW\",\"BMW\",\"BMW\",\"BMW\",\"BMW\",\"BMW\",\"BMW\",\"BMW\",\"BMW\",\"BMW\",\"BMW\",\"BMW\",\"BMW\",\"BMW\",\"BMW\",\"BMW\",\"BMW\",\"BMW\",\"BMW\",\"BMW\",\"BMW\",\"BMW\",\"BMW\",\"BMW\",\"BMW\",\"BMW\",\"BMW\",\"BMW\",\"BMW\",\"BMW\",\"BMW\",\"BMW\",\"BMW\",\"BMW\",\"BMW\",\"BMW\",\"BMW\",\"BMW\",\"BMW\",\"BMW\",\"BMW\",\"BMW\",\"BMW\",\"BMW\",\"BMW\",\"BMW\",\"BMW\",\"BMW\",\"BMW\",\"BMW\",\"BMW\",\"BMW\",\"BMW\",\"BMW\",\"BMW\",\"BMW\",\"BMW\",\"BMW\",\"BMW\",\"BMW\",\"BMW\",\"BMW\",\"BMW\",\"BMW\",\"BMW\",\"BMW\",\"BMW\",\"BMW\",\"BMW\",\"BMW\",\"BMW\",\"BMW\",\"BMW\",\"BMW\",\"BMW\",\"BMW\",\"BMW\",\"BMW\",\"BMW\",\"BMW\",\"BMW\",\"BMW\",\"BMW\",\"BMW\",\"BMW\",\"BMW\",\"BMW\",\"BMW\",\"BMW\",\"BMW\",\"BMW\",\"BMW\",\"BMW\",\"BMW\",\"BMW\",\"BMW\",\"BMW\",\"BMW\",\"BMW\",\"BMW\",\"BMW\",\"BMW\",\"BMW\",\"BMW\",\"BMW\",\"BMW\",\"BMW\",\"BMW\",\"BMW\",\"BMW\",\"BMW\",\"BMW\",\"BMW\",\"BMW\",\"BMW\",\"BMW\",\"BMW\",\"BMW\",\"BMW\",\"BMW\",\"BMW\",\"BMW\",\"BMW\",\"BMW\",\"BMW\",\"BMW\",\"BMW\",\"BMW\",\"BMW\",\"BMW\",\"BMW\",\"BMW\",\"BMW\",\"BMW\",\"BMW\",\"BMW\",\"BMW\",\"BMW\",\"BMW\",\"BMW\",\"BMW\",\"BMW\",\"BMW\",\"BMW\",\"BMW\",\"BMW\",\"BMW\",\"BMW\",\"BMW\",\"BMW\",\"BMW\",\"BMW\",\"BMW\",\"BMW\",\"BMW\",\"BMW\",\"BMW\",\"BMW\",\"BMW\",\"BMW\",\"BMW\",\"BMW\",\"BMW\",\"BMW\",\"BMW\",\"BMW\",\"BMW\",\"BMW\",\"BMW\",\"BMW\",\"BMW\",\"BMW\",\"BMW\",\"BMW\",\"BMW\",\"BMW\",\"BMW\",\"BMW\",\"BMW\",\"BMW\",\"BMW\",\"BMW\",\"BMW\",\"BMW\",\"BMW\",\"BMW\",\"BMW\",\"BMW\",\"BMW\",\"BMW\",\"BMW\",\"BMW\",\"BMW\",\"BMW\",\"BMW\",\"BMW\",\"BMW\",\"BMW\",\"BMW\",\"BMW\",\"BMW\",\"BMW\",\"BMW\",\"BMW\",\"BMW\",\"BMW\",\"BMW\",\"BMW\",\"BMW\",\"BMW\",\"BMW\",\"BMW\",\"BMW\",\"BMW\",\"BMW\",\"BMW\",\"BMW\",\"BMW\",\"BMW\",\"BMW\",\"BMW\",\"BMW\",\"BMW\",\"BMW\",\"BMW\",\"BMW\",\"BMW\",\"BMW\",\"BMW\",\"BMW\",\"BMW\",\"BMW\",\"BMW\",\"BMW\",\"BMW\",\"BMW\",\"BMW\",\"BMW\",\"BMW\",\"BMW\",\"BMW\",\"BMW\",\"BMW\",\"BMW\",\"BMW\",\"BMW\",\"BMW\",\"BMW\",\"BMW\",\"BMW\",\"BMW\",\"BMW\",\"BMW\",\"BMW\",\"BMW\",\"BMW\",\"BMW\",\"BMW\",\"BMW\",\"BMW\",\"BMW\",\"BMW\",\"BMW\",\"BMW\",\"BMW\",\"BMW\",\"BMW\",\"BMW\",\"BMW\",\"BMW\",\"BMW\",\"BMW\",\"BMW\",\"BMW\",\"BMW\",\"BMW\",\"BMW\",\"BMW\",\"BMW\",\"BMW\",\"BMW\",\"BMW\",\"BMW\",\"BMW\",\"BMW\",\"BMW\",\"BMW\",\"BMW\",\"BMW\",\"BMW\",\"BMW\",\"BMW\",\"BMW\",\"BMW\",\"BMW\",\"BMW\",\"BMW\",\"BMW\",\"BMW\",\"BMW\",\"BMW\",\"BMW\",\"BMW\",\"BMW\",\"BMW\",\"BMW\",\"BMW\",\"BMW\",\"BMW\",\"BMW\",\"BMW\",\"BMW\",\"BMW\",\"BMW\",\"BMW\",\"BMW\",\"BMW\",\"BMW\",\"BMW\",\"BMW\",\"BMW\",\"BMW\",\"BMW\",\"BMW\",\"BMW\",\"BMW\",\"BMW\",\"BMW\",\"BMW\",\"BMW\",\"BMW\",\"BMW\",\"BMW\"],\"xaxis\":\"x\",\"y\":[97,97,30,14,30,72,81,126,14,14,17,81,14,72,14,81,114,72,30,13,81,30,13,72,81,14,30,17,30,30,72,97,30,81,30,72,0,17,30,72,14,14,72,0,16,72,13,0,153,72,30,30,97,17,0,13,0,72,14,30,0,0,0,30,30,72,0,17,72,14,22,30,97,72,0,30,72,17,14,97,30,153,18,17,14,14,18,14,14,126,14,14,30,81,14,14,30,81,30,17,14,97,30,14,30,81,97,81,13,30,14,30,114,72,14,72,72,13,22,30,30,0,0,14,17,0,0,72,17,0,14,30,0,17,97,30,30,0,30,114,30,30,0,30,72,0,153,30,81,14,14,114,81,17,17,14,30,72,126,13,13,18,30,81,81,72,97,72,72,0,18,30,72,72,72,0,114,14,97,97,13,30,30,16,72,30,72,30,13,14,0,72,0,17,14,30,14,0,30,14,30,0,126,72,0,17,30,0,30,0,30,30,0,17,17,20,17,30,97,14,97,72,16,81,72,72,72,97,30,0,30,30,0,30,81,0,30,97,0,18,22,20,14,97,72,0,97,0,30,81,81,30,14,14,30,17,81,14,14,72,0,72,81,97,0,30,97,30,30,97,72,14,30,126,30,97,0,30,126,0,30,114,97,72,81,17,30,14,72,14,0,0,30,13,72,14,97,14,30,17,18,30,13,81,30,97,97,81,0,20,72,30,153,97,20,0,30,30,72,30,14,18,30,72,72,14,30,81,97,30,114,30,30,97,97,30,81,81,30,153,0,114,14,153,14,30,30,30,30,0,17,0,30,15,22,14,30,81,81,30,0,72,114,20,22,17,30,0,30,30,126,72,16,18,126,30,153,114,30,13,0,13,14,14,97,0,126,81,30,72,30,30,14,17,0,30,0,0,30,14,14,126,30,13,17,17,72,81,0,17,30,30,14,72,30,14,30,72,14,30,14,30,0,0,30,72,30,30,72,13,30,97,13],\"yaxis\":\"y\",\"type\":\"scattergl\"},{\"hovertemplate\":\"Make=%{x}<br>Electric Range=%{y}<extra></extra>\",\"legendgroup\":\"AUDI\",\"marker\":{\"color\":\"#ab63fa\",\"symbol\":\"circle\"},\"mode\":\"markers\",\"name\":\"AUDI\",\"showlegend\":true,\"x\":[\"AUDI\",\"AUDI\",\"AUDI\",\"AUDI\",\"AUDI\",\"AUDI\",\"AUDI\",\"AUDI\",\"AUDI\",\"AUDI\",\"AUDI\",\"AUDI\",\"AUDI\",\"AUDI\",\"AUDI\",\"AUDI\",\"AUDI\",\"AUDI\",\"AUDI\",\"AUDI\",\"AUDI\",\"AUDI\",\"AUDI\",\"AUDI\",\"AUDI\",\"AUDI\",\"AUDI\",\"AUDI\",\"AUDI\",\"AUDI\",\"AUDI\",\"AUDI\",\"AUDI\",\"AUDI\",\"AUDI\",\"AUDI\",\"AUDI\",\"AUDI\",\"AUDI\",\"AUDI\",\"AUDI\",\"AUDI\",\"AUDI\",\"AUDI\",\"AUDI\",\"AUDI\",\"AUDI\",\"AUDI\",\"AUDI\",\"AUDI\",\"AUDI\",\"AUDI\",\"AUDI\",\"AUDI\",\"AUDI\",\"AUDI\",\"AUDI\",\"AUDI\",\"AUDI\",\"AUDI\",\"AUDI\",\"AUDI\",\"AUDI\",\"AUDI\",\"AUDI\",\"AUDI\",\"AUDI\",\"AUDI\",\"AUDI\",\"AUDI\",\"AUDI\",\"AUDI\",\"AUDI\",\"AUDI\",\"AUDI\",\"AUDI\",\"AUDI\",\"AUDI\",\"AUDI\",\"AUDI\",\"AUDI\",\"AUDI\",\"AUDI\",\"AUDI\",\"AUDI\",\"AUDI\",\"AUDI\",\"AUDI\",\"AUDI\",\"AUDI\",\"AUDI\",\"AUDI\",\"AUDI\",\"AUDI\",\"AUDI\",\"AUDI\",\"AUDI\",\"AUDI\",\"AUDI\",\"AUDI\",\"AUDI\",\"AUDI\",\"AUDI\",\"AUDI\",\"AUDI\",\"AUDI\",\"AUDI\",\"AUDI\",\"AUDI\",\"AUDI\",\"AUDI\",\"AUDI\",\"AUDI\",\"AUDI\",\"AUDI\",\"AUDI\",\"AUDI\",\"AUDI\",\"AUDI\",\"AUDI\",\"AUDI\",\"AUDI\",\"AUDI\",\"AUDI\",\"AUDI\",\"AUDI\",\"AUDI\",\"AUDI\",\"AUDI\",\"AUDI\",\"AUDI\",\"AUDI\",\"AUDI\",\"AUDI\",\"AUDI\",\"AUDI\",\"AUDI\",\"AUDI\",\"AUDI\",\"AUDI\",\"AUDI\",\"AUDI\",\"AUDI\",\"AUDI\",\"AUDI\",\"AUDI\",\"AUDI\",\"AUDI\",\"AUDI\",\"AUDI\",\"AUDI\",\"AUDI\",\"AUDI\",\"AUDI\",\"AUDI\",\"AUDI\",\"AUDI\",\"AUDI\",\"AUDI\",\"AUDI\",\"AUDI\",\"AUDI\",\"AUDI\",\"AUDI\",\"AUDI\",\"AUDI\",\"AUDI\",\"AUDI\",\"AUDI\",\"AUDI\",\"AUDI\",\"AUDI\",\"AUDI\",\"AUDI\",\"AUDI\",\"AUDI\",\"AUDI\",\"AUDI\",\"AUDI\",\"AUDI\",\"AUDI\",\"AUDI\",\"AUDI\",\"AUDI\",\"AUDI\",\"AUDI\",\"AUDI\",\"AUDI\",\"AUDI\",\"AUDI\",\"AUDI\",\"AUDI\",\"AUDI\",\"AUDI\",\"AUDI\",\"AUDI\",\"AUDI\",\"AUDI\",\"AUDI\",\"AUDI\",\"AUDI\",\"AUDI\"],\"xaxis\":\"x\",\"y\":[18,18,204,16,18,204,16,18,20,16,0,0,204,0,0,0,204,16,16,0,0,204,0,0,204,18,0,0,204,18,0,16,18,0,22,222,16,22,204,0,16,0,218,18,20,18,204,204,204,204,0,23,23,0,222,0,18,0,23,16,20,20,16,20,204,0,16,0,16,16,0,204,204,204,0,0,20,18,0,20,0,16,20,204,0,19,18,16,16,0,204,222,20,18,16,20,18,20,23,16,0,204,0,0,18,204,16,0,19,16,222,0,0,0,16,218,23,18,18,0,20,0,0,22,218,204,0,16,16,23,23,18,22,20,20,0,16,20,16,16,18,16,16,16,16,18,16,204,222,0,0,204,0,20,204,204,0,204,18,20,0,16,204,222,0,218,16,218,16,0,0,0,16,0,23,204,0,16,18,16,18,0,0,204,0,204,0,16,18,0,23,16,16,20,0,16,16,18,0,18,0,16],\"yaxis\":\"y\",\"type\":\"scattergl\"},{\"hovertemplate\":\"Make=%{x}<br>Electric Range=%{y}<extra></extra>\",\"legendgroup\":\"TOYOTA\",\"marker\":{\"color\":\"#FFA15A\",\"symbol\":\"circle\"},\"mode\":\"markers\",\"name\":\"TOYOTA\",\"showlegend\":true,\"x\":[\"TOYOTA\",\"TOYOTA\",\"TOYOTA\",\"TOYOTA\",\"TOYOTA\",\"TOYOTA\",\"TOYOTA\",\"TOYOTA\",\"TOYOTA\",\"TOYOTA\",\"TOYOTA\",\"TOYOTA\",\"TOYOTA\",\"TOYOTA\",\"TOYOTA\",\"TOYOTA\",\"TOYOTA\",\"TOYOTA\",\"TOYOTA\",\"TOYOTA\",\"TOYOTA\",\"TOYOTA\",\"TOYOTA\",\"TOYOTA\",\"TOYOTA\",\"TOYOTA\",\"TOYOTA\",\"TOYOTA\",\"TOYOTA\",\"TOYOTA\",\"TOYOTA\",\"TOYOTA\",\"TOYOTA\",\"TOYOTA\",\"TOYOTA\",\"TOYOTA\",\"TOYOTA\",\"TOYOTA\",\"TOYOTA\",\"TOYOTA\",\"TOYOTA\",\"TOYOTA\",\"TOYOTA\",\"TOYOTA\",\"TOYOTA\",\"TOYOTA\",\"TOYOTA\",\"TOYOTA\",\"TOYOTA\",\"TOYOTA\",\"TOYOTA\",\"TOYOTA\",\"TOYOTA\",\"TOYOTA\",\"TOYOTA\",\"TOYOTA\",\"TOYOTA\",\"TOYOTA\",\"TOYOTA\",\"TOYOTA\",\"TOYOTA\",\"TOYOTA\",\"TOYOTA\",\"TOYOTA\",\"TOYOTA\",\"TOYOTA\",\"TOYOTA\",\"TOYOTA\",\"TOYOTA\",\"TOYOTA\",\"TOYOTA\",\"TOYOTA\",\"TOYOTA\",\"TOYOTA\",\"TOYOTA\",\"TOYOTA\",\"TOYOTA\",\"TOYOTA\",\"TOYOTA\",\"TOYOTA\",\"TOYOTA\",\"TOYOTA\",\"TOYOTA\",\"TOYOTA\",\"TOYOTA\",\"TOYOTA\",\"TOYOTA\",\"TOYOTA\",\"TOYOTA\",\"TOYOTA\",\"TOYOTA\",\"TOYOTA\",\"TOYOTA\",\"TOYOTA\",\"TOYOTA\",\"TOYOTA\",\"TOYOTA\",\"TOYOTA\",\"TOYOTA\",\"TOYOTA\",\"TOYOTA\",\"TOYOTA\",\"TOYOTA\",\"TOYOTA\",\"TOYOTA\",\"TOYOTA\",\"TOYOTA\",\"TOYOTA\",\"TOYOTA\",\"TOYOTA\",\"TOYOTA\",\"TOYOTA\",\"TOYOTA\",\"TOYOTA\",\"TOYOTA\",\"TOYOTA\",\"TOYOTA\",\"TOYOTA\",\"TOYOTA\",\"TOYOTA\",\"TOYOTA\",\"TOYOTA\",\"TOYOTA\",\"TOYOTA\",\"TOYOTA\",\"TOYOTA\",\"TOYOTA\",\"TOYOTA\",\"TOYOTA\",\"TOYOTA\",\"TOYOTA\",\"TOYOTA\",\"TOYOTA\",\"TOYOTA\",\"TOYOTA\",\"TOYOTA\",\"TOYOTA\",\"TOYOTA\",\"TOYOTA\",\"TOYOTA\",\"TOYOTA\",\"TOYOTA\",\"TOYOTA\",\"TOYOTA\",\"TOYOTA\",\"TOYOTA\",\"TOYOTA\",\"TOYOTA\",\"TOYOTA\",\"TOYOTA\",\"TOYOTA\",\"TOYOTA\",\"TOYOTA\",\"TOYOTA\",\"TOYOTA\",\"TOYOTA\",\"TOYOTA\",\"TOYOTA\",\"TOYOTA\",\"TOYOTA\",\"TOYOTA\",\"TOYOTA\",\"TOYOTA\",\"TOYOTA\",\"TOYOTA\",\"TOYOTA\",\"TOYOTA\",\"TOYOTA\",\"TOYOTA\",\"TOYOTA\",\"TOYOTA\",\"TOYOTA\",\"TOYOTA\",\"TOYOTA\",\"TOYOTA\",\"TOYOTA\",\"TOYOTA\",\"TOYOTA\",\"TOYOTA\",\"TOYOTA\",\"TOYOTA\",\"TOYOTA\",\"TOYOTA\",\"TOYOTA\",\"TOYOTA\",\"TOYOTA\",\"TOYOTA\",\"TOYOTA\",\"TOYOTA\",\"TOYOTA\",\"TOYOTA\",\"TOYOTA\",\"TOYOTA\",\"TOYOTA\",\"TOYOTA\",\"TOYOTA\",\"TOYOTA\",\"TOYOTA\",\"TOYOTA\",\"TOYOTA\",\"TOYOTA\",\"TOYOTA\",\"TOYOTA\",\"TOYOTA\",\"TOYOTA\",\"TOYOTA\",\"TOYOTA\",\"TOYOTA\",\"TOYOTA\",\"TOYOTA\",\"TOYOTA\",\"TOYOTA\",\"TOYOTA\",\"TOYOTA\",\"TOYOTA\",\"TOYOTA\",\"TOYOTA\",\"TOYOTA\",\"TOYOTA\",\"TOYOTA\",\"TOYOTA\",\"TOYOTA\",\"TOYOTA\",\"TOYOTA\",\"TOYOTA\",\"TOYOTA\",\"TOYOTA\",\"TOYOTA\",\"TOYOTA\",\"TOYOTA\",\"TOYOTA\",\"TOYOTA\",\"TOYOTA\",\"TOYOTA\",\"TOYOTA\",\"TOYOTA\",\"TOYOTA\",\"TOYOTA\",\"TOYOTA\",\"TOYOTA\",\"TOYOTA\",\"TOYOTA\",\"TOYOTA\",\"TOYOTA\",\"TOYOTA\",\"TOYOTA\",\"TOYOTA\",\"TOYOTA\",\"TOYOTA\",\"TOYOTA\",\"TOYOTA\",\"TOYOTA\",\"TOYOTA\",\"TOYOTA\",\"TOYOTA\",\"TOYOTA\",\"TOYOTA\",\"TOYOTA\",\"TOYOTA\",\"TOYOTA\",\"TOYOTA\",\"TOYOTA\",\"TOYOTA\",\"TOYOTA\",\"TOYOTA\",\"TOYOTA\",\"TOYOTA\",\"TOYOTA\",\"TOYOTA\",\"TOYOTA\",\"TOYOTA\",\"TOYOTA\",\"TOYOTA\",\"TOYOTA\",\"TOYOTA\",\"TOYOTA\",\"TOYOTA\",\"TOYOTA\",\"TOYOTA\",\"TOYOTA\",\"TOYOTA\",\"TOYOTA\",\"TOYOTA\",\"TOYOTA\",\"TOYOTA\",\"TOYOTA\",\"TOYOTA\",\"TOYOTA\",\"TOYOTA\",\"TOYOTA\",\"TOYOTA\",\"TOYOTA\",\"TOYOTA\",\"TOYOTA\",\"TOYOTA\",\"TOYOTA\",\"TOYOTA\",\"TOYOTA\",\"TOYOTA\",\"TOYOTA\",\"TOYOTA\",\"TOYOTA\",\"TOYOTA\",\"TOYOTA\",\"TOYOTA\",\"TOYOTA\",\"TOYOTA\",\"TOYOTA\",\"TOYOTA\",\"TOYOTA\",\"TOYOTA\",\"TOYOTA\",\"TOYOTA\",\"TOYOTA\",\"TOYOTA\",\"TOYOTA\",\"TOYOTA\",\"TOYOTA\",\"TOYOTA\",\"TOYOTA\",\"TOYOTA\",\"TOYOTA\",\"TOYOTA\",\"TOYOTA\",\"TOYOTA\",\"TOYOTA\",\"TOYOTA\",\"TOYOTA\",\"TOYOTA\",\"TOYOTA\",\"TOYOTA\",\"TOYOTA\",\"TOYOTA\",\"TOYOTA\",\"TOYOTA\",\"TOYOTA\",\"TOYOTA\",\"TOYOTA\",\"TOYOTA\",\"TOYOTA\",\"TOYOTA\",\"TOYOTA\"],\"xaxis\":\"x\",\"y\":[25,25,103,25,42,25,25,25,42,25,25,25,25,6,25,42,0,25,6,25,42,6,6,103,25,6,42,25,42,42,25,25,25,42,25,6,25,6,42,25,42,6,25,42,42,25,25,25,42,25,25,42,42,25,25,42,25,25,6,0,42,6,6,25,25,25,25,6,25,6,25,6,42,25,6,6,42,25,25,25,25,42,42,6,42,6,25,25,25,25,25,42,6,42,6,42,25,42,25,25,6,25,25,25,42,6,6,25,25,25,25,25,6,42,25,25,25,6,42,25,25,25,25,42,25,42,25,42,6,103,25,25,25,6,25,42,42,25,42,42,42,42,25,25,6,25,25,6,25,42,103,25,25,25,25,25,42,25,25,25,6,42,42,25,6,25,42,103,25,25,25,42,25,42,25,25,42,25,25,25,42,25,25,25,25,42,42,25,25,42,25,25,25,42,25,25,6,25,42,42,25,6,25,25,25,25,25,25,42,42,6,6,25,25,42,25,25,42,25,6,42,25,42,6,42,25,25,42,25,25,25,25,25,6,25,25,6,0,6,42,25,6,25,25,25,25,42,25,25,42,6,42,6,25,42,25,42,25,25,25,25,25,25,42,6,6,25,25,25,25,42,25,25,25,6,25,0,25,25,25,25,25,25,42,42,42,42,42,6,25,6,25,42,25,6,6,6,25,25,25,25,42,42,25,25,25,25,6,25,25,42,6,6,42,25,6,25,25,42,25,25,42,42,42,25,6,42,25,25,25,6,6,25,42,6,42,6,0,25,25,25,25],\"yaxis\":\"y\",\"type\":\"scattergl\"},{\"hovertemplate\":\"Make=%{x}<br>Electric Range=%{y}<extra></extra>\",\"legendgroup\":\"KIA\",\"marker\":{\"color\":\"#19d3f3\",\"symbol\":\"circle\"},\"mode\":\"markers\",\"name\":\"KIA\",\"showlegend\":true,\"x\":[\"KIA\",\"KIA\",\"KIA\",\"KIA\",\"KIA\",\"KIA\",\"KIA\",\"KIA\",\"KIA\",\"KIA\",\"KIA\",\"KIA\",\"KIA\",\"KIA\",\"KIA\",\"KIA\",\"KIA\",\"KIA\",\"KIA\",\"KIA\",\"KIA\",\"KIA\",\"KIA\",\"KIA\",\"KIA\",\"KIA\",\"KIA\",\"KIA\",\"KIA\",\"KIA\",\"KIA\",\"KIA\",\"KIA\",\"KIA\",\"KIA\",\"KIA\",\"KIA\",\"KIA\",\"KIA\",\"KIA\",\"KIA\",\"KIA\",\"KIA\",\"KIA\",\"KIA\",\"KIA\",\"KIA\",\"KIA\",\"KIA\",\"KIA\",\"KIA\",\"KIA\",\"KIA\",\"KIA\",\"KIA\",\"KIA\",\"KIA\",\"KIA\",\"KIA\",\"KIA\",\"KIA\",\"KIA\",\"KIA\",\"KIA\",\"KIA\",\"KIA\",\"KIA\",\"KIA\",\"KIA\",\"KIA\",\"KIA\",\"KIA\",\"KIA\",\"KIA\",\"KIA\",\"KIA\",\"KIA\",\"KIA\",\"KIA\",\"KIA\",\"KIA\",\"KIA\",\"KIA\",\"KIA\",\"KIA\",\"KIA\",\"KIA\",\"KIA\",\"KIA\",\"KIA\",\"KIA\",\"KIA\",\"KIA\",\"KIA\",\"KIA\",\"KIA\",\"KIA\",\"KIA\",\"KIA\",\"KIA\",\"KIA\",\"KIA\",\"KIA\",\"KIA\",\"KIA\",\"KIA\",\"KIA\",\"KIA\",\"KIA\",\"KIA\",\"KIA\",\"KIA\",\"KIA\",\"KIA\",\"KIA\",\"KIA\",\"KIA\",\"KIA\",\"KIA\",\"KIA\",\"KIA\",\"KIA\",\"KIA\",\"KIA\",\"KIA\",\"KIA\",\"KIA\",\"KIA\",\"KIA\",\"KIA\",\"KIA\",\"KIA\",\"KIA\",\"KIA\",\"KIA\",\"KIA\",\"KIA\",\"KIA\",\"KIA\",\"KIA\",\"KIA\",\"KIA\",\"KIA\",\"KIA\",\"KIA\",\"KIA\",\"KIA\",\"KIA\",\"KIA\",\"KIA\",\"KIA\",\"KIA\",\"KIA\",\"KIA\",\"KIA\",\"KIA\",\"KIA\",\"KIA\",\"KIA\",\"KIA\",\"KIA\",\"KIA\",\"KIA\",\"KIA\",\"KIA\",\"KIA\",\"KIA\",\"KIA\",\"KIA\",\"KIA\",\"KIA\",\"KIA\",\"KIA\",\"KIA\",\"KIA\",\"KIA\",\"KIA\",\"KIA\",\"KIA\",\"KIA\",\"KIA\",\"KIA\",\"KIA\",\"KIA\",\"KIA\",\"KIA\",\"KIA\",\"KIA\",\"KIA\",\"KIA\",\"KIA\",\"KIA\",\"KIA\",\"KIA\",\"KIA\",\"KIA\",\"KIA\",\"KIA\",\"KIA\",\"KIA\",\"KIA\",\"KIA\",\"KIA\",\"KIA\",\"KIA\",\"KIA\",\"KIA\",\"KIA\",\"KIA\",\"KIA\",\"KIA\",\"KIA\",\"KIA\",\"KIA\",\"KIA\",\"KIA\",\"KIA\",\"KIA\",\"KIA\",\"KIA\",\"KIA\",\"KIA\",\"KIA\",\"KIA\",\"KIA\",\"KIA\",\"KIA\",\"KIA\",\"KIA\",\"KIA\",\"KIA\",\"KIA\",\"KIA\",\"KIA\",\"KIA\",\"KIA\",\"KIA\",\"KIA\",\"KIA\",\"KIA\",\"KIA\",\"KIA\",\"KIA\",\"KIA\",\"KIA\",\"KIA\",\"KIA\",\"KIA\",\"KIA\",\"KIA\",\"KIA\",\"KIA\",\"KIA\",\"KIA\",\"KIA\",\"KIA\",\"KIA\",\"KIA\",\"KIA\",\"KIA\",\"KIA\",\"KIA\",\"KIA\",\"KIA\",\"KIA\",\"KIA\",\"KIA\",\"KIA\",\"KIA\",\"KIA\",\"KIA\",\"KIA\",\"KIA\",\"KIA\",\"KIA\",\"KIA\",\"KIA\",\"KIA\",\"KIA\",\"KIA\",\"KIA\",\"KIA\",\"KIA\",\"KIA\",\"KIA\",\"KIA\",\"KIA\",\"KIA\",\"KIA\",\"KIA\",\"KIA\",\"KIA\",\"KIA\",\"KIA\",\"KIA\",\"KIA\",\"KIA\",\"KIA\",\"KIA\",\"KIA\",\"KIA\",\"KIA\",\"KIA\",\"KIA\",\"KIA\",\"KIA\",\"KIA\",\"KIA\",\"KIA\",\"KIA\",\"KIA\",\"KIA\",\"KIA\",\"KIA\",\"KIA\",\"KIA\",\"KIA\",\"KIA\",\"KIA\",\"KIA\",\"KIA\",\"KIA\",\"KIA\",\"KIA\",\"KIA\",\"KIA\",\"KIA\",\"KIA\",\"KIA\",\"KIA\",\"KIA\",\"KIA\",\"KIA\",\"KIA\",\"KIA\",\"KIA\",\"KIA\",\"KIA\",\"KIA\",\"KIA\",\"KIA\",\"KIA\",\"KIA\",\"KIA\",\"KIA\",\"KIA\",\"KIA\",\"KIA\",\"KIA\",\"KIA\",\"KIA\",\"KIA\",\"KIA\",\"KIA\",\"KIA\",\"KIA\",\"KIA\",\"KIA\",\"KIA\",\"KIA\",\"KIA\",\"KIA\",\"KIA\",\"KIA\",\"KIA\",\"KIA\",\"KIA\",\"KIA\",\"KIA\",\"KIA\",\"KIA\",\"KIA\",\"KIA\",\"KIA\",\"KIA\",\"KIA\",\"KIA\",\"KIA\",\"KIA\",\"KIA\",\"KIA\",\"KIA\",\"KIA\",\"KIA\",\"KIA\",\"KIA\",\"KIA\"],\"xaxis\":\"x\",\"y\":[239,26,239,239,26,239,26,26,26,239,26,26,32,0,239,0,0,32,0,26,239,26,29,33,239,26,0,93,26,239,26,0,26,239,93,93,239,0,33,0,0,0,26,0,33,239,239,0,93,0,0,239,0,239,26,32,32,239,93,0,0,239,26,0,0,32,239,93,0,26,26,26,26,34,26,0,93,0,0,0,239,239,93,32,0,0,239,0,32,26,0,239,32,0,26,0,0,239,32,239,26,239,32,0,0,93,93,0,0,0,0,0,26,26,0,0,0,0,0,0,33,0,26,0,0,0,32,0,26,0,29,239,239,33,93,32,0,0,0,0,0,26,0,32,239,93,239,0,93,0,0,29,0,26,239,32,0,93,0,32,93,111,239,34,0,0,0,93,239,93,0,239,32,29,0,239,239,0,0,34,26,93,239,239,33,0,26,93,93,26,0,26,111,26,93,26,34,0,239,33,0,93,239,0,32,0,26,26,32,239,0,26,0,33,0,34,34,32,93,32,239,93,0,32,0,0,0,26,26,239,239,34,239,32,0,0,34,239,0,0,239,0,0,93,0,239,34,93,0,0,0,32,0,26,26,0,32,239,0,93,32,93,26,239,33,0,0,32,0,0,239,93,93,239,0,239,0,93,93,239,34,0,33,239,26,93,32,0,0,0,0,0,0,34,93,239,32,32,32,239,26,0,0,0,32,0,0,239,0,29,0,0,26,93,239,26,0,26,0,0,0,93,0,29,0,26,26,0,26,93,239,29,0,0,26,0,0,32,239,26,0,239,29,0,26,239,93,239,26,0,0,0,239,93,239,0,34,0,0,93,26,93,0,0,0,0,29,32,0,32,93,26,34,239,239,93,26,0,0,239,0,26,0,26,29,0,26],\"yaxis\":\"y\",\"type\":\"scattergl\"},{\"hovertemplate\":\"Make=%{x}<br>Electric Range=%{y}<extra></extra>\",\"legendgroup\":\"FIAT\",\"marker\":{\"color\":\"#FF6692\",\"symbol\":\"circle\"},\"mode\":\"markers\",\"name\":\"FIAT\",\"showlegend\":true,\"x\":[\"FIAT\",\"FIAT\",\"FIAT\",\"FIAT\",\"FIAT\",\"FIAT\",\"FIAT\",\"FIAT\",\"FIAT\",\"FIAT\",\"FIAT\",\"FIAT\",\"FIAT\",\"FIAT\",\"FIAT\",\"FIAT\",\"FIAT\",\"FIAT\",\"FIAT\",\"FIAT\",\"FIAT\",\"FIAT\",\"FIAT\",\"FIAT\",\"FIAT\",\"FIAT\",\"FIAT\",\"FIAT\",\"FIAT\",\"FIAT\",\"FIAT\",\"FIAT\",\"FIAT\",\"FIAT\",\"FIAT\",\"FIAT\",\"FIAT\",\"FIAT\",\"FIAT\",\"FIAT\",\"FIAT\",\"FIAT\",\"FIAT\",\"FIAT\",\"FIAT\",\"FIAT\",\"FIAT\",\"FIAT\",\"FIAT\",\"FIAT\",\"FIAT\",\"FIAT\",\"FIAT\",\"FIAT\",\"FIAT\",\"FIAT\",\"FIAT\",\"FIAT\",\"FIAT\",\"FIAT\",\"FIAT\"],\"xaxis\":\"x\",\"y\":[87,84,87,87,87,87,87,84,84,87,84,87,87,87,87,87,87,84,87,87,84,84,87,84,84,87,87,84,87,87,84,87,84,87,87,87,87,84,84,87,87,84,84,84,87,84,84,84,84,84,84,84,87,84,84,87,87,84,87,84,84],\"yaxis\":\"y\",\"type\":\"scattergl\"},{\"hovertemplate\":\"Make=%{x}<br>Electric Range=%{y}<extra></extra>\",\"legendgroup\":\"FORD\",\"marker\":{\"color\":\"#B6E880\",\"symbol\":\"circle\"},\"mode\":\"markers\",\"name\":\"FORD\",\"showlegend\":true,\"x\":[\"FORD\",\"FORD\",\"FORD\",\"FORD\",\"FORD\",\"FORD\",\"FORD\",\"FORD\",\"FORD\",\"FORD\",\"FORD\",\"FORD\",\"FORD\",\"FORD\",\"FORD\",\"FORD\",\"FORD\",\"FORD\",\"FORD\",\"FORD\",\"FORD\",\"FORD\",\"FORD\",\"FORD\",\"FORD\",\"FORD\",\"FORD\",\"FORD\",\"FORD\",\"FORD\",\"FORD\",\"FORD\",\"FORD\",\"FORD\",\"FORD\",\"FORD\",\"FORD\",\"FORD\",\"FORD\",\"FORD\",\"FORD\",\"FORD\",\"FORD\",\"FORD\",\"FORD\",\"FORD\",\"FORD\",\"FORD\",\"FORD\",\"FORD\",\"FORD\",\"FORD\",\"FORD\",\"FORD\",\"FORD\",\"FORD\",\"FORD\",\"FORD\",\"FORD\",\"FORD\",\"FORD\",\"FORD\",\"FORD\",\"FORD\",\"FORD\",\"FORD\",\"FORD\",\"FORD\",\"FORD\",\"FORD\",\"FORD\",\"FORD\",\"FORD\",\"FORD\",\"FORD\",\"FORD\",\"FORD\",\"FORD\",\"FORD\",\"FORD\",\"FORD\",\"FORD\",\"FORD\",\"FORD\",\"FORD\",\"FORD\",\"FORD\",\"FORD\",\"FORD\",\"FORD\",\"FORD\",\"FORD\",\"FORD\",\"FORD\",\"FORD\",\"FORD\",\"FORD\",\"FORD\",\"FORD\",\"FORD\",\"FORD\",\"FORD\",\"FORD\",\"FORD\",\"FORD\",\"FORD\",\"FORD\",\"FORD\",\"FORD\",\"FORD\",\"FORD\",\"FORD\",\"FORD\",\"FORD\",\"FORD\",\"FORD\",\"FORD\",\"FORD\",\"FORD\",\"FORD\",\"FORD\",\"FORD\",\"FORD\",\"FORD\",\"FORD\",\"FORD\",\"FORD\",\"FORD\",\"FORD\",\"FORD\",\"FORD\",\"FORD\",\"FORD\",\"FORD\",\"FORD\",\"FORD\",\"FORD\",\"FORD\",\"FORD\",\"FORD\",\"FORD\",\"FORD\",\"FORD\",\"FORD\",\"FORD\",\"FORD\",\"FORD\",\"FORD\",\"FORD\",\"FORD\",\"FORD\",\"FORD\",\"FORD\",\"FORD\",\"FORD\",\"FORD\",\"FORD\",\"FORD\",\"FORD\",\"FORD\",\"FORD\",\"FORD\",\"FORD\",\"FORD\",\"FORD\",\"FORD\",\"FORD\",\"FORD\",\"FORD\",\"FORD\",\"FORD\",\"FORD\",\"FORD\",\"FORD\",\"FORD\",\"FORD\",\"FORD\",\"FORD\",\"FORD\",\"FORD\",\"FORD\",\"FORD\",\"FORD\",\"FORD\",\"FORD\",\"FORD\",\"FORD\",\"FORD\",\"FORD\",\"FORD\",\"FORD\",\"FORD\",\"FORD\",\"FORD\",\"FORD\",\"FORD\",\"FORD\",\"FORD\",\"FORD\",\"FORD\",\"FORD\",\"FORD\",\"FORD\",\"FORD\",\"FORD\",\"FORD\",\"FORD\",\"FORD\",\"FORD\",\"FORD\",\"FORD\",\"FORD\",\"FORD\",\"FORD\",\"FORD\",\"FORD\",\"FORD\",\"FORD\",\"FORD\",\"FORD\",\"FORD\",\"FORD\",\"FORD\",\"FORD\",\"FORD\",\"FORD\",\"FORD\",\"FORD\",\"FORD\",\"FORD\",\"FORD\",\"FORD\",\"FORD\",\"FORD\",\"FORD\",\"FORD\",\"FORD\",\"FORD\",\"FORD\",\"FORD\",\"FORD\",\"FORD\",\"FORD\",\"FORD\",\"FORD\",\"FORD\",\"FORD\",\"FORD\",\"FORD\",\"FORD\",\"FORD\",\"FORD\",\"FORD\",\"FORD\",\"FORD\",\"FORD\",\"FORD\",\"FORD\",\"FORD\",\"FORD\",\"FORD\",\"FORD\",\"FORD\",\"FORD\",\"FORD\",\"FORD\",\"FORD\",\"FORD\",\"FORD\",\"FORD\",\"FORD\",\"FORD\",\"FORD\",\"FORD\",\"FORD\",\"FORD\",\"FORD\",\"FORD\",\"FORD\",\"FORD\",\"FORD\",\"FORD\",\"FORD\",\"FORD\",\"FORD\",\"FORD\",\"FORD\",\"FORD\",\"FORD\",\"FORD\",\"FORD\",\"FORD\",\"FORD\",\"FORD\",\"FORD\",\"FORD\",\"FORD\",\"FORD\",\"FORD\",\"FORD\",\"FORD\",\"FORD\",\"FORD\",\"FORD\",\"FORD\",\"FORD\",\"FORD\",\"FORD\",\"FORD\",\"FORD\",\"FORD\",\"FORD\",\"FORD\",\"FORD\",\"FORD\",\"FORD\",\"FORD\",\"FORD\",\"FORD\",\"FORD\",\"FORD\",\"FORD\",\"FORD\",\"FORD\",\"FORD\",\"FORD\",\"FORD\",\"FORD\",\"FORD\",\"FORD\",\"FORD\",\"FORD\",\"FORD\",\"FORD\",\"FORD\",\"FORD\",\"FORD\",\"FORD\",\"FORD\",\"FORD\",\"FORD\",\"FORD\",\"FORD\",\"FORD\",\"FORD\",\"FORD\",\"FORD\",\"FORD\",\"FORD\",\"FORD\",\"FORD\",\"FORD\",\"FORD\",\"FORD\",\"FORD\",\"FORD\",\"FORD\",\"FORD\",\"FORD\",\"FORD\",\"FORD\",\"FORD\",\"FORD\",\"FORD\",\"FORD\",\"FORD\",\"FORD\",\"FORD\",\"FORD\",\"FORD\",\"FORD\",\"FORD\",\"FORD\",\"FORD\",\"FORD\",\"FORD\",\"FORD\",\"FORD\",\"FORD\",\"FORD\",\"FORD\",\"FORD\",\"FORD\",\"FORD\",\"FORD\",\"FORD\",\"FORD\",\"FORD\",\"FORD\",\"FORD\",\"FORD\",\"FORD\",\"FORD\",\"FORD\",\"FORD\",\"FORD\",\"FORD\",\"FORD\",\"FORD\",\"FORD\",\"FORD\",\"FORD\",\"FORD\",\"FORD\",\"FORD\",\"FORD\",\"FORD\",\"FORD\",\"FORD\",\"FORD\",\"FORD\",\"FORD\",\"FORD\",\"FORD\",\"FORD\",\"FORD\",\"FORD\",\"FORD\",\"FORD\",\"FORD\",\"FORD\",\"FORD\",\"FORD\",\"FORD\",\"FORD\",\"FORD\",\"FORD\",\"FORD\",\"FORD\",\"FORD\",\"FORD\",\"FORD\",\"FORD\",\"FORD\",\"FORD\",\"FORD\",\"FORD\",\"FORD\",\"FORD\",\"FORD\",\"FORD\",\"FORD\",\"FORD\",\"FORD\",\"FORD\",\"FORD\",\"FORD\",\"FORD\",\"FORD\",\"FORD\",\"FORD\"],\"xaxis\":\"x\",\"y\":[19,21,19,76,19,19,19,19,0,19,21,0,19,19,38,21,21,19,19,0,19,0,19,19,19,38,0,0,21,0,0,0,0,19,0,19,19,19,0,76,19,0,0,21,19,0,0,19,0,19,0,26,19,19,76,100,19,0,0,0,76,0,19,19,19,0,19,76,19,0,0,19,20,38,19,19,0,21,26,21,19,0,0,0,19,0,0,19,19,19,0,21,0,0,19,0,0,19,0,0,26,0,19,0,0,0,19,76,21,26,19,19,0,19,0,26,19,38,26,0,0,20,19,0,19,19,0,19,19,19,0,0,0,76,0,38,0,19,0,0,0,0,0,0,19,0,0,0,0,0,0,19,0,19,0,0,19,0,0,0,0,19,0,26,20,0,0,37,19,0,0,0,19,19,38,0,0,0,0,0,19,0,38,0,0,0,0,20,19,19,19,19,0,19,19,19,0,0,0,19,19,0,19,19,0,19,0,19,100,19,21,0,20,26,38,0,0,0,0,0,26,26,0,76,19,76,0,19,21,19,0,20,0,19,38,19,19,19,0,19,19,0,19,19,0,0,21,0,19,20,20,19,19,19,76,19,0,0,0,19,0,0,0,21,0,0,19,19,21,19,20,76,20,19,0,38,0,19,0,0,19,20,21,19,21,0,0,0,21,0,0,0,0,0,0,0,0,0,19,19,38,21,0,19,0,19,19,0,19,19,0,0,0,0,19,21,19,19,0,19,0,19,0,19,21,0,26,0,19,19,0,0,0,0,0,0,76,0,19,19,19,19,0,19,0,21,0,19,0,19,0,0,19,0,19,0,19,0,19,0,20,0,0,0,0,0,20,20,0,19,0,19,21,0,38,19,19,19,0,0,21,0,0,20,0,0,0,0,0,19,19,0,76,0,0,0,0,0,21,0,19,0,19,0,19,19,19,0,19,76,19,0,19,0,0,0,0,21,0,0,0,0,76,0,19,19,0,19,38,19,0,19,21,76,76,19,76,21,0,0,0,0,0,19,0,0,0,0,0,19,19],\"yaxis\":\"y\",\"type\":\"scattergl\"},{\"hovertemplate\":\"Make=%{x}<br>Electric Range=%{y}<extra></extra>\",\"legendgroup\":\"CHEVROLET\",\"marker\":{\"color\":\"#FF97FF\",\"symbol\":\"circle\"},\"mode\":\"markers\",\"name\":\"CHEVROLET\",\"showlegend\":true,\"x\":[\"CHEVROLET\",\"CHEVROLET\",\"CHEVROLET\",\"CHEVROLET\",\"CHEVROLET\",\"CHEVROLET\",\"CHEVROLET\",\"CHEVROLET\",\"CHEVROLET\",\"CHEVROLET\",\"CHEVROLET\",\"CHEVROLET\",\"CHEVROLET\",\"CHEVROLET\",\"CHEVROLET\",\"CHEVROLET\",\"CHEVROLET\",\"CHEVROLET\",\"CHEVROLET\",\"CHEVROLET\",\"CHEVROLET\",\"CHEVROLET\",\"CHEVROLET\",\"CHEVROLET\",\"CHEVROLET\",\"CHEVROLET\",\"CHEVROLET\",\"CHEVROLET\",\"CHEVROLET\",\"CHEVROLET\",\"CHEVROLET\",\"CHEVROLET\",\"CHEVROLET\",\"CHEVROLET\",\"CHEVROLET\",\"CHEVROLET\",\"CHEVROLET\",\"CHEVROLET\",\"CHEVROLET\",\"CHEVROLET\",\"CHEVROLET\",\"CHEVROLET\",\"CHEVROLET\",\"CHEVROLET\",\"CHEVROLET\",\"CHEVROLET\",\"CHEVROLET\",\"CHEVROLET\",\"CHEVROLET\",\"CHEVROLET\",\"CHEVROLET\",\"CHEVROLET\",\"CHEVROLET\",\"CHEVROLET\",\"CHEVROLET\",\"CHEVROLET\",\"CHEVROLET\",\"CHEVROLET\",\"CHEVROLET\",\"CHEVROLET\",\"CHEVROLET\",\"CHEVROLET\",\"CHEVROLET\",\"CHEVROLET\",\"CHEVROLET\",\"CHEVROLET\",\"CHEVROLET\",\"CHEVROLET\",\"CHEVROLET\",\"CHEVROLET\",\"CHEVROLET\",\"CHEVROLET\",\"CHEVROLET\",\"CHEVROLET\",\"CHEVROLET\",\"CHEVROLET\",\"CHEVROLET\",\"CHEVROLET\",\"CHEVROLET\",\"CHEVROLET\",\"CHEVROLET\",\"CHEVROLET\",\"CHEVROLET\",\"CHEVROLET\",\"CHEVROLET\",\"CHEVROLET\",\"CHEVROLET\",\"CHEVROLET\",\"CHEVROLET\",\"CHEVROLET\",\"CHEVROLET\",\"CHEVROLET\",\"CHEVROLET\",\"CHEVROLET\",\"CHEVROLET\",\"CHEVROLET\",\"CHEVROLET\",\"CHEVROLET\",\"CHEVROLET\",\"CHEVROLET\",\"CHEVROLET\",\"CHEVROLET\",\"CHEVROLET\",\"CHEVROLET\",\"CHEVROLET\",\"CHEVROLET\",\"CHEVROLET\",\"CHEVROLET\",\"CHEVROLET\",\"CHEVROLET\",\"CHEVROLET\",\"CHEVROLET\",\"CHEVROLET\",\"CHEVROLET\",\"CHEVROLET\",\"CHEVROLET\",\"CHEVROLET\",\"CHEVROLET\",\"CHEVROLET\",\"CHEVROLET\",\"CHEVROLET\",\"CHEVROLET\",\"CHEVROLET\",\"CHEVROLET\",\"CHEVROLET\",\"CHEVROLET\",\"CHEVROLET\",\"CHEVROLET\",\"CHEVROLET\",\"CHEVROLET\",\"CHEVROLET\",\"CHEVROLET\",\"CHEVROLET\",\"CHEVROLET\",\"CHEVROLET\",\"CHEVROLET\",\"CHEVROLET\",\"CHEVROLET\",\"CHEVROLET\",\"CHEVROLET\",\"CHEVROLET\",\"CHEVROLET\",\"CHEVROLET\",\"CHEVROLET\",\"CHEVROLET\",\"CHEVROLET\",\"CHEVROLET\",\"CHEVROLET\",\"CHEVROLET\",\"CHEVROLET\",\"CHEVROLET\",\"CHEVROLET\",\"CHEVROLET\",\"CHEVROLET\",\"CHEVROLET\",\"CHEVROLET\",\"CHEVROLET\",\"CHEVROLET\",\"CHEVROLET\",\"CHEVROLET\",\"CHEVROLET\",\"CHEVROLET\",\"CHEVROLET\",\"CHEVROLET\",\"CHEVROLET\",\"CHEVROLET\",\"CHEVROLET\",\"CHEVROLET\",\"CHEVROLET\",\"CHEVROLET\",\"CHEVROLET\",\"CHEVROLET\",\"CHEVROLET\",\"CHEVROLET\",\"CHEVROLET\",\"CHEVROLET\",\"CHEVROLET\",\"CHEVROLET\",\"CHEVROLET\",\"CHEVROLET\",\"CHEVROLET\",\"CHEVROLET\",\"CHEVROLET\",\"CHEVROLET\",\"CHEVROLET\",\"CHEVROLET\",\"CHEVROLET\",\"CHEVROLET\",\"CHEVROLET\",\"CHEVROLET\",\"CHEVROLET\",\"CHEVROLET\",\"CHEVROLET\",\"CHEVROLET\",\"CHEVROLET\",\"CHEVROLET\",\"CHEVROLET\",\"CHEVROLET\",\"CHEVROLET\",\"CHEVROLET\",\"CHEVROLET\",\"CHEVROLET\",\"CHEVROLET\",\"CHEVROLET\",\"CHEVROLET\",\"CHEVROLET\",\"CHEVROLET\",\"CHEVROLET\",\"CHEVROLET\",\"CHEVROLET\",\"CHEVROLET\",\"CHEVROLET\",\"CHEVROLET\",\"CHEVROLET\",\"CHEVROLET\",\"CHEVROLET\",\"CHEVROLET\",\"CHEVROLET\",\"CHEVROLET\",\"CHEVROLET\",\"CHEVROLET\",\"CHEVROLET\",\"CHEVROLET\",\"CHEVROLET\",\"CHEVROLET\",\"CHEVROLET\",\"CHEVROLET\",\"CHEVROLET\",\"CHEVROLET\",\"CHEVROLET\",\"CHEVROLET\",\"CHEVROLET\",\"CHEVROLET\",\"CHEVROLET\",\"CHEVROLET\",\"CHEVROLET\",\"CHEVROLET\",\"CHEVROLET\",\"CHEVROLET\",\"CHEVROLET\",\"CHEVROLET\",\"CHEVROLET\",\"CHEVROLET\",\"CHEVROLET\",\"CHEVROLET\",\"CHEVROLET\",\"CHEVROLET\",\"CHEVROLET\",\"CHEVROLET\",\"CHEVROLET\",\"CHEVROLET\",\"CHEVROLET\",\"CHEVROLET\",\"CHEVROLET\",\"CHEVROLET\",\"CHEVROLET\",\"CHEVROLET\",\"CHEVROLET\",\"CHEVROLET\",\"CHEVROLET\",\"CHEVROLET\",\"CHEVROLET\",\"CHEVROLET\",\"CHEVROLET\",\"CHEVROLET\",\"CHEVROLET\",\"CHEVROLET\",\"CHEVROLET\",\"CHEVROLET\",\"CHEVROLET\",\"CHEVROLET\",\"CHEVROLET\",\"CHEVROLET\",\"CHEVROLET\",\"CHEVROLET\",\"CHEVROLET\",\"CHEVROLET\",\"CHEVROLET\",\"CHEVROLET\",\"CHEVROLET\",\"CHEVROLET\",\"CHEVROLET\",\"CHEVROLET\",\"CHEVROLET\",\"CHEVROLET\",\"CHEVROLET\",\"CHEVROLET\",\"CHEVROLET\",\"CHEVROLET\",\"CHEVROLET\",\"CHEVROLET\",\"CHEVROLET\",\"CHEVROLET\",\"CHEVROLET\",\"CHEVROLET\",\"CHEVROLET\",\"CHEVROLET\",\"CHEVROLET\",\"CHEVROLET\",\"CHEVROLET\",\"CHEVROLET\",\"CHEVROLET\",\"CHEVROLET\",\"CHEVROLET\",\"CHEVROLET\",\"CHEVROLET\",\"CHEVROLET\",\"CHEVROLET\",\"CHEVROLET\",\"CHEVROLET\",\"CHEVROLET\",\"CHEVROLET\",\"CHEVROLET\",\"CHEVROLET\",\"CHEVROLET\",\"CHEVROLET\",\"CHEVROLET\",\"CHEVROLET\",\"CHEVROLET\",\"CHEVROLET\",\"CHEVROLET\",\"CHEVROLET\",\"CHEVROLET\",\"CHEVROLET\",\"CHEVROLET\",\"CHEVROLET\",\"CHEVROLET\",\"CHEVROLET\",\"CHEVROLET\",\"CHEVROLET\",\"CHEVROLET\",\"CHEVROLET\",\"CHEVROLET\",\"CHEVROLET\",\"CHEVROLET\",\"CHEVROLET\",\"CHEVROLET\",\"CHEVROLET\",\"CHEVROLET\",\"CHEVROLET\",\"CHEVROLET\",\"CHEVROLET\",\"CHEVROLET\",\"CHEVROLET\",\"CHEVROLET\",\"CHEVROLET\",\"CHEVROLET\",\"CHEVROLET\",\"CHEVROLET\",\"CHEVROLET\",\"CHEVROLET\",\"CHEVROLET\",\"CHEVROLET\",\"CHEVROLET\",\"CHEVROLET\",\"CHEVROLET\",\"CHEVROLET\",\"CHEVROLET\",\"CHEVROLET\",\"CHEVROLET\",\"CHEVROLET\",\"CHEVROLET\",\"CHEVROLET\",\"CHEVROLET\",\"CHEVROLET\",\"CHEVROLET\",\"CHEVROLET\",\"CHEVROLET\",\"CHEVROLET\",\"CHEVROLET\",\"CHEVROLET\",\"CHEVROLET\",\"CHEVROLET\",\"CHEVROLET\",\"CHEVROLET\",\"CHEVROLET\",\"CHEVROLET\",\"CHEVROLET\",\"CHEVROLET\",\"CHEVROLET\",\"CHEVROLET\",\"CHEVROLET\",\"CHEVROLET\",\"CHEVROLET\",\"CHEVROLET\",\"CHEVROLET\",\"CHEVROLET\",\"CHEVROLET\",\"CHEVROLET\",\"CHEVROLET\",\"CHEVROLET\",\"CHEVROLET\",\"CHEVROLET\",\"CHEVROLET\",\"CHEVROLET\",\"CHEVROLET\",\"CHEVROLET\",\"CHEVROLET\",\"CHEVROLET\",\"CHEVROLET\",\"CHEVROLET\",\"CHEVROLET\",\"CHEVROLET\",\"CHEVROLET\",\"CHEVROLET\",\"CHEVROLET\",\"CHEVROLET\",\"CHEVROLET\",\"CHEVROLET\",\"CHEVROLET\",\"CHEVROLET\",\"CHEVROLET\",\"CHEVROLET\",\"CHEVROLET\",\"CHEVROLET\",\"CHEVROLET\",\"CHEVROLET\",\"CHEVROLET\",\"CHEVROLET\",\"CHEVROLET\",\"CHEVROLET\",\"CHEVROLET\",\"CHEVROLET\",\"CHEVROLET\",\"CHEVROLET\",\"CHEVROLET\",\"CHEVROLET\",\"CHEVROLET\",\"CHEVROLET\",\"CHEVROLET\",\"CHEVROLET\",\"CHEVROLET\",\"CHEVROLET\",\"CHEVROLET\",\"CHEVROLET\",\"CHEVROLET\",\"CHEVROLET\",\"CHEVROLET\",\"CHEVROLET\",\"CHEVROLET\",\"CHEVROLET\",\"CHEVROLET\",\"CHEVROLET\",\"CHEVROLET\",\"CHEVROLET\",\"CHEVROLET\",\"CHEVROLET\",\"CHEVROLET\",\"CHEVROLET\",\"CHEVROLET\",\"CHEVROLET\",\"CHEVROLET\",\"CHEVROLET\",\"CHEVROLET\",\"CHEVROLET\",\"CHEVROLET\",\"CHEVROLET\",\"CHEVROLET\",\"CHEVROLET\",\"CHEVROLET\",\"CHEVROLET\",\"CHEVROLET\",\"CHEVROLET\",\"CHEVROLET\",\"CHEVROLET\",\"CHEVROLET\",\"CHEVROLET\",\"CHEVROLET\",\"CHEVROLET\",\"CHEVROLET\",\"CHEVROLET\",\"CHEVROLET\",\"CHEVROLET\",\"CHEVROLET\",\"CHEVROLET\",\"CHEVROLET\",\"CHEVROLET\",\"CHEVROLET\",\"CHEVROLET\",\"CHEVROLET\",\"CHEVROLET\",\"CHEVROLET\",\"CHEVROLET\",\"CHEVROLET\",\"CHEVROLET\",\"CHEVROLET\",\"CHEVROLET\",\"CHEVROLET\",\"CHEVROLET\",\"CHEVROLET\",\"CHEVROLET\",\"CHEVROLET\",\"CHEVROLET\",\"CHEVROLET\",\"CHEVROLET\",\"CHEVROLET\",\"CHEVROLET\",\"CHEVROLET\",\"CHEVROLET\",\"CHEVROLET\",\"CHEVROLET\",\"CHEVROLET\",\"CHEVROLET\",\"CHEVROLET\",\"CHEVROLET\",\"CHEVROLET\",\"CHEVROLET\",\"CHEVROLET\",\"CHEVROLET\",\"CHEVROLET\",\"CHEVROLET\",\"CHEVROLET\",\"CHEVROLET\",\"CHEVROLET\",\"CHEVROLET\",\"CHEVROLET\",\"CHEVROLET\",\"CHEVROLET\",\"CHEVROLET\",\"CHEVROLET\",\"CHEVROLET\",\"CHEVROLET\",\"CHEVROLET\",\"CHEVROLET\",\"CHEVROLET\",\"CHEVROLET\",\"CHEVROLET\",\"CHEVROLET\",\"CHEVROLET\",\"CHEVROLET\",\"CHEVROLET\",\"CHEVROLET\",\"CHEVROLET\",\"CHEVROLET\",\"CHEVROLET\",\"CHEVROLET\",\"CHEVROLET\",\"CHEVROLET\",\"CHEVROLET\",\"CHEVROLET\",\"CHEVROLET\",\"CHEVROLET\",\"CHEVROLET\",\"CHEVROLET\",\"CHEVROLET\",\"CHEVROLET\",\"CHEVROLET\",\"CHEVROLET\",\"CHEVROLET\",\"CHEVROLET\",\"CHEVROLET\",\"CHEVROLET\",\"CHEVROLET\",\"CHEVROLET\",\"CHEVROLET\",\"CHEVROLET\",\"CHEVROLET\",\"CHEVROLET\",\"CHEVROLET\",\"CHEVROLET\",\"CHEVROLET\",\"CHEVROLET\",\"CHEVROLET\",\"CHEVROLET\",\"CHEVROLET\",\"CHEVROLET\",\"CHEVROLET\",\"CHEVROLET\",\"CHEVROLET\",\"CHEVROLET\",\"CHEVROLET\",\"CHEVROLET\",\"CHEVROLET\",\"CHEVROLET\",\"CHEVROLET\",\"CHEVROLET\",\"CHEVROLET\",\"CHEVROLET\",\"CHEVROLET\",\"CHEVROLET\",\"CHEVROLET\",\"CHEVROLET\",\"CHEVROLET\",\"CHEVROLET\",\"CHEVROLET\",\"CHEVROLET\",\"CHEVROLET\",\"CHEVROLET\",\"CHEVROLET\",\"CHEVROLET\",\"CHEVROLET\",\"CHEVROLET\",\"CHEVROLET\",\"CHEVROLET\",\"CHEVROLET\",\"CHEVROLET\",\"CHEVROLET\",\"CHEVROLET\",\"CHEVROLET\",\"CHEVROLET\",\"CHEVROLET\",\"CHEVROLET\",\"CHEVROLET\",\"CHEVROLET\",\"CHEVROLET\",\"CHEVROLET\",\"CHEVROLET\",\"CHEVROLET\",\"CHEVROLET\",\"CHEVROLET\",\"CHEVROLET\",\"CHEVROLET\",\"CHEVROLET\",\"CHEVROLET\",\"CHEVROLET\",\"CHEVROLET\",\"CHEVROLET\",\"CHEVROLET\",\"CHEVROLET\",\"CHEVROLET\",\"CHEVROLET\",\"CHEVROLET\",\"CHEVROLET\",\"CHEVROLET\",\"CHEVROLET\",\"CHEVROLET\",\"CHEVROLET\",\"CHEVROLET\",\"CHEVROLET\",\"CHEVROLET\",\"CHEVROLET\",\"CHEVROLET\",\"CHEVROLET\",\"CHEVROLET\",\"CHEVROLET\",\"CHEVROLET\",\"CHEVROLET\",\"CHEVROLET\",\"CHEVROLET\",\"CHEVROLET\",\"CHEVROLET\",\"CHEVROLET\",\"CHEVROLET\",\"CHEVROLET\",\"CHEVROLET\",\"CHEVROLET\",\"CHEVROLET\",\"CHEVROLET\",\"CHEVROLET\",\"CHEVROLET\",\"CHEVROLET\",\"CHEVROLET\",\"CHEVROLET\",\"CHEVROLET\",\"CHEVROLET\",\"CHEVROLET\",\"CHEVROLET\",\"CHEVROLET\",\"CHEVROLET\",\"CHEVROLET\",\"CHEVROLET\",\"CHEVROLET\",\"CHEVROLET\",\"CHEVROLET\",\"CHEVROLET\",\"CHEVROLET\",\"CHEVROLET\",\"CHEVROLET\",\"CHEVROLET\",\"CHEVROLET\",\"CHEVROLET\",\"CHEVROLET\",\"CHEVROLET\",\"CHEVROLET\",\"CHEVROLET\",\"CHEVROLET\",\"CHEVROLET\",\"CHEVROLET\",\"CHEVROLET\",\"CHEVROLET\",\"CHEVROLET\",\"CHEVROLET\",\"CHEVROLET\",\"CHEVROLET\",\"CHEVROLET\",\"CHEVROLET\",\"CHEVROLET\",\"CHEVROLET\",\"CHEVROLET\",\"CHEVROLET\",\"CHEVROLET\",\"CHEVROLET\",\"CHEVROLET\",\"CHEVROLET\",\"CHEVROLET\",\"CHEVROLET\",\"CHEVROLET\",\"CHEVROLET\",\"CHEVROLET\",\"CHEVROLET\",\"CHEVROLET\",\"CHEVROLET\",\"CHEVROLET\",\"CHEVROLET\",\"CHEVROLET\",\"CHEVROLET\",\"CHEVROLET\",\"CHEVROLET\",\"CHEVROLET\",\"CHEVROLET\",\"CHEVROLET\",\"CHEVROLET\",\"CHEVROLET\",\"CHEVROLET\",\"CHEVROLET\",\"CHEVROLET\",\"CHEVROLET\",\"CHEVROLET\",\"CHEVROLET\",\"CHEVROLET\",\"CHEVROLET\",\"CHEVROLET\",\"CHEVROLET\",\"CHEVROLET\",\"CHEVROLET\",\"CHEVROLET\",\"CHEVROLET\",\"CHEVROLET\",\"CHEVROLET\",\"CHEVROLET\",\"CHEVROLET\",\"CHEVROLET\",\"CHEVROLET\",\"CHEVROLET\",\"CHEVROLET\",\"CHEVROLET\",\"CHEVROLET\",\"CHEVROLET\",\"CHEVROLET\",\"CHEVROLET\",\"CHEVROLET\",\"CHEVROLET\",\"CHEVROLET\",\"CHEVROLET\",\"CHEVROLET\",\"CHEVROLET\",\"CHEVROLET\",\"CHEVROLET\",\"CHEVROLET\",\"CHEVROLET\",\"CHEVROLET\",\"CHEVROLET\",\"CHEVROLET\",\"CHEVROLET\",\"CHEVROLET\",\"CHEVROLET\",\"CHEVROLET\",\"CHEVROLET\",\"CHEVROLET\",\"CHEVROLET\",\"CHEVROLET\",\"CHEVROLET\",\"CHEVROLET\",\"CHEVROLET\",\"CHEVROLET\",\"CHEVROLET\",\"CHEVROLET\",\"CHEVROLET\",\"CHEVROLET\",\"CHEVROLET\",\"CHEVROLET\",\"CHEVROLET\",\"CHEVROLET\",\"CHEVROLET\",\"CHEVROLET\",\"CHEVROLET\",\"CHEVROLET\",\"CHEVROLET\",\"CHEVROLET\",\"CHEVROLET\",\"CHEVROLET\",\"CHEVROLET\",\"CHEVROLET\",\"CHEVROLET\",\"CHEVROLET\",\"CHEVROLET\",\"CHEVROLET\",\"CHEVROLET\",\"CHEVROLET\",\"CHEVROLET\",\"CHEVROLET\",\"CHEVROLET\",\"CHEVROLET\",\"CHEVROLET\",\"CHEVROLET\",\"CHEVROLET\",\"CHEVROLET\",\"CHEVROLET\",\"CHEVROLET\",\"CHEVROLET\",\"CHEVROLET\",\"CHEVROLET\",\"CHEVROLET\",\"CHEVROLET\",\"CHEVROLET\",\"CHEVROLET\",\"CHEVROLET\",\"CHEVROLET\",\"CHEVROLET\",\"CHEVROLET\",\"CHEVROLET\",\"CHEVROLET\",\"CHEVROLET\",\"CHEVROLET\",\"CHEVROLET\"],\"xaxis\":\"x\",\"y\":[35,38,38,238,53,53,38,53,259,53,82,38,0,238,0,238,38,238,53,0,53,238,53,259,0,0,38,238,0,259,53,0,38,38,238,82,238,238,53,38,53,38,238,0,53,53,238,38,0,0,238,38,82,0,53,259,238,259,53,238,238,0,238,35,0,259,238,0,238,0,38,238,53,38,38,0,238,0,53,259,0,238,0,0,38,238,259,53,0,38,53,0,0,238,53,38,53,38,53,0,0,0,0,0,38,0,0,53,0,238,53,0,238,238,238,53,53,0,38,259,238,259,0,238,38,35,0,259,82,259,238,238,238,53,53,238,38,0,0,238,238,0,238,238,38,0,0,259,0,259,238,38,0,38,238,238,0,0,38,0,53,53,238,38,0,0,53,38,259,238,53,238,259,0,238,38,238,38,238,0,238,238,53,0,0,238,0,38,0,238,53,238,259,0,0,0,0,259,259,38,0,238,38,53,238,0,0,82,35,259,0,53,238,53,38,38,238,238,238,259,238,35,238,38,0,259,238,82,0,35,82,38,238,259,0,53,238,238,53,38,0,38,38,82,38,0,0,0,53,238,238,53,0,53,38,238,38,82,53,238,238,0,53,259,0,238,53,238,0,0,35,53,259,38,0,0,53,0,53,0,259,53,259,238,53,53,38,238,53,0,238,38,0,0,0,53,82,259,38,53,38,38,53,38,53,38,0,53,238,53,238,53,82,38,259,53,238,0,53,35,0,35,238,238,259,259,38,238,238,53,38,259,0,238,53,259,0,238,0,259,0,238,0,0,53,38,0,53,0,0,259,0,38,0,259,238,38,259,0,53,238,82,259,0,259,238,259,0,0,53,38,0,53,0,238,238,0,35,259,238,82,259,0,0,53,38,53,0,53,0,238,0,38,53,38,38,0,0,0,0,53,238,259,82,0,259,259,238,0,259,0,259,38,0,0,0,0,238,53,238,259,53,82,35,53,0,53,35,0,238,38,0,38,0,259,259,0,0,53,53,0,53,0,38,0,238,53,53,0,238,0,259,259,0,238,238,0,38,238,38,53,53,35,259,38,0,238,53,38,238,53,38,238,35,0,0,53,259,35,0,259,0,38,0,0,238,53,238,53,0,38,259,238,38,259,0,0,0,53,259,0,38,0,0,0,259,53,53,238,0,38,38,0,238,238,238,0,0,35,238,238,0,0,38,53,38,259,35,0,0,38,238,35,259,35,53,0,238,38,82,238,0,238,53,0,238,38,0,238,259,38,38,53,238,0,238,0,82,0,53,53,238,238,259,238,0,53,38,53,259,53,38,38,259,53,0,82,0,0,238,38,0,259,0,53,238,53,53,0,38,0,35,35,82,238,0,0,0,53,38,53,0,0,53,259,0,0,38,0,38,0,238,238,82,0,0,259,38,53,0,238,53,38,238,53,0,35,38,53,238,238,53,38,259,53,53,38,0,38,238,0,53,0,53,53,0,238,35,38,53,38,0,259,53,259,53,53,38,238,0,38,0,0,238,238,53,238,0,238,238,259,53,238,38,0,38,238,53,38,38,0,0,238,238,38,0,0,35,35,238,259,53,0,38,0,238,238,53,0,38,238,238,35,0,53,38,38,238,38,82,0,0,0,238,38,0,238,38,238,238,238,0,0,238,0,238,238,53,0,53,0,38,0,259,0,259,53,0,259,53,0,38,0,0,238,38,53,53,238,53,0,53,0,0,0,53,0,0,0,53,0,0,259,238,238,259,35,53,53,238,0,38,53,38,82,38,53,35,38,38,38,0,0,38,0,0,82,0,259,238,259,38,238,0,0,0,238,38,0,0,53,38,238,53,38,0,0,53,238,53,238,0,38,238,53],\"yaxis\":\"y\",\"type\":\"scattergl\"},{\"hovertemplate\":\"Make=%{x}<br>Electric Range=%{y}<extra></extra>\",\"legendgroup\":\"HYUNDAI\",\"marker\":{\"color\":\"#FECB52\",\"symbol\":\"circle\"},\"mode\":\"markers\",\"name\":\"HYUNDAI\",\"showlegend\":true,\"x\":[\"HYUNDAI\",\"HYUNDAI\",\"HYUNDAI\",\"HYUNDAI\",\"HYUNDAI\",\"HYUNDAI\",\"HYUNDAI\",\"HYUNDAI\",\"HYUNDAI\",\"HYUNDAI\",\"HYUNDAI\",\"HYUNDAI\",\"HYUNDAI\",\"HYUNDAI\",\"HYUNDAI\",\"HYUNDAI\",\"HYUNDAI\",\"HYUNDAI\",\"HYUNDAI\",\"HYUNDAI\",\"HYUNDAI\",\"HYUNDAI\",\"HYUNDAI\",\"HYUNDAI\",\"HYUNDAI\",\"HYUNDAI\",\"HYUNDAI\",\"HYUNDAI\",\"HYUNDAI\",\"HYUNDAI\",\"HYUNDAI\",\"HYUNDAI\",\"HYUNDAI\",\"HYUNDAI\",\"HYUNDAI\",\"HYUNDAI\",\"HYUNDAI\",\"HYUNDAI\",\"HYUNDAI\",\"HYUNDAI\",\"HYUNDAI\",\"HYUNDAI\",\"HYUNDAI\",\"HYUNDAI\",\"HYUNDAI\",\"HYUNDAI\",\"HYUNDAI\",\"HYUNDAI\",\"HYUNDAI\",\"HYUNDAI\",\"HYUNDAI\",\"HYUNDAI\",\"HYUNDAI\",\"HYUNDAI\",\"HYUNDAI\",\"HYUNDAI\",\"HYUNDAI\",\"HYUNDAI\",\"HYUNDAI\",\"HYUNDAI\",\"HYUNDAI\",\"HYUNDAI\",\"HYUNDAI\",\"HYUNDAI\",\"HYUNDAI\",\"HYUNDAI\",\"HYUNDAI\",\"HYUNDAI\",\"HYUNDAI\",\"HYUNDAI\",\"HYUNDAI\",\"HYUNDAI\",\"HYUNDAI\",\"HYUNDAI\",\"HYUNDAI\",\"HYUNDAI\",\"HYUNDAI\",\"HYUNDAI\",\"HYUNDAI\",\"HYUNDAI\",\"HYUNDAI\",\"HYUNDAI\",\"HYUNDAI\",\"HYUNDAI\",\"HYUNDAI\",\"HYUNDAI\",\"HYUNDAI\",\"HYUNDAI\",\"HYUNDAI\",\"HYUNDAI\",\"HYUNDAI\",\"HYUNDAI\",\"HYUNDAI\",\"HYUNDAI\",\"HYUNDAI\",\"HYUNDAI\",\"HYUNDAI\",\"HYUNDAI\",\"HYUNDAI\",\"HYUNDAI\",\"HYUNDAI\",\"HYUNDAI\",\"HYUNDAI\",\"HYUNDAI\",\"HYUNDAI\",\"HYUNDAI\",\"HYUNDAI\",\"HYUNDAI\",\"HYUNDAI\",\"HYUNDAI\",\"HYUNDAI\",\"HYUNDAI\",\"HYUNDAI\",\"HYUNDAI\",\"HYUNDAI\",\"HYUNDAI\",\"HYUNDAI\",\"HYUNDAI\",\"HYUNDAI\",\"HYUNDAI\",\"HYUNDAI\",\"HYUNDAI\",\"HYUNDAI\",\"HYUNDAI\",\"HYUNDAI\",\"HYUNDAI\",\"HYUNDAI\",\"HYUNDAI\",\"HYUNDAI\",\"HYUNDAI\",\"HYUNDAI\",\"HYUNDAI\",\"HYUNDAI\",\"HYUNDAI\",\"HYUNDAI\",\"HYUNDAI\",\"HYUNDAI\",\"HYUNDAI\",\"HYUNDAI\",\"HYUNDAI\",\"HYUNDAI\",\"HYUNDAI\",\"HYUNDAI\",\"HYUNDAI\",\"HYUNDAI\",\"HYUNDAI\",\"HYUNDAI\",\"HYUNDAI\",\"HYUNDAI\",\"HYUNDAI\",\"HYUNDAI\",\"HYUNDAI\",\"HYUNDAI\",\"HYUNDAI\",\"HYUNDAI\",\"HYUNDAI\",\"HYUNDAI\",\"HYUNDAI\",\"HYUNDAI\",\"HYUNDAI\",\"HYUNDAI\",\"HYUNDAI\",\"HYUNDAI\",\"HYUNDAI\",\"HYUNDAI\",\"HYUNDAI\",\"HYUNDAI\",\"HYUNDAI\",\"HYUNDAI\"],\"xaxis\":\"x\",\"y\":[29,0,0,0,0,0,0,0,0,0,0,0,0,0,0,0,0,0,0,31,0,258,0,0,258,0,0,27,0,0,0,170,0,0,0,0,0,0,0,0,27,0,0,28,27,0,0,0,29,0,0,31,0,0,0,258,0,258,0,0,0,29,258,0,27,33,0,27,0,0,258,0,0,0,0,0,29,0,30,0,0,0,0,0,0,31,0,0,258,0,28,0,0,0,258,27,29,29,0,0,27,0,0,0,0,124,0,0,0,0,0,258,0,0,0,0,0,0,0,33,0,0,0,258,0,0,29,27,0,258,0,258,0,0,33,0,0,0,0,0,0,0,0,0,31,0,258,0,0,0,0,0,31,29,0,0,0,0,31,258,31,0,0,0,0,0,0,0,0],\"yaxis\":\"y\",\"type\":\"scattergl\"},{\"hovertemplate\":\"Make=%{x}<br>Electric Range=%{y}<extra></extra>\",\"legendgroup\":\"VOLVO\",\"marker\":{\"color\":\"#636efa\",\"symbol\":\"circle\"},\"mode\":\"markers\",\"name\":\"VOLVO\",\"showlegend\":true,\"x\":[\"VOLVO\",\"VOLVO\",\"VOLVO\",\"VOLVO\",\"VOLVO\",\"VOLVO\",\"VOLVO\",\"VOLVO\",\"VOLVO\",\"VOLVO\",\"VOLVO\",\"VOLVO\",\"VOLVO\",\"VOLVO\",\"VOLVO\",\"VOLVO\",\"VOLVO\",\"VOLVO\",\"VOLVO\",\"VOLVO\",\"VOLVO\",\"VOLVO\",\"VOLVO\",\"VOLVO\",\"VOLVO\",\"VOLVO\",\"VOLVO\",\"VOLVO\",\"VOLVO\",\"VOLVO\",\"VOLVO\",\"VOLVO\",\"VOLVO\",\"VOLVO\",\"VOLVO\",\"VOLVO\",\"VOLVO\",\"VOLVO\",\"VOLVO\",\"VOLVO\",\"VOLVO\",\"VOLVO\",\"VOLVO\",\"VOLVO\",\"VOLVO\",\"VOLVO\",\"VOLVO\",\"VOLVO\",\"VOLVO\",\"VOLVO\",\"VOLVO\",\"VOLVO\",\"VOLVO\",\"VOLVO\",\"VOLVO\",\"VOLVO\",\"VOLVO\",\"VOLVO\",\"VOLVO\",\"VOLVO\",\"VOLVO\",\"VOLVO\",\"VOLVO\",\"VOLVO\",\"VOLVO\",\"VOLVO\",\"VOLVO\",\"VOLVO\",\"VOLVO\",\"VOLVO\",\"VOLVO\",\"VOLVO\",\"VOLVO\",\"VOLVO\",\"VOLVO\",\"VOLVO\",\"VOLVO\",\"VOLVO\",\"VOLVO\",\"VOLVO\",\"VOLVO\",\"VOLVO\",\"VOLVO\",\"VOLVO\",\"VOLVO\",\"VOLVO\",\"VOLVO\",\"VOLVO\",\"VOLVO\",\"VOLVO\",\"VOLVO\",\"VOLVO\",\"VOLVO\",\"VOLVO\",\"VOLVO\",\"VOLVO\",\"VOLVO\",\"VOLVO\",\"VOLVO\",\"VOLVO\",\"VOLVO\",\"VOLVO\",\"VOLVO\",\"VOLVO\",\"VOLVO\",\"VOLVO\",\"VOLVO\",\"VOLVO\",\"VOLVO\",\"VOLVO\",\"VOLVO\",\"VOLVO\",\"VOLVO\",\"VOLVO\",\"VOLVO\",\"VOLVO\",\"VOLVO\",\"VOLVO\",\"VOLVO\",\"VOLVO\",\"VOLVO\",\"VOLVO\",\"VOLVO\",\"VOLVO\",\"VOLVO\",\"VOLVO\",\"VOLVO\",\"VOLVO\",\"VOLVO\",\"VOLVO\",\"VOLVO\",\"VOLVO\",\"VOLVO\",\"VOLVO\",\"VOLVO\",\"VOLVO\",\"VOLVO\",\"VOLVO\",\"VOLVO\",\"VOLVO\",\"VOLVO\",\"VOLVO\",\"VOLVO\",\"VOLVO\",\"VOLVO\",\"VOLVO\",\"VOLVO\",\"VOLVO\",\"VOLVO\",\"VOLVO\",\"VOLVO\",\"VOLVO\",\"VOLVO\",\"VOLVO\",\"VOLVO\",\"VOLVO\",\"VOLVO\",\"VOLVO\",\"VOLVO\",\"VOLVO\",\"VOLVO\",\"VOLVO\",\"VOLVO\",\"VOLVO\",\"VOLVO\",\"VOLVO\",\"VOLVO\",\"VOLVO\",\"VOLVO\",\"VOLVO\",\"VOLVO\",\"VOLVO\",\"VOLVO\",\"VOLVO\",\"VOLVO\",\"VOLVO\",\"VOLVO\",\"VOLVO\",\"VOLVO\",\"VOLVO\",\"VOLVO\",\"VOLVO\",\"VOLVO\",\"VOLVO\",\"VOLVO\",\"VOLVO\",\"VOLVO\",\"VOLVO\",\"VOLVO\",\"VOLVO\",\"VOLVO\",\"VOLVO\",\"VOLVO\",\"VOLVO\",\"VOLVO\",\"VOLVO\",\"VOLVO\",\"VOLVO\",\"VOLVO\",\"VOLVO\",\"VOLVO\",\"VOLVO\",\"VOLVO\",\"VOLVO\",\"VOLVO\",\"VOLVO\",\"VOLVO\",\"VOLVO\",\"VOLVO\",\"VOLVO\",\"VOLVO\",\"VOLVO\",\"VOLVO\",\"VOLVO\",\"VOLVO\",\"VOLVO\",\"VOLVO\",\"VOLVO\",\"VOLVO\",\"VOLVO\",\"VOLVO\",\"VOLVO\",\"VOLVO\",\"VOLVO\",\"VOLVO\",\"VOLVO\",\"VOLVO\",\"VOLVO\",\"VOLVO\",\"VOLVO\",\"VOLVO\",\"VOLVO\",\"VOLVO\",\"VOLVO\",\"VOLVO\",\"VOLVO\",\"VOLVO\",\"VOLVO\",\"VOLVO\",\"VOLVO\",\"VOLVO\",\"VOLVO\",\"VOLVO\",\"VOLVO\"],\"xaxis\":\"x\",\"y\":[14,17,18,21,0,0,18,0,17,18,0,0,41,32,0,35,17,14,35,17,17,41,22,17,0,18,18,18,35,18,17,0,17,18,0,17,14,19,14,0,13,18,22,0,35,35,18,18,18,18,18,18,19,17,18,35,22,19,35,0,18,17,21,18,22,0,35,0,18,22,18,22,18,18,17,17,13,32,0,18,13,17,41,18,14,13,0,41,17,17,18,35,0,17,19,32,14,18,18,18,18,14,14,32,13,0,17,17,18,32,0,0,0,18,35,14,35,22,18,0,35,0,35,18,18,14,14,41,0,32,13,22,35,0,0,35,0,35,0,18,0,18,0,18,17,18,18,18,18,19,0,17,22,0,35,17,0,13,41,0,0,35,32,0,35,13,35,18,32,18,14,35,18,35,18,17,0,17,18,19,35,19,18,18,14,0,0,0,0,17,19,18,18,0,0,18,18,18,0,18,18,14,35,17,0,18,14,0,14,18,18,17,0,0,0,18,35,35,22,17,35,0,18,35,21,21,18,17,32,13,35,17,35,0,35,0,0,18,35,0,14,0,0,18],\"yaxis\":\"y\",\"type\":\"scattergl\"},{\"hovertemplate\":\"Make=%{x}<br>Electric Range=%{y}<extra></extra>\",\"legendgroup\":\"VOLKSWAGEN\",\"marker\":{\"color\":\"#EF553B\",\"symbol\":\"circle\"},\"mode\":\"markers\",\"name\":\"VOLKSWAGEN\",\"showlegend\":true,\"x\":[\"VOLKSWAGEN\",\"VOLKSWAGEN\",\"VOLKSWAGEN\",\"VOLKSWAGEN\",\"VOLKSWAGEN\",\"VOLKSWAGEN\",\"VOLKSWAGEN\",\"VOLKSWAGEN\",\"VOLKSWAGEN\",\"VOLKSWAGEN\",\"VOLKSWAGEN\",\"VOLKSWAGEN\",\"VOLKSWAGEN\",\"VOLKSWAGEN\",\"VOLKSWAGEN\",\"VOLKSWAGEN\",\"VOLKSWAGEN\",\"VOLKSWAGEN\",\"VOLKSWAGEN\",\"VOLKSWAGEN\",\"VOLKSWAGEN\",\"VOLKSWAGEN\",\"VOLKSWAGEN\",\"VOLKSWAGEN\",\"VOLKSWAGEN\",\"VOLKSWAGEN\",\"VOLKSWAGEN\",\"VOLKSWAGEN\",\"VOLKSWAGEN\",\"VOLKSWAGEN\",\"VOLKSWAGEN\",\"VOLKSWAGEN\",\"VOLKSWAGEN\",\"VOLKSWAGEN\",\"VOLKSWAGEN\",\"VOLKSWAGEN\",\"VOLKSWAGEN\",\"VOLKSWAGEN\",\"VOLKSWAGEN\",\"VOLKSWAGEN\",\"VOLKSWAGEN\",\"VOLKSWAGEN\",\"VOLKSWAGEN\",\"VOLKSWAGEN\",\"VOLKSWAGEN\",\"VOLKSWAGEN\",\"VOLKSWAGEN\",\"VOLKSWAGEN\",\"VOLKSWAGEN\",\"VOLKSWAGEN\",\"VOLKSWAGEN\",\"VOLKSWAGEN\",\"VOLKSWAGEN\",\"VOLKSWAGEN\",\"VOLKSWAGEN\",\"VOLKSWAGEN\",\"VOLKSWAGEN\",\"VOLKSWAGEN\",\"VOLKSWAGEN\",\"VOLKSWAGEN\",\"VOLKSWAGEN\",\"VOLKSWAGEN\",\"VOLKSWAGEN\",\"VOLKSWAGEN\",\"VOLKSWAGEN\",\"VOLKSWAGEN\",\"VOLKSWAGEN\",\"VOLKSWAGEN\",\"VOLKSWAGEN\",\"VOLKSWAGEN\",\"VOLKSWAGEN\",\"VOLKSWAGEN\",\"VOLKSWAGEN\",\"VOLKSWAGEN\",\"VOLKSWAGEN\",\"VOLKSWAGEN\",\"VOLKSWAGEN\",\"VOLKSWAGEN\",\"VOLKSWAGEN\",\"VOLKSWAGEN\",\"VOLKSWAGEN\",\"VOLKSWAGEN\",\"VOLKSWAGEN\",\"VOLKSWAGEN\",\"VOLKSWAGEN\",\"VOLKSWAGEN\",\"VOLKSWAGEN\",\"VOLKSWAGEN\",\"VOLKSWAGEN\",\"VOLKSWAGEN\",\"VOLKSWAGEN\",\"VOLKSWAGEN\",\"VOLKSWAGEN\",\"VOLKSWAGEN\",\"VOLKSWAGEN\",\"VOLKSWAGEN\",\"VOLKSWAGEN\",\"VOLKSWAGEN\",\"VOLKSWAGEN\",\"VOLKSWAGEN\",\"VOLKSWAGEN\",\"VOLKSWAGEN\",\"VOLKSWAGEN\",\"VOLKSWAGEN\",\"VOLKSWAGEN\",\"VOLKSWAGEN\",\"VOLKSWAGEN\",\"VOLKSWAGEN\",\"VOLKSWAGEN\",\"VOLKSWAGEN\",\"VOLKSWAGEN\",\"VOLKSWAGEN\",\"VOLKSWAGEN\",\"VOLKSWAGEN\",\"VOLKSWAGEN\",\"VOLKSWAGEN\",\"VOLKSWAGEN\",\"VOLKSWAGEN\",\"VOLKSWAGEN\",\"VOLKSWAGEN\",\"VOLKSWAGEN\",\"VOLKSWAGEN\",\"VOLKSWAGEN\",\"VOLKSWAGEN\",\"VOLKSWAGEN\",\"VOLKSWAGEN\",\"VOLKSWAGEN\",\"VOLKSWAGEN\",\"VOLKSWAGEN\",\"VOLKSWAGEN\",\"VOLKSWAGEN\",\"VOLKSWAGEN\",\"VOLKSWAGEN\",\"VOLKSWAGEN\",\"VOLKSWAGEN\",\"VOLKSWAGEN\",\"VOLKSWAGEN\",\"VOLKSWAGEN\",\"VOLKSWAGEN\",\"VOLKSWAGEN\",\"VOLKSWAGEN\",\"VOLKSWAGEN\",\"VOLKSWAGEN\",\"VOLKSWAGEN\",\"VOLKSWAGEN\",\"VOLKSWAGEN\",\"VOLKSWAGEN\",\"VOLKSWAGEN\",\"VOLKSWAGEN\",\"VOLKSWAGEN\",\"VOLKSWAGEN\",\"VOLKSWAGEN\",\"VOLKSWAGEN\",\"VOLKSWAGEN\",\"VOLKSWAGEN\",\"VOLKSWAGEN\",\"VOLKSWAGEN\",\"VOLKSWAGEN\",\"VOLKSWAGEN\",\"VOLKSWAGEN\",\"VOLKSWAGEN\",\"VOLKSWAGEN\",\"VOLKSWAGEN\",\"VOLKSWAGEN\",\"VOLKSWAGEN\",\"VOLKSWAGEN\",\"VOLKSWAGEN\",\"VOLKSWAGEN\",\"VOLKSWAGEN\",\"VOLKSWAGEN\",\"VOLKSWAGEN\",\"VOLKSWAGEN\",\"VOLKSWAGEN\",\"VOLKSWAGEN\",\"VOLKSWAGEN\",\"VOLKSWAGEN\",\"VOLKSWAGEN\",\"VOLKSWAGEN\",\"VOLKSWAGEN\",\"VOLKSWAGEN\",\"VOLKSWAGEN\",\"VOLKSWAGEN\",\"VOLKSWAGEN\",\"VOLKSWAGEN\",\"VOLKSWAGEN\",\"VOLKSWAGEN\",\"VOLKSWAGEN\",\"VOLKSWAGEN\",\"VOLKSWAGEN\",\"VOLKSWAGEN\",\"VOLKSWAGEN\",\"VOLKSWAGEN\",\"VOLKSWAGEN\",\"VOLKSWAGEN\",\"VOLKSWAGEN\",\"VOLKSWAGEN\",\"VOLKSWAGEN\",\"VOLKSWAGEN\",\"VOLKSWAGEN\",\"VOLKSWAGEN\",\"VOLKSWAGEN\",\"VOLKSWAGEN\",\"VOLKSWAGEN\",\"VOLKSWAGEN\",\"VOLKSWAGEN\",\"VOLKSWAGEN\",\"VOLKSWAGEN\",\"VOLKSWAGEN\",\"VOLKSWAGEN\",\"VOLKSWAGEN\",\"VOLKSWAGEN\",\"VOLKSWAGEN\",\"VOLKSWAGEN\",\"VOLKSWAGEN\",\"VOLKSWAGEN\",\"VOLKSWAGEN\",\"VOLKSWAGEN\",\"VOLKSWAGEN\",\"VOLKSWAGEN\",\"VOLKSWAGEN\",\"VOLKSWAGEN\",\"VOLKSWAGEN\",\"VOLKSWAGEN\",\"VOLKSWAGEN\",\"VOLKSWAGEN\",\"VOLKSWAGEN\",\"VOLKSWAGEN\",\"VOLKSWAGEN\",\"VOLKSWAGEN\",\"VOLKSWAGEN\",\"VOLKSWAGEN\",\"VOLKSWAGEN\",\"VOLKSWAGEN\",\"VOLKSWAGEN\",\"VOLKSWAGEN\",\"VOLKSWAGEN\"],\"xaxis\":\"x\",\"y\":[83,0,83,0,0,0,125,0,83,0,0,0,0,0,0,0,125,0,0,125,125,83,83,125,0,0,125,0,0,0,0,0,0,0,0,0,0,0,83,0,0,0,0,125,0,125,83,0,0,125,0,0,0,0,83,125,0,0,0,0,0,0,0,125,0,0,0,0,0,0,0,83,0,125,0,125,125,0,0,83,0,0,0,0,0,125,125,0,0,0,0,0,83,0,125,83,83,125,0,0,0,0,0,0,125,0,0,83,0,125,83,125,125,83,0,0,0,0,0,0,0,0,0,0,0,0,0,0,0,0,83,83,125,0,0,0,0,0,0,125,0,0,83,125,0,83,125,125,0,0,125,125,0,83,0,0,83,0,0,0,125,125,83,0,0,83,0,0,83,0,0,0,0,125,0,125,0,0,0,0,0,0,0,0,0,125,0,0,0,0,125,0,83,0,0,83,0,0,0,0,0,0,0,0,0,83,125,0,83,0,0,125,0,0,0,0,0,125,83,83,125,83,0,125,0,0,83,0,83,0,83,0,125,0,125,83],\"yaxis\":\"y\",\"type\":\"scattergl\"},{\"hovertemplate\":\"Make=%{x}<br>Electric Range=%{y}<extra></extra>\",\"legendgroup\":\"CHRYSLER\",\"marker\":{\"color\":\"#00cc96\",\"symbol\":\"circle\"},\"mode\":\"markers\",\"name\":\"CHRYSLER\",\"showlegend\":true,\"x\":[\"CHRYSLER\",\"CHRYSLER\",\"CHRYSLER\",\"CHRYSLER\",\"CHRYSLER\",\"CHRYSLER\",\"CHRYSLER\",\"CHRYSLER\",\"CHRYSLER\",\"CHRYSLER\",\"CHRYSLER\",\"CHRYSLER\",\"CHRYSLER\",\"CHRYSLER\",\"CHRYSLER\",\"CHRYSLER\",\"CHRYSLER\",\"CHRYSLER\",\"CHRYSLER\",\"CHRYSLER\",\"CHRYSLER\",\"CHRYSLER\",\"CHRYSLER\",\"CHRYSLER\",\"CHRYSLER\",\"CHRYSLER\",\"CHRYSLER\",\"CHRYSLER\",\"CHRYSLER\",\"CHRYSLER\",\"CHRYSLER\",\"CHRYSLER\",\"CHRYSLER\",\"CHRYSLER\",\"CHRYSLER\",\"CHRYSLER\",\"CHRYSLER\",\"CHRYSLER\",\"CHRYSLER\",\"CHRYSLER\",\"CHRYSLER\",\"CHRYSLER\",\"CHRYSLER\",\"CHRYSLER\",\"CHRYSLER\",\"CHRYSLER\",\"CHRYSLER\",\"CHRYSLER\",\"CHRYSLER\",\"CHRYSLER\",\"CHRYSLER\",\"CHRYSLER\",\"CHRYSLER\",\"CHRYSLER\",\"CHRYSLER\",\"CHRYSLER\",\"CHRYSLER\",\"CHRYSLER\",\"CHRYSLER\",\"CHRYSLER\",\"CHRYSLER\",\"CHRYSLER\",\"CHRYSLER\",\"CHRYSLER\",\"CHRYSLER\",\"CHRYSLER\",\"CHRYSLER\",\"CHRYSLER\",\"CHRYSLER\",\"CHRYSLER\",\"CHRYSLER\",\"CHRYSLER\",\"CHRYSLER\",\"CHRYSLER\",\"CHRYSLER\",\"CHRYSLER\",\"CHRYSLER\",\"CHRYSLER\",\"CHRYSLER\",\"CHRYSLER\",\"CHRYSLER\",\"CHRYSLER\",\"CHRYSLER\",\"CHRYSLER\",\"CHRYSLER\",\"CHRYSLER\",\"CHRYSLER\",\"CHRYSLER\",\"CHRYSLER\",\"CHRYSLER\",\"CHRYSLER\",\"CHRYSLER\",\"CHRYSLER\",\"CHRYSLER\",\"CHRYSLER\",\"CHRYSLER\",\"CHRYSLER\",\"CHRYSLER\",\"CHRYSLER\",\"CHRYSLER\",\"CHRYSLER\",\"CHRYSLER\",\"CHRYSLER\",\"CHRYSLER\",\"CHRYSLER\",\"CHRYSLER\",\"CHRYSLER\",\"CHRYSLER\",\"CHRYSLER\",\"CHRYSLER\",\"CHRYSLER\",\"CHRYSLER\",\"CHRYSLER\",\"CHRYSLER\",\"CHRYSLER\",\"CHRYSLER\",\"CHRYSLER\",\"CHRYSLER\",\"CHRYSLER\",\"CHRYSLER\",\"CHRYSLER\",\"CHRYSLER\",\"CHRYSLER\",\"CHRYSLER\",\"CHRYSLER\",\"CHRYSLER\",\"CHRYSLER\",\"CHRYSLER\",\"CHRYSLER\",\"CHRYSLER\",\"CHRYSLER\",\"CHRYSLER\",\"CHRYSLER\",\"CHRYSLER\",\"CHRYSLER\",\"CHRYSLER\",\"CHRYSLER\",\"CHRYSLER\",\"CHRYSLER\",\"CHRYSLER\",\"CHRYSLER\",\"CHRYSLER\",\"CHRYSLER\",\"CHRYSLER\",\"CHRYSLER\",\"CHRYSLER\",\"CHRYSLER\",\"CHRYSLER\",\"CHRYSLER\",\"CHRYSLER\",\"CHRYSLER\",\"CHRYSLER\",\"CHRYSLER\",\"CHRYSLER\",\"CHRYSLER\",\"CHRYSLER\",\"CHRYSLER\",\"CHRYSLER\",\"CHRYSLER\",\"CHRYSLER\",\"CHRYSLER\",\"CHRYSLER\",\"CHRYSLER\",\"CHRYSLER\",\"CHRYSLER\",\"CHRYSLER\",\"CHRYSLER\",\"CHRYSLER\",\"CHRYSLER\",\"CHRYSLER\",\"CHRYSLER\",\"CHRYSLER\",\"CHRYSLER\",\"CHRYSLER\",\"CHRYSLER\",\"CHRYSLER\",\"CHRYSLER\",\"CHRYSLER\",\"CHRYSLER\",\"CHRYSLER\",\"CHRYSLER\",\"CHRYSLER\",\"CHRYSLER\",\"CHRYSLER\",\"CHRYSLER\",\"CHRYSLER\",\"CHRYSLER\",\"CHRYSLER\",\"CHRYSLER\",\"CHRYSLER\",\"CHRYSLER\",\"CHRYSLER\"],\"xaxis\":\"x\",\"y\":[32,32,32,32,32,32,33,33,32,32,32,33,32,32,32,32,32,32,33,32,33,32,32,32,32,32,32,32,33,32,32,32,32,32,32,32,33,32,32,32,33,32,32,33,32,32,32,32,32,32,32,32,32,32,32,33,33,32,33,32,32,32,32,32,32,32,33,32,32,32,32,33,32,33,32,32,32,32,32,33,32,32,32,32,32,32,33,33,32,32,32,32,32,33,32,32,33,32,32,32,33,32,32,32,33,32,33,32,32,32,32,33,32,32,33,32,32,32,32,33,32,32,33,33,32,32,32,32,33,32,32,32,32,32,32,33,32,33,32,32,32,32,32,32,32,32,32,33,32,32,32,32,32,32,32,32,32,32,33,33,32,32,32,32,33,32,32,32,32,32,32,32,32,33,32,32,32,33,32,33,32,32,32,33,32,33,32,32,32,32,32,32],\"yaxis\":\"y\",\"type\":\"scattergl\"},{\"hovertemplate\":\"Make=%{x}<br>Electric Range=%{y}<extra></extra>\",\"legendgroup\":\"SMART\",\"marker\":{\"color\":\"#ab63fa\",\"symbol\":\"circle\"},\"mode\":\"markers\",\"name\":\"SMART\",\"showlegend\":true,\"x\":[\"SMART\",\"SMART\",\"SMART\",\"SMART\",\"SMART\",\"SMART\",\"SMART\",\"SMART\",\"SMART\",\"SMART\",\"SMART\",\"SMART\",\"SMART\",\"SMART\",\"SMART\"],\"xaxis\":\"x\",\"y\":[58,68,58,58,58,58,58,68,58,68,58,68,68,68,58],\"yaxis\":\"y\",\"type\":\"scattergl\"},{\"hovertemplate\":\"Make=%{x}<br>Electric Range=%{y}<extra></extra>\",\"legendgroup\":\"RIVIAN\",\"marker\":{\"color\":\"#FFA15A\",\"symbol\":\"circle\"},\"mode\":\"markers\",\"name\":\"RIVIAN\",\"showlegend\":true,\"x\":[\"RIVIAN\",\"RIVIAN\",\"RIVIAN\",\"RIVIAN\",\"RIVIAN\",\"RIVIAN\",\"RIVIAN\",\"RIVIAN\",\"RIVIAN\",\"RIVIAN\",\"RIVIAN\",\"RIVIAN\",\"RIVIAN\",\"RIVIAN\",\"RIVIAN\",\"RIVIAN\",\"RIVIAN\",\"RIVIAN\",\"RIVIAN\",\"RIVIAN\",\"RIVIAN\",\"RIVIAN\",\"RIVIAN\",\"RIVIAN\",\"RIVIAN\",\"RIVIAN\",\"RIVIAN\",\"RIVIAN\",\"RIVIAN\",\"RIVIAN\",\"RIVIAN\",\"RIVIAN\",\"RIVIAN\",\"RIVIAN\",\"RIVIAN\",\"RIVIAN\",\"RIVIAN\",\"RIVIAN\",\"RIVIAN\",\"RIVIAN\",\"RIVIAN\",\"RIVIAN\",\"RIVIAN\",\"RIVIAN\",\"RIVIAN\",\"RIVIAN\",\"RIVIAN\",\"RIVIAN\",\"RIVIAN\",\"RIVIAN\",\"RIVIAN\",\"RIVIAN\",\"RIVIAN\",\"RIVIAN\",\"RIVIAN\",\"RIVIAN\",\"RIVIAN\",\"RIVIAN\",\"RIVIAN\",\"RIVIAN\",\"RIVIAN\",\"RIVIAN\",\"RIVIAN\",\"RIVIAN\",\"RIVIAN\",\"RIVIAN\",\"RIVIAN\",\"RIVIAN\",\"RIVIAN\",\"RIVIAN\",\"RIVIAN\",\"RIVIAN\",\"RIVIAN\",\"RIVIAN\",\"RIVIAN\",\"RIVIAN\",\"RIVIAN\",\"RIVIAN\",\"RIVIAN\",\"RIVIAN\",\"RIVIAN\",\"RIVIAN\",\"RIVIAN\",\"RIVIAN\",\"RIVIAN\",\"RIVIAN\",\"RIVIAN\",\"RIVIAN\",\"RIVIAN\",\"RIVIAN\",\"RIVIAN\",\"RIVIAN\",\"RIVIAN\",\"RIVIAN\",\"RIVIAN\",\"RIVIAN\",\"RIVIAN\",\"RIVIAN\",\"RIVIAN\",\"RIVIAN\",\"RIVIAN\",\"RIVIAN\",\"RIVIAN\",\"RIVIAN\",\"RIVIAN\",\"RIVIAN\",\"RIVIAN\",\"RIVIAN\",\"RIVIAN\",\"RIVIAN\",\"RIVIAN\",\"RIVIAN\",\"RIVIAN\",\"RIVIAN\",\"RIVIAN\",\"RIVIAN\",\"RIVIAN\",\"RIVIAN\",\"RIVIAN\",\"RIVIAN\",\"RIVIAN\",\"RIVIAN\",\"RIVIAN\"],\"xaxis\":\"x\",\"y\":[0,0,0,0,0,0,0,0,0,0,0,0,0,0,0,0,0,0,0,0,0,0,0,0,0,0,0,0,0,0,0,0,0,0,0,0,0,0,0,0,0,0,0,0,0,0,0,0,0,0,0,0,0,0,0,0,0,0,0,0,0,0,0,0,0,0,0,0,0,0,0,0,0,0,0,0,0,0,0,0,0,0,0,0,0,0,0,0,0,0,0,0,0,0,0,0,0,0,0,0,0,0,0,0,0,0,0,0,0,0,0,0,0,0,0,0,0,0,0,0,0,0,0],\"yaxis\":\"y\",\"type\":\"scattergl\"},{\"hovertemplate\":\"Make=%{x}<br>Electric Range=%{y}<extra></extra>\",\"legendgroup\":\"SUBARU\",\"marker\":{\"color\":\"#19d3f3\",\"symbol\":\"circle\"},\"mode\":\"markers\",\"name\":\"SUBARU\",\"showlegend\":true,\"x\":[\"SUBARU\",\"SUBARU\",\"SUBARU\",\"SUBARU\",\"SUBARU\",\"SUBARU\",\"SUBARU\",\"SUBARU\",\"SUBARU\",\"SUBARU\",\"SUBARU\",\"SUBARU\",\"SUBARU\",\"SUBARU\",\"SUBARU\",\"SUBARU\",\"SUBARU\",\"SUBARU\",\"SUBARU\",\"SUBARU\",\"SUBARU\"],\"xaxis\":\"x\",\"y\":[0,0,0,0,0,17,17,0,17,0,0,0,0,17,0,0,0,17,0,0,17],\"yaxis\":\"y\",\"type\":\"scattergl\"},{\"hovertemplate\":\"Make=%{x}<br>Electric Range=%{y}<extra></extra>\",\"legendgroup\":\"JEEP\",\"marker\":{\"color\":\"#FF6692\",\"symbol\":\"circle\"},\"mode\":\"markers\",\"name\":\"JEEP\",\"showlegend\":true,\"x\":[\"JEEP\",\"JEEP\",\"JEEP\",\"JEEP\",\"JEEP\",\"JEEP\",\"JEEP\",\"JEEP\",\"JEEP\",\"JEEP\",\"JEEP\",\"JEEP\",\"JEEP\",\"JEEP\",\"JEEP\",\"JEEP\",\"JEEP\",\"JEEP\",\"JEEP\",\"JEEP\",\"JEEP\",\"JEEP\",\"JEEP\",\"JEEP\",\"JEEP\",\"JEEP\",\"JEEP\",\"JEEP\",\"JEEP\",\"JEEP\",\"JEEP\",\"JEEP\",\"JEEP\",\"JEEP\",\"JEEP\",\"JEEP\",\"JEEP\",\"JEEP\",\"JEEP\",\"JEEP\",\"JEEP\",\"JEEP\",\"JEEP\",\"JEEP\",\"JEEP\",\"JEEP\",\"JEEP\",\"JEEP\",\"JEEP\",\"JEEP\",\"JEEP\",\"JEEP\",\"JEEP\",\"JEEP\",\"JEEP\",\"JEEP\",\"JEEP\",\"JEEP\",\"JEEP\",\"JEEP\",\"JEEP\",\"JEEP\",\"JEEP\",\"JEEP\",\"JEEP\",\"JEEP\",\"JEEP\",\"JEEP\",\"JEEP\",\"JEEP\",\"JEEP\",\"JEEP\",\"JEEP\",\"JEEP\",\"JEEP\",\"JEEP\",\"JEEP\",\"JEEP\",\"JEEP\",\"JEEP\",\"JEEP\",\"JEEP\",\"JEEP\",\"JEEP\",\"JEEP\",\"JEEP\",\"JEEP\",\"JEEP\",\"JEEP\",\"JEEP\",\"JEEP\",\"JEEP\",\"JEEP\",\"JEEP\",\"JEEP\",\"JEEP\",\"JEEP\",\"JEEP\",\"JEEP\",\"JEEP\",\"JEEP\",\"JEEP\",\"JEEP\",\"JEEP\",\"JEEP\",\"JEEP\",\"JEEP\",\"JEEP\",\"JEEP\",\"JEEP\",\"JEEP\",\"JEEP\",\"JEEP\",\"JEEP\",\"JEEP\",\"JEEP\",\"JEEP\",\"JEEP\",\"JEEP\",\"JEEP\",\"JEEP\",\"JEEP\",\"JEEP\",\"JEEP\",\"JEEP\",\"JEEP\",\"JEEP\",\"JEEP\",\"JEEP\",\"JEEP\",\"JEEP\",\"JEEP\",\"JEEP\",\"JEEP\",\"JEEP\",\"JEEP\",\"JEEP\",\"JEEP\",\"JEEP\",\"JEEP\",\"JEEP\",\"JEEP\",\"JEEP\",\"JEEP\",\"JEEP\",\"JEEP\",\"JEEP\",\"JEEP\",\"JEEP\",\"JEEP\",\"JEEP\",\"JEEP\",\"JEEP\",\"JEEP\",\"JEEP\",\"JEEP\",\"JEEP\",\"JEEP\",\"JEEP\",\"JEEP\",\"JEEP\",\"JEEP\",\"JEEP\",\"JEEP\",\"JEEP\",\"JEEP\",\"JEEP\",\"JEEP\",\"JEEP\",\"JEEP\",\"JEEP\",\"JEEP\",\"JEEP\",\"JEEP\",\"JEEP\",\"JEEP\",\"JEEP\",\"JEEP\",\"JEEP\",\"JEEP\",\"JEEP\",\"JEEP\",\"JEEP\",\"JEEP\",\"JEEP\",\"JEEP\",\"JEEP\",\"JEEP\",\"JEEP\",\"JEEP\",\"JEEP\",\"JEEP\",\"JEEP\",\"JEEP\",\"JEEP\",\"JEEP\",\"JEEP\",\"JEEP\",\"JEEP\",\"JEEP\",\"JEEP\",\"JEEP\",\"JEEP\",\"JEEP\",\"JEEP\",\"JEEP\",\"JEEP\",\"JEEP\",\"JEEP\",\"JEEP\",\"JEEP\",\"JEEP\",\"JEEP\",\"JEEP\",\"JEEP\",\"JEEP\",\"JEEP\",\"JEEP\",\"JEEP\",\"JEEP\",\"JEEP\",\"JEEP\",\"JEEP\",\"JEEP\"],\"xaxis\":\"x\",\"y\":[21,21,21,22,21,21,21,21,21,21,25,21,21,21,25,25,25,21,25,25,21,22,21,21,21,21,25,21,21,21,21,21,21,25,21,21,21,21,21,21,25,21,21,21,21,21,21,25,25,21,21,21,21,22,21,21,21,21,21,21,25,25,21,21,25,21,21,21,21,21,21,21,21,21,21,21,22,25,21,21,21,21,21,21,21,21,25,25,21,25,21,21,25,22,21,21,21,25,21,22,25,21,21,21,21,21,22,22,21,25,21,21,21,25,21,21,21,21,21,25,21,21,21,21,21,21,21,25,21,21,21,21,21,21,25,21,21,21,21,21,21,21,21,21,21,25,25,21,21,21,25,21,25,25,21,25,22,21,21,21,21,21,21,25,21,21,21,25,25,21,25,21,25,21,21,22,21,21,21,21,21,21,21,21,21,21,21,25,21,21,21,21,25,21,21,21,25,21,21,21,25,25,21,21,21,21,25,25,21,21,25,21,21,21,25,21,21,21,21,25,21,21,21,22],\"yaxis\":\"y\",\"type\":\"scattergl\"},{\"hovertemplate\":\"Make=%{x}<br>Electric Range=%{y}<extra></extra>\",\"legendgroup\":\"HONDA\",\"marker\":{\"color\":\"#B6E880\",\"symbol\":\"circle\"},\"mode\":\"markers\",\"name\":\"HONDA\",\"showlegend\":true,\"x\":[\"HONDA\",\"HONDA\",\"HONDA\",\"HONDA\",\"HONDA\",\"HONDA\",\"HONDA\",\"HONDA\",\"HONDA\",\"HONDA\",\"HONDA\",\"HONDA\",\"HONDA\",\"HONDA\",\"HONDA\",\"HONDA\",\"HONDA\",\"HONDA\",\"HONDA\",\"HONDA\",\"HONDA\",\"HONDA\",\"HONDA\",\"HONDA\",\"HONDA\",\"HONDA\",\"HONDA\",\"HONDA\",\"HONDA\",\"HONDA\",\"HONDA\",\"HONDA\",\"HONDA\",\"HONDA\",\"HONDA\",\"HONDA\",\"HONDA\",\"HONDA\",\"HONDA\",\"HONDA\",\"HONDA\",\"HONDA\",\"HONDA\",\"HONDA\",\"HONDA\",\"HONDA\",\"HONDA\",\"HONDA\",\"HONDA\",\"HONDA\",\"HONDA\",\"HONDA\"],\"xaxis\":\"x\",\"y\":[47,47,47,47,47,47,47,47,47,47,47,47,47,47,47,47,47,47,47,47,47,47,47,47,47,47,47,13,47,47,47,47,47,47,47,47,47,47,47,47,47,47,47,47,47,47,47,47,47,47,47,47],\"yaxis\":\"y\",\"type\":\"scattergl\"},{\"hovertemplate\":\"Make=%{x}<br>Electric Range=%{y}<extra></extra>\",\"legendgroup\":\"LINCOLN\",\"marker\":{\"color\":\"#FF97FF\",\"symbol\":\"circle\"},\"mode\":\"markers\",\"name\":\"LINCOLN\",\"showlegend\":true,\"x\":[\"LINCOLN\",\"LINCOLN\",\"LINCOLN\",\"LINCOLN\",\"LINCOLN\",\"LINCOLN\",\"LINCOLN\",\"LINCOLN\",\"LINCOLN\",\"LINCOLN\"],\"xaxis\":\"x\",\"y\":[21,28,28,28,21,21,21,21,21,28],\"yaxis\":\"y\",\"type\":\"scattergl\"},{\"hovertemplate\":\"Make=%{x}<br>Electric Range=%{y}<extra></extra>\",\"legendgroup\":\"LUCID\",\"marker\":{\"color\":\"#FECB52\",\"symbol\":\"circle\"},\"mode\":\"markers\",\"name\":\"LUCID\",\"showlegend\":true,\"x\":[\"LUCID\",\"LUCID\",\"LUCID\",\"LUCID\",\"LUCID\",\"LUCID\",\"LUCID\",\"LUCID\",\"LUCID\"],\"xaxis\":\"x\",\"y\":[0,0,0,0,0,0,0,0,0],\"yaxis\":\"y\",\"type\":\"scattergl\"},{\"hovertemplate\":\"Make=%{x}<br>Electric Range=%{y}<extra></extra>\",\"legendgroup\":\"PORSCHE\",\"marker\":{\"color\":\"#636efa\",\"symbol\":\"circle\"},\"mode\":\"markers\",\"name\":\"PORSCHE\",\"showlegend\":true,\"x\":[\"PORSCHE\",\"PORSCHE\",\"PORSCHE\",\"PORSCHE\",\"PORSCHE\",\"PORSCHE\",\"PORSCHE\",\"PORSCHE\",\"PORSCHE\",\"PORSCHE\",\"PORSCHE\",\"PORSCHE\",\"PORSCHE\",\"PORSCHE\",\"PORSCHE\",\"PORSCHE\",\"PORSCHE\",\"PORSCHE\",\"PORSCHE\",\"PORSCHE\",\"PORSCHE\",\"PORSCHE\",\"PORSCHE\",\"PORSCHE\",\"PORSCHE\",\"PORSCHE\",\"PORSCHE\",\"PORSCHE\",\"PORSCHE\",\"PORSCHE\",\"PORSCHE\",\"PORSCHE\",\"PORSCHE\",\"PORSCHE\",\"PORSCHE\",\"PORSCHE\",\"PORSCHE\",\"PORSCHE\",\"PORSCHE\",\"PORSCHE\",\"PORSCHE\",\"PORSCHE\",\"PORSCHE\",\"PORSCHE\",\"PORSCHE\",\"PORSCHE\",\"PORSCHE\",\"PORSCHE\",\"PORSCHE\",\"PORSCHE\",\"PORSCHE\",\"PORSCHE\",\"PORSCHE\",\"PORSCHE\",\"PORSCHE\",\"PORSCHE\",\"PORSCHE\",\"PORSCHE\"],\"xaxis\":\"x\",\"y\":[14,192,16,15,15,13,0,0,192,13,0,0,18,17,0,192,14,14,0,16,0,0,14,13,0,15,0,13,203,192,203,192,15,0,203,14,14,0,16,0,14,0,0,14,14,0,203,14,0,0,14,14,16,14,16,192,203,0],\"yaxis\":\"y\",\"type\":\"scattergl\"},{\"hovertemplate\":\"Make=%{x}<br>Electric Range=%{y}<extra></extra>\",\"legendgroup\":\"MITSUBISHI\",\"marker\":{\"color\":\"#EF553B\",\"symbol\":\"circle\"},\"mode\":\"markers\",\"name\":\"MITSUBISHI\",\"showlegend\":true,\"x\":[\"MITSUBISHI\",\"MITSUBISHI\",\"MITSUBISHI\",\"MITSUBISHI\",\"MITSUBISHI\",\"MITSUBISHI\",\"MITSUBISHI\",\"MITSUBISHI\",\"MITSUBISHI\",\"MITSUBISHI\",\"MITSUBISHI\",\"MITSUBISHI\",\"MITSUBISHI\",\"MITSUBISHI\",\"MITSUBISHI\",\"MITSUBISHI\",\"MITSUBISHI\",\"MITSUBISHI\",\"MITSUBISHI\",\"MITSUBISHI\",\"MITSUBISHI\",\"MITSUBISHI\",\"MITSUBISHI\",\"MITSUBISHI\",\"MITSUBISHI\",\"MITSUBISHI\",\"MITSUBISHI\",\"MITSUBISHI\",\"MITSUBISHI\",\"MITSUBISHI\",\"MITSUBISHI\",\"MITSUBISHI\",\"MITSUBISHI\",\"MITSUBISHI\",\"MITSUBISHI\",\"MITSUBISHI\",\"MITSUBISHI\",\"MITSUBISHI\",\"MITSUBISHI\",\"MITSUBISHI\",\"MITSUBISHI\",\"MITSUBISHI\",\"MITSUBISHI\",\"MITSUBISHI\"],\"xaxis\":\"x\",\"y\":[22,38,62,24,38,62,22,62,22,22,22,22,38,22,38,22,38,24,24,62,38,22,38,22,24,22,38,62,24,24,24,38,38,22,22,24,22,22,22,38,22,22,22,22],\"yaxis\":\"y\",\"type\":\"scattergl\"},{\"hovertemplate\":\"Make=%{x}<br>Electric Range=%{y}<extra></extra>\",\"legendgroup\":\"POLESTAR\",\"marker\":{\"color\":\"#00cc96\",\"symbol\":\"circle\"},\"mode\":\"markers\",\"name\":\"POLESTAR\",\"showlegend\":true,\"x\":[\"POLESTAR\",\"POLESTAR\",\"POLESTAR\",\"POLESTAR\",\"POLESTAR\",\"POLESTAR\",\"POLESTAR\",\"POLESTAR\",\"POLESTAR\",\"POLESTAR\",\"POLESTAR\",\"POLESTAR\",\"POLESTAR\",\"POLESTAR\",\"POLESTAR\",\"POLESTAR\",\"POLESTAR\",\"POLESTAR\",\"POLESTAR\",\"POLESTAR\",\"POLESTAR\",\"POLESTAR\",\"POLESTAR\",\"POLESTAR\",\"POLESTAR\",\"POLESTAR\",\"POLESTAR\",\"POLESTAR\",\"POLESTAR\",\"POLESTAR\",\"POLESTAR\",\"POLESTAR\",\"POLESTAR\",\"POLESTAR\",\"POLESTAR\",\"POLESTAR\",\"POLESTAR\",\"POLESTAR\",\"POLESTAR\",\"POLESTAR\",\"POLESTAR\",\"POLESTAR\",\"POLESTAR\",\"POLESTAR\",\"POLESTAR\",\"POLESTAR\",\"POLESTAR\",\"POLESTAR\",\"POLESTAR\",\"POLESTAR\",\"POLESTAR\"],\"xaxis\":\"x\",\"y\":[233,233,233,0,0,0,0,0,0,0,0,0,233,0,233,0,233,0,0,0,0,0,0,0,0,0,0,0,233,0,0,233,0,0,0,0,0,0,0,0,0,233,0,0,0,0,0,233,0,0,0],\"yaxis\":\"y\",\"type\":\"scattergl\"},{\"hovertemplate\":\"Make=%{x}<br>Electric Range=%{y}<extra></extra>\",\"legendgroup\":\"MERCEDES-BENZ\",\"marker\":{\"color\":\"#ab63fa\",\"symbol\":\"circle\"},\"mode\":\"markers\",\"name\":\"MERCEDES-BENZ\",\"showlegend\":true,\"x\":[\"MERCEDES-BENZ\",\"MERCEDES-BENZ\",\"MERCEDES-BENZ\",\"MERCEDES-BENZ\",\"MERCEDES-BENZ\",\"MERCEDES-BENZ\",\"MERCEDES-BENZ\",\"MERCEDES-BENZ\",\"MERCEDES-BENZ\",\"MERCEDES-BENZ\",\"MERCEDES-BENZ\",\"MERCEDES-BENZ\",\"MERCEDES-BENZ\",\"MERCEDES-BENZ\",\"MERCEDES-BENZ\",\"MERCEDES-BENZ\",\"MERCEDES-BENZ\",\"MERCEDES-BENZ\",\"MERCEDES-BENZ\",\"MERCEDES-BENZ\",\"MERCEDES-BENZ\",\"MERCEDES-BENZ\",\"MERCEDES-BENZ\",\"MERCEDES-BENZ\",\"MERCEDES-BENZ\",\"MERCEDES-BENZ\",\"MERCEDES-BENZ\",\"MERCEDES-BENZ\",\"MERCEDES-BENZ\",\"MERCEDES-BENZ\",\"MERCEDES-BENZ\",\"MERCEDES-BENZ\",\"MERCEDES-BENZ\",\"MERCEDES-BENZ\",\"MERCEDES-BENZ\",\"MERCEDES-BENZ\",\"MERCEDES-BENZ\",\"MERCEDES-BENZ\",\"MERCEDES-BENZ\",\"MERCEDES-BENZ\",\"MERCEDES-BENZ\",\"MERCEDES-BENZ\",\"MERCEDES-BENZ\",\"MERCEDES-BENZ\",\"MERCEDES-BENZ\",\"MERCEDES-BENZ\",\"MERCEDES-BENZ\",\"MERCEDES-BENZ\",\"MERCEDES-BENZ\"],\"xaxis\":\"x\",\"y\":[0,0,0,12,87,10,10,87,10,0,22,0,0,0,0,87,0,0,87,0,0,0,0,87,10,10,0,0,0,0,0,8,22,9,0,22,0,0,0,10,0,0,0,10,0,87,87,14,87],\"yaxis\":\"y\",\"type\":\"scattergl\"},{\"hovertemplate\":\"Make=%{x}<br>Electric Range=%{y}<extra></extra>\",\"legendgroup\":\"MINI\",\"marker\":{\"color\":\"#FFA15A\",\"symbol\":\"circle\"},\"mode\":\"markers\",\"name\":\"MINI\",\"showlegend\":true,\"x\":[\"MINI\",\"MINI\",\"MINI\",\"MINI\",\"MINI\",\"MINI\",\"MINI\",\"MINI\",\"MINI\",\"MINI\",\"MINI\",\"MINI\",\"MINI\",\"MINI\",\"MINI\",\"MINI\",\"MINI\",\"MINI\",\"MINI\",\"MINI\",\"MINI\",\"MINI\",\"MINI\",\"MINI\",\"MINI\",\"MINI\",\"MINI\",\"MINI\",\"MINI\",\"MINI\",\"MINI\",\"MINI\",\"MINI\",\"MINI\",\"MINI\",\"MINI\",\"MINI\",\"MINI\",\"MINI\",\"MINI\",\"MINI\",\"MINI\",\"MINI\",\"MINI\",\"MINI\",\"MINI\",\"MINI\",\"MINI\",\"MINI\",\"MINI\",\"MINI\",\"MINI\",\"MINI\"],\"xaxis\":\"x\",\"y\":[12,0,0,0,0,12,17,110,17,0,110,17,0,0,0,0,0,0,110,17,0,0,0,0,0,12,0,17,0,17,0,0,110,0,110,110,12,12,0,0,12,0,0,0,12,110,12,12,110,110,0,0,110],\"yaxis\":\"y\",\"type\":\"scattergl\"},{\"hovertemplate\":\"Make=%{x}<br>Electric Range=%{y}<extra></extra>\",\"legendgroup\":\"JAGUAR\",\"marker\":{\"color\":\"#19d3f3\",\"symbol\":\"circle\"},\"mode\":\"markers\",\"name\":\"JAGUAR\",\"showlegend\":true,\"x\":[\"JAGUAR\",\"JAGUAR\",\"JAGUAR\",\"JAGUAR\",\"JAGUAR\",\"JAGUAR\",\"JAGUAR\",\"JAGUAR\",\"JAGUAR\",\"JAGUAR\",\"JAGUAR\",\"JAGUAR\",\"JAGUAR\",\"JAGUAR\"],\"xaxis\":\"x\",\"y\":[234,234,234,234,234,234,0,0,234,234,234,0,234,234],\"yaxis\":\"y\",\"type\":\"scattergl\"},{\"hovertemplate\":\"Make=%{x}<br>Electric Range=%{y}<extra></extra>\",\"legendgroup\":\"CADILLAC\",\"marker\":{\"color\":\"#FF6692\",\"symbol\":\"circle\"},\"mode\":\"markers\",\"name\":\"CADILLAC\",\"showlegend\":true,\"x\":[\"CADILLAC\",\"CADILLAC\",\"CADILLAC\",\"CADILLAC\",\"CADILLAC\",\"CADILLAC\"],\"xaxis\":\"x\",\"y\":[37,37,0,37,37,40],\"yaxis\":\"y\",\"type\":\"scattergl\"},{\"hovertemplate\":\"Make=%{x}<br>Electric Range=%{y}<extra></extra>\",\"legendgroup\":\"LEXUS\",\"marker\":{\"color\":\"#B6E880\",\"symbol\":\"circle\"},\"mode\":\"markers\",\"name\":\"LEXUS\",\"showlegend\":true,\"x\":[\"LEXUS\",\"LEXUS\",\"LEXUS\",\"LEXUS\",\"LEXUS\",\"LEXUS\",\"LEXUS\",\"LEXUS\",\"LEXUS\"],\"xaxis\":\"x\",\"y\":[37,37,37,37,37,37,37,37,37],\"yaxis\":\"y\",\"type\":\"scattergl\"},{\"hovertemplate\":\"Make=%{x}<br>Electric Range=%{y}<extra></extra>\",\"legendgroup\":\"GENESIS\",\"marker\":{\"color\":\"#FF97FF\",\"symbol\":\"circle\"},\"mode\":\"markers\",\"name\":\"GENESIS\",\"showlegend\":true,\"x\":[\"GENESIS\",\"GENESIS\",\"GENESIS\",\"GENESIS\",\"GENESIS\",\"GENESIS\",\"GENESIS\"],\"xaxis\":\"x\",\"y\":[0,0,0,0,0,0,0],\"yaxis\":\"y\",\"type\":\"scattergl\"},{\"hovertemplate\":\"Make=%{x}<br>Electric Range=%{y}<extra></extra>\",\"legendgroup\":\"WHEEGO ELECTRIC CARS\",\"marker\":{\"color\":\"#FECB52\",\"symbol\":\"circle\"},\"mode\":\"markers\",\"name\":\"WHEEGO ELECTRIC CARS\",\"showlegend\":true,\"x\":[\"WHEEGO ELECTRIC CARS\"],\"xaxis\":\"x\",\"y\":[100],\"yaxis\":\"y\",\"type\":\"scattergl\"},{\"hovertemplate\":\"Make=%{x}<br>Electric Range=%{y}<extra></extra>\",\"legendgroup\":\"FISKER\",\"marker\":{\"color\":\"#636efa\",\"symbol\":\"circle\"},\"mode\":\"markers\",\"name\":\"FISKER\",\"showlegend\":true,\"x\":[\"FISKER\"],\"xaxis\":\"x\",\"y\":[33],\"yaxis\":\"y\",\"type\":\"scattergl\"},{\"hovertemplate\":\"Make=%{x}<br>Electric Range=%{y}<extra></extra>\",\"legendgroup\":\"MAZDA\",\"marker\":{\"color\":\"#EF553B\",\"symbol\":\"circle\"},\"mode\":\"markers\",\"name\":\"MAZDA\",\"showlegend\":true,\"x\":[\"MAZDA\",\"MAZDA\"],\"xaxis\":\"x\",\"y\":[26,26],\"yaxis\":\"y\",\"type\":\"scattergl\"},{\"hovertemplate\":\"Make=%{x}<br>Electric Range=%{y}<extra></extra>\",\"legendgroup\":\"BENTLEY\",\"marker\":{\"color\":\"#00cc96\",\"symbol\":\"circle\"},\"mode\":\"markers\",\"name\":\"BENTLEY\",\"showlegend\":true,\"x\":[\"BENTLEY\"],\"xaxis\":\"x\",\"y\":[21],\"yaxis\":\"y\",\"type\":\"scattergl\"}],                        {\"template\":{\"data\":{\"histogram2dcontour\":[{\"type\":\"histogram2dcontour\",\"colorbar\":{\"outlinewidth\":0,\"ticks\":\"\"},\"colorscale\":[[0.0,\"#0d0887\"],[0.1111111111111111,\"#46039f\"],[0.2222222222222222,\"#7201a8\"],[0.3333333333333333,\"#9c179e\"],[0.4444444444444444,\"#bd3786\"],[0.5555555555555556,\"#d8576b\"],[0.6666666666666666,\"#ed7953\"],[0.7777777777777778,\"#fb9f3a\"],[0.8888888888888888,\"#fdca26\"],[1.0,\"#f0f921\"]]}],\"choropleth\":[{\"type\":\"choropleth\",\"colorbar\":{\"outlinewidth\":0,\"ticks\":\"\"}}],\"histogram2d\":[{\"type\":\"histogram2d\",\"colorbar\":{\"outlinewidth\":0,\"ticks\":\"\"},\"colorscale\":[[0.0,\"#0d0887\"],[0.1111111111111111,\"#46039f\"],[0.2222222222222222,\"#7201a8\"],[0.3333333333333333,\"#9c179e\"],[0.4444444444444444,\"#bd3786\"],[0.5555555555555556,\"#d8576b\"],[0.6666666666666666,\"#ed7953\"],[0.7777777777777778,\"#fb9f3a\"],[0.8888888888888888,\"#fdca26\"],[1.0,\"#f0f921\"]]}],\"heatmap\":[{\"type\":\"heatmap\",\"colorbar\":{\"outlinewidth\":0,\"ticks\":\"\"},\"colorscale\":[[0.0,\"#0d0887\"],[0.1111111111111111,\"#46039f\"],[0.2222222222222222,\"#7201a8\"],[0.3333333333333333,\"#9c179e\"],[0.4444444444444444,\"#bd3786\"],[0.5555555555555556,\"#d8576b\"],[0.6666666666666666,\"#ed7953\"],[0.7777777777777778,\"#fb9f3a\"],[0.8888888888888888,\"#fdca26\"],[1.0,\"#f0f921\"]]}],\"heatmapgl\":[{\"type\":\"heatmapgl\",\"colorbar\":{\"outlinewidth\":0,\"ticks\":\"\"},\"colorscale\":[[0.0,\"#0d0887\"],[0.1111111111111111,\"#46039f\"],[0.2222222222222222,\"#7201a8\"],[0.3333333333333333,\"#9c179e\"],[0.4444444444444444,\"#bd3786\"],[0.5555555555555556,\"#d8576b\"],[0.6666666666666666,\"#ed7953\"],[0.7777777777777778,\"#fb9f3a\"],[0.8888888888888888,\"#fdca26\"],[1.0,\"#f0f921\"]]}],\"contourcarpet\":[{\"type\":\"contourcarpet\",\"colorbar\":{\"outlinewidth\":0,\"ticks\":\"\"}}],\"contour\":[{\"type\":\"contour\",\"colorbar\":{\"outlinewidth\":0,\"ticks\":\"\"},\"colorscale\":[[0.0,\"#0d0887\"],[0.1111111111111111,\"#46039f\"],[0.2222222222222222,\"#7201a8\"],[0.3333333333333333,\"#9c179e\"],[0.4444444444444444,\"#bd3786\"],[0.5555555555555556,\"#d8576b\"],[0.6666666666666666,\"#ed7953\"],[0.7777777777777778,\"#fb9f3a\"],[0.8888888888888888,\"#fdca26\"],[1.0,\"#f0f921\"]]}],\"surface\":[{\"type\":\"surface\",\"colorbar\":{\"outlinewidth\":0,\"ticks\":\"\"},\"colorscale\":[[0.0,\"#0d0887\"],[0.1111111111111111,\"#46039f\"],[0.2222222222222222,\"#7201a8\"],[0.3333333333333333,\"#9c179e\"],[0.4444444444444444,\"#bd3786\"],[0.5555555555555556,\"#d8576b\"],[0.6666666666666666,\"#ed7953\"],[0.7777777777777778,\"#fb9f3a\"],[0.8888888888888888,\"#fdca26\"],[1.0,\"#f0f921\"]]}],\"mesh3d\":[{\"type\":\"mesh3d\",\"colorbar\":{\"outlinewidth\":0,\"ticks\":\"\"}}],\"scatter\":[{\"fillpattern\":{\"fillmode\":\"overlay\",\"size\":10,\"solidity\":0.2},\"type\":\"scatter\"}],\"parcoords\":[{\"type\":\"parcoords\",\"line\":{\"colorbar\":{\"outlinewidth\":0,\"ticks\":\"\"}}}],\"scatterpolargl\":[{\"type\":\"scatterpolargl\",\"marker\":{\"colorbar\":{\"outlinewidth\":0,\"ticks\":\"\"}}}],\"bar\":[{\"error_x\":{\"color\":\"#2a3f5f\"},\"error_y\":{\"color\":\"#2a3f5f\"},\"marker\":{\"line\":{\"color\":\"#E5ECF6\",\"width\":0.5},\"pattern\":{\"fillmode\":\"overlay\",\"size\":10,\"solidity\":0.2}},\"type\":\"bar\"}],\"scattergeo\":[{\"type\":\"scattergeo\",\"marker\":{\"colorbar\":{\"outlinewidth\":0,\"ticks\":\"\"}}}],\"scatterpolar\":[{\"type\":\"scatterpolar\",\"marker\":{\"colorbar\":{\"outlinewidth\":0,\"ticks\":\"\"}}}],\"histogram\":[{\"marker\":{\"pattern\":{\"fillmode\":\"overlay\",\"size\":10,\"solidity\":0.2}},\"type\":\"histogram\"}],\"scattergl\":[{\"type\":\"scattergl\",\"marker\":{\"colorbar\":{\"outlinewidth\":0,\"ticks\":\"\"}}}],\"scatter3d\":[{\"type\":\"scatter3d\",\"line\":{\"colorbar\":{\"outlinewidth\":0,\"ticks\":\"\"}},\"marker\":{\"colorbar\":{\"outlinewidth\":0,\"ticks\":\"\"}}}],\"scattermapbox\":[{\"type\":\"scattermapbox\",\"marker\":{\"colorbar\":{\"outlinewidth\":0,\"ticks\":\"\"}}}],\"scatterternary\":[{\"type\":\"scatterternary\",\"marker\":{\"colorbar\":{\"outlinewidth\":0,\"ticks\":\"\"}}}],\"scattercarpet\":[{\"type\":\"scattercarpet\",\"marker\":{\"colorbar\":{\"outlinewidth\":0,\"ticks\":\"\"}}}],\"carpet\":[{\"aaxis\":{\"endlinecolor\":\"#2a3f5f\",\"gridcolor\":\"white\",\"linecolor\":\"white\",\"minorgridcolor\":\"white\",\"startlinecolor\":\"#2a3f5f\"},\"baxis\":{\"endlinecolor\":\"#2a3f5f\",\"gridcolor\":\"white\",\"linecolor\":\"white\",\"minorgridcolor\":\"white\",\"startlinecolor\":\"#2a3f5f\"},\"type\":\"carpet\"}],\"table\":[{\"cells\":{\"fill\":{\"color\":\"#EBF0F8\"},\"line\":{\"color\":\"white\"}},\"header\":{\"fill\":{\"color\":\"#C8D4E3\"},\"line\":{\"color\":\"white\"}},\"type\":\"table\"}],\"barpolar\":[{\"marker\":{\"line\":{\"color\":\"#E5ECF6\",\"width\":0.5},\"pattern\":{\"fillmode\":\"overlay\",\"size\":10,\"solidity\":0.2}},\"type\":\"barpolar\"}],\"pie\":[{\"automargin\":true,\"type\":\"pie\"}]},\"layout\":{\"autotypenumbers\":\"strict\",\"colorway\":[\"#636efa\",\"#EF553B\",\"#00cc96\",\"#ab63fa\",\"#FFA15A\",\"#19d3f3\",\"#FF6692\",\"#B6E880\",\"#FF97FF\",\"#FECB52\"],\"font\":{\"color\":\"#2a3f5f\"},\"hovermode\":\"closest\",\"hoverlabel\":{\"align\":\"left\"},\"paper_bgcolor\":\"white\",\"plot_bgcolor\":\"#E5ECF6\",\"polar\":{\"bgcolor\":\"#E5ECF6\",\"angularaxis\":{\"gridcolor\":\"white\",\"linecolor\":\"white\",\"ticks\":\"\"},\"radialaxis\":{\"gridcolor\":\"white\",\"linecolor\":\"white\",\"ticks\":\"\"}},\"ternary\":{\"bgcolor\":\"#E5ECF6\",\"aaxis\":{\"gridcolor\":\"white\",\"linecolor\":\"white\",\"ticks\":\"\"},\"baxis\":{\"gridcolor\":\"white\",\"linecolor\":\"white\",\"ticks\":\"\"},\"caxis\":{\"gridcolor\":\"white\",\"linecolor\":\"white\",\"ticks\":\"\"}},\"coloraxis\":{\"colorbar\":{\"outlinewidth\":0,\"ticks\":\"\"}},\"colorscale\":{\"sequential\":[[0.0,\"#0d0887\"],[0.1111111111111111,\"#46039f\"],[0.2222222222222222,\"#7201a8\"],[0.3333333333333333,\"#9c179e\"],[0.4444444444444444,\"#bd3786\"],[0.5555555555555556,\"#d8576b\"],[0.6666666666666666,\"#ed7953\"],[0.7777777777777778,\"#fb9f3a\"],[0.8888888888888888,\"#fdca26\"],[1.0,\"#f0f921\"]],\"sequentialminus\":[[0.0,\"#0d0887\"],[0.1111111111111111,\"#46039f\"],[0.2222222222222222,\"#7201a8\"],[0.3333333333333333,\"#9c179e\"],[0.4444444444444444,\"#bd3786\"],[0.5555555555555556,\"#d8576b\"],[0.6666666666666666,\"#ed7953\"],[0.7777777777777778,\"#fb9f3a\"],[0.8888888888888888,\"#fdca26\"],[1.0,\"#f0f921\"]],\"diverging\":[[0,\"#8e0152\"],[0.1,\"#c51b7d\"],[0.2,\"#de77ae\"],[0.3,\"#f1b6da\"],[0.4,\"#fde0ef\"],[0.5,\"#f7f7f7\"],[0.6,\"#e6f5d0\"],[0.7,\"#b8e186\"],[0.8,\"#7fbc41\"],[0.9,\"#4d9221\"],[1,\"#276419\"]]},\"xaxis\":{\"gridcolor\":\"white\",\"linecolor\":\"white\",\"ticks\":\"\",\"title\":{\"standoff\":15},\"zerolinecolor\":\"white\",\"automargin\":true,\"zerolinewidth\":2},\"yaxis\":{\"gridcolor\":\"white\",\"linecolor\":\"white\",\"ticks\":\"\",\"title\":{\"standoff\":15},\"zerolinecolor\":\"white\",\"automargin\":true,\"zerolinewidth\":2},\"scene\":{\"xaxis\":{\"backgroundcolor\":\"#E5ECF6\",\"gridcolor\":\"white\",\"linecolor\":\"white\",\"showbackground\":true,\"ticks\":\"\",\"zerolinecolor\":\"white\",\"gridwidth\":2},\"yaxis\":{\"backgroundcolor\":\"#E5ECF6\",\"gridcolor\":\"white\",\"linecolor\":\"white\",\"showbackground\":true,\"ticks\":\"\",\"zerolinecolor\":\"white\",\"gridwidth\":2},\"zaxis\":{\"backgroundcolor\":\"#E5ECF6\",\"gridcolor\":\"white\",\"linecolor\":\"white\",\"showbackground\":true,\"ticks\":\"\",\"zerolinecolor\":\"white\",\"gridwidth\":2}},\"shapedefaults\":{\"line\":{\"color\":\"#2a3f5f\"}},\"annotationdefaults\":{\"arrowcolor\":\"#2a3f5f\",\"arrowhead\":0,\"arrowwidth\":1},\"geo\":{\"bgcolor\":\"white\",\"landcolor\":\"#E5ECF6\",\"subunitcolor\":\"white\",\"showland\":true,\"showlakes\":true,\"lakecolor\":\"white\"},\"title\":{\"x\":0.05},\"mapbox\":{\"style\":\"light\"}}},\"xaxis\":{\"anchor\":\"y\",\"domain\":[0.0,1.0],\"title\":{\"text\":\"Make\"},\"categoryorder\":\"array\",\"categoryarray\":[\"TESLA\",\"NISSAN\",\"BMW\",\"AUDI\",\"TOYOTA\",\"KIA\",\"FIAT\",\"FORD\",\"CHEVROLET\",\"HYUNDAI\",\"VOLVO\",\"VOLKSWAGEN\",\"CHRYSLER\",\"SMART\",\"RIVIAN\",\"SUBARU\",\"JEEP\",\"HONDA\",\"LINCOLN\",\"LUCID\",\"PORSCHE\",\"MITSUBISHI\",\"POLESTAR\",\"MERCEDES-BENZ\",\"MINI\",\"JAGUAR\",\"CADILLAC\",\"LEXUS\",\"GENESIS\",\"WHEEGO ELECTRIC CARS\",\"FISKER\",\"MAZDA\",\"BENTLEY\"],\"tickangle\":45},\"yaxis\":{\"anchor\":\"x\",\"domain\":[0.0,1.0],\"title\":{\"text\":\"Electric Range\"}},\"legend\":{\"title\":{\"text\":\"Make\"},\"tracegroupgap\":0},\"title\":{\"text\":\"Electric Range by Make\"},\"height\":400,\"width\":800},                        {\"responsive\": true}                    ).then(function(){\n",
              "                            \n",
              "var gd = document.getElementById('b7b9648f-7e6c-4a35-a8a3-351c570d5d1e');\n",
              "var x = new MutationObserver(function (mutations, observer) {{\n",
              "        var display = window.getComputedStyle(gd).display;\n",
              "        if (!display || display === 'none') {{\n",
              "            console.log([gd, 'removed!']);\n",
              "            Plotly.purge(gd);\n",
              "            observer.disconnect();\n",
              "        }}\n",
              "}});\n",
              "\n",
              "// Listen for the removal of the full notebook cells\n",
              "var notebookContainer = gd.closest('#notebook-container');\n",
              "if (notebookContainer) {{\n",
              "    x.observe(notebookContainer, {childList: true});\n",
              "}}\n",
              "\n",
              "// Listen for the clearing of the current output cell\n",
              "var outputEl = gd.closest('.output');\n",
              "if (outputEl) {{\n",
              "    x.observe(outputEl, {childList: true});\n",
              "}}\n",
              "\n",
              "                        })                };                            </script>        </div>\n",
              "</body>\n",
              "</html>"
            ]
          },
          "metadata": {}
        }
      ],
      "source": [
        "# Create a box plot using Plotly Express with color to visualize the distribution of electric range by make\n",
        "fig = px.scatter(df, x='Make', y='Electric Range',\n",
        "             title='Electric Range by Make',\n",
        "             labels={'Make': 'Make', 'Electric Range': 'Electric Range'},\n",
        "             color='Make',  # Adding color to distinguish makes\n",
        "             width=800, height=400)\n",
        "fig.update_xaxes(tickangle=45)\n",
        "\n",
        "# Show the interactive plot\n",
        "fig.show()\n"
      ]
    },
    {
      "cell_type": "markdown",
      "source": [
        "This scatter plot depicting the electric range distribution among different vehicle makes, allowing for a quick comparison of electric range variations across various makes.\"*italicized text*"
      ],
      "metadata": {
        "id": "SHwpkiFP0QJi"
      }
    },
    {
      "cell_type": "code",
      "execution_count": null,
      "metadata": {
        "colab": {
          "base_uri": "https://localhost:8080/",
          "height": 542
        },
        "id": "62gRVdy6zpxN",
        "outputId": "a252d673-31bb-40dc-b359-60128bcd1e52"
      },
      "outputs": [
        {
          "output_type": "display_data",
          "data": {
            "text/html": [
              "<html>\n",
              "<head><meta charset=\"utf-8\" /></head>\n",
              "<body>\n",
              "    <div>            <script src=\"https://cdnjs.cloudflare.com/ajax/libs/mathjax/2.7.5/MathJax.js?config=TeX-AMS-MML_SVG\"></script><script type=\"text/javascript\">if (window.MathJax && window.MathJax.Hub && window.MathJax.Hub.Config) {window.MathJax.Hub.Config({SVG: {font: \"STIX-Web\"}});}</script>                <script type=\"text/javascript\">window.PlotlyConfig = {MathJaxConfig: 'local'};</script>\n",
              "        <script src=\"https://cdn.plot.ly/plotly-2.18.2.min.js\"></script>                <div id=\"56f46cfa-f9c8-445d-8885-5771c83c904f\" class=\"plotly-graph-div\" style=\"height:525px; width:100%;\"></div>            <script type=\"text/javascript\">                                    window.PLOTLYENV=window.PLOTLYENV || {};                                    if (document.getElementById(\"56f46cfa-f9c8-445d-8885-5771c83c904f\")) {                    Plotly.newPlot(                        \"56f46cfa-f9c8-445d-8885-5771c83c904f\",                        [{\"domain\":{\"x\":[0.0,1.0],\"y\":[0.0,1.0]},\"hole\":0.4,\"hovertemplate\":\"Make=%{label}<br>Values=%{value}<extra></extra>\",\"labels\":[\"TESLA\",\"NISSAN\",\"CHEVROLET\",\"FORD\",\"BMW\",\"KIA\",\"TOYOTA\",\"VOLVO\",\"VOLKSWAGEN\",\"JEEP\"],\"legendgroup\":\"\",\"name\":\"\",\"showlegend\":true,\"values\":[4731,986,815,451,433,387,342,244,236,224],\"type\":\"pie\"}],                        {\"template\":{\"data\":{\"histogram2dcontour\":[{\"type\":\"histogram2dcontour\",\"colorbar\":{\"outlinewidth\":0,\"ticks\":\"\"},\"colorscale\":[[0.0,\"#0d0887\"],[0.1111111111111111,\"#46039f\"],[0.2222222222222222,\"#7201a8\"],[0.3333333333333333,\"#9c179e\"],[0.4444444444444444,\"#bd3786\"],[0.5555555555555556,\"#d8576b\"],[0.6666666666666666,\"#ed7953\"],[0.7777777777777778,\"#fb9f3a\"],[0.8888888888888888,\"#fdca26\"],[1.0,\"#f0f921\"]]}],\"choropleth\":[{\"type\":\"choropleth\",\"colorbar\":{\"outlinewidth\":0,\"ticks\":\"\"}}],\"histogram2d\":[{\"type\":\"histogram2d\",\"colorbar\":{\"outlinewidth\":0,\"ticks\":\"\"},\"colorscale\":[[0.0,\"#0d0887\"],[0.1111111111111111,\"#46039f\"],[0.2222222222222222,\"#7201a8\"],[0.3333333333333333,\"#9c179e\"],[0.4444444444444444,\"#bd3786\"],[0.5555555555555556,\"#d8576b\"],[0.6666666666666666,\"#ed7953\"],[0.7777777777777778,\"#fb9f3a\"],[0.8888888888888888,\"#fdca26\"],[1.0,\"#f0f921\"]]}],\"heatmap\":[{\"type\":\"heatmap\",\"colorbar\":{\"outlinewidth\":0,\"ticks\":\"\"},\"colorscale\":[[0.0,\"#0d0887\"],[0.1111111111111111,\"#46039f\"],[0.2222222222222222,\"#7201a8\"],[0.3333333333333333,\"#9c179e\"],[0.4444444444444444,\"#bd3786\"],[0.5555555555555556,\"#d8576b\"],[0.6666666666666666,\"#ed7953\"],[0.7777777777777778,\"#fb9f3a\"],[0.8888888888888888,\"#fdca26\"],[1.0,\"#f0f921\"]]}],\"heatmapgl\":[{\"type\":\"heatmapgl\",\"colorbar\":{\"outlinewidth\":0,\"ticks\":\"\"},\"colorscale\":[[0.0,\"#0d0887\"],[0.1111111111111111,\"#46039f\"],[0.2222222222222222,\"#7201a8\"],[0.3333333333333333,\"#9c179e\"],[0.4444444444444444,\"#bd3786\"],[0.5555555555555556,\"#d8576b\"],[0.6666666666666666,\"#ed7953\"],[0.7777777777777778,\"#fb9f3a\"],[0.8888888888888888,\"#fdca26\"],[1.0,\"#f0f921\"]]}],\"contourcarpet\":[{\"type\":\"contourcarpet\",\"colorbar\":{\"outlinewidth\":0,\"ticks\":\"\"}}],\"contour\":[{\"type\":\"contour\",\"colorbar\":{\"outlinewidth\":0,\"ticks\":\"\"},\"colorscale\":[[0.0,\"#0d0887\"],[0.1111111111111111,\"#46039f\"],[0.2222222222222222,\"#7201a8\"],[0.3333333333333333,\"#9c179e\"],[0.4444444444444444,\"#bd3786\"],[0.5555555555555556,\"#d8576b\"],[0.6666666666666666,\"#ed7953\"],[0.7777777777777778,\"#fb9f3a\"],[0.8888888888888888,\"#fdca26\"],[1.0,\"#f0f921\"]]}],\"surface\":[{\"type\":\"surface\",\"colorbar\":{\"outlinewidth\":0,\"ticks\":\"\"},\"colorscale\":[[0.0,\"#0d0887\"],[0.1111111111111111,\"#46039f\"],[0.2222222222222222,\"#7201a8\"],[0.3333333333333333,\"#9c179e\"],[0.4444444444444444,\"#bd3786\"],[0.5555555555555556,\"#d8576b\"],[0.6666666666666666,\"#ed7953\"],[0.7777777777777778,\"#fb9f3a\"],[0.8888888888888888,\"#fdca26\"],[1.0,\"#f0f921\"]]}],\"mesh3d\":[{\"type\":\"mesh3d\",\"colorbar\":{\"outlinewidth\":0,\"ticks\":\"\"}}],\"scatter\":[{\"fillpattern\":{\"fillmode\":\"overlay\",\"size\":10,\"solidity\":0.2},\"type\":\"scatter\"}],\"parcoords\":[{\"type\":\"parcoords\",\"line\":{\"colorbar\":{\"outlinewidth\":0,\"ticks\":\"\"}}}],\"scatterpolargl\":[{\"type\":\"scatterpolargl\",\"marker\":{\"colorbar\":{\"outlinewidth\":0,\"ticks\":\"\"}}}],\"bar\":[{\"error_x\":{\"color\":\"#2a3f5f\"},\"error_y\":{\"color\":\"#2a3f5f\"},\"marker\":{\"line\":{\"color\":\"#E5ECF6\",\"width\":0.5},\"pattern\":{\"fillmode\":\"overlay\",\"size\":10,\"solidity\":0.2}},\"type\":\"bar\"}],\"scattergeo\":[{\"type\":\"scattergeo\",\"marker\":{\"colorbar\":{\"outlinewidth\":0,\"ticks\":\"\"}}}],\"scatterpolar\":[{\"type\":\"scatterpolar\",\"marker\":{\"colorbar\":{\"outlinewidth\":0,\"ticks\":\"\"}}}],\"histogram\":[{\"marker\":{\"pattern\":{\"fillmode\":\"overlay\",\"size\":10,\"solidity\":0.2}},\"type\":\"histogram\"}],\"scattergl\":[{\"type\":\"scattergl\",\"marker\":{\"colorbar\":{\"outlinewidth\":0,\"ticks\":\"\"}}}],\"scatter3d\":[{\"type\":\"scatter3d\",\"line\":{\"colorbar\":{\"outlinewidth\":0,\"ticks\":\"\"}},\"marker\":{\"colorbar\":{\"outlinewidth\":0,\"ticks\":\"\"}}}],\"scattermapbox\":[{\"type\":\"scattermapbox\",\"marker\":{\"colorbar\":{\"outlinewidth\":0,\"ticks\":\"\"}}}],\"scatterternary\":[{\"type\":\"scatterternary\",\"marker\":{\"colorbar\":{\"outlinewidth\":0,\"ticks\":\"\"}}}],\"scattercarpet\":[{\"type\":\"scattercarpet\",\"marker\":{\"colorbar\":{\"outlinewidth\":0,\"ticks\":\"\"}}}],\"carpet\":[{\"aaxis\":{\"endlinecolor\":\"#2a3f5f\",\"gridcolor\":\"white\",\"linecolor\":\"white\",\"minorgridcolor\":\"white\",\"startlinecolor\":\"#2a3f5f\"},\"baxis\":{\"endlinecolor\":\"#2a3f5f\",\"gridcolor\":\"white\",\"linecolor\":\"white\",\"minorgridcolor\":\"white\",\"startlinecolor\":\"#2a3f5f\"},\"type\":\"carpet\"}],\"table\":[{\"cells\":{\"fill\":{\"color\":\"#EBF0F8\"},\"line\":{\"color\":\"white\"}},\"header\":{\"fill\":{\"color\":\"#C8D4E3\"},\"line\":{\"color\":\"white\"}},\"type\":\"table\"}],\"barpolar\":[{\"marker\":{\"line\":{\"color\":\"#E5ECF6\",\"width\":0.5},\"pattern\":{\"fillmode\":\"overlay\",\"size\":10,\"solidity\":0.2}},\"type\":\"barpolar\"}],\"pie\":[{\"automargin\":true,\"type\":\"pie\"}]},\"layout\":{\"autotypenumbers\":\"strict\",\"colorway\":[\"#636efa\",\"#EF553B\",\"#00cc96\",\"#ab63fa\",\"#FFA15A\",\"#19d3f3\",\"#FF6692\",\"#B6E880\",\"#FF97FF\",\"#FECB52\"],\"font\":{\"color\":\"#2a3f5f\"},\"hovermode\":\"closest\",\"hoverlabel\":{\"align\":\"left\"},\"paper_bgcolor\":\"white\",\"plot_bgcolor\":\"#E5ECF6\",\"polar\":{\"bgcolor\":\"#E5ECF6\",\"angularaxis\":{\"gridcolor\":\"white\",\"linecolor\":\"white\",\"ticks\":\"\"},\"radialaxis\":{\"gridcolor\":\"white\",\"linecolor\":\"white\",\"ticks\":\"\"}},\"ternary\":{\"bgcolor\":\"#E5ECF6\",\"aaxis\":{\"gridcolor\":\"white\",\"linecolor\":\"white\",\"ticks\":\"\"},\"baxis\":{\"gridcolor\":\"white\",\"linecolor\":\"white\",\"ticks\":\"\"},\"caxis\":{\"gridcolor\":\"white\",\"linecolor\":\"white\",\"ticks\":\"\"}},\"coloraxis\":{\"colorbar\":{\"outlinewidth\":0,\"ticks\":\"\"}},\"colorscale\":{\"sequential\":[[0.0,\"#0d0887\"],[0.1111111111111111,\"#46039f\"],[0.2222222222222222,\"#7201a8\"],[0.3333333333333333,\"#9c179e\"],[0.4444444444444444,\"#bd3786\"],[0.5555555555555556,\"#d8576b\"],[0.6666666666666666,\"#ed7953\"],[0.7777777777777778,\"#fb9f3a\"],[0.8888888888888888,\"#fdca26\"],[1.0,\"#f0f921\"]],\"sequentialminus\":[[0.0,\"#0d0887\"],[0.1111111111111111,\"#46039f\"],[0.2222222222222222,\"#7201a8\"],[0.3333333333333333,\"#9c179e\"],[0.4444444444444444,\"#bd3786\"],[0.5555555555555556,\"#d8576b\"],[0.6666666666666666,\"#ed7953\"],[0.7777777777777778,\"#fb9f3a\"],[0.8888888888888888,\"#fdca26\"],[1.0,\"#f0f921\"]],\"diverging\":[[0,\"#8e0152\"],[0.1,\"#c51b7d\"],[0.2,\"#de77ae\"],[0.3,\"#f1b6da\"],[0.4,\"#fde0ef\"],[0.5,\"#f7f7f7\"],[0.6,\"#e6f5d0\"],[0.7,\"#b8e186\"],[0.8,\"#7fbc41\"],[0.9,\"#4d9221\"],[1,\"#276419\"]]},\"xaxis\":{\"gridcolor\":\"white\",\"linecolor\":\"white\",\"ticks\":\"\",\"title\":{\"standoff\":15},\"zerolinecolor\":\"white\",\"automargin\":true,\"zerolinewidth\":2},\"yaxis\":{\"gridcolor\":\"white\",\"linecolor\":\"white\",\"ticks\":\"\",\"title\":{\"standoff\":15},\"zerolinecolor\":\"white\",\"automargin\":true,\"zerolinewidth\":2},\"scene\":{\"xaxis\":{\"backgroundcolor\":\"#E5ECF6\",\"gridcolor\":\"white\",\"linecolor\":\"white\",\"showbackground\":true,\"ticks\":\"\",\"zerolinecolor\":\"white\",\"gridwidth\":2},\"yaxis\":{\"backgroundcolor\":\"#E5ECF6\",\"gridcolor\":\"white\",\"linecolor\":\"white\",\"showbackground\":true,\"ticks\":\"\",\"zerolinecolor\":\"white\",\"gridwidth\":2},\"zaxis\":{\"backgroundcolor\":\"#E5ECF6\",\"gridcolor\":\"white\",\"linecolor\":\"white\",\"showbackground\":true,\"ticks\":\"\",\"zerolinecolor\":\"white\",\"gridwidth\":2}},\"shapedefaults\":{\"line\":{\"color\":\"#2a3f5f\"}},\"annotationdefaults\":{\"arrowcolor\":\"#2a3f5f\",\"arrowhead\":0,\"arrowwidth\":1},\"geo\":{\"bgcolor\":\"white\",\"landcolor\":\"#E5ECF6\",\"subunitcolor\":\"white\",\"showland\":true,\"showlakes\":true,\"lakecolor\":\"white\"},\"title\":{\"x\":0.05},\"mapbox\":{\"style\":\"light\"}}},\"legend\":{\"tracegroupgap\":0},\"title\":{\"text\":\"Market Share by Make (Top 10)\"},\"piecolorway\":[\"rgb(141,211,199)\",\"rgb(255,255,179)\",\"rgb(190,186,218)\",\"rgb(251,128,114)\",\"rgb(128,177,211)\",\"rgb(253,180,98)\",\"rgb(179,222,105)\",\"rgb(252,205,229)\",\"rgb(217,217,217)\",\"rgb(188,128,189)\",\"rgb(204,235,197)\",\"rgb(255,237,111)\"]},                        {\"responsive\": true}                    ).then(function(){\n",
              "                            \n",
              "var gd = document.getElementById('56f46cfa-f9c8-445d-8885-5771c83c904f');\n",
              "var x = new MutationObserver(function (mutations, observer) {{\n",
              "        var display = window.getComputedStyle(gd).display;\n",
              "        if (!display || display === 'none') {{\n",
              "            console.log([gd, 'removed!']);\n",
              "            Plotly.purge(gd);\n",
              "            observer.disconnect();\n",
              "        }}\n",
              "}});\n",
              "\n",
              "// Listen for the removal of the full notebook cells\n",
              "var notebookContainer = gd.closest('#notebook-container');\n",
              "if (notebookContainer) {{\n",
              "    x.observe(notebookContainer, {childList: true});\n",
              "}}\n",
              "\n",
              "// Listen for the clearing of the current output cell\n",
              "var outputEl = gd.closest('.output');\n",
              "if (outputEl) {{\n",
              "    x.observe(outputEl, {childList: true});\n",
              "}}\n",
              "\n",
              "                        })                };                            </script>        </div>\n",
              "</body>\n",
              "</html>"
            ]
          },
          "metadata": {}
        }
      ],
      "source": [
        "import pandas as pd\n",
        "import plotly.express as px\n",
        "\n",
        "# Calculate market share by make\n",
        "make_count = df['Make'].value_counts().reset_index()\n",
        "make_count.columns = ['Make', 'Values']\n",
        "make_count = make_count.sort_values(by='Values', ascending=False)\n",
        "\n",
        "# Select the top N makes for visualization\n",
        "top = 10\n",
        "make_count_top = make_count.head(top)\n",
        "\n",
        "# Create a donut chart using Plotly Express\n",
        "fig = px.pie(make_count_top, values='Values', names='Make',\n",
        "             title='Market Share by Make (Top 10)',\n",
        "             hole=0.4,  # Adjust the hole size for the donut effect\n",
        "             color_discrete_sequence=px.colors.qualitative.Set3)\n",
        "\n",
        "# Show the interactive plot\n",
        "fig.show()\n"
      ]
    },
    {
      "cell_type": "markdown",
      "source": [
        "\"This donut chart visualises and represents the market share distribution among the top 10 electric vehicle makes, highlighting the dominance of certain makes in the market.\""
      ],
      "metadata": {
        "id": "MPsnxC6m0gsK"
      }
    },
    {
      "cell_type": "markdown",
      "source": [
        "**Electric Vehicle Price Range:**Electric Vehicle Price Range: Determine the price range of electric vehicles and identify\n",
        "factors influencing pricing."
      ],
      "metadata": {
        "id": "mxRxNqky44a8"
      }
    },
    {
      "cell_type": "code",
      "source": [
        "#Feature Engineer\n",
        "# Age\n",
        "current_year = 2023\n",
        "df['Car Age'] = current_year - df['Model Year']\n",
        "df[\"Car Age\"].head()\n",
        "\n",
        "\n",
        "# Fuel Efficiency\n",
        "bins = [0, 100, 200, 300, float('inf')]\n",
        "labels = ['Short Range', 'Medium Range', 'Long Range', 'Very Long Range']\n",
        "\n",
        "df['Fuel Efficiency'] = pd.cut(df['Electric Range'], bins=bins, labels=labels, right=False)\n",
        "df['Fuel Efficiency'].head()\n",
        "\n",
        "\n",
        "# Electric Utility Feature\n",
        "df['Electric Utility Feature'] = df['Electric Utility'].apply(lambda x: 'Available' if x != 'None' else \"Not Available\")\n",
        "df['Electric Utility Feature'].head()\n",
        "\n",
        "\n",
        "df[[\"Car Age\", \"Fuel Efficiency\", \"Electric Utility Feature\"]]"
      ],
      "metadata": {
        "colab": {
          "base_uri": "https://localhost:8080/",
          "height": 423
        },
        "id": "pvdlWND942Md",
        "outputId": "f1748bc5-a39a-4ab4-a263-28b2c906ff5a"
      },
      "execution_count": null,
      "outputs": [
        {
          "output_type": "execute_result",
          "data": {
            "text/plain": [
              "      Car Age  Fuel Efficiency Electric Utility Feature\n",
              "0           4       Long Range                Available\n",
              "1           1      Short Range                Available\n",
              "2           3       Long Range                Available\n",
              "3           3  Very Long Range                Available\n",
              "4          10       Long Range                Available\n",
              "...       ...              ...                      ...\n",
              "9994        1      Short Range                Available\n",
              "9995        2     Medium Range                Available\n",
              "9996        2      Short Range                Available\n",
              "9997        5       Long Range                Available\n",
              "9998        1      Short Range                Available\n",
              "\n",
              "[9999 rows x 3 columns]"
            ],
            "text/html": [
              "\n",
              "\n",
              "  <div id=\"df-ca1b6daa-06f6-469a-b619-c77758148710\">\n",
              "    <div class=\"colab-df-container\">\n",
              "      <div>\n",
              "<style scoped>\n",
              "    .dataframe tbody tr th:only-of-type {\n",
              "        vertical-align: middle;\n",
              "    }\n",
              "\n",
              "    .dataframe tbody tr th {\n",
              "        vertical-align: top;\n",
              "    }\n",
              "\n",
              "    .dataframe thead th {\n",
              "        text-align: right;\n",
              "    }\n",
              "</style>\n",
              "<table border=\"1\" class=\"dataframe\">\n",
              "  <thead>\n",
              "    <tr style=\"text-align: right;\">\n",
              "      <th></th>\n",
              "      <th>Car Age</th>\n",
              "      <th>Fuel Efficiency</th>\n",
              "      <th>Electric Utility Feature</th>\n",
              "    </tr>\n",
              "  </thead>\n",
              "  <tbody>\n",
              "    <tr>\n",
              "      <th>0</th>\n",
              "      <td>4</td>\n",
              "      <td>Long Range</td>\n",
              "      <td>Available</td>\n",
              "    </tr>\n",
              "    <tr>\n",
              "      <th>1</th>\n",
              "      <td>1</td>\n",
              "      <td>Short Range</td>\n",
              "      <td>Available</td>\n",
              "    </tr>\n",
              "    <tr>\n",
              "      <th>2</th>\n",
              "      <td>3</td>\n",
              "      <td>Long Range</td>\n",
              "      <td>Available</td>\n",
              "    </tr>\n",
              "    <tr>\n",
              "      <th>3</th>\n",
              "      <td>3</td>\n",
              "      <td>Very Long Range</td>\n",
              "      <td>Available</td>\n",
              "    </tr>\n",
              "    <tr>\n",
              "      <th>4</th>\n",
              "      <td>10</td>\n",
              "      <td>Long Range</td>\n",
              "      <td>Available</td>\n",
              "    </tr>\n",
              "    <tr>\n",
              "      <th>...</th>\n",
              "      <td>...</td>\n",
              "      <td>...</td>\n",
              "      <td>...</td>\n",
              "    </tr>\n",
              "    <tr>\n",
              "      <th>9994</th>\n",
              "      <td>1</td>\n",
              "      <td>Short Range</td>\n",
              "      <td>Available</td>\n",
              "    </tr>\n",
              "    <tr>\n",
              "      <th>9995</th>\n",
              "      <td>2</td>\n",
              "      <td>Medium Range</td>\n",
              "      <td>Available</td>\n",
              "    </tr>\n",
              "    <tr>\n",
              "      <th>9996</th>\n",
              "      <td>2</td>\n",
              "      <td>Short Range</td>\n",
              "      <td>Available</td>\n",
              "    </tr>\n",
              "    <tr>\n",
              "      <th>9997</th>\n",
              "      <td>5</td>\n",
              "      <td>Long Range</td>\n",
              "      <td>Available</td>\n",
              "    </tr>\n",
              "    <tr>\n",
              "      <th>9998</th>\n",
              "      <td>1</td>\n",
              "      <td>Short Range</td>\n",
              "      <td>Available</td>\n",
              "    </tr>\n",
              "  </tbody>\n",
              "</table>\n",
              "<p>9999 rows × 3 columns</p>\n",
              "</div>\n",
              "      <button class=\"colab-df-convert\" onclick=\"convertToInteractive('df-ca1b6daa-06f6-469a-b619-c77758148710')\"\n",
              "              title=\"Convert this dataframe to an interactive table.\"\n",
              "              style=\"display:none;\">\n",
              "\n",
              "  <svg xmlns=\"http://www.w3.org/2000/svg\" height=\"24px\"viewBox=\"0 0 24 24\"\n",
              "       width=\"24px\">\n",
              "    <path d=\"M0 0h24v24H0V0z\" fill=\"none\"/>\n",
              "    <path d=\"M18.56 5.44l.94 2.06.94-2.06 2.06-.94-2.06-.94-.94-2.06-.94 2.06-2.06.94zm-11 1L8.5 8.5l.94-2.06 2.06-.94-2.06-.94L8.5 2.5l-.94 2.06-2.06.94zm10 10l.94 2.06.94-2.06 2.06-.94-2.06-.94-.94-2.06-.94 2.06-2.06.94z\"/><path d=\"M17.41 7.96l-1.37-1.37c-.4-.4-.92-.59-1.43-.59-.52 0-1.04.2-1.43.59L10.3 9.45l-7.72 7.72c-.78.78-.78 2.05 0 2.83L4 21.41c.39.39.9.59 1.41.59.51 0 1.02-.2 1.41-.59l7.78-7.78 2.81-2.81c.8-.78.8-2.07 0-2.86zM5.41 20L4 18.59l7.72-7.72 1.47 1.35L5.41 20z\"/>\n",
              "  </svg>\n",
              "      </button>\n",
              "\n",
              "\n",
              "\n",
              "    <div id=\"df-1f2c2434-28b5-4b51-85c6-d5f7a70f6fa1\">\n",
              "      <button class=\"colab-df-quickchart\" onclick=\"quickchart('df-1f2c2434-28b5-4b51-85c6-d5f7a70f6fa1')\"\n",
              "              title=\"Suggest charts.\"\n",
              "              style=\"display:none;\">\n",
              "\n",
              "<svg xmlns=\"http://www.w3.org/2000/svg\" height=\"24px\"viewBox=\"0 0 24 24\"\n",
              "     width=\"24px\">\n",
              "    <g>\n",
              "        <path d=\"M19 3H5c-1.1 0-2 .9-2 2v14c0 1.1.9 2 2 2h14c1.1 0 2-.9 2-2V5c0-1.1-.9-2-2-2zM9 17H7v-7h2v7zm4 0h-2V7h2v10zm4 0h-2v-4h2v4z\"/>\n",
              "    </g>\n",
              "</svg>\n",
              "      </button>\n",
              "    </div>\n",
              "\n",
              "<style>\n",
              "  .colab-df-quickchart {\n",
              "    background-color: #E8F0FE;\n",
              "    border: none;\n",
              "    border-radius: 50%;\n",
              "    cursor: pointer;\n",
              "    display: none;\n",
              "    fill: #1967D2;\n",
              "    height: 32px;\n",
              "    padding: 0 0 0 0;\n",
              "    width: 32px;\n",
              "  }\n",
              "\n",
              "  .colab-df-quickchart:hover {\n",
              "    background-color: #E2EBFA;\n",
              "    box-shadow: 0px 1px 2px rgba(60, 64, 67, 0.3), 0px 1px 3px 1px rgba(60, 64, 67, 0.15);\n",
              "    fill: #174EA6;\n",
              "  }\n",
              "\n",
              "  [theme=dark] .colab-df-quickchart {\n",
              "    background-color: #3B4455;\n",
              "    fill: #D2E3FC;\n",
              "  }\n",
              "\n",
              "  [theme=dark] .colab-df-quickchart:hover {\n",
              "    background-color: #434B5C;\n",
              "    box-shadow: 0px 1px 3px 1px rgba(0, 0, 0, 0.15);\n",
              "    filter: drop-shadow(0px 1px 2px rgba(0, 0, 0, 0.3));\n",
              "    fill: #FFFFFF;\n",
              "  }\n",
              "</style>\n",
              "\n",
              "    <script>\n",
              "      async function quickchart(key) {\n",
              "        const containerElement = document.querySelector('#' + key);\n",
              "        const charts = await google.colab.kernel.invokeFunction(\n",
              "            'suggestCharts', [key], {});\n",
              "      }\n",
              "    </script>\n",
              "\n",
              "      <script>\n",
              "\n",
              "function displayQuickchartButton(domScope) {\n",
              "  let quickchartButtonEl =\n",
              "    domScope.querySelector('#df-1f2c2434-28b5-4b51-85c6-d5f7a70f6fa1 button.colab-df-quickchart');\n",
              "  quickchartButtonEl.style.display =\n",
              "    google.colab.kernel.accessAllowed ? 'block' : 'none';\n",
              "}\n",
              "\n",
              "        displayQuickchartButton(document);\n",
              "      </script>\n",
              "      <style>\n",
              "    .colab-df-container {\n",
              "      display:flex;\n",
              "      flex-wrap:wrap;\n",
              "      gap: 12px;\n",
              "    }\n",
              "\n",
              "    .colab-df-convert {\n",
              "      background-color: #E8F0FE;\n",
              "      border: none;\n",
              "      border-radius: 50%;\n",
              "      cursor: pointer;\n",
              "      display: none;\n",
              "      fill: #1967D2;\n",
              "      height: 32px;\n",
              "      padding: 0 0 0 0;\n",
              "      width: 32px;\n",
              "    }\n",
              "\n",
              "    .colab-df-convert:hover {\n",
              "      background-color: #E2EBFA;\n",
              "      box-shadow: 0px 1px 2px rgba(60, 64, 67, 0.3), 0px 1px 3px 1px rgba(60, 64, 67, 0.15);\n",
              "      fill: #174EA6;\n",
              "    }\n",
              "\n",
              "    [theme=dark] .colab-df-convert {\n",
              "      background-color: #3B4455;\n",
              "      fill: #D2E3FC;\n",
              "    }\n",
              "\n",
              "    [theme=dark] .colab-df-convert:hover {\n",
              "      background-color: #434B5C;\n",
              "      box-shadow: 0px 1px 3px 1px rgba(0, 0, 0, 0.15);\n",
              "      filter: drop-shadow(0px 1px 2px rgba(0, 0, 0, 0.3));\n",
              "      fill: #FFFFFF;\n",
              "    }\n",
              "  </style>\n",
              "\n",
              "      <script>\n",
              "        const buttonEl =\n",
              "          document.querySelector('#df-ca1b6daa-06f6-469a-b619-c77758148710 button.colab-df-convert');\n",
              "        buttonEl.style.display =\n",
              "          google.colab.kernel.accessAllowed ? 'block' : 'none';\n",
              "\n",
              "        async function convertToInteractive(key) {\n",
              "          const element = document.querySelector('#df-ca1b6daa-06f6-469a-b619-c77758148710');\n",
              "          const dataTable =\n",
              "            await google.colab.kernel.invokeFunction('convertToInteractive',\n",
              "                                                     [key], {});\n",
              "          if (!dataTable) return;\n",
              "\n",
              "          const docLinkHtml = 'Like what you see? Visit the ' +\n",
              "            '<a target=\"_blank\" href=https://colab.research.google.com/notebooks/data_table.ipynb>data table notebook</a>'\n",
              "            + ' to learn more about interactive tables.';\n",
              "          element.innerHTML = '';\n",
              "          dataTable['output_type'] = 'display_data';\n",
              "          await google.colab.output.renderOutput(dataTable, element);\n",
              "          const docLink = document.createElement('div');\n",
              "          docLink.innerHTML = docLinkHtml;\n",
              "          element.appendChild(docLink);\n",
              "        }\n",
              "      </script>\n",
              "    </div>\n",
              "  </div>\n"
            ]
          },
          "metadata": {},
          "execution_count": 88
        }
      ]
    },
    {
      "cell_type": "code",
      "source": [
        "#Extract relevant columns for the analysis\n",
        "analysis = df[['Make', 'Model', 'Base MSRP', 'Electric Range', 'Electric Vehicle Type', 'Electric Utility']]\n",
        "\n",
        "#Calculate the price range of electric vehicles\n",
        "price_range = analysis['Base MSRP'].min(), analysis['Base MSRP'].max()\n",
        "\n",
        "#Calculate summary statistics for pricing\n",
        "price_statistics = analysis['Base MSRP'].describe()\n",
        "\n",
        "#Calculate the correlation between pricing and other factors (if needed)\n",
        "correlation = analysis.corr()\n",
        "\n",
        "# Display the results\n",
        "print(\"Price Range of Electric Vehicles:\")\n",
        "print(price_range)\n",
        "\n",
        "print(\"\\nSummary Statistics for Pricing:\")\n",
        "print(price_statistics)\n",
        "\n",
        "print(\"\\nCorrelation between Pricing and Other Factors:\")\n",
        "print(correlation)"
      ],
      "metadata": {
        "colab": {
          "base_uri": "https://localhost:8080/"
        },
        "id": "HMopTjdf42I0",
        "outputId": "f77d4fe4-e4c1-4655-dee9-42c08bf43021"
      },
      "execution_count": null,
      "outputs": [
        {
          "output_type": "stream",
          "name": "stdout",
          "text": [
            "Price Range of Electric Vehicles:\n",
            "(0, 184400)\n",
            "\n",
            "Summary Statistics for Pricing:\n",
            "count      9999.000000\n",
            "mean       1524.012401\n",
            "std        9920.048574\n",
            "min           0.000000\n",
            "25%           0.000000\n",
            "50%           0.000000\n",
            "75%           0.000000\n",
            "max      184400.000000\n",
            "Name: Base MSRP, dtype: float64\n",
            "\n",
            "Correlation between Pricing and Other Factors:\n",
            "                Base MSRP  Electric Range\n",
            "Base MSRP        1.000000        0.111203\n",
            "Electric Range   0.111203        1.000000\n"
          ]
        }
      ]
    },
    {
      "cell_type": "markdown",
      "source": [
        "**Questions**"
      ],
      "metadata": {
        "id": "7OO0i3ZwAWkq"
      }
    },
    {
      "cell_type": "markdown",
      "source": [
        "**Which Year has higher sales**"
      ],
      "metadata": {
        "id": "gyjhE-6vA_Q-"
      }
    },
    {
      "cell_type": "code",
      "source": [
        "import pandas as pd\n",
        "\n",
        "# Load the dataset\n",
        "df = pd.read_csv('/content/dinni (1).csv')\n",
        "\n",
        "# Group the data by Model Year and Make, then count the unique makes in each year\n",
        "yearly_make_counts = df.groupby('Model Year')['Make'].nunique()\n",
        "\n",
        "# Find the year with the highest number of makes\n",
        "max_make_year = yearly_make_counts.idxmax()\n",
        "\n",
        "print(f\"The year with the highest number of makes is {max_make_year}\")\n"
      ],
      "metadata": {
        "colab": {
          "base_uri": "https://localhost:8080/"
        },
        "id": "-FxscrHtB6PH",
        "outputId": "ca819f2d-a9e4-4396-dbaa-a403d144ee28"
      },
      "execution_count": null,
      "outputs": [
        {
          "output_type": "stream",
          "name": "stdout",
          "text": [
            "The year with the highest number of makes is 2023\n"
          ]
        }
      ]
    },
    {
      "cell_type": "code",
      "source": [
        "import plotly.express as px\n",
        "# Group the data by Model Year and Make, then count the unique makes in each year\n",
        "yearly_make_counts = df.groupby('Model Year')['Make'].nunique().reset_index()\n",
        "\n",
        "# Find the year with the highest number of makes\n",
        "max_make_year = yearly_make_counts[yearly_make_counts['Make'] == yearly_make_counts['Make'].max()]['Model Year'].values[0]\n",
        "\n",
        "# Create the bar plot using Plotly Express\n",
        "fig = px.bar(yearly_make_counts, x='Model Year', y='Make', title='Number of Unique Makes per Model Year')\n",
        "fig.update_xaxes(tickangle=45)\n",
        "fig.add_vline(x=max_make_year, line_dash=\"dash\", line_color=\"red\", name=f'Highest ({max_make_year})')\n",
        "\n",
        "fig.show()\n"
      ],
      "metadata": {
        "colab": {
          "base_uri": "https://localhost:8080/",
          "height": 542
        },
        "id": "xIvlYRXBCjZG",
        "outputId": "4b98c156-6d05-4c0d-c8be-32e5f7b1a062"
      },
      "execution_count": null,
      "outputs": [
        {
          "output_type": "display_data",
          "data": {
            "text/html": [
              "<html>\n",
              "<head><meta charset=\"utf-8\" /></head>\n",
              "<body>\n",
              "    <div>            <script src=\"https://cdnjs.cloudflare.com/ajax/libs/mathjax/2.7.5/MathJax.js?config=TeX-AMS-MML_SVG\"></script><script type=\"text/javascript\">if (window.MathJax && window.MathJax.Hub && window.MathJax.Hub.Config) {window.MathJax.Hub.Config({SVG: {font: \"STIX-Web\"}});}</script>                <script type=\"text/javascript\">window.PlotlyConfig = {MathJaxConfig: 'local'};</script>\n",
              "        <script src=\"https://cdn.plot.ly/plotly-2.18.2.min.js\"></script>                <div id=\"fcd431aa-2f21-4c4b-b80b-f32a7cc8fcb1\" class=\"plotly-graph-div\" style=\"height:525px; width:100%;\"></div>            <script type=\"text/javascript\">                                    window.PLOTLYENV=window.PLOTLYENV || {};                                    if (document.getElementById(\"fcd431aa-2f21-4c4b-b80b-f32a7cc8fcb1\")) {                    Plotly.newPlot(                        \"fcd431aa-2f21-4c4b-b80b-f32a7cc8fcb1\",                        [{\"alignmentgroup\":\"True\",\"hovertemplate\":\"Model Year=%{x}<br>Make=%{y}<extra></extra>\",\"legendgroup\":\"\",\"marker\":{\"color\":\"#636efa\",\"pattern\":{\"shape\":\"\"}},\"name\":\"\",\"offsetgroup\":\"\",\"orientation\":\"v\",\"showlegend\":false,\"textposition\":\"auto\",\"x\":[2008,2010,2011,2012,2013,2014,2015,2016,2017,2018,2019,2020,2021,2022,2023,2024],\"xaxis\":\"x\",\"y\":[1,2,3,7,7,13,11,15,16,17,20,16,17,24,26,2],\"yaxis\":\"y\",\"type\":\"bar\"}],                        {\"template\":{\"data\":{\"histogram2dcontour\":[{\"type\":\"histogram2dcontour\",\"colorbar\":{\"outlinewidth\":0,\"ticks\":\"\"},\"colorscale\":[[0.0,\"#0d0887\"],[0.1111111111111111,\"#46039f\"],[0.2222222222222222,\"#7201a8\"],[0.3333333333333333,\"#9c179e\"],[0.4444444444444444,\"#bd3786\"],[0.5555555555555556,\"#d8576b\"],[0.6666666666666666,\"#ed7953\"],[0.7777777777777778,\"#fb9f3a\"],[0.8888888888888888,\"#fdca26\"],[1.0,\"#f0f921\"]]}],\"choropleth\":[{\"type\":\"choropleth\",\"colorbar\":{\"outlinewidth\":0,\"ticks\":\"\"}}],\"histogram2d\":[{\"type\":\"histogram2d\",\"colorbar\":{\"outlinewidth\":0,\"ticks\":\"\"},\"colorscale\":[[0.0,\"#0d0887\"],[0.1111111111111111,\"#46039f\"],[0.2222222222222222,\"#7201a8\"],[0.3333333333333333,\"#9c179e\"],[0.4444444444444444,\"#bd3786\"],[0.5555555555555556,\"#d8576b\"],[0.6666666666666666,\"#ed7953\"],[0.7777777777777778,\"#fb9f3a\"],[0.8888888888888888,\"#fdca26\"],[1.0,\"#f0f921\"]]}],\"heatmap\":[{\"type\":\"heatmap\",\"colorbar\":{\"outlinewidth\":0,\"ticks\":\"\"},\"colorscale\":[[0.0,\"#0d0887\"],[0.1111111111111111,\"#46039f\"],[0.2222222222222222,\"#7201a8\"],[0.3333333333333333,\"#9c179e\"],[0.4444444444444444,\"#bd3786\"],[0.5555555555555556,\"#d8576b\"],[0.6666666666666666,\"#ed7953\"],[0.7777777777777778,\"#fb9f3a\"],[0.8888888888888888,\"#fdca26\"],[1.0,\"#f0f921\"]]}],\"heatmapgl\":[{\"type\":\"heatmapgl\",\"colorbar\":{\"outlinewidth\":0,\"ticks\":\"\"},\"colorscale\":[[0.0,\"#0d0887\"],[0.1111111111111111,\"#46039f\"],[0.2222222222222222,\"#7201a8\"],[0.3333333333333333,\"#9c179e\"],[0.4444444444444444,\"#bd3786\"],[0.5555555555555556,\"#d8576b\"],[0.6666666666666666,\"#ed7953\"],[0.7777777777777778,\"#fb9f3a\"],[0.8888888888888888,\"#fdca26\"],[1.0,\"#f0f921\"]]}],\"contourcarpet\":[{\"type\":\"contourcarpet\",\"colorbar\":{\"outlinewidth\":0,\"ticks\":\"\"}}],\"contour\":[{\"type\":\"contour\",\"colorbar\":{\"outlinewidth\":0,\"ticks\":\"\"},\"colorscale\":[[0.0,\"#0d0887\"],[0.1111111111111111,\"#46039f\"],[0.2222222222222222,\"#7201a8\"],[0.3333333333333333,\"#9c179e\"],[0.4444444444444444,\"#bd3786\"],[0.5555555555555556,\"#d8576b\"],[0.6666666666666666,\"#ed7953\"],[0.7777777777777778,\"#fb9f3a\"],[0.8888888888888888,\"#fdca26\"],[1.0,\"#f0f921\"]]}],\"surface\":[{\"type\":\"surface\",\"colorbar\":{\"outlinewidth\":0,\"ticks\":\"\"},\"colorscale\":[[0.0,\"#0d0887\"],[0.1111111111111111,\"#46039f\"],[0.2222222222222222,\"#7201a8\"],[0.3333333333333333,\"#9c179e\"],[0.4444444444444444,\"#bd3786\"],[0.5555555555555556,\"#d8576b\"],[0.6666666666666666,\"#ed7953\"],[0.7777777777777778,\"#fb9f3a\"],[0.8888888888888888,\"#fdca26\"],[1.0,\"#f0f921\"]]}],\"mesh3d\":[{\"type\":\"mesh3d\",\"colorbar\":{\"outlinewidth\":0,\"ticks\":\"\"}}],\"scatter\":[{\"fillpattern\":{\"fillmode\":\"overlay\",\"size\":10,\"solidity\":0.2},\"type\":\"scatter\"}],\"parcoords\":[{\"type\":\"parcoords\",\"line\":{\"colorbar\":{\"outlinewidth\":0,\"ticks\":\"\"}}}],\"scatterpolargl\":[{\"type\":\"scatterpolargl\",\"marker\":{\"colorbar\":{\"outlinewidth\":0,\"ticks\":\"\"}}}],\"bar\":[{\"error_x\":{\"color\":\"#2a3f5f\"},\"error_y\":{\"color\":\"#2a3f5f\"},\"marker\":{\"line\":{\"color\":\"#E5ECF6\",\"width\":0.5},\"pattern\":{\"fillmode\":\"overlay\",\"size\":10,\"solidity\":0.2}},\"type\":\"bar\"}],\"scattergeo\":[{\"type\":\"scattergeo\",\"marker\":{\"colorbar\":{\"outlinewidth\":0,\"ticks\":\"\"}}}],\"scatterpolar\":[{\"type\":\"scatterpolar\",\"marker\":{\"colorbar\":{\"outlinewidth\":0,\"ticks\":\"\"}}}],\"histogram\":[{\"marker\":{\"pattern\":{\"fillmode\":\"overlay\",\"size\":10,\"solidity\":0.2}},\"type\":\"histogram\"}],\"scattergl\":[{\"type\":\"scattergl\",\"marker\":{\"colorbar\":{\"outlinewidth\":0,\"ticks\":\"\"}}}],\"scatter3d\":[{\"type\":\"scatter3d\",\"line\":{\"colorbar\":{\"outlinewidth\":0,\"ticks\":\"\"}},\"marker\":{\"colorbar\":{\"outlinewidth\":0,\"ticks\":\"\"}}}],\"scattermapbox\":[{\"type\":\"scattermapbox\",\"marker\":{\"colorbar\":{\"outlinewidth\":0,\"ticks\":\"\"}}}],\"scatterternary\":[{\"type\":\"scatterternary\",\"marker\":{\"colorbar\":{\"outlinewidth\":0,\"ticks\":\"\"}}}],\"scattercarpet\":[{\"type\":\"scattercarpet\",\"marker\":{\"colorbar\":{\"outlinewidth\":0,\"ticks\":\"\"}}}],\"carpet\":[{\"aaxis\":{\"endlinecolor\":\"#2a3f5f\",\"gridcolor\":\"white\",\"linecolor\":\"white\",\"minorgridcolor\":\"white\",\"startlinecolor\":\"#2a3f5f\"},\"baxis\":{\"endlinecolor\":\"#2a3f5f\",\"gridcolor\":\"white\",\"linecolor\":\"white\",\"minorgridcolor\":\"white\",\"startlinecolor\":\"#2a3f5f\"},\"type\":\"carpet\"}],\"table\":[{\"cells\":{\"fill\":{\"color\":\"#EBF0F8\"},\"line\":{\"color\":\"white\"}},\"header\":{\"fill\":{\"color\":\"#C8D4E3\"},\"line\":{\"color\":\"white\"}},\"type\":\"table\"}],\"barpolar\":[{\"marker\":{\"line\":{\"color\":\"#E5ECF6\",\"width\":0.5},\"pattern\":{\"fillmode\":\"overlay\",\"size\":10,\"solidity\":0.2}},\"type\":\"barpolar\"}],\"pie\":[{\"automargin\":true,\"type\":\"pie\"}]},\"layout\":{\"autotypenumbers\":\"strict\",\"colorway\":[\"#636efa\",\"#EF553B\",\"#00cc96\",\"#ab63fa\",\"#FFA15A\",\"#19d3f3\",\"#FF6692\",\"#B6E880\",\"#FF97FF\",\"#FECB52\"],\"font\":{\"color\":\"#2a3f5f\"},\"hovermode\":\"closest\",\"hoverlabel\":{\"align\":\"left\"},\"paper_bgcolor\":\"white\",\"plot_bgcolor\":\"#E5ECF6\",\"polar\":{\"bgcolor\":\"#E5ECF6\",\"angularaxis\":{\"gridcolor\":\"white\",\"linecolor\":\"white\",\"ticks\":\"\"},\"radialaxis\":{\"gridcolor\":\"white\",\"linecolor\":\"white\",\"ticks\":\"\"}},\"ternary\":{\"bgcolor\":\"#E5ECF6\",\"aaxis\":{\"gridcolor\":\"white\",\"linecolor\":\"white\",\"ticks\":\"\"},\"baxis\":{\"gridcolor\":\"white\",\"linecolor\":\"white\",\"ticks\":\"\"},\"caxis\":{\"gridcolor\":\"white\",\"linecolor\":\"white\",\"ticks\":\"\"}},\"coloraxis\":{\"colorbar\":{\"outlinewidth\":0,\"ticks\":\"\"}},\"colorscale\":{\"sequential\":[[0.0,\"#0d0887\"],[0.1111111111111111,\"#46039f\"],[0.2222222222222222,\"#7201a8\"],[0.3333333333333333,\"#9c179e\"],[0.4444444444444444,\"#bd3786\"],[0.5555555555555556,\"#d8576b\"],[0.6666666666666666,\"#ed7953\"],[0.7777777777777778,\"#fb9f3a\"],[0.8888888888888888,\"#fdca26\"],[1.0,\"#f0f921\"]],\"sequentialminus\":[[0.0,\"#0d0887\"],[0.1111111111111111,\"#46039f\"],[0.2222222222222222,\"#7201a8\"],[0.3333333333333333,\"#9c179e\"],[0.4444444444444444,\"#bd3786\"],[0.5555555555555556,\"#d8576b\"],[0.6666666666666666,\"#ed7953\"],[0.7777777777777778,\"#fb9f3a\"],[0.8888888888888888,\"#fdca26\"],[1.0,\"#f0f921\"]],\"diverging\":[[0,\"#8e0152\"],[0.1,\"#c51b7d\"],[0.2,\"#de77ae\"],[0.3,\"#f1b6da\"],[0.4,\"#fde0ef\"],[0.5,\"#f7f7f7\"],[0.6,\"#e6f5d0\"],[0.7,\"#b8e186\"],[0.8,\"#7fbc41\"],[0.9,\"#4d9221\"],[1,\"#276419\"]]},\"xaxis\":{\"gridcolor\":\"white\",\"linecolor\":\"white\",\"ticks\":\"\",\"title\":{\"standoff\":15},\"zerolinecolor\":\"white\",\"automargin\":true,\"zerolinewidth\":2},\"yaxis\":{\"gridcolor\":\"white\",\"linecolor\":\"white\",\"ticks\":\"\",\"title\":{\"standoff\":15},\"zerolinecolor\":\"white\",\"automargin\":true,\"zerolinewidth\":2},\"scene\":{\"xaxis\":{\"backgroundcolor\":\"#E5ECF6\",\"gridcolor\":\"white\",\"linecolor\":\"white\",\"showbackground\":true,\"ticks\":\"\",\"zerolinecolor\":\"white\",\"gridwidth\":2},\"yaxis\":{\"backgroundcolor\":\"#E5ECF6\",\"gridcolor\":\"white\",\"linecolor\":\"white\",\"showbackground\":true,\"ticks\":\"\",\"zerolinecolor\":\"white\",\"gridwidth\":2},\"zaxis\":{\"backgroundcolor\":\"#E5ECF6\",\"gridcolor\":\"white\",\"linecolor\":\"white\",\"showbackground\":true,\"ticks\":\"\",\"zerolinecolor\":\"white\",\"gridwidth\":2}},\"shapedefaults\":{\"line\":{\"color\":\"#2a3f5f\"}},\"annotationdefaults\":{\"arrowcolor\":\"#2a3f5f\",\"arrowhead\":0,\"arrowwidth\":1},\"geo\":{\"bgcolor\":\"white\",\"landcolor\":\"#E5ECF6\",\"subunitcolor\":\"white\",\"showland\":true,\"showlakes\":true,\"lakecolor\":\"white\"},\"title\":{\"x\":0.05},\"mapbox\":{\"style\":\"light\"}}},\"xaxis\":{\"anchor\":\"y\",\"domain\":[0.0,1.0],\"title\":{\"text\":\"Model Year\"},\"tickangle\":45},\"yaxis\":{\"anchor\":\"x\",\"domain\":[0.0,1.0],\"title\":{\"text\":\"Make\"}},\"legend\":{\"tracegroupgap\":0},\"title\":{\"text\":\"Number of Unique Makes per Model Year\"},\"barmode\":\"relative\",\"shapes\":[{\"line\":{\"color\":\"red\",\"dash\":\"dash\"},\"name\":\"Highest (2023)\",\"type\":\"line\",\"x0\":2023,\"x1\":2023,\"xref\":\"x\",\"y0\":0,\"y1\":1,\"yref\":\"y domain\"}]},                        {\"responsive\": true}                    ).then(function(){\n",
              "                            \n",
              "var gd = document.getElementById('fcd431aa-2f21-4c4b-b80b-f32a7cc8fcb1');\n",
              "var x = new MutationObserver(function (mutations, observer) {{\n",
              "        var display = window.getComputedStyle(gd).display;\n",
              "        if (!display || display === 'none') {{\n",
              "            console.log([gd, 'removed!']);\n",
              "            Plotly.purge(gd);\n",
              "            observer.disconnect();\n",
              "        }}\n",
              "}});\n",
              "\n",
              "// Listen for the removal of the full notebook cells\n",
              "var notebookContainer = gd.closest('#notebook-container');\n",
              "if (notebookContainer) {{\n",
              "    x.observe(notebookContainer, {childList: true});\n",
              "}}\n",
              "\n",
              "// Listen for the clearing of the current output cell\n",
              "var outputEl = gd.closest('.output');\n",
              "if (outputEl) {{\n",
              "    x.observe(outputEl, {childList: true});\n",
              "}}\n",
              "\n",
              "                        })                };                            </script>        </div>\n",
              "</body>\n",
              "</html>"
            ]
          },
          "metadata": {}
        }
      ]
    },
    {
      "cell_type": "markdown",
      "source": [
        " Plotly Express plot is to visualize the evolution of unique electric vehicle makes per model year, while highlighting the year with the highest diversity of manufacturers using a dashed red line.\""
      ],
      "metadata": {
        "id": "IslkyuI41J7q"
      }
    },
    {
      "cell_type": "markdown",
      "source": [
        "**which city has more Electrical vehicles**"
      ],
      "metadata": {
        "id": "4n1QHtnkDGSB"
      }
    },
    {
      "cell_type": "code",
      "source": [
        "# Group the data by City and Make, then count the unique makes in each city\n",
        "city_make_counts = df.groupby('City')['Make'].nunique()\n",
        "\n",
        "# Find the city with the highest number of makes\n",
        "max_make_city = city_make_counts.idxmax()\n",
        "\n",
        "print(f\"The city with the highest number of makes is {max_make_city}\")"
      ],
      "metadata": {
        "colab": {
          "base_uri": "https://localhost:8080/"
        },
        "id": "xXXRpOKWDMsu",
        "outputId": "daf87f33-2194-4d24-ec5e-12bdc4967b4b"
      },
      "execution_count": null,
      "outputs": [
        {
          "output_type": "stream",
          "name": "stdout",
          "text": [
            "The city with the highest number of makes is Seattle\n"
          ]
        }
      ]
    },
    {
      "cell_type": "code",
      "source": [
        "city_ev_counts = df[df['Electric Vehicle Type'].notnull()].groupby('City')['Electric Vehicle Type'].count().reset_index()\n",
        "city_ev_counts.columns = ['City', 'Number of Electric Vehicles']\n",
        "\n",
        "# Find the top 10 cities with the most electric vehicles\n",
        "top_10_cities = city_ev_counts.nlargest(10, 'Number of Electric Vehicles')\n",
        "\n",
        "# Create the bar plot using Plotly Express\n",
        "fig = px.bar(top_10_cities, x='City', y='Number of Electric Vehicles', title='Top 10 Cities with the Most Electric Vehicles')\n",
        "fig.update_xaxes(tickangle=45)\n",
        "fig.show()"
      ],
      "metadata": {
        "colab": {
          "base_uri": "https://localhost:8080/",
          "height": 542
        },
        "id": "-HzeJgY8DP0I",
        "outputId": "65cecdfe-9abd-43ea-d7dd-72262a0ff435"
      },
      "execution_count": null,
      "outputs": [
        {
          "output_type": "display_data",
          "data": {
            "text/html": [
              "<html>\n",
              "<head><meta charset=\"utf-8\" /></head>\n",
              "<body>\n",
              "    <div>            <script src=\"https://cdnjs.cloudflare.com/ajax/libs/mathjax/2.7.5/MathJax.js?config=TeX-AMS-MML_SVG\"></script><script type=\"text/javascript\">if (window.MathJax && window.MathJax.Hub && window.MathJax.Hub.Config) {window.MathJax.Hub.Config({SVG: {font: \"STIX-Web\"}});}</script>                <script type=\"text/javascript\">window.PlotlyConfig = {MathJaxConfig: 'local'};</script>\n",
              "        <script src=\"https://cdn.plot.ly/plotly-2.18.2.min.js\"></script>                <div id=\"641899a0-8c06-4f3f-a957-91a79a8d739b\" class=\"plotly-graph-div\" style=\"height:525px; width:100%;\"></div>            <script type=\"text/javascript\">                                    window.PLOTLYENV=window.PLOTLYENV || {};                                    if (document.getElementById(\"641899a0-8c06-4f3f-a957-91a79a8d739b\")) {                    Plotly.newPlot(                        \"641899a0-8c06-4f3f-a957-91a79a8d739b\",                        [{\"alignmentgroup\":\"True\",\"hovertemplate\":\"City=%{x}<br>Number of Electric Vehicles=%{y}<extra></extra>\",\"legendgroup\":\"\",\"marker\":{\"color\":\"#636efa\",\"pattern\":{\"shape\":\"\"}},\"name\":\"\",\"offsetgroup\":\"\",\"orientation\":\"v\",\"showlegend\":false,\"textposition\":\"auto\",\"x\":[\"Seattle\",\"Bellevue\",\"Vancouver\",\"Kirkland\",\"Redmond\",\"Sammamish\",\"Bothell\",\"Renton\",\"Seatac\",\"Tukwila\"],\"xaxis\":\"x\",\"y\":[1924,845,567,551,403,321,314,263,237,232],\"yaxis\":\"y\",\"type\":\"bar\"}],                        {\"template\":{\"data\":{\"histogram2dcontour\":[{\"type\":\"histogram2dcontour\",\"colorbar\":{\"outlinewidth\":0,\"ticks\":\"\"},\"colorscale\":[[0.0,\"#0d0887\"],[0.1111111111111111,\"#46039f\"],[0.2222222222222222,\"#7201a8\"],[0.3333333333333333,\"#9c179e\"],[0.4444444444444444,\"#bd3786\"],[0.5555555555555556,\"#d8576b\"],[0.6666666666666666,\"#ed7953\"],[0.7777777777777778,\"#fb9f3a\"],[0.8888888888888888,\"#fdca26\"],[1.0,\"#f0f921\"]]}],\"choropleth\":[{\"type\":\"choropleth\",\"colorbar\":{\"outlinewidth\":0,\"ticks\":\"\"}}],\"histogram2d\":[{\"type\":\"histogram2d\",\"colorbar\":{\"outlinewidth\":0,\"ticks\":\"\"},\"colorscale\":[[0.0,\"#0d0887\"],[0.1111111111111111,\"#46039f\"],[0.2222222222222222,\"#7201a8\"],[0.3333333333333333,\"#9c179e\"],[0.4444444444444444,\"#bd3786\"],[0.5555555555555556,\"#d8576b\"],[0.6666666666666666,\"#ed7953\"],[0.7777777777777778,\"#fb9f3a\"],[0.8888888888888888,\"#fdca26\"],[1.0,\"#f0f921\"]]}],\"heatmap\":[{\"type\":\"heatmap\",\"colorbar\":{\"outlinewidth\":0,\"ticks\":\"\"},\"colorscale\":[[0.0,\"#0d0887\"],[0.1111111111111111,\"#46039f\"],[0.2222222222222222,\"#7201a8\"],[0.3333333333333333,\"#9c179e\"],[0.4444444444444444,\"#bd3786\"],[0.5555555555555556,\"#d8576b\"],[0.6666666666666666,\"#ed7953\"],[0.7777777777777778,\"#fb9f3a\"],[0.8888888888888888,\"#fdca26\"],[1.0,\"#f0f921\"]]}],\"heatmapgl\":[{\"type\":\"heatmapgl\",\"colorbar\":{\"outlinewidth\":0,\"ticks\":\"\"},\"colorscale\":[[0.0,\"#0d0887\"],[0.1111111111111111,\"#46039f\"],[0.2222222222222222,\"#7201a8\"],[0.3333333333333333,\"#9c179e\"],[0.4444444444444444,\"#bd3786\"],[0.5555555555555556,\"#d8576b\"],[0.6666666666666666,\"#ed7953\"],[0.7777777777777778,\"#fb9f3a\"],[0.8888888888888888,\"#fdca26\"],[1.0,\"#f0f921\"]]}],\"contourcarpet\":[{\"type\":\"contourcarpet\",\"colorbar\":{\"outlinewidth\":0,\"ticks\":\"\"}}],\"contour\":[{\"type\":\"contour\",\"colorbar\":{\"outlinewidth\":0,\"ticks\":\"\"},\"colorscale\":[[0.0,\"#0d0887\"],[0.1111111111111111,\"#46039f\"],[0.2222222222222222,\"#7201a8\"],[0.3333333333333333,\"#9c179e\"],[0.4444444444444444,\"#bd3786\"],[0.5555555555555556,\"#d8576b\"],[0.6666666666666666,\"#ed7953\"],[0.7777777777777778,\"#fb9f3a\"],[0.8888888888888888,\"#fdca26\"],[1.0,\"#f0f921\"]]}],\"surface\":[{\"type\":\"surface\",\"colorbar\":{\"outlinewidth\":0,\"ticks\":\"\"},\"colorscale\":[[0.0,\"#0d0887\"],[0.1111111111111111,\"#46039f\"],[0.2222222222222222,\"#7201a8\"],[0.3333333333333333,\"#9c179e\"],[0.4444444444444444,\"#bd3786\"],[0.5555555555555556,\"#d8576b\"],[0.6666666666666666,\"#ed7953\"],[0.7777777777777778,\"#fb9f3a\"],[0.8888888888888888,\"#fdca26\"],[1.0,\"#f0f921\"]]}],\"mesh3d\":[{\"type\":\"mesh3d\",\"colorbar\":{\"outlinewidth\":0,\"ticks\":\"\"}}],\"scatter\":[{\"fillpattern\":{\"fillmode\":\"overlay\",\"size\":10,\"solidity\":0.2},\"type\":\"scatter\"}],\"parcoords\":[{\"type\":\"parcoords\",\"line\":{\"colorbar\":{\"outlinewidth\":0,\"ticks\":\"\"}}}],\"scatterpolargl\":[{\"type\":\"scatterpolargl\",\"marker\":{\"colorbar\":{\"outlinewidth\":0,\"ticks\":\"\"}}}],\"bar\":[{\"error_x\":{\"color\":\"#2a3f5f\"},\"error_y\":{\"color\":\"#2a3f5f\"},\"marker\":{\"line\":{\"color\":\"#E5ECF6\",\"width\":0.5},\"pattern\":{\"fillmode\":\"overlay\",\"size\":10,\"solidity\":0.2}},\"type\":\"bar\"}],\"scattergeo\":[{\"type\":\"scattergeo\",\"marker\":{\"colorbar\":{\"outlinewidth\":0,\"ticks\":\"\"}}}],\"scatterpolar\":[{\"type\":\"scatterpolar\",\"marker\":{\"colorbar\":{\"outlinewidth\":0,\"ticks\":\"\"}}}],\"histogram\":[{\"marker\":{\"pattern\":{\"fillmode\":\"overlay\",\"size\":10,\"solidity\":0.2}},\"type\":\"histogram\"}],\"scattergl\":[{\"type\":\"scattergl\",\"marker\":{\"colorbar\":{\"outlinewidth\":0,\"ticks\":\"\"}}}],\"scatter3d\":[{\"type\":\"scatter3d\",\"line\":{\"colorbar\":{\"outlinewidth\":0,\"ticks\":\"\"}},\"marker\":{\"colorbar\":{\"outlinewidth\":0,\"ticks\":\"\"}}}],\"scattermapbox\":[{\"type\":\"scattermapbox\",\"marker\":{\"colorbar\":{\"outlinewidth\":0,\"ticks\":\"\"}}}],\"scatterternary\":[{\"type\":\"scatterternary\",\"marker\":{\"colorbar\":{\"outlinewidth\":0,\"ticks\":\"\"}}}],\"scattercarpet\":[{\"type\":\"scattercarpet\",\"marker\":{\"colorbar\":{\"outlinewidth\":0,\"ticks\":\"\"}}}],\"carpet\":[{\"aaxis\":{\"endlinecolor\":\"#2a3f5f\",\"gridcolor\":\"white\",\"linecolor\":\"white\",\"minorgridcolor\":\"white\",\"startlinecolor\":\"#2a3f5f\"},\"baxis\":{\"endlinecolor\":\"#2a3f5f\",\"gridcolor\":\"white\",\"linecolor\":\"white\",\"minorgridcolor\":\"white\",\"startlinecolor\":\"#2a3f5f\"},\"type\":\"carpet\"}],\"table\":[{\"cells\":{\"fill\":{\"color\":\"#EBF0F8\"},\"line\":{\"color\":\"white\"}},\"header\":{\"fill\":{\"color\":\"#C8D4E3\"},\"line\":{\"color\":\"white\"}},\"type\":\"table\"}],\"barpolar\":[{\"marker\":{\"line\":{\"color\":\"#E5ECF6\",\"width\":0.5},\"pattern\":{\"fillmode\":\"overlay\",\"size\":10,\"solidity\":0.2}},\"type\":\"barpolar\"}],\"pie\":[{\"automargin\":true,\"type\":\"pie\"}]},\"layout\":{\"autotypenumbers\":\"strict\",\"colorway\":[\"#636efa\",\"#EF553B\",\"#00cc96\",\"#ab63fa\",\"#FFA15A\",\"#19d3f3\",\"#FF6692\",\"#B6E880\",\"#FF97FF\",\"#FECB52\"],\"font\":{\"color\":\"#2a3f5f\"},\"hovermode\":\"closest\",\"hoverlabel\":{\"align\":\"left\"},\"paper_bgcolor\":\"white\",\"plot_bgcolor\":\"#E5ECF6\",\"polar\":{\"bgcolor\":\"#E5ECF6\",\"angularaxis\":{\"gridcolor\":\"white\",\"linecolor\":\"white\",\"ticks\":\"\"},\"radialaxis\":{\"gridcolor\":\"white\",\"linecolor\":\"white\",\"ticks\":\"\"}},\"ternary\":{\"bgcolor\":\"#E5ECF6\",\"aaxis\":{\"gridcolor\":\"white\",\"linecolor\":\"white\",\"ticks\":\"\"},\"baxis\":{\"gridcolor\":\"white\",\"linecolor\":\"white\",\"ticks\":\"\"},\"caxis\":{\"gridcolor\":\"white\",\"linecolor\":\"white\",\"ticks\":\"\"}},\"coloraxis\":{\"colorbar\":{\"outlinewidth\":0,\"ticks\":\"\"}},\"colorscale\":{\"sequential\":[[0.0,\"#0d0887\"],[0.1111111111111111,\"#46039f\"],[0.2222222222222222,\"#7201a8\"],[0.3333333333333333,\"#9c179e\"],[0.4444444444444444,\"#bd3786\"],[0.5555555555555556,\"#d8576b\"],[0.6666666666666666,\"#ed7953\"],[0.7777777777777778,\"#fb9f3a\"],[0.8888888888888888,\"#fdca26\"],[1.0,\"#f0f921\"]],\"sequentialminus\":[[0.0,\"#0d0887\"],[0.1111111111111111,\"#46039f\"],[0.2222222222222222,\"#7201a8\"],[0.3333333333333333,\"#9c179e\"],[0.4444444444444444,\"#bd3786\"],[0.5555555555555556,\"#d8576b\"],[0.6666666666666666,\"#ed7953\"],[0.7777777777777778,\"#fb9f3a\"],[0.8888888888888888,\"#fdca26\"],[1.0,\"#f0f921\"]],\"diverging\":[[0,\"#8e0152\"],[0.1,\"#c51b7d\"],[0.2,\"#de77ae\"],[0.3,\"#f1b6da\"],[0.4,\"#fde0ef\"],[0.5,\"#f7f7f7\"],[0.6,\"#e6f5d0\"],[0.7,\"#b8e186\"],[0.8,\"#7fbc41\"],[0.9,\"#4d9221\"],[1,\"#276419\"]]},\"xaxis\":{\"gridcolor\":\"white\",\"linecolor\":\"white\",\"ticks\":\"\",\"title\":{\"standoff\":15},\"zerolinecolor\":\"white\",\"automargin\":true,\"zerolinewidth\":2},\"yaxis\":{\"gridcolor\":\"white\",\"linecolor\":\"white\",\"ticks\":\"\",\"title\":{\"standoff\":15},\"zerolinecolor\":\"white\",\"automargin\":true,\"zerolinewidth\":2},\"scene\":{\"xaxis\":{\"backgroundcolor\":\"#E5ECF6\",\"gridcolor\":\"white\",\"linecolor\":\"white\",\"showbackground\":true,\"ticks\":\"\",\"zerolinecolor\":\"white\",\"gridwidth\":2},\"yaxis\":{\"backgroundcolor\":\"#E5ECF6\",\"gridcolor\":\"white\",\"linecolor\":\"white\",\"showbackground\":true,\"ticks\":\"\",\"zerolinecolor\":\"white\",\"gridwidth\":2},\"zaxis\":{\"backgroundcolor\":\"#E5ECF6\",\"gridcolor\":\"white\",\"linecolor\":\"white\",\"showbackground\":true,\"ticks\":\"\",\"zerolinecolor\":\"white\",\"gridwidth\":2}},\"shapedefaults\":{\"line\":{\"color\":\"#2a3f5f\"}},\"annotationdefaults\":{\"arrowcolor\":\"#2a3f5f\",\"arrowhead\":0,\"arrowwidth\":1},\"geo\":{\"bgcolor\":\"white\",\"landcolor\":\"#E5ECF6\",\"subunitcolor\":\"white\",\"showland\":true,\"showlakes\":true,\"lakecolor\":\"white\"},\"title\":{\"x\":0.05},\"mapbox\":{\"style\":\"light\"}}},\"xaxis\":{\"anchor\":\"y\",\"domain\":[0.0,1.0],\"title\":{\"text\":\"City\"},\"tickangle\":45},\"yaxis\":{\"anchor\":\"x\",\"domain\":[0.0,1.0],\"title\":{\"text\":\"Number of Electric Vehicles\"}},\"legend\":{\"tracegroupgap\":0},\"title\":{\"text\":\"Top 10 Cities with the Most Electric Vehicles\"},\"barmode\":\"relative\"},                        {\"responsive\": true}                    ).then(function(){\n",
              "                            \n",
              "var gd = document.getElementById('641899a0-8c06-4f3f-a957-91a79a8d739b');\n",
              "var x = new MutationObserver(function (mutations, observer) {{\n",
              "        var display = window.getComputedStyle(gd).display;\n",
              "        if (!display || display === 'none') {{\n",
              "            console.log([gd, 'removed!']);\n",
              "            Plotly.purge(gd);\n",
              "            observer.disconnect();\n",
              "        }}\n",
              "}});\n",
              "\n",
              "// Listen for the removal of the full notebook cells\n",
              "var notebookContainer = gd.closest('#notebook-container');\n",
              "if (notebookContainer) {{\n",
              "    x.observe(notebookContainer, {childList: true});\n",
              "}}\n",
              "\n",
              "// Listen for the clearing of the current output cell\n",
              "var outputEl = gd.closest('.output');\n",
              "if (outputEl) {{\n",
              "    x.observe(outputEl, {childList: true});\n",
              "}}\n",
              "\n",
              "                        })                };                            </script>        </div>\n",
              "</body>\n",
              "</html>"
            ]
          },
          "metadata": {}
        }
      ]
    },
    {
      "cell_type": "markdown",
      "source": [
        "\"This bar graph visualizes the top 10 cities with the highest counts of electric vehicles, providing insights into the cities where electric vehicle adoption is most prevalent.\""
      ],
      "metadata": {
        "id": "pQHvvlh21Y2I"
      }
    },
    {
      "cell_type": "markdown",
      "source": [
        "**Which Electrical Vehicle has highest Electrical Range**"
      ],
      "metadata": {
        "id": "UqwHUyklDvS2"
      }
    },
    {
      "cell_type": "code",
      "source": [
        "# Group the data by Electric Vehicle Type and find the maximum electric range in each type\n",
        "max_range_by_type = df.groupby('Electric Vehicle Type')['Electric Range'].max()\n",
        "\n",
        "# Find the electric vehicle type with the highest electric range\n",
        "max_range_type = max_range_by_type.idxmax()\n",
        "\n",
        "print(f\"The electric vehicle type with the highest electric range is {max_range_type}\")"
      ],
      "metadata": {
        "colab": {
          "base_uri": "https://localhost:8080/"
        },
        "id": "1a0XQVjPD6mf",
        "outputId": "ddfc22fd-f98d-4b3b-f2b7-125022bc59a3"
      },
      "execution_count": null,
      "outputs": [
        {
          "output_type": "stream",
          "name": "stdout",
          "text": [
            "The electric vehicle type with the highest electric range is Battery Electric Vehicle   \n"
          ]
        }
      ]
    },
    {
      "cell_type": "code",
      "source": [
        "import plotly.express as px\n",
        "import pandas as pd\n",
        "\n",
        "# Sample data (replace this with your actual data)\n",
        "data = {\n",
        "    'Electric Vehicle Type': ['Type A', 'Type B', 'Type A', 'Type B'],\n",
        "    'Electric Range': [300, 250, 280, 260]\n",
        "}\n",
        "\n",
        "df = pd.DataFrame(data)\n",
        "\n",
        "# Group the data by Electric Vehicle Type and find the maximum electric range in each type\n",
        "max_range_by_type = df.groupby('Electric Vehicle Type')['Electric Range'].max().reset_index()\n",
        "\n",
        "# Find the electric vehicle type with the highest electric range\n",
        "max_range_type = max_range_by_type.loc[max_range_by_type['Electric Range'].idxmax(), 'Electric Vehicle Type']\n",
        "\n",
        "print(f\"The electric vehicle type with the highest electric range is {max_range_type}\")\n",
        "\n",
        "# Create a bar plot using Plotly Express\n",
        "fig = px.bar(max_range_by_type, x='Electric Vehicle Type', y='Electric Range', title='Maximum Electric Range by Vehicle Type')\n",
        "\n",
        "# Show the plot\n",
        "fig.show()\n"
      ],
      "metadata": {
        "colab": {
          "base_uri": "https://localhost:8080/",
          "height": 559
        },
        "id": "A0kM6l5ZFK-z",
        "outputId": "6cbd437f-222b-4a3b-e56a-95c1e1639d37"
      },
      "execution_count": null,
      "outputs": [
        {
          "output_type": "stream",
          "name": "stdout",
          "text": [
            "The electric vehicle type with the highest electric range is Type A\n"
          ]
        },
        {
          "output_type": "display_data",
          "data": {
            "text/html": [
              "<html>\n",
              "<head><meta charset=\"utf-8\" /></head>\n",
              "<body>\n",
              "    <div>            <script src=\"https://cdnjs.cloudflare.com/ajax/libs/mathjax/2.7.5/MathJax.js?config=TeX-AMS-MML_SVG\"></script><script type=\"text/javascript\">if (window.MathJax && window.MathJax.Hub && window.MathJax.Hub.Config) {window.MathJax.Hub.Config({SVG: {font: \"STIX-Web\"}});}</script>                <script type=\"text/javascript\">window.PlotlyConfig = {MathJaxConfig: 'local'};</script>\n",
              "        <script src=\"https://cdn.plot.ly/plotly-2.18.2.min.js\"></script>                <div id=\"f18159d3-2067-4b78-a64e-6e45280e4b9f\" class=\"plotly-graph-div\" style=\"height:525px; width:100%;\"></div>            <script type=\"text/javascript\">                                    window.PLOTLYENV=window.PLOTLYENV || {};                                    if (document.getElementById(\"f18159d3-2067-4b78-a64e-6e45280e4b9f\")) {                    Plotly.newPlot(                        \"f18159d3-2067-4b78-a64e-6e45280e4b9f\",                        [{\"alignmentgroup\":\"True\",\"hovertemplate\":\"Electric Vehicle Type=%{x}<br>Electric Range=%{y}<extra></extra>\",\"legendgroup\":\"\",\"marker\":{\"color\":\"#636efa\",\"pattern\":{\"shape\":\"\"}},\"name\":\"\",\"offsetgroup\":\"\",\"orientation\":\"v\",\"showlegend\":false,\"textposition\":\"auto\",\"x\":[\"Type A\",\"Type B\"],\"xaxis\":\"x\",\"y\":[300,260],\"yaxis\":\"y\",\"type\":\"bar\"}],                        {\"template\":{\"data\":{\"histogram2dcontour\":[{\"type\":\"histogram2dcontour\",\"colorbar\":{\"outlinewidth\":0,\"ticks\":\"\"},\"colorscale\":[[0.0,\"#0d0887\"],[0.1111111111111111,\"#46039f\"],[0.2222222222222222,\"#7201a8\"],[0.3333333333333333,\"#9c179e\"],[0.4444444444444444,\"#bd3786\"],[0.5555555555555556,\"#d8576b\"],[0.6666666666666666,\"#ed7953\"],[0.7777777777777778,\"#fb9f3a\"],[0.8888888888888888,\"#fdca26\"],[1.0,\"#f0f921\"]]}],\"choropleth\":[{\"type\":\"choropleth\",\"colorbar\":{\"outlinewidth\":0,\"ticks\":\"\"}}],\"histogram2d\":[{\"type\":\"histogram2d\",\"colorbar\":{\"outlinewidth\":0,\"ticks\":\"\"},\"colorscale\":[[0.0,\"#0d0887\"],[0.1111111111111111,\"#46039f\"],[0.2222222222222222,\"#7201a8\"],[0.3333333333333333,\"#9c179e\"],[0.4444444444444444,\"#bd3786\"],[0.5555555555555556,\"#d8576b\"],[0.6666666666666666,\"#ed7953\"],[0.7777777777777778,\"#fb9f3a\"],[0.8888888888888888,\"#fdca26\"],[1.0,\"#f0f921\"]]}],\"heatmap\":[{\"type\":\"heatmap\",\"colorbar\":{\"outlinewidth\":0,\"ticks\":\"\"},\"colorscale\":[[0.0,\"#0d0887\"],[0.1111111111111111,\"#46039f\"],[0.2222222222222222,\"#7201a8\"],[0.3333333333333333,\"#9c179e\"],[0.4444444444444444,\"#bd3786\"],[0.5555555555555556,\"#d8576b\"],[0.6666666666666666,\"#ed7953\"],[0.7777777777777778,\"#fb9f3a\"],[0.8888888888888888,\"#fdca26\"],[1.0,\"#f0f921\"]]}],\"heatmapgl\":[{\"type\":\"heatmapgl\",\"colorbar\":{\"outlinewidth\":0,\"ticks\":\"\"},\"colorscale\":[[0.0,\"#0d0887\"],[0.1111111111111111,\"#46039f\"],[0.2222222222222222,\"#7201a8\"],[0.3333333333333333,\"#9c179e\"],[0.4444444444444444,\"#bd3786\"],[0.5555555555555556,\"#d8576b\"],[0.6666666666666666,\"#ed7953\"],[0.7777777777777778,\"#fb9f3a\"],[0.8888888888888888,\"#fdca26\"],[1.0,\"#f0f921\"]]}],\"contourcarpet\":[{\"type\":\"contourcarpet\",\"colorbar\":{\"outlinewidth\":0,\"ticks\":\"\"}}],\"contour\":[{\"type\":\"contour\",\"colorbar\":{\"outlinewidth\":0,\"ticks\":\"\"},\"colorscale\":[[0.0,\"#0d0887\"],[0.1111111111111111,\"#46039f\"],[0.2222222222222222,\"#7201a8\"],[0.3333333333333333,\"#9c179e\"],[0.4444444444444444,\"#bd3786\"],[0.5555555555555556,\"#d8576b\"],[0.6666666666666666,\"#ed7953\"],[0.7777777777777778,\"#fb9f3a\"],[0.8888888888888888,\"#fdca26\"],[1.0,\"#f0f921\"]]}],\"surface\":[{\"type\":\"surface\",\"colorbar\":{\"outlinewidth\":0,\"ticks\":\"\"},\"colorscale\":[[0.0,\"#0d0887\"],[0.1111111111111111,\"#46039f\"],[0.2222222222222222,\"#7201a8\"],[0.3333333333333333,\"#9c179e\"],[0.4444444444444444,\"#bd3786\"],[0.5555555555555556,\"#d8576b\"],[0.6666666666666666,\"#ed7953\"],[0.7777777777777778,\"#fb9f3a\"],[0.8888888888888888,\"#fdca26\"],[1.0,\"#f0f921\"]]}],\"mesh3d\":[{\"type\":\"mesh3d\",\"colorbar\":{\"outlinewidth\":0,\"ticks\":\"\"}}],\"scatter\":[{\"fillpattern\":{\"fillmode\":\"overlay\",\"size\":10,\"solidity\":0.2},\"type\":\"scatter\"}],\"parcoords\":[{\"type\":\"parcoords\",\"line\":{\"colorbar\":{\"outlinewidth\":0,\"ticks\":\"\"}}}],\"scatterpolargl\":[{\"type\":\"scatterpolargl\",\"marker\":{\"colorbar\":{\"outlinewidth\":0,\"ticks\":\"\"}}}],\"bar\":[{\"error_x\":{\"color\":\"#2a3f5f\"},\"error_y\":{\"color\":\"#2a3f5f\"},\"marker\":{\"line\":{\"color\":\"#E5ECF6\",\"width\":0.5},\"pattern\":{\"fillmode\":\"overlay\",\"size\":10,\"solidity\":0.2}},\"type\":\"bar\"}],\"scattergeo\":[{\"type\":\"scattergeo\",\"marker\":{\"colorbar\":{\"outlinewidth\":0,\"ticks\":\"\"}}}],\"scatterpolar\":[{\"type\":\"scatterpolar\",\"marker\":{\"colorbar\":{\"outlinewidth\":0,\"ticks\":\"\"}}}],\"histogram\":[{\"marker\":{\"pattern\":{\"fillmode\":\"overlay\",\"size\":10,\"solidity\":0.2}},\"type\":\"histogram\"}],\"scattergl\":[{\"type\":\"scattergl\",\"marker\":{\"colorbar\":{\"outlinewidth\":0,\"ticks\":\"\"}}}],\"scatter3d\":[{\"type\":\"scatter3d\",\"line\":{\"colorbar\":{\"outlinewidth\":0,\"ticks\":\"\"}},\"marker\":{\"colorbar\":{\"outlinewidth\":0,\"ticks\":\"\"}}}],\"scattermapbox\":[{\"type\":\"scattermapbox\",\"marker\":{\"colorbar\":{\"outlinewidth\":0,\"ticks\":\"\"}}}],\"scatterternary\":[{\"type\":\"scatterternary\",\"marker\":{\"colorbar\":{\"outlinewidth\":0,\"ticks\":\"\"}}}],\"scattercarpet\":[{\"type\":\"scattercarpet\",\"marker\":{\"colorbar\":{\"outlinewidth\":0,\"ticks\":\"\"}}}],\"carpet\":[{\"aaxis\":{\"endlinecolor\":\"#2a3f5f\",\"gridcolor\":\"white\",\"linecolor\":\"white\",\"minorgridcolor\":\"white\",\"startlinecolor\":\"#2a3f5f\"},\"baxis\":{\"endlinecolor\":\"#2a3f5f\",\"gridcolor\":\"white\",\"linecolor\":\"white\",\"minorgridcolor\":\"white\",\"startlinecolor\":\"#2a3f5f\"},\"type\":\"carpet\"}],\"table\":[{\"cells\":{\"fill\":{\"color\":\"#EBF0F8\"},\"line\":{\"color\":\"white\"}},\"header\":{\"fill\":{\"color\":\"#C8D4E3\"},\"line\":{\"color\":\"white\"}},\"type\":\"table\"}],\"barpolar\":[{\"marker\":{\"line\":{\"color\":\"#E5ECF6\",\"width\":0.5},\"pattern\":{\"fillmode\":\"overlay\",\"size\":10,\"solidity\":0.2}},\"type\":\"barpolar\"}],\"pie\":[{\"automargin\":true,\"type\":\"pie\"}]},\"layout\":{\"autotypenumbers\":\"strict\",\"colorway\":[\"#636efa\",\"#EF553B\",\"#00cc96\",\"#ab63fa\",\"#FFA15A\",\"#19d3f3\",\"#FF6692\",\"#B6E880\",\"#FF97FF\",\"#FECB52\"],\"font\":{\"color\":\"#2a3f5f\"},\"hovermode\":\"closest\",\"hoverlabel\":{\"align\":\"left\"},\"paper_bgcolor\":\"white\",\"plot_bgcolor\":\"#E5ECF6\",\"polar\":{\"bgcolor\":\"#E5ECF6\",\"angularaxis\":{\"gridcolor\":\"white\",\"linecolor\":\"white\",\"ticks\":\"\"},\"radialaxis\":{\"gridcolor\":\"white\",\"linecolor\":\"white\",\"ticks\":\"\"}},\"ternary\":{\"bgcolor\":\"#E5ECF6\",\"aaxis\":{\"gridcolor\":\"white\",\"linecolor\":\"white\",\"ticks\":\"\"},\"baxis\":{\"gridcolor\":\"white\",\"linecolor\":\"white\",\"ticks\":\"\"},\"caxis\":{\"gridcolor\":\"white\",\"linecolor\":\"white\",\"ticks\":\"\"}},\"coloraxis\":{\"colorbar\":{\"outlinewidth\":0,\"ticks\":\"\"}},\"colorscale\":{\"sequential\":[[0.0,\"#0d0887\"],[0.1111111111111111,\"#46039f\"],[0.2222222222222222,\"#7201a8\"],[0.3333333333333333,\"#9c179e\"],[0.4444444444444444,\"#bd3786\"],[0.5555555555555556,\"#d8576b\"],[0.6666666666666666,\"#ed7953\"],[0.7777777777777778,\"#fb9f3a\"],[0.8888888888888888,\"#fdca26\"],[1.0,\"#f0f921\"]],\"sequentialminus\":[[0.0,\"#0d0887\"],[0.1111111111111111,\"#46039f\"],[0.2222222222222222,\"#7201a8\"],[0.3333333333333333,\"#9c179e\"],[0.4444444444444444,\"#bd3786\"],[0.5555555555555556,\"#d8576b\"],[0.6666666666666666,\"#ed7953\"],[0.7777777777777778,\"#fb9f3a\"],[0.8888888888888888,\"#fdca26\"],[1.0,\"#f0f921\"]],\"diverging\":[[0,\"#8e0152\"],[0.1,\"#c51b7d\"],[0.2,\"#de77ae\"],[0.3,\"#f1b6da\"],[0.4,\"#fde0ef\"],[0.5,\"#f7f7f7\"],[0.6,\"#e6f5d0\"],[0.7,\"#b8e186\"],[0.8,\"#7fbc41\"],[0.9,\"#4d9221\"],[1,\"#276419\"]]},\"xaxis\":{\"gridcolor\":\"white\",\"linecolor\":\"white\",\"ticks\":\"\",\"title\":{\"standoff\":15},\"zerolinecolor\":\"white\",\"automargin\":true,\"zerolinewidth\":2},\"yaxis\":{\"gridcolor\":\"white\",\"linecolor\":\"white\",\"ticks\":\"\",\"title\":{\"standoff\":15},\"zerolinecolor\":\"white\",\"automargin\":true,\"zerolinewidth\":2},\"scene\":{\"xaxis\":{\"backgroundcolor\":\"#E5ECF6\",\"gridcolor\":\"white\",\"linecolor\":\"white\",\"showbackground\":true,\"ticks\":\"\",\"zerolinecolor\":\"white\",\"gridwidth\":2},\"yaxis\":{\"backgroundcolor\":\"#E5ECF6\",\"gridcolor\":\"white\",\"linecolor\":\"white\",\"showbackground\":true,\"ticks\":\"\",\"zerolinecolor\":\"white\",\"gridwidth\":2},\"zaxis\":{\"backgroundcolor\":\"#E5ECF6\",\"gridcolor\":\"white\",\"linecolor\":\"white\",\"showbackground\":true,\"ticks\":\"\",\"zerolinecolor\":\"white\",\"gridwidth\":2}},\"shapedefaults\":{\"line\":{\"color\":\"#2a3f5f\"}},\"annotationdefaults\":{\"arrowcolor\":\"#2a3f5f\",\"arrowhead\":0,\"arrowwidth\":1},\"geo\":{\"bgcolor\":\"white\",\"landcolor\":\"#E5ECF6\",\"subunitcolor\":\"white\",\"showland\":true,\"showlakes\":true,\"lakecolor\":\"white\"},\"title\":{\"x\":0.05},\"mapbox\":{\"style\":\"light\"}}},\"xaxis\":{\"anchor\":\"y\",\"domain\":[0.0,1.0],\"title\":{\"text\":\"Electric Vehicle Type\"}},\"yaxis\":{\"anchor\":\"x\",\"domain\":[0.0,1.0],\"title\":{\"text\":\"Electric Range\"}},\"legend\":{\"tracegroupgap\":0},\"title\":{\"text\":\"Maximum Electric Range by Vehicle Type\"},\"barmode\":\"relative\"},                        {\"responsive\": true}                    ).then(function(){\n",
              "                            \n",
              "var gd = document.getElementById('f18159d3-2067-4b78-a64e-6e45280e4b9f');\n",
              "var x = new MutationObserver(function (mutations, observer) {{\n",
              "        var display = window.getComputedStyle(gd).display;\n",
              "        if (!display || display === 'none') {{\n",
              "            console.log([gd, 'removed!']);\n",
              "            Plotly.purge(gd);\n",
              "            observer.disconnect();\n",
              "        }}\n",
              "}});\n",
              "\n",
              "// Listen for the removal of the full notebook cells\n",
              "var notebookContainer = gd.closest('#notebook-container');\n",
              "if (notebookContainer) {{\n",
              "    x.observe(notebookContainer, {childList: true});\n",
              "}}\n",
              "\n",
              "// Listen for the clearing of the current output cell\n",
              "var outputEl = gd.closest('.output');\n",
              "if (outputEl) {{\n",
              "    x.observe(outputEl, {childList: true});\n",
              "}}\n",
              "\n",
              "                        })                };                            </script>        </div>\n",
              "</body>\n",
              "</html>"
            ]
          },
          "metadata": {}
        }
      ]
    },
    {
      "cell_type": "markdown",
      "source": [
        "This graph calculates the electric vehicle type with the highest electric range and presents it through a bar plot, showcasing the maximum electric range for each vehicle type, thus aiding in identifying the most range-efficient electric vehicle type.\""
      ],
      "metadata": {
        "id": "71AjfccX1oqb"
      }
    },
    {
      "cell_type": "markdown",
      "source": [
        "**Which brand and which type of vehichle has highest range on particular years**"
      ],
      "metadata": {
        "id": "RP2iZx2aFnrx"
      }
    },
    {
      "cell_type": "code",
      "source": [
        "import plotly.express as px\n",
        "import pandas as pd\n",
        "\n",
        "# Sample data (replace this with your actual dataset)\n",
        "data = {\n",
        "    'Model Year': [2019, 2020, 2021, 2022, 2023, 2024],\n",
        "    'Make': ['Tesla', 'Chevrolet', 'Tesla', 'Chevrolet', 'Tesla', 'Chevrolet'],\n",
        "    'Electric Vehicle Type': ['Battery Electric', 'Battery Electric', 'Battery Electric', 'Battery Electric', 'Plug-in Hybrid', 'Plug-in Hybrid'],\n",
        "    'Electric Range': [300, 250, 320, 270, 350, 300]\n",
        "}\n",
        "\n",
        "df = pd.DataFrame(data)\n",
        "\n",
        "# Create the plot\n",
        "fig = px.bar(df, x='Model Year', y='Electric Range', color='Make',\n",
        "             facet_col='Electric Vehicle Type', facet_col_wrap=2,\n",
        "             labels={'Electric Range': 'Electric Range (miles)'},\n",
        "             title='Highest Electric Vehicle Range by Brand and Type')\n",
        "\n",
        "# Show the plot\n",
        "fig.show()\n"
      ],
      "metadata": {
        "colab": {
          "base_uri": "https://localhost:8080/",
          "height": 542
        },
        "id": "43Gedw9SHeY7",
        "outputId": "637bae14-3983-4489-c1f4-e729c039f744"
      },
      "execution_count": null,
      "outputs": [
        {
          "output_type": "display_data",
          "data": {
            "text/html": [
              "<html>\n",
              "<head><meta charset=\"utf-8\" /></head>\n",
              "<body>\n",
              "    <div>            <script src=\"https://cdnjs.cloudflare.com/ajax/libs/mathjax/2.7.5/MathJax.js?config=TeX-AMS-MML_SVG\"></script><script type=\"text/javascript\">if (window.MathJax && window.MathJax.Hub && window.MathJax.Hub.Config) {window.MathJax.Hub.Config({SVG: {font: \"STIX-Web\"}});}</script>                <script type=\"text/javascript\">window.PlotlyConfig = {MathJaxConfig: 'local'};</script>\n",
              "        <script src=\"https://cdn.plot.ly/plotly-2.18.2.min.js\"></script>                <div id=\"d29d062e-c08a-4521-904e-78725edeb684\" class=\"plotly-graph-div\" style=\"height:525px; width:100%;\"></div>            <script type=\"text/javascript\">                                    window.PLOTLYENV=window.PLOTLYENV || {};                                    if (document.getElementById(\"d29d062e-c08a-4521-904e-78725edeb684\")) {                    Plotly.newPlot(                        \"d29d062e-c08a-4521-904e-78725edeb684\",                        [{\"alignmentgroup\":\"True\",\"hovertemplate\":\"Make=Tesla<br>Electric Vehicle Type=Battery Electric<br>Model Year=%{x}<br>Electric Range (miles)=%{y}<extra></extra>\",\"legendgroup\":\"Tesla\",\"marker\":{\"color\":\"#636efa\",\"pattern\":{\"shape\":\"\"}},\"name\":\"Tesla\",\"offsetgroup\":\"Tesla\",\"orientation\":\"v\",\"showlegend\":true,\"textposition\":\"auto\",\"x\":[2019,2021],\"xaxis\":\"x\",\"y\":[300,320],\"yaxis\":\"y\",\"type\":\"bar\"},{\"alignmentgroup\":\"True\",\"hovertemplate\":\"Make=Tesla<br>Electric Vehicle Type=Plug-in Hybrid<br>Model Year=%{x}<br>Electric Range (miles)=%{y}<extra></extra>\",\"legendgroup\":\"Tesla\",\"marker\":{\"color\":\"#636efa\",\"pattern\":{\"shape\":\"\"}},\"name\":\"Tesla\",\"offsetgroup\":\"Tesla\",\"orientation\":\"v\",\"showlegend\":false,\"textposition\":\"auto\",\"x\":[2023],\"xaxis\":\"x2\",\"y\":[350],\"yaxis\":\"y2\",\"type\":\"bar\"},{\"alignmentgroup\":\"True\",\"hovertemplate\":\"Make=Chevrolet<br>Electric Vehicle Type=Battery Electric<br>Model Year=%{x}<br>Electric Range (miles)=%{y}<extra></extra>\",\"legendgroup\":\"Chevrolet\",\"marker\":{\"color\":\"#EF553B\",\"pattern\":{\"shape\":\"\"}},\"name\":\"Chevrolet\",\"offsetgroup\":\"Chevrolet\",\"orientation\":\"v\",\"showlegend\":true,\"textposition\":\"auto\",\"x\":[2020,2022],\"xaxis\":\"x\",\"y\":[250,270],\"yaxis\":\"y\",\"type\":\"bar\"},{\"alignmentgroup\":\"True\",\"hovertemplate\":\"Make=Chevrolet<br>Electric Vehicle Type=Plug-in Hybrid<br>Model Year=%{x}<br>Electric Range (miles)=%{y}<extra></extra>\",\"legendgroup\":\"Chevrolet\",\"marker\":{\"color\":\"#EF553B\",\"pattern\":{\"shape\":\"\"}},\"name\":\"Chevrolet\",\"offsetgroup\":\"Chevrolet\",\"orientation\":\"v\",\"showlegend\":false,\"textposition\":\"auto\",\"x\":[2024],\"xaxis\":\"x2\",\"y\":[300],\"yaxis\":\"y2\",\"type\":\"bar\"}],                        {\"template\":{\"data\":{\"histogram2dcontour\":[{\"type\":\"histogram2dcontour\",\"colorbar\":{\"outlinewidth\":0,\"ticks\":\"\"},\"colorscale\":[[0.0,\"#0d0887\"],[0.1111111111111111,\"#46039f\"],[0.2222222222222222,\"#7201a8\"],[0.3333333333333333,\"#9c179e\"],[0.4444444444444444,\"#bd3786\"],[0.5555555555555556,\"#d8576b\"],[0.6666666666666666,\"#ed7953\"],[0.7777777777777778,\"#fb9f3a\"],[0.8888888888888888,\"#fdca26\"],[1.0,\"#f0f921\"]]}],\"choropleth\":[{\"type\":\"choropleth\",\"colorbar\":{\"outlinewidth\":0,\"ticks\":\"\"}}],\"histogram2d\":[{\"type\":\"histogram2d\",\"colorbar\":{\"outlinewidth\":0,\"ticks\":\"\"},\"colorscale\":[[0.0,\"#0d0887\"],[0.1111111111111111,\"#46039f\"],[0.2222222222222222,\"#7201a8\"],[0.3333333333333333,\"#9c179e\"],[0.4444444444444444,\"#bd3786\"],[0.5555555555555556,\"#d8576b\"],[0.6666666666666666,\"#ed7953\"],[0.7777777777777778,\"#fb9f3a\"],[0.8888888888888888,\"#fdca26\"],[1.0,\"#f0f921\"]]}],\"heatmap\":[{\"type\":\"heatmap\",\"colorbar\":{\"outlinewidth\":0,\"ticks\":\"\"},\"colorscale\":[[0.0,\"#0d0887\"],[0.1111111111111111,\"#46039f\"],[0.2222222222222222,\"#7201a8\"],[0.3333333333333333,\"#9c179e\"],[0.4444444444444444,\"#bd3786\"],[0.5555555555555556,\"#d8576b\"],[0.6666666666666666,\"#ed7953\"],[0.7777777777777778,\"#fb9f3a\"],[0.8888888888888888,\"#fdca26\"],[1.0,\"#f0f921\"]]}],\"heatmapgl\":[{\"type\":\"heatmapgl\",\"colorbar\":{\"outlinewidth\":0,\"ticks\":\"\"},\"colorscale\":[[0.0,\"#0d0887\"],[0.1111111111111111,\"#46039f\"],[0.2222222222222222,\"#7201a8\"],[0.3333333333333333,\"#9c179e\"],[0.4444444444444444,\"#bd3786\"],[0.5555555555555556,\"#d8576b\"],[0.6666666666666666,\"#ed7953\"],[0.7777777777777778,\"#fb9f3a\"],[0.8888888888888888,\"#fdca26\"],[1.0,\"#f0f921\"]]}],\"contourcarpet\":[{\"type\":\"contourcarpet\",\"colorbar\":{\"outlinewidth\":0,\"ticks\":\"\"}}],\"contour\":[{\"type\":\"contour\",\"colorbar\":{\"outlinewidth\":0,\"ticks\":\"\"},\"colorscale\":[[0.0,\"#0d0887\"],[0.1111111111111111,\"#46039f\"],[0.2222222222222222,\"#7201a8\"],[0.3333333333333333,\"#9c179e\"],[0.4444444444444444,\"#bd3786\"],[0.5555555555555556,\"#d8576b\"],[0.6666666666666666,\"#ed7953\"],[0.7777777777777778,\"#fb9f3a\"],[0.8888888888888888,\"#fdca26\"],[1.0,\"#f0f921\"]]}],\"surface\":[{\"type\":\"surface\",\"colorbar\":{\"outlinewidth\":0,\"ticks\":\"\"},\"colorscale\":[[0.0,\"#0d0887\"],[0.1111111111111111,\"#46039f\"],[0.2222222222222222,\"#7201a8\"],[0.3333333333333333,\"#9c179e\"],[0.4444444444444444,\"#bd3786\"],[0.5555555555555556,\"#d8576b\"],[0.6666666666666666,\"#ed7953\"],[0.7777777777777778,\"#fb9f3a\"],[0.8888888888888888,\"#fdca26\"],[1.0,\"#f0f921\"]]}],\"mesh3d\":[{\"type\":\"mesh3d\",\"colorbar\":{\"outlinewidth\":0,\"ticks\":\"\"}}],\"scatter\":[{\"fillpattern\":{\"fillmode\":\"overlay\",\"size\":10,\"solidity\":0.2},\"type\":\"scatter\"}],\"parcoords\":[{\"type\":\"parcoords\",\"line\":{\"colorbar\":{\"outlinewidth\":0,\"ticks\":\"\"}}}],\"scatterpolargl\":[{\"type\":\"scatterpolargl\",\"marker\":{\"colorbar\":{\"outlinewidth\":0,\"ticks\":\"\"}}}],\"bar\":[{\"error_x\":{\"color\":\"#2a3f5f\"},\"error_y\":{\"color\":\"#2a3f5f\"},\"marker\":{\"line\":{\"color\":\"#E5ECF6\",\"width\":0.5},\"pattern\":{\"fillmode\":\"overlay\",\"size\":10,\"solidity\":0.2}},\"type\":\"bar\"}],\"scattergeo\":[{\"type\":\"scattergeo\",\"marker\":{\"colorbar\":{\"outlinewidth\":0,\"ticks\":\"\"}}}],\"scatterpolar\":[{\"type\":\"scatterpolar\",\"marker\":{\"colorbar\":{\"outlinewidth\":0,\"ticks\":\"\"}}}],\"histogram\":[{\"marker\":{\"pattern\":{\"fillmode\":\"overlay\",\"size\":10,\"solidity\":0.2}},\"type\":\"histogram\"}],\"scattergl\":[{\"type\":\"scattergl\",\"marker\":{\"colorbar\":{\"outlinewidth\":0,\"ticks\":\"\"}}}],\"scatter3d\":[{\"type\":\"scatter3d\",\"line\":{\"colorbar\":{\"outlinewidth\":0,\"ticks\":\"\"}},\"marker\":{\"colorbar\":{\"outlinewidth\":0,\"ticks\":\"\"}}}],\"scattermapbox\":[{\"type\":\"scattermapbox\",\"marker\":{\"colorbar\":{\"outlinewidth\":0,\"ticks\":\"\"}}}],\"scatterternary\":[{\"type\":\"scatterternary\",\"marker\":{\"colorbar\":{\"outlinewidth\":0,\"ticks\":\"\"}}}],\"scattercarpet\":[{\"type\":\"scattercarpet\",\"marker\":{\"colorbar\":{\"outlinewidth\":0,\"ticks\":\"\"}}}],\"carpet\":[{\"aaxis\":{\"endlinecolor\":\"#2a3f5f\",\"gridcolor\":\"white\",\"linecolor\":\"white\",\"minorgridcolor\":\"white\",\"startlinecolor\":\"#2a3f5f\"},\"baxis\":{\"endlinecolor\":\"#2a3f5f\",\"gridcolor\":\"white\",\"linecolor\":\"white\",\"minorgridcolor\":\"white\",\"startlinecolor\":\"#2a3f5f\"},\"type\":\"carpet\"}],\"table\":[{\"cells\":{\"fill\":{\"color\":\"#EBF0F8\"},\"line\":{\"color\":\"white\"}},\"header\":{\"fill\":{\"color\":\"#C8D4E3\"},\"line\":{\"color\":\"white\"}},\"type\":\"table\"}],\"barpolar\":[{\"marker\":{\"line\":{\"color\":\"#E5ECF6\",\"width\":0.5},\"pattern\":{\"fillmode\":\"overlay\",\"size\":10,\"solidity\":0.2}},\"type\":\"barpolar\"}],\"pie\":[{\"automargin\":true,\"type\":\"pie\"}]},\"layout\":{\"autotypenumbers\":\"strict\",\"colorway\":[\"#636efa\",\"#EF553B\",\"#00cc96\",\"#ab63fa\",\"#FFA15A\",\"#19d3f3\",\"#FF6692\",\"#B6E880\",\"#FF97FF\",\"#FECB52\"],\"font\":{\"color\":\"#2a3f5f\"},\"hovermode\":\"closest\",\"hoverlabel\":{\"align\":\"left\"},\"paper_bgcolor\":\"white\",\"plot_bgcolor\":\"#E5ECF6\",\"polar\":{\"bgcolor\":\"#E5ECF6\",\"angularaxis\":{\"gridcolor\":\"white\",\"linecolor\":\"white\",\"ticks\":\"\"},\"radialaxis\":{\"gridcolor\":\"white\",\"linecolor\":\"white\",\"ticks\":\"\"}},\"ternary\":{\"bgcolor\":\"#E5ECF6\",\"aaxis\":{\"gridcolor\":\"white\",\"linecolor\":\"white\",\"ticks\":\"\"},\"baxis\":{\"gridcolor\":\"white\",\"linecolor\":\"white\",\"ticks\":\"\"},\"caxis\":{\"gridcolor\":\"white\",\"linecolor\":\"white\",\"ticks\":\"\"}},\"coloraxis\":{\"colorbar\":{\"outlinewidth\":0,\"ticks\":\"\"}},\"colorscale\":{\"sequential\":[[0.0,\"#0d0887\"],[0.1111111111111111,\"#46039f\"],[0.2222222222222222,\"#7201a8\"],[0.3333333333333333,\"#9c179e\"],[0.4444444444444444,\"#bd3786\"],[0.5555555555555556,\"#d8576b\"],[0.6666666666666666,\"#ed7953\"],[0.7777777777777778,\"#fb9f3a\"],[0.8888888888888888,\"#fdca26\"],[1.0,\"#f0f921\"]],\"sequentialminus\":[[0.0,\"#0d0887\"],[0.1111111111111111,\"#46039f\"],[0.2222222222222222,\"#7201a8\"],[0.3333333333333333,\"#9c179e\"],[0.4444444444444444,\"#bd3786\"],[0.5555555555555556,\"#d8576b\"],[0.6666666666666666,\"#ed7953\"],[0.7777777777777778,\"#fb9f3a\"],[0.8888888888888888,\"#fdca26\"],[1.0,\"#f0f921\"]],\"diverging\":[[0,\"#8e0152\"],[0.1,\"#c51b7d\"],[0.2,\"#de77ae\"],[0.3,\"#f1b6da\"],[0.4,\"#fde0ef\"],[0.5,\"#f7f7f7\"],[0.6,\"#e6f5d0\"],[0.7,\"#b8e186\"],[0.8,\"#7fbc41\"],[0.9,\"#4d9221\"],[1,\"#276419\"]]},\"xaxis\":{\"gridcolor\":\"white\",\"linecolor\":\"white\",\"ticks\":\"\",\"title\":{\"standoff\":15},\"zerolinecolor\":\"white\",\"automargin\":true,\"zerolinewidth\":2},\"yaxis\":{\"gridcolor\":\"white\",\"linecolor\":\"white\",\"ticks\":\"\",\"title\":{\"standoff\":15},\"zerolinecolor\":\"white\",\"automargin\":true,\"zerolinewidth\":2},\"scene\":{\"xaxis\":{\"backgroundcolor\":\"#E5ECF6\",\"gridcolor\":\"white\",\"linecolor\":\"white\",\"showbackground\":true,\"ticks\":\"\",\"zerolinecolor\":\"white\",\"gridwidth\":2},\"yaxis\":{\"backgroundcolor\":\"#E5ECF6\",\"gridcolor\":\"white\",\"linecolor\":\"white\",\"showbackground\":true,\"ticks\":\"\",\"zerolinecolor\":\"white\",\"gridwidth\":2},\"zaxis\":{\"backgroundcolor\":\"#E5ECF6\",\"gridcolor\":\"white\",\"linecolor\":\"white\",\"showbackground\":true,\"ticks\":\"\",\"zerolinecolor\":\"white\",\"gridwidth\":2}},\"shapedefaults\":{\"line\":{\"color\":\"#2a3f5f\"}},\"annotationdefaults\":{\"arrowcolor\":\"#2a3f5f\",\"arrowhead\":0,\"arrowwidth\":1},\"geo\":{\"bgcolor\":\"white\",\"landcolor\":\"#E5ECF6\",\"subunitcolor\":\"white\",\"showland\":true,\"showlakes\":true,\"lakecolor\":\"white\"},\"title\":{\"x\":0.05},\"mapbox\":{\"style\":\"light\"}}},\"xaxis\":{\"anchor\":\"y\",\"domain\":[0.0,0.49],\"title\":{\"text\":\"Model Year\"}},\"yaxis\":{\"anchor\":\"x\",\"domain\":[0.0,1.0],\"title\":{\"text\":\"Electric Range (miles)\"}},\"xaxis2\":{\"anchor\":\"y2\",\"domain\":[0.51,1.0],\"matches\":\"x\",\"title\":{\"text\":\"Model Year\"}},\"yaxis2\":{\"anchor\":\"x2\",\"domain\":[0.0,1.0],\"matches\":\"y\",\"showticklabels\":false},\"annotations\":[{\"font\":{},\"showarrow\":false,\"text\":\"Electric Vehicle Type=Battery Electric\",\"x\":0.245,\"xanchor\":\"center\",\"xref\":\"paper\",\"y\":1.0,\"yanchor\":\"bottom\",\"yref\":\"paper\"},{\"font\":{},\"showarrow\":false,\"text\":\"Electric Vehicle Type=Plug-in Hybrid\",\"x\":0.755,\"xanchor\":\"center\",\"xref\":\"paper\",\"y\":1.0,\"yanchor\":\"bottom\",\"yref\":\"paper\"}],\"legend\":{\"title\":{\"text\":\"Make\"},\"tracegroupgap\":0},\"title\":{\"text\":\"Highest Electric Vehicle Range by Brand and Type\"},\"barmode\":\"relative\"},                        {\"responsive\": true}                    ).then(function(){\n",
              "                            \n",
              "var gd = document.getElementById('d29d062e-c08a-4521-904e-78725edeb684');\n",
              "var x = new MutationObserver(function (mutations, observer) {{\n",
              "        var display = window.getComputedStyle(gd).display;\n",
              "        if (!display || display === 'none') {{\n",
              "            console.log([gd, 'removed!']);\n",
              "            Plotly.purge(gd);\n",
              "            observer.disconnect();\n",
              "        }}\n",
              "}});\n",
              "\n",
              "// Listen for the removal of the full notebook cells\n",
              "var notebookContainer = gd.closest('#notebook-container');\n",
              "if (notebookContainer) {{\n",
              "    x.observe(notebookContainer, {childList: true});\n",
              "}}\n",
              "\n",
              "// Listen for the clearing of the current output cell\n",
              "var outputEl = gd.closest('.output');\n",
              "if (outputEl) {{\n",
              "    x.observe(outputEl, {childList: true});\n",
              "}}\n",
              "\n",
              "                        })                };                            </script>        </div>\n",
              "</body>\n",
              "</html>"
            ]
          },
          "metadata": {}
        }
      ]
    },
    {
      "cell_type": "markdown",
      "source": [
        "This bar plot to display the highest electric vehicle ranges across different model years, distinguishing by brand and electric vehicle type. It visually conveys the range variation within specific years, brands, and types.\""
      ],
      "metadata": {
        "id": "3A3fFmky1-bb"
      }
    },
    {
      "cell_type": "code",
      "source": [],
      "metadata": {
        "id": "bdC3ADKw2Amg"
      },
      "execution_count": null,
      "outputs": []
    }
  ],
  "metadata": {
    "colab": {
      "provenance": []
    },
    "kernelspec": {
      "display_name": "Python 3",
      "name": "python3"
    },
    "language_info": {
      "name": "python"
    }
  },
  "nbformat": 4,
  "nbformat_minor": 0
}